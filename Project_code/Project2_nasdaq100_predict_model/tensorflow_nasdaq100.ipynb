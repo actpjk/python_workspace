{
  "nbformat": 4,
  "nbformat_minor": 0,
  "metadata": {
    "colab": {
      "name": "tensorflow_nasdaq100",
      "provenance": [],
      "collapsed_sections": []
    },
    "kernelspec": {
      "name": "python3",
      "display_name": "Python 3"
    },
    "accelerator": "GPU"
  },
  "cells": [
    {
      "cell_type": "code",
      "metadata": {
        "id": "8tkfzrWJKm4L"
      },
      "source": [
        "import tensorflow as tf\n",
        "import pandas as pd\n",
        "import matplotlib as mlt\n",
        "import matplotlib.pyplot as plt\n",
        "import numpy as np\n",
        "\n",
        "%matplotlib inline"
      ],
      "execution_count": null,
      "outputs": []
    },
    {
      "cell_type": "code",
      "metadata": {
        "id": "QkR7f6Z8K7P-",
        "colab": {
          "base_uri": "https://localhost:8080/",
          "height": 204
        },
        "outputId": "a17f85e2-06ad-4709-cf69-fb325014bed9"
      },
      "source": [
        "nq = pd.read_csv('/content/normalnqtrain.csv')\n",
        "nq.head()"
      ],
      "execution_count": null,
      "outputs": [
        {
          "output_type": "execute_result",
          "data": {
            "text/html": [
              "<div>\n",
              "<style scoped>\n",
              "    .dataframe tbody tr th:only-of-type {\n",
              "        vertical-align: middle;\n",
              "    }\n",
              "\n",
              "    .dataframe tbody tr th {\n",
              "        vertical-align: top;\n",
              "    }\n",
              "\n",
              "    .dataframe thead th {\n",
              "        text-align: right;\n",
              "    }\n",
              "</style>\n",
              "<table border=\"1\" class=\"dataframe\">\n",
              "  <thead>\n",
              "    <tr style=\"text-align: right;\">\n",
              "      <th></th>\n",
              "      <th>expinf</th>\n",
              "      <th>highyield</th>\n",
              "      <th>m2</th>\n",
              "      <th>rgdp</th>\n",
              "      <th>house</th>\n",
              "      <th>10tminust2</th>\n",
              "      <th>unemp</th>\n",
              "      <th>nq100</th>\n",
              "    </tr>\n",
              "  </thead>\n",
              "  <tbody>\n",
              "    <tr>\n",
              "      <th>0</th>\n",
              "      <td>1.053159</td>\n",
              "      <td>-0.713687</td>\n",
              "      <td>-1.398564</td>\n",
              "      <td>-1.163399</td>\n",
              "      <td>0.096543</td>\n",
              "      <td>-1.423320</td>\n",
              "      <td>-0.727017</td>\n",
              "      <td>-0.886059</td>\n",
              "    </tr>\n",
              "    <tr>\n",
              "      <th>1</th>\n",
              "      <td>1.322769</td>\n",
              "      <td>-0.786861</td>\n",
              "      <td>-1.389905</td>\n",
              "      <td>-1.163399</td>\n",
              "      <td>0.096543</td>\n",
              "      <td>-1.559525</td>\n",
              "      <td>-0.681875</td>\n",
              "      <td>-0.901035</td>\n",
              "    </tr>\n",
              "    <tr>\n",
              "      <th>2</th>\n",
              "      <td>1.338750</td>\n",
              "      <td>-0.815774</td>\n",
              "      <td>-1.385125</td>\n",
              "      <td>-1.163399</td>\n",
              "      <td>0.096543</td>\n",
              "      <td>-1.457947</td>\n",
              "      <td>-0.727017</td>\n",
              "      <td>-0.888702</td>\n",
              "    </tr>\n",
              "    <tr>\n",
              "      <th>3</th>\n",
              "      <td>1.473701</td>\n",
              "      <td>-0.882187</td>\n",
              "      <td>-1.374931</td>\n",
              "      <td>-1.163399</td>\n",
              "      <td>0.096543</td>\n",
              "      <td>-1.331267</td>\n",
              "      <td>-0.727017</td>\n",
              "      <td>-0.889801</td>\n",
              "    </tr>\n",
              "    <tr>\n",
              "      <th>4</th>\n",
              "      <td>1.675933</td>\n",
              "      <td>-0.896703</td>\n",
              "      <td>-1.370922</td>\n",
              "      <td>-1.163399</td>\n",
              "      <td>0.096543</td>\n",
              "      <td>-1.285581</td>\n",
              "      <td>-0.772159</td>\n",
              "      <td>-0.934947</td>\n",
              "    </tr>\n",
              "  </tbody>\n",
              "</table>\n",
              "</div>"
            ],
            "text/plain": [
              "     expinf  highyield        m2  ...  10tminust2     unemp     nq100\n",
              "0  1.053159  -0.713687 -1.398564  ...   -1.423320 -0.727017 -0.886059\n",
              "1  1.322769  -0.786861 -1.389905  ...   -1.559525 -0.681875 -0.901035\n",
              "2  1.338750  -0.815774 -1.385125  ...   -1.457947 -0.727017 -0.888702\n",
              "3  1.473701  -0.882187 -1.374931  ...   -1.331267 -0.727017 -0.889801\n",
              "4  1.675933  -0.896703 -1.370922  ...   -1.285581 -0.772159 -0.934947\n",
              "\n",
              "[5 rows x 8 columns]"
            ]
          },
          "metadata": {
            "tags": []
          },
          "execution_count": 153
        }
      ]
    },
    {
      "cell_type": "code",
      "metadata": {
        "id": "bCWcNhP3LDfr"
      },
      "source": [
        "독립 = nq[['expinf','highyield','m2','rgdp','house','10tminust2','unemp']]\n",
        "종속 = nq[['nq100']]"
      ],
      "execution_count": null,
      "outputs": []
    },
    {
      "cell_type": "code",
      "metadata": {
        "id": "VMyg3a-CLH5E"
      },
      "source": [
        "X = tf.keras.layers.Input(shape=[7])\n",
        "\n",
        "H = tf.keras.layers.Dense(6)(X)\n",
        "H = tf.keras.layers.BatchNormalization()(H)\n",
        "H = tf.keras.layers.Activation('swish')(H)\n",
        "\n",
        "H = tf.keras.layers.Dense(6)(H)\n",
        "H = tf.keras.layers.BatchNormalization()(H)\n",
        "H = tf.keras.layers.Activation('swish')(H)\n",
        "\n",
        "H = tf.keras.layers.Dense(6)(H)\n",
        "H = tf.keras.layers.BatchNormalization()(H)\n",
        "H = tf.keras.layers.Activation('swish')(H)\n",
        "\n",
        "Y = tf.keras.layers.Dense(1)(H)\n",
        "model = tf.keras.models.Model(X, Y)\n",
        "model.compile(loss='mse')"
      ],
      "execution_count": null,
      "outputs": []
    },
    {
      "cell_type": "code",
      "metadata": {
        "id": "ucrtAzhEL41H",
        "colab": {
          "base_uri": "https://localhost:8080/"
        },
        "outputId": "4ffd0bdd-05d6-47aa-e2e1-68c48f94f8fc"
      },
      "source": [
        "model.fit(독립, 종속, epochs=100)"
      ],
      "execution_count": null,
      "outputs": [
        {
          "output_type": "stream",
          "text": [
            "Epoch 1/100\n",
            "6/6 [==============================] - 1s 5ms/step - loss: 1.6715\n",
            "Epoch 2/100\n",
            "6/6 [==============================] - 0s 5ms/step - loss: 0.8037\n",
            "Epoch 3/100\n",
            "6/6 [==============================] - 0s 5ms/step - loss: 1.0284\n",
            "Epoch 4/100\n",
            "6/6 [==============================] - 0s 5ms/step - loss: 0.7973\n",
            "Epoch 5/100\n",
            "6/6 [==============================] - 0s 5ms/step - loss: 0.6786\n",
            "Epoch 6/100\n",
            "6/6 [==============================] - 0s 4ms/step - loss: 0.5150\n",
            "Epoch 7/100\n",
            "6/6 [==============================] - 0s 5ms/step - loss: 0.4766\n",
            "Epoch 8/100\n",
            "6/6 [==============================] - 0s 5ms/step - loss: 0.3931\n",
            "Epoch 9/100\n",
            "6/6 [==============================] - 0s 5ms/step - loss: 0.2635\n",
            "Epoch 10/100\n",
            "6/6 [==============================] - 0s 5ms/step - loss: 0.2741\n",
            "Epoch 11/100\n",
            "6/6 [==============================] - 0s 6ms/step - loss: 0.2388\n",
            "Epoch 12/100\n",
            "6/6 [==============================] - 0s 5ms/step - loss: 0.2181\n",
            "Epoch 13/100\n",
            "6/6 [==============================] - 0s 5ms/step - loss: 0.1618\n",
            "Epoch 14/100\n",
            "6/6 [==============================] - 0s 6ms/step - loss: 0.2894\n",
            "Epoch 15/100\n",
            "6/6 [==============================] - 0s 5ms/step - loss: 0.1353\n",
            "Epoch 16/100\n",
            "6/6 [==============================] - 0s 5ms/step - loss: 0.1360\n",
            "Epoch 17/100\n",
            "6/6 [==============================] - 0s 5ms/step - loss: 0.1039\n",
            "Epoch 18/100\n",
            "6/6 [==============================] - 0s 5ms/step - loss: 0.1332\n",
            "Epoch 19/100\n",
            "6/6 [==============================] - 0s 5ms/step - loss: 0.2274\n",
            "Epoch 20/100\n",
            "6/6 [==============================] - 0s 5ms/step - loss: 0.0867\n",
            "Epoch 21/100\n",
            "6/6 [==============================] - 0s 5ms/step - loss: 0.0641\n",
            "Epoch 22/100\n",
            "6/6 [==============================] - 0s 5ms/step - loss: 0.1418\n",
            "Epoch 23/100\n",
            "6/6 [==============================] - 0s 5ms/step - loss: 0.1078\n",
            "Epoch 24/100\n",
            "6/6 [==============================] - 0s 4ms/step - loss: 0.0792\n",
            "Epoch 25/100\n",
            "6/6 [==============================] - 0s 5ms/step - loss: 0.1201\n",
            "Epoch 26/100\n",
            "6/6 [==============================] - 0s 5ms/step - loss: 0.0732\n",
            "Epoch 27/100\n",
            "6/6 [==============================] - 0s 5ms/step - loss: 0.0797\n",
            "Epoch 28/100\n",
            "6/6 [==============================] - 0s 5ms/step - loss: 0.0796\n",
            "Epoch 29/100\n",
            "6/6 [==============================] - 0s 5ms/step - loss: 0.0648\n",
            "Epoch 30/100\n",
            "6/6 [==============================] - 0s 5ms/step - loss: 0.0956\n",
            "Epoch 31/100\n",
            "6/6 [==============================] - 0s 4ms/step - loss: 0.1028\n",
            "Epoch 32/100\n",
            "6/6 [==============================] - 0s 5ms/step - loss: 0.0798\n",
            "Epoch 33/100\n",
            "6/6 [==============================] - 0s 5ms/step - loss: 0.1059\n",
            "Epoch 34/100\n",
            "6/6 [==============================] - 0s 5ms/step - loss: 0.0861\n",
            "Epoch 35/100\n",
            "6/6 [==============================] - 0s 5ms/step - loss: 0.0614\n",
            "Epoch 36/100\n",
            "6/6 [==============================] - 0s 5ms/step - loss: 0.0730\n",
            "Epoch 37/100\n",
            "6/6 [==============================] - 0s 6ms/step - loss: 0.0661\n",
            "Epoch 38/100\n",
            "6/6 [==============================] - 0s 5ms/step - loss: 0.0546\n",
            "Epoch 39/100\n",
            "6/6 [==============================] - 0s 5ms/step - loss: 0.0776\n",
            "Epoch 40/100\n",
            "6/6 [==============================] - 0s 6ms/step - loss: 0.0556\n",
            "Epoch 41/100\n",
            "6/6 [==============================] - 0s 5ms/step - loss: 0.0554\n",
            "Epoch 42/100\n",
            "6/6 [==============================] - 0s 6ms/step - loss: 0.0664\n",
            "Epoch 43/100\n",
            "6/6 [==============================] - 0s 5ms/step - loss: 0.0556\n",
            "Epoch 44/100\n",
            "6/6 [==============================] - 0s 7ms/step - loss: 0.0356\n",
            "Epoch 45/100\n",
            "6/6 [==============================] - 0s 5ms/step - loss: 0.0411\n",
            "Epoch 46/100\n",
            "6/6 [==============================] - 0s 5ms/step - loss: 0.0480\n",
            "Epoch 47/100\n",
            "6/6 [==============================] - 0s 5ms/step - loss: 0.0318\n",
            "Epoch 48/100\n",
            "6/6 [==============================] - 0s 5ms/step - loss: 0.0525\n",
            "Epoch 49/100\n",
            "6/6 [==============================] - 0s 5ms/step - loss: 0.0919\n",
            "Epoch 50/100\n",
            "6/6 [==============================] - 0s 5ms/step - loss: 0.0731\n",
            "Epoch 51/100\n",
            "6/6 [==============================] - 0s 5ms/step - loss: 0.1170\n",
            "Epoch 52/100\n",
            "6/6 [==============================] - 0s 5ms/step - loss: 0.0391\n",
            "Epoch 53/100\n",
            "6/6 [==============================] - 0s 4ms/step - loss: 0.0525\n",
            "Epoch 54/100\n",
            "6/6 [==============================] - 0s 5ms/step - loss: 0.0607\n",
            "Epoch 55/100\n",
            "6/6 [==============================] - 0s 5ms/step - loss: 0.0475\n",
            "Epoch 56/100\n",
            "6/6 [==============================] - 0s 5ms/step - loss: 0.0444\n",
            "Epoch 57/100\n",
            "6/6 [==============================] - 0s 5ms/step - loss: 0.0687\n",
            "Epoch 58/100\n",
            "6/6 [==============================] - 0s 5ms/step - loss: 0.0447\n",
            "Epoch 59/100\n",
            "6/6 [==============================] - 0s 4ms/step - loss: 0.0490\n",
            "Epoch 60/100\n",
            "6/6 [==============================] - 0s 5ms/step - loss: 0.0557\n",
            "Epoch 61/100\n",
            "6/6 [==============================] - 0s 6ms/step - loss: 0.0959\n",
            "Epoch 62/100\n",
            "6/6 [==============================] - 0s 5ms/step - loss: 0.0512\n",
            "Epoch 63/100\n",
            "6/6 [==============================] - 0s 5ms/step - loss: 0.0878\n",
            "Epoch 64/100\n",
            "6/6 [==============================] - 0s 5ms/step - loss: 0.0338\n",
            "Epoch 65/100\n",
            "6/6 [==============================] - 0s 4ms/step - loss: 0.0609\n",
            "Epoch 66/100\n",
            "6/6 [==============================] - 0s 5ms/step - loss: 0.0512\n",
            "Epoch 67/100\n",
            "6/6 [==============================] - 0s 5ms/step - loss: 0.0874\n",
            "Epoch 68/100\n",
            "6/6 [==============================] - 0s 5ms/step - loss: 0.0515\n",
            "Epoch 69/100\n",
            "6/6 [==============================] - 0s 5ms/step - loss: 0.0463\n",
            "Epoch 70/100\n",
            "6/6 [==============================] - 0s 6ms/step - loss: 0.0524\n",
            "Epoch 71/100\n",
            "6/6 [==============================] - 0s 5ms/step - loss: 0.0693\n",
            "Epoch 72/100\n",
            "6/6 [==============================] - 0s 5ms/step - loss: 0.0457\n",
            "Epoch 73/100\n",
            "6/6 [==============================] - 0s 7ms/step - loss: 0.0393\n",
            "Epoch 74/100\n",
            "6/6 [==============================] - 0s 5ms/step - loss: 0.0492\n",
            "Epoch 75/100\n",
            "6/6 [==============================] - 0s 5ms/step - loss: 0.0742\n",
            "Epoch 76/100\n",
            "6/6 [==============================] - 0s 5ms/step - loss: 0.0434\n",
            "Epoch 77/100\n",
            "6/6 [==============================] - 0s 4ms/step - loss: 0.0706\n",
            "Epoch 78/100\n",
            "6/6 [==============================] - 0s 5ms/step - loss: 0.0592\n",
            "Epoch 79/100\n",
            "6/6 [==============================] - 0s 5ms/step - loss: 0.0466\n",
            "Epoch 80/100\n",
            "6/6 [==============================] - 0s 5ms/step - loss: 0.0353\n",
            "Epoch 81/100\n",
            "6/6 [==============================] - 0s 5ms/step - loss: 0.0483\n",
            "Epoch 82/100\n",
            "6/6 [==============================] - 0s 5ms/step - loss: 0.0588\n",
            "Epoch 83/100\n",
            "6/6 [==============================] - 0s 5ms/step - loss: 0.0642\n",
            "Epoch 84/100\n",
            "6/6 [==============================] - 0s 5ms/step - loss: 0.0323\n",
            "Epoch 85/100\n",
            "6/6 [==============================] - 0s 5ms/step - loss: 0.0328\n",
            "Epoch 86/100\n",
            "6/6 [==============================] - 0s 5ms/step - loss: 0.0433\n",
            "Epoch 87/100\n",
            "6/6 [==============================] - 0s 5ms/step - loss: 0.0802\n",
            "Epoch 88/100\n",
            "6/6 [==============================] - 0s 5ms/step - loss: 0.0799\n",
            "Epoch 89/100\n",
            "6/6 [==============================] - 0s 5ms/step - loss: 0.0667\n",
            "Epoch 90/100\n",
            "6/6 [==============================] - 0s 5ms/step - loss: 0.0616\n",
            "Epoch 91/100\n",
            "6/6 [==============================] - 0s 5ms/step - loss: 0.0598\n",
            "Epoch 92/100\n",
            "6/6 [==============================] - 0s 5ms/step - loss: 0.0464\n",
            "Epoch 93/100\n",
            "6/6 [==============================] - 0s 5ms/step - loss: 0.0672\n",
            "Epoch 94/100\n",
            "6/6 [==============================] - 0s 5ms/step - loss: 0.0501\n",
            "Epoch 95/100\n",
            "6/6 [==============================] - 0s 5ms/step - loss: 0.0352\n",
            "Epoch 96/100\n",
            "6/6 [==============================] - 0s 5ms/step - loss: 0.0750\n",
            "Epoch 97/100\n",
            "6/6 [==============================] - 0s 5ms/step - loss: 0.0261\n",
            "Epoch 98/100\n",
            "6/6 [==============================] - 0s 5ms/step - loss: 0.0657\n",
            "Epoch 99/100\n",
            "6/6 [==============================] - 0s 5ms/step - loss: 0.0443\n",
            "Epoch 100/100\n",
            "6/6 [==============================] - 0s 5ms/step - loss: 0.0634\n"
          ],
          "name": "stdout"
        },
        {
          "output_type": "execute_result",
          "data": {
            "text/plain": [
              "<tensorflow.python.keras.callbacks.History at 0x7ff953ab8588>"
            ]
          },
          "metadata": {
            "tags": []
          },
          "execution_count": 156
        }
      ]
    },
    {
      "cell_type": "code",
      "metadata": {
        "id": "_DkL9HnYL9Ur"
      },
      "source": [
        "pred = model.predict(독립)\n",
        "predr = pred.reshape(181,1)"
      ],
      "execution_count": null,
      "outputs": []
    },
    {
      "cell_type": "code",
      "metadata": {
        "id": "JHl2-WqOMaIq",
        "colab": {
          "base_uri": "https://localhost:8080/"
        },
        "outputId": "9633ad07-537e-4189-a98b-ff7f12d95b78"
      },
      "source": [
        "\r\n",
        "종속.shape\r\n",
        "print(종속[-5:-1])"
      ],
      "execution_count": null,
      "outputs": [
        {
          "output_type": "stream",
          "text": [
            "        nq100\n",
            "176  2.731860\n",
            "177  2.595783\n",
            "178  3.048752\n",
            "179  3.279812\n"
          ],
          "name": "stdout"
        }
      ]
    },
    {
      "cell_type": "code",
      "metadata": {
        "colab": {
          "base_uri": "https://localhost:8080/",
          "height": 282
        },
        "id": "GTEmZS29Txvi",
        "outputId": "3dcb9373-601a-4b17-ccb8-994ffe13a23e"
      },
      "source": [
        "with plt.style.context('ggplot'):\r\n",
        "  plt.plot(x, predr, 'b-', linewidth=1, label='predict_data') # - solid\r\n",
        "  plt.plot(x, 종속, 'r--', linewidth=1, label='real_data') # -- 점선\r\n",
        "\r\n",
        "  plt.xlim(0, 10) # 최대 최소값\r\n",
        "  plt.ylim(-4, 4);\r\n",
        "  plt.title('nasdaq100_predict_model')\r\n",
        "  plt.ylabel('nasdaq100_normalized_size')\r\n",
        "  plt.legend(); # 범례 지정"
      ],
      "execution_count": null,
      "outputs": [
        {
          "output_type": "display_data",
          "data": {
            "image/png": "[encoded data removed]",
            "text/plain": [
              "<Figure size 432x288 with 1 Axes>"
            ]
          },
          "metadata": {
            "tags": []
          }
        }
      ]
    },
    {
      "cell_type": "code",
      "metadata": {
        "id": "Mbc609J_a53O"
      },
      "source": [
        ""
      ],
      "execution_count": null,
      "outputs": []
    }
  ]
}