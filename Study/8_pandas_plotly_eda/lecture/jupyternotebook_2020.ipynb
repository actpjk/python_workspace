{
 "cells": [
  {
   "cell_type": "markdown",
   "metadata": {},
   "source": [
    "# Hello markdown1\n",
    "## Hello markdown2\n",
    "### Hello markdown3\n",
    "#### Hello markdown4\n",
    "\n",
    "* python language\n",
    "  * java language \n",
    "  * c++ \n",
    "  * c#\n",
    "* python 1\n",
    "* python 2\n",
    "\n",
    "> Blockquotes starts\n",
    "> This line is part of the same quote.\n",
    "\n",
    "> Good\n",
    "\n",
    "\n",
    "\n",
    "This is *python*\n",
    "\n",
    "This is **python**\n",
    "\n",
    "This is python\n",
    "\n",
    "[python webpage](https://www.python.org)\n",
    "\n",
    "[google page](https://google.com)\n",
    "\n",
    "--- \n",
    " * 이것은 로컬 이미지\n",
    "![python image](python-logo.png)\n",
    "\n",
    "---\n",
    " * 이것은 웹 이미지\n",
    "![python image2](https://www.raspberrypi.org/documentation/usage/python/images/python-logo.png)"
   ]
  },
  {
   "cell_type": "code",
   "execution_count": null,
   "metadata": {},
   "outputs": [],
   "source": []
  }
 ],
 "metadata": {
  "kernelspec": {
   "display_name": "Python 3",
   "language": "python",
   "name": "python3"
  },
  "language_info": {
   "codemirror_mode": {
    "name": "ipython",
    "version": 3
   },
   "file_extension": ".py",
   "mimetype": "text/x-python",
   "name": "python",
   "nbconvert_exporter": "python",
   "pygments_lexer": "ipython3",
   "version": "3.7.7"
  }
 },
 "nbformat": 4,
 "nbformat_minor": 4
}
