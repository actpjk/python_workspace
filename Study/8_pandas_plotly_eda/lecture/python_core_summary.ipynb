{
 "cells": [
  {
   "cell_type": "markdown",
   "metadata": {},
   "source": [
    "## 0. 강의 준비\n",
    "\n",
    "1. 강의용 폴더를 만들고, 첨부파일을 해당 폴더에 모아놓고, 실행하세요!\n",
    "2. jupyter notebook 실행\n",
    "3. 해당 폴더로 이동 후, 해당 파일 클릭해서 실행"
   ]
  },
  {
   "cell_type": "markdown",
   "metadata": {},
   "source": [
    "## 1. Jupyter Notebook 사용법\n",
    "\n",
    "- 셀 단위로 작업 가능\n",
    "- 셀에 코드 또는 글을 작성할 수 있음\n",
    "  - 코드 작성시는 Code, 글 작성시는 Markdown\n",
    "  - 코드 실행시, 코드 실행이 안된다면, 해당 셀에 Code 타입으로 되어 있는지 확인 필요\n",
    "- 셀 생성 \n",
    "  - 셀 선택 후(왼쪽 파란색 표시), 단축키 a (Above) 는 해당 셀 위에 셀 생성, 단축키 b (Below) 는 해당 셀 아래에 셀 생성\n",
    "- Code 셀 실행\n",
    "  - 셀 선택 후(왼쪽 파란색 표시), Shift + Enter\n",
    "  - 셀 실행 중이면 [*], 실행이 완료되었으면 [숫자] 가 표시 됨\n",
    "  - 셀 실행 중 [*] 인 상태에서 다른 셀은 실행되지 않음\n",
    "- 주의: 셀 실행시, 해당 셀의 코드가 무한 반복 또는 input() 실행 후, 입력이 없을 시, 해당 셀 실행이 완료되지 않음\n",
    "  - 이 때는 다른 셀 실행이 안됨! \n",
    "  - 상단의 박스 표시를 눌러서 Stop 하거나, jupyter notebook Restart\n",
    "  - 정 안되면 jupyter notebook 을 껐다 새로 실행 (그것도 안되면 컴퓨터 껐다 새로 실행)"
   ]
  },
  {
   "cell_type": "markdown",
   "metadata": {},
   "source": [
    "## 여기서 잠깐!\n",
    "\n",
    "- 주피터 노트북이 Python3 로 실행되었는지 확인하세요!\n",
    "- 파이썬은 python 3 와 python 2가 있습니다. (윈도우 10과 윈도우 7 처럼~)\n",
    "- Python 2로 실행되었다면, anaconda 삭제 후, python 3용 anaconda 설치 파일로 재설치 필요\n",
    "- 윈도우의 경우 한글 아이디일 경우, jupyter notebook 실행 안됨\n",
    "  - 아이디를 영어로 바꾸세요 (영어 소문자로만 아이디를 만드세요!)"
   ]
  },
  {
   "cell_type": "markdown",
   "metadata": {},
   "source": [
    "## 2. 파이썬 기본\n",
    "\n",
    "1. **데이터 타입과 변수, 그리고 출력**\n",
    "2. 문자열 다루기 기본과 리스트 데이터 구조\n",
    "3. 조건문\n",
    "4. 반복문\n",
    "5. 함수\n",
    "6. 다양한 데이터 구조: 튜플, 딕셔너리, 집합\n",
    "\n",
    "> 이외에 필요한 부분은 실제 프로그래밍을 하며 필요할 때 익힙니다.! \n",
    "> - 라이브러리등\n",
    "> - 객체와 클래스 문법은 아실 필요 없습니다."
   ]
  },
  {
   "cell_type": "markdown",
   "metadata": {},
   "source": [
    "## 출력 \n",
    "\n",
    "> 출력을 하기 위해, 컴퓨터에 명령을 해야하고, 해당 명령을 파이썬에서는 print 라는 함수로 제공\n",
    "> 구체적인 함수에 대한 이야기는 이후에! 일단 출력 명령을 해봅니다.\n",
    "```\n",
    "print ('hello python!')\n",
    "hello python!\n",
    "```\n",
    "\n",
    "* print (표시할 내용)\n",
    "  - 표시할 내용 \n",
    "    - 문자/문자열: print ('문자/문자열')\n",
    "    - 숫자: print (숫자)"
   ]
  },
  {
   "cell_type": "markdown",
   "metadata": {},
   "source": [
    "## 숫자와 계산\n",
    "\n",
    "```python\n",
    "print(3 + 7)\n",
    "print(10 - 3)\n",
    "print(15 / 7)\n",
    "print(34 * 100)\n",
    "```"
   ]
  },
  {
   "cell_type": "markdown",
   "metadata": {},
   "source": [
    "## 숫자와 계산\n",
    "\n",
    "```python\n",
    "print(15 / 7)\n",
    "print(15 / 5)\n",
    "print(15 // 5)\n",
    "print(7 % 3)\n",
    "print(15 ** 3)\n",
    "print(34 * 100)\n",
    "print(3 * 2.5)\n",
    "```"
   ]
  },
  {
   "cell_type": "markdown",
   "metadata": {},
   "source": [
    "## 변수 (variable)\n",
    "\n",
    "> 데이터를 기반으로, 컴퓨터에 명령을 내리는 것\n",
    "> 데이터: 문자 또는 숫자\n",
    "\n",
    "```python\n",
    "print(\"hello python!\")\n",
    "str_data = \"hello\" # 문자열 (string)\n",
    "int_data = 1 # 숫자:정수 (integer)\n",
    "float_data = 1.1 # 숫자:부동소숫점 (float)\n",
    "bool_data = True # 특별한 타입:True/False (Boolean)\n",
    "\n",
    "print(str_data, int_data, float_data, book_data)\n",
    "```\n"
   ]
  },
  {
   "cell_type": "markdown",
   "metadata": {},
   "source": [
    "## 변수의 활용\n",
    "```python\n",
    "num1 = 14\n",
    "num2 = 5\n",
    "\n",
    "print(num1 + num2)\n",
    "print(num1 - num2)\n",
    "print(num1 * num2)\n",
    "print(num1 / num2)\n",
    "```\n"
   ]
  },
  {
   "cell_type": "markdown",
   "metadata": {},
   "source": [
    "## Boolean (True 와 False)\n",
    "\n",
    "```python\n",
    "print(3 < 7)\n",
    "print(10 < 3)\n",
    "print(15 > 7)\n",
    "print(3 >= 3)\n",
    "print(3 <= 10)\n",
    "print(34 == 100)\n",
    "print(34 != 100)\n",
    "```"
   ]
  },
  {
   "cell_type": "markdown",
   "metadata": {},
   "source": [
    "## 변수 이름 예\n",
    "- 변수 이름은 `snake, case, snake_case, snake1, case1, snakecase(비추천)`"
   ]
  },
  {
   "cell_type": "markdown",
   "metadata": {},
   "source": [
    "## Small Project1\n",
    "- 변수 이름 10개 만들어보기\n",
    "  + 나이, 이름, 키, 몸무게, 발사이즈, 안경 유무, 결혼 유무, 성별, 취미, 특기\n",
    "\n",
    "> 변수 이름을 만들때, 영어 문자로 시작하세요"
   ]
  },
  {
   "cell_type": "markdown",
   "metadata": {},
   "source": [
    "## Small Project2\n",
    "반지름(`r=10`)을 선언한 뒤, 이를 이용하여 원의 지름, 둘레 (2 X pi X r), 넓이(pi X r의 2승) 를 각각 출력하는 파이썬 파일을 만들어보세요.(`pi=3.1415`)"
   ]
  },
  {
   "cell_type": "markdown",
   "metadata": {},
   "source": [
    "## 출력 개선하기\n",
    "\n",
    "```\n",
    "r = 10 ==> print(\"r =\", r)\n",
    "```\n"
   ]
  },
  {
   "cell_type": "markdown",
   "metadata": {},
   "source": [
    "## Small Project2-1 (출력 개선하기)\n",
    "반지름(`r=10`)을 선언한 뒤, 이를 이용하여 원의 지름, 둘레 (2 X pi X r), 넓이(pi X r의 2승) 를 각각 출력하는 파이썬 코드를 만들어보세요.(`pi=3.1415`)"
   ]
  },
  {
   "cell_type": "markdown",
   "metadata": {},
   "source": [
    "## 입력\n",
    "```python\n",
    "name = input(\"What is your name? \")\n",
    "print(\"Hi, \", name)\n",
    "```"
   ]
  },
  {
   "cell_type": "markdown",
   "metadata": {},
   "source": [
    "## Type \n",
    "\n",
    "* 정수: int\n",
    "* 부동소숫점: float\n",
    "* 문자열: str\n",
    "* Boolean: bool\n"
   ]
  },
  {
   "cell_type": "markdown",
   "metadata": {},
   "source": [
    "## Type casting\n",
    "\n",
    "float(3) --> int to float\n",
    "int(3.6) --> float to int\n",
    "str(1) --> int to string\n",
    "int(\"12\") --> string to int\n"
   ]
  },
  {
   "cell_type": "markdown",
   "metadata": {},
   "source": [
    "## 함수는 이 부분만 명확히 이해하면 됩니다! \n",
    "\n",
    "* y = f(x)\n",
    "* y = f(     f(x)    )\n",
    "* print (type(1))\n"
   ]
  },
  {
   "cell_type": "markdown",
   "metadata": {},
   "source": [
    "## 입력과 Type casting\n",
    "```python\n",
    "int(input(\"How old are you? \"))\n",
    "```"
   ]
  },
  {
   "cell_type": "markdown",
   "metadata": {},
   "source": [
    "## Small Project3\n",
    "\n",
    "두 수를 입력받아서, 더한 값을 출력하세요.\n",
    "```python\n",
    "A = int(input(\"A = ?\"))\n",
    "```\n"
   ]
  },
  {
   "cell_type": "markdown",
   "metadata": {},
   "source": [
    "## 복습\n",
    "- Anaconda, Jupyter Notebook\n",
    "- `+ - * / // % **`\n",
    "- `> < >= <= == !=`\n",
    "- True or False\n",
    "- Variables \n",
    "- y = f(x)"
   ]
  },
  {
   "cell_type": "markdown",
   "metadata": {},
   "source": [
    "## 파이썬 기본\n",
    "\n",
    "1. 데이터 타입과 변수, 그리고 출력\n",
    "2. **문자열 다루기 기본과 리스트 데이터 구조**\n",
    "3. **조건문**\n",
    "4. 반복문\n",
    "5. 함수\n",
    "6. 다양한 데이터 구조: 튜플, 딕셔너리, 집합\n",
    "\n",
    "> 이외에 필요한 부분은 실제 프로그래밍을 하며 필요할 때 익힙니다.! \n",
    "> - 객체와 클래스, 라이브러리, 문자열등등\n"
   ]
  },
  {
   "cell_type": "markdown",
   "metadata": {},
   "source": [
    "## 문자열 (string)\n",
    "\n",
    "```python\n",
    "some_string = \"python\"\n",
    "len(some_string)\n",
    "```"
   ]
  },
  {
   "cell_type": "markdown",
   "metadata": {},
   "source": [
    "## 문자열 특수 기능\n",
    "\n",
    "- 인덱스 (index)\n",
    "  - 인덱스는 특정 데이터를 가리키는 번호를 나타냄\n",
    "\n",
    "|p|y|t|h|o|n|\n",
    "|:--:|:--:|:--:|:--:|:--:|:--:|\n",
    "|0|1|2|3|4|5|\n",
    "|-6|-5|-4|-3|-2|-1|\n",
    "\n",
    "```python\n",
    "some_string[0]\n",
    "some_string[1]\n",
    "```\n",
    "\n",
    "- 슬라이싱 (slicing)\n",
    "```python\n",
    "some_string[3:5]\n",
    "some_string[1:5]\n",
    "some_string[1:2]\n",
    "```\n"
   ]
  },
  {
   "cell_type": "markdown",
   "metadata": {},
   "source": [
    "## 문자열 특수 함수\n",
    "\n",
    "> 특이하게 변수.함수 형태를 가짐\n",
    "> 추후 강의에서 좀더 깊게 다루며 익숙해지도록!\n",
    "\n",
    "```\n",
    "func = \"python is easy programming language\"\n",
    "\n",
    "func.count('p')\n",
    "\n",
    "func.find('p')\n",
    "\n",
    "python_is_easy = \"python is easy\"\n",
    "python_is_easy.replace(\"python\", \"golang\")\n",
    "```"
   ]
  },
  {
   "cell_type": "markdown",
   "metadata": {},
   "source": [
    "## 문자열 특수 함수\n",
    "```python\n",
    "some_string = \"   computer     \"\n",
    "some_string.strip()\n",
    "```\n",
    "```python\n",
    "some_string = \",,,DaveLee...\"\n",
    "some_string.strip(\",\")\n",
    "some_string.strip(\".\")\n",
    "```"
   ]
  },
  {
   "cell_type": "markdown",
   "metadata": {},
   "source": [
    "## 다양한 출력 \n",
    "\n",
    "```python\n",
    "print(\"I have a {}, I have an {}.\".format(\"pen\", \"apple\"))\n",
    "```\n",
    "\n",
    "```python\n",
    "print(\"I have a {1}, I have an {0}.\".format(\"pen\", \"apple\"))\n",
    "```\n",
    "```python\n",
    "interest = 0.087\n",
    "print (format(interest, \".2f\"))\n",
    "```"
   ]
  },
  {
   "cell_type": "markdown",
   "metadata": {},
   "source": [
    "## 문자열 출력 (참고)\n",
    "\n",
    "```\n",
    "print(\"I have a %s, I have an %s.\" % (\"pen\",\"apple\"))\n",
    "```\n",
    "\n",
    "```\n",
    "%s - string\n",
    "%c - character\n",
    "%d - int\n",
    "%f - float\n",
    "```\n"
   ]
  },
  {
   "cell_type": "markdown",
   "metadata": {},
   "source": [
    "## 데이터 구조 - 리스트 (list)\n",
    "> 데이터 구조: 연관있는 데이터를 어떻게 컴퓨터로 효율적으로 다룰 수 있을까?\n",
    "\n",
    "* 리스트\n",
    "  - 여러가지 관계가 있는 데이터를 하나의 변수로 다루는 방법\n",
    "  - [ ] 안에 , 를 사용해서 데이터를 써넣으면 됨\n",
    "    * 예: mydata = [1, 2, 'hello', 1.2]\n",
    "\n",
    "* 각 데이터는 인덱스를 사용해서 다룰 수 있음\n"
   ]
  },
  {
   "cell_type": "markdown",
   "metadata": {},
   "source": [
    "### SmallProject1\n",
    "\n",
    "* 처음 리스트 변수 데이터\n",
    "  - lang = [\"java\", \"c\", \"c++\"]\n",
    "\n",
    "* 리스트 함수 활용해서 다음과 같이 리스트 만들기\n",
    "  - lang = [\"java\", \"c\", \"c++\", \"golang\"]"
   ]
  },
  {
   "cell_type": "markdown",
   "metadata": {},
   "source": [
    "> 어떻게 SmallProject1을 풀 수 있을지, 리스트 함수 알아보기\n",
    "\n",
    "\n",
    "* list 선언 방법: 선언과 동시에 값을 채워넣을 수 있습니다. <br>\n",
    "`lang = []` <br>\n",
    "`lang = list()` <br>\n",
    "`lang = [\"python\", \"c\", \"java\", \"golang\"]` <br>\n",
    " <br>\n",
    "* 리스트 변수에서 특정 데이터 읽고 바꾸기 <br>\n",
    "`lang[0]` <br>\n",
    "`lang[1]` <br>\n",
    "`lang[2] = \"c++\"`"
   ]
  },
  {
   "cell_type": "markdown",
   "metadata": {},
   "source": [
    "* 리스트 변수 끝에 데이터를 추가하기 <br>\n",
    "`lang.append(\"python\")` <br>\n",
    "`lang.append(\"java\")` <br>\n",
    "`lang.append(\"golang\")` <br>\n",
    " <br>\n",
    "* 특정한 위치에 원하는 값을 추가하기 <br>\n",
    "`lang.insert(1, \"c\")` <br>\n",
    " <br>\n",
    "* 특정한 요소 삭제하기 <br>\n",
    "`lang.remove(\"golang\")` <br>\n",
    "`del lang[2]`"
   ]
  },
  {
   "cell_type": "markdown",
   "metadata": {},
   "source": [
    "* 리스트 데이터 정렬하기\n",
    "\n",
    "```python\n",
    "numbers = [2, 1, 4, 3]\n",
    "print(numbers)\n",
    "\n",
    "numbers.sort()\n",
    "print(numbers)\n",
    "```\n",
    "\n",
    "* 리스트 데이터 역순으로 정렬하기\n",
    "\n",
    "```python\n",
    "numbers = [2, 1, 4, 3]\n",
    "numbers.reverse()\n",
    "print(numbers)\n",
    "```"
   ]
  },
  {
   "cell_type": "markdown",
   "metadata": {},
   "source": [
    "## 문자열 특수 함수와 리스트 \n",
    "\n",
    "```python\n",
    "python_is_easy = \"python is easy\"\n",
    "python_is_easy.split()\n",
    "```"
   ]
  },
  {
   "cell_type": "markdown",
   "metadata": {},
   "source": [
    "### SmallProject2\n",
    "나이를 입력받아서, 나이가 19 이상이면 당신은 성인입니다. 출력하기\n",
    "\n",
    "```python\n",
    "age = input(\"나이는?\")\n",
    "```"
   ]
  },
  {
   "cell_type": "markdown",
   "metadata": {},
   "source": [
    "## 조건문이 필요합니다.\n",
    "\n",
    "```python\n",
    "if 조건:\n",
    "\t실행문1\n",
    "\t실행문2    \n",
    "\n",
    "if 조건1 and 조건2:\n",
    "\t실행문\n",
    "\n",
    "if 조건1 or 조건2:\n",
    "\t실행문\n",
    "if not 조건:\n",
    "\t실행문\n",
    "```"
   ]
  },
  {
   "cell_type": "markdown",
   "metadata": {},
   "source": [
    "### Comparison Operators\n",
    "```\n",
    "x == n\n",
    "x != n\n",
    "\n",
    "x < n\n",
    "x > n\n",
    "x <= n\n",
    "x >= n\n",
    "```"
   ]
  },
  {
   "cell_type": "markdown",
   "metadata": {},
   "source": [
    "## if\n",
    "```python\n",
    "if 현금 > 100000:\n",
    "\t레스토랑으로 간다\n",
    "```\n",
    "\n",
    "```python\n",
    "cash = 120000\n",
    "if cash > 100000:\n",
    "\tprint(\"go to restaurant\")\n",
    "```"
   ]
  },
  {
   "cell_type": "markdown",
   "metadata": {},
   "source": [
    "### SmallProject3\n",
    "나이를 입력받아서, 나이가 19 이상이면 당신은 성인입니다. 출력하기, 19 이하이면 당신은 청소년입니다. 출력하기\n",
    "\n",
    "```python\n",
    "age = input(\"나이는?\")\n",
    "```\n",
    "\n"
   ]
  },
  {
   "cell_type": "markdown",
   "metadata": {},
   "source": [
    "## else\n",
    "```python\n",
    "if 조건:\n",
    "\t실행문1\n",
    "else:\n",
    "\t실행문2\n",
    "```\n",
    "```python\n",
    "cash = 120000\n",
    "if cash > 100000:\n",
    "    print(\"go to restaurant\")\n",
    "else:\n",
    "    print(\"go to home\")\n",
    "```"
   ]
  },
  {
   "cell_type": "markdown",
   "metadata": {},
   "source": [
    "### SmallProject4\n",
    "나이를 입력받아서, 나이가 19 이상이면 \n",
    "당신은 성인입니다. \n",
    "13 이상 19 이하 이면 \n",
    "당신은 청소년입니다.\n",
    "13 이하 이면\n",
    "당신은 아동입니다.\n",
    "출력하기\n",
    "```python\n",
    "age = input(\"나이는?\")\n",
    "```"
   ]
  },
  {
   "cell_type": "markdown",
   "metadata": {},
   "source": [
    "## elif\n",
    "```python\n",
    "if 조건1:\n",
    "\t실행문1\n",
    "elif 조건2:\n",
    "\t실행문2\n",
    "elif 조건3:\n",
    "\t실행문3\n",
    "...\n",
    "else:\n",
    "\t실행문n\n",
    "```"
   ]
  },
  {
   "cell_type": "markdown",
   "metadata": {},
   "source": [
    "### elif\n",
    "```python\n",
    "cash = 120000\n",
    "if cash > 100000:\n",
    "    print(\"go to restaurant\")\n",
    "elif cash > 50000:\n",
    "    print(\"go to bobjib\")\n",
    "elif cash > 30000:\n",
    "    print(\"go to buffet\")\n",
    "elif cash > 20000:\n",
    "    print(\"go to ramen store\")\n",
    "elif cash > 10000:\n",
    "    print(\"go to chinese restaurant\")\n",
    "else:\n",
    "    print(\"go to home\")\n",
    "```"
   ]
  },
  {
   "cell_type": "markdown",
   "metadata": {},
   "source": [
    "### SmallProject5\n",
    "나이를 입력받아서, 나이가 19 이상이면 \n",
    "당신은 성인입니다. \n",
    "13 이상 19 이하 이면 \n",
    "당신은 청소년입니다.\n",
    "7 이상 13 이하 이면\n",
    "당신은 아동입니다.\n",
    "0 이상 7 이하 이면\n",
    "당신은 유아입니다."
   ]
  },
  {
   "cell_type": "markdown",
   "metadata": {},
   "source": [
    "## 조건문 안에 조건문\n",
    "\n",
    "```python\n",
    "if 조건1:\n",
    "\t실행문1\n",
    "else:\n",
    "\tif 조건2:\n",
    "\t\t실행문2\n",
    "\telse:\n",
    "\t\t실행문3\n",
    "```\n",
    "\n",
    "```python\n",
    "cash = 120000\n",
    "if cash > 100000:\n",
    "    print(\"go to restaurant\")\n",
    "else:\n",
    "    if cash > 50000:\n",
    "        print(\"go to bobjib\")\n",
    "    else:\n",
    "        print(\"go to home\")\n",
    "```\n",
    "\n"
   ]
  },
  {
   "cell_type": "markdown",
   "metadata": {},
   "source": [
    "## 파이썬 기본\n",
    "\n",
    "1. 데이터 타입과 변수, 그리고 출력\n",
    "2. 문자열 다루기 기본과 리스트 데이터 구조\n",
    "3. 조건문\n",
    "4. **반복문**\n",
    "5. **함수**\n",
    "6. **다양한 데이터 구조: 튜플, 딕셔너리, 집합**\n",
    "\n",
    "> 이외에 필요한 부분은 실제 프로그래밍을 하며 필요할 때 익힙니다.! \n",
    "> - 객체와 클래스, 라이브러리, 문자열등등"
   ]
  },
  {
   "cell_type": "markdown",
   "metadata": {},
   "source": [
    "## 반복문 (for, while)\n",
    "```python\n",
    "for 변수 in (리스트 or 문자열):\n",
    "\t실행문1\n",
    "    ...\n",
    "```\n",
    "```python\n",
    "for i in [\"python\", \"java\", \"golang\"]:\n",
    "\tprint(i)\n",
    "```"
   ]
  },
  {
   "cell_type": "markdown",
   "metadata": {},
   "source": [
    "## 반복문 (for, while)\n",
    "> 1부터 10까지 합한 값은?\n",
    "```python\n",
    "sum = 0\n",
    "for i in range(1,11):\n",
    "    sum += i\n",
    "    sum = sum + i\n",
    "    print(sum)\n",
    "```\n"
   ]
  },
  {
   "cell_type": "markdown",
   "metadata": {},
   "source": [
    "## 반복문 (for, while)\n",
    "```python\n",
    "while 조건:\n",
    "\t실행문1\n",
    "\t...\n",
    "```\n",
    "\n",
    "```python\n",
    "while name != \"foo bar\":\n",
    "\tname = input(\"What's your name? \")\n",
    "\tprint(\"Hi, \" + name + \"So, where is foo bar?\")\n",
    "```\n",
    "\n",
    "```python\n",
    "while 1:\n",
    "\tprint(\"Hello world!\")\n",
    "```"
   ]
  },
  {
   "cell_type": "markdown",
   "metadata": {},
   "source": [
    "## 함수 (function)\n",
    "![](https://upload.wikimedia.org/wikipedia/commons/thumb/d/df/Function_color_example_3.svg/440px-Function_color_example_3.svg.png)\n",
    "- 수학적 정의: 첫 번째 집합의 임의의 한 원소를 두 번째 집합의 오직 한 원소에 대응시키는 대응 관계\n",
    "- x: 정의역 y: 공역\n"
   ]
  },
  {
   "cell_type": "markdown",
   "metadata": {},
   "source": [
    "## 함수 (function)\n",
    "![](https://upload.wikimedia.org/wikipedia/commons/thumb/3/3b/Function_machine2.svg/440px-Function_machine2.svg.png)\n",
    "- 프로그래밍에서의 함수: 입력값을 내부에서 어떤 처리를 통해 결과값을 출력하는 것\n",
    "- 용어: 인자(argument, parameter) 또는 인풋, 결과값 (또는 리턴값)\n"
   ]
  },
  {
   "cell_type": "markdown",
   "metadata": {},
   "source": [
    "## 함수 (function)\n",
    "\n",
    "```python\n",
    "def function(parameter):\n",
    "\t실행문1\n",
    "\t실행문2\n",
    "\t...\n",
    "\treturn output \n",
    "```"
   ]
  },
  {
   "cell_type": "markdown",
   "metadata": {},
   "source": [
    "## 함수 (function)\n",
    "```python\n",
    "def awe_sum(a,b):\n",
    "    result = a + b\n",
    "    return result\n",
    "\n",
    "a = 2\n",
    "b = 3\n",
    "print(awe_sum(a,b))\n",
    "```\n"
   ]
  },
  {
   "cell_type": "markdown",
   "metadata": {},
   "source": [
    "## 함수 (function without input)\n",
    "```python\n",
    "def print_hello():\n",
    "    return \"hello\"\n",
    "\n",
    "result_hello = print_hello()\n",
    "print(result_hello)\n",
    "```"
   ]
  },
  {
   "cell_type": "markdown",
   "metadata": {},
   "source": [
    "## 함수 (function without return)\n",
    "```python\n",
    "def func_wo_return(a):\n",
    "    print(\"This is function without return for \" + str(a) + \" times.\")\n",
    "\n",
    "func_wo_return(1)\n",
    "```\n"
   ]
  },
  {
   "cell_type": "markdown",
   "metadata": {},
   "source": [
    "## 함수 (function with multiple return)\n",
    "```python\n",
    "def mul_return(a):\n",
    "    b = a + 1\n",
    "    return a,b\n",
    "```"
   ]
  },
  {
   "cell_type": "markdown",
   "metadata": {},
   "source": [
    "## 함수 (자주 사용하는 return 사용법)\n",
    "```python\n",
    "def id_check(id):\n",
    "\tif id == \"admin\":\n",
    "    \t\tprint(\"invalid id: admin\")\n",
    "    \t\treturn\n",
    "\tprint(\"valid id: \", id)\n",
    "```"
   ]
  },
  {
   "cell_type": "markdown",
   "metadata": {},
   "source": [
    "## 함수는 이 부분을 명확히 이해하면 됩니다! \n",
    "\n",
    "* y = f(x)\n",
    "* y = f(     f(x)    )\n",
    "* print (type(1))"
   ]
  },
  {
   "cell_type": "code",
   "execution_count": null,
   "metadata": {},
   "outputs": [],
   "source": []
  },
  {
   "cell_type": "markdown",
   "metadata": {},
   "source": [
    "## 데이터 구조 (List, Tuple)\n",
    "List\n",
    "\n",
    "```\n",
    "animals = ['','','']\n",
    "```\n",
    "\n",
    "Tuple\n",
    "\n",
    "```\n",
    "animals = ('','','')\n",
    "```"
   ]
  },
  {
   "cell_type": "markdown",
   "metadata": {},
   "source": [
    "### 데이터 구조 (Tuple)\n",
    "\n",
    "> 데이터 구조: 리스트, 튜플, 딕셔너리, 집합\n",
    "\n",
    "- Tuple은 괄호를 이용해 선언할 수 있습니다.\n",
    "```python\n",
    "tuple1 = (1, 2, 3, 4)\n",
    "```\n",
    "\n",
    "- tuple은 삭제나 추가가 불가능합니다.\n",
    "```python\n",
    "del tuple[1]\n",
    "tuple1[1] = 'c'\n",
    "```"
   ]
  },
  {
   "cell_type": "markdown",
   "metadata": {},
   "source": [
    "- tuple끼리 더하거나 반복하는 것은 가능합니다.\n",
    "\n",
    "```python\n",
    "tuple2 = (5, 6)\n",
    "print(tuple1 + tuple2)\n",
    "\n",
    "print(tuple1 * 3)\n",
    "```"
   ]
  },
  {
   "cell_type": "markdown",
   "metadata": {},
   "source": [
    "- tuple 덕분에 변수끼리 값을 편하게 바꿀 수 있습니다.\n",
    "\n",
    "```python\n",
    "x = y\n",
    "y = x (x)\n",
    "\n",
    "temp = x\n",
    "x = y\n",
    "y = temp\n",
    "\n",
    "(x,y) = (y,x)\n",
    "```\n",
    "\n",
    "- tuple 덕분에 함수에서 하나 이상의 값을 반환할 수도 있습니다.\n",
    "\n",
    "```python\n",
    "def quot_and_rem(x,y):\n",
    "    quot = x // y\n",
    "    rem = x % y\n",
    "    return (quot, rem)\n",
    "    \n",
    "(quot, rem) = quot_and_rem(3,10)\n",
    "```"
   ]
  },
  {
   "cell_type": "markdown",
   "metadata": {},
   "source": [
    "### List <-> Tuple\n",
    "```python\n",
    "list((1,2))\n",
    "tuple([1,2])\n",
    "```"
   ]
  },
  {
   "cell_type": "markdown",
   "metadata": {},
   "source": [
    "### 데이터 구조 (dictionary의 선언)\n",
    "\n",
    "```python\n",
    "dict1 = {}\n",
    "print(dict1)\n",
    "```\n",
    "\n",
    "- dictionary는 key와 value로 이루어져 있으며, 추가하는 법은 다음과 같습니다.\n",
    "\n",
    "```python\n",
    "dict1 = {'name': 'foo bar'}\n",
    "print(dict1)\n",
    "\n",
    "dict1 = {'korean': 95, 'math': 100, 'science': [80, 70, 90, 60]}\n",
    "print(dict1)\n",
    "\n",
    "dict1['english'] = \"pass\"\n",
    "print(dict1)\n",
    "```\n",
    "\n",
    "- 요소 삭제는 del을 활용합니다.\n",
    "\n",
    "```python\n",
    "del dict1['math']\n",
    "print(dict1)\n",
    "```\n",
    "\n",
    "- key를 활용해 value를 출력하는 법을 알아봅시다.\n",
    "\n",
    "```python\n",
    "print(dict1['korean'])\n",
    "```\n",
    "\n",
    "- key만 출력하는 법을 알아봅시다.\n",
    "\n",
    "```python\n",
    "print(dict1.keys())\n",
    "```\n",
    "\n",
    "- value만 출력할땐 이렇게 합니다.\n",
    "\n",
    "```python\n",
    "print(dict1.values())\n",
    "```\n",
    "\n",
    "- key와 value를 함께 출력합니다.\n",
    "\n",
    "```python\n",
    "print(dict1.items())\n",
    "```"
   ]
  },
  {
   "cell_type": "markdown",
   "metadata": {},
   "source": [
    "## 데이터 구조 (집합 또는 set)\n",
    "- 수학 집합 연산을 쉽게 하기 위해 만든 자료형\n",
    "- 순서없음\n",
    "- 중복없음"
   ]
  },
  {
   "cell_type": "markdown",
   "metadata": {},
   "source": [
    "### 데이터 구조 (set)\n",
    "\n",
    "- set 선언\n",
    "\n",
    "```python\n",
    "ppap = {'pen', 'apple', 'pineapple', 'pen'}\n",
    "print(ppap)\n",
    "\n",
    "'apple' in ppap\n",
    "'applepen' in ppap\n",
    "\n",
    "pineapple = set('pineapple')\n",
    "pineapple\n",
    "```"
   ]
  },
  {
   "cell_type": "markdown",
   "metadata": {},
   "source": [
    "- set 계산\n",
    "\n",
    "A ∪ B\t== `A | B` <br>\n",
    "A ∩ B\t== `A & B` <br>\n",
    "A - B\t== `A - B` <br>\n",
    "A &#916; B \t== `A ^ B`"
   ]
  },
  {
   "cell_type": "code",
   "execution_count": 14,
   "metadata": {},
   "outputs": [],
   "source": [
    "a = {1, 2, 3}\n",
    "b = {2, 3, 4}"
   ]
  },
  {
   "cell_type": "code",
   "execution_count": 15,
   "metadata": {},
   "outputs": [
    {
     "data": {
      "text/plain": [
       "{2, 3}"
      ]
     },
     "execution_count": 15,
     "metadata": {},
     "output_type": "execute_result"
    }
   ],
   "source": [
    "a & b"
   ]
  },
  {
   "cell_type": "code",
   "execution_count": 16,
   "metadata": {},
   "outputs": [
    {
     "data": {
      "text/plain": [
       "{1}"
      ]
     },
     "execution_count": 16,
     "metadata": {},
     "output_type": "execute_result"
    }
   ],
   "source": [
    "a - b"
   ]
  },
  {
   "cell_type": "code",
   "execution_count": 17,
   "metadata": {},
   "outputs": [
    {
     "data": {
      "text/plain": [
       "{1, 4}"
      ]
     },
     "execution_count": 17,
     "metadata": {},
     "output_type": "execute_result"
    }
   ],
   "source": [
    "a ^ b"
   ]
  },
  {
   "cell_type": "code",
   "execution_count": 18,
   "metadata": {},
   "outputs": [
    {
     "data": {
      "text/plain": [
       "{1, 2, 3, 4}"
      ]
     },
     "execution_count": 18,
     "metadata": {},
     "output_type": "execute_result"
    }
   ],
   "source": [
    "a | b"
   ]
  },
  {
   "cell_type": "markdown",
   "metadata": {},
   "source": [
    "- set 추가/삭제\n",
    "  - 변수명.add(특정 데이터): 하나의 데이터를 추가할 때는 add 함수 사용\n",
    "  - 변수명.update(여러 데이터): 여러 데이터를 추가할 때는 리스트 형태로 update 함수 사용\n",
    "    - 여러 데이터는 리스트 형태로, 넣어야 함\n",
    "      - data.update([2, 3, 4])\n",
    "  - 변수명.remove(특정 데이터): 특정 데이터를 삭제할 때는 remove 함수 사용"
   ]
  }
 ],
 "metadata": {
  "kernelspec": {
   "display_name": "Python 3",
   "language": "python",
   "name": "python3"
  },
  "language_info": {
   "codemirror_mode": {
    "name": "ipython",
    "version": 3
   },
   "file_extension": ".py",
   "mimetype": "text/x-python",
   "name": "python",
   "nbconvert_exporter": "python",
   "pygments_lexer": "ipython3",
   "version": "3.7.7"
  }
 },
 "nbformat": 4,
 "nbformat_minor": 2
}
