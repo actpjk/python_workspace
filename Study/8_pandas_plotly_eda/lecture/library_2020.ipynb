{
 "cells": [
  {
   "cell_type": "markdown",
   "metadata": {},
   "source": [
    "## 파이썬 라이브러리\n",
    "- 라이브러리란 미리 만들어놓은 함수 집합\n",
    "- 파이썬에서는 다양한 라이브러리이 있기 때문에, 적절한 라이브러리의 함수를 사용해서, 복잡한 기능을 빠르게 구현할 수 있음"
   ]
  },
  {
   "cell_type": "markdown",
   "metadata": {},
   "source": [
    "### 1. 라이브러리 설치하기\n",
    "- 라이브러리를 자신의 PC에서 사용하기 위해서는 해당 라이브러리를 설치해야함\n",
    "- 설치의 수고를 덜기 위해, 파이썬 컴파일러와 주요 라이브러리를 한번에 설치하는 아나콘다(anaconda)를 설치한 것임\n",
    "- 그럼에도 해당 라이브러리를 필요로 할 경우가 있음"
   ]
  },
  {
   "cell_type": "code",
   "execution_count": 2,
   "metadata": {},
   "outputs": [],
   "source": [
    "import pandas # 라이브러리를 사용하기 위해서는 import 라이브러리명 을 코드 상단에서 실행해야 함"
   ]
  },
  {
   "cell_type": "markdown",
   "metadata": {},
   "source": [
    "- 위 코드 실행시, 다음과 같은 에러가 나오면, 해당 라이브러리가 자기 PC에 설치가 안되어 있다는 뜻\n",
    "    ```\n",
    "    ModuleNotFoundError: No module named '라이브러리명'\n",
    "    ```\n",
    "- 이 경우 해당 라이브러리 설치 필요\n",
    "  - 라이브러리 설치 명령\n",
    "  - 터미널 모드에서 다음과 같이 실행 (윈도우의 경우 윈도우 -> 실행 에서 \"cmd\", 맥의 경우 런치패드 -> 기타 -> 터미널 프로그램 실행 후)\n",
    "\n",
    "    ```\n",
    "    pip install 라이브러리명\n",
    "    ```\n",
    "  \n",
    "  - 설치 완료 후, 위 코드 재실행 (설치가 완료되었음에도 위 코드에서 동일한 에러 발생시, 컴퓨터를 껐다 킴)"
   ]
  },
  {
   "cell_type": "markdown",
   "metadata": {},
   "source": [
    "### 2. 라이브러리 사용하기"
   ]
  },
  {
   "cell_type": "markdown",
   "metadata": {},
   "source": [
    "### 라이브러리 사용하기 - 기본 사용법1\n",
    "```\n",
    "import 라이브러리명\n",
    "\n",
    "라이브러리명.함수()\n",
    "```"
   ]
  },
  {
   "cell_type": "markdown",
   "metadata": {},
   "source": [
    "#### 예: statistics 라이브러리 사용하기\n",
    "- statistics 라이브러리: 통계 계산 기능을 제공\n",
    "- statistics 라이브러리의 mean() 함수: 평균값 계산\n",
    "- 사용법\n",
    "  - 해당 라이브러리에 있는 함수를 사용하기 위해서는 해당 라이브러리를 임포트(import)한 후, 해당 라이브러리명.함수명으로 써야 함\n",
    "    ```\n",
    "    import statistics\n",
    "    data = [1, 2, 3, 4]\n",
    "    statistics.mean(data)\n",
    "    ```"
   ]
  },
  {
   "cell_type": "code",
   "execution_count": 3,
   "metadata": {},
   "outputs": [
    {
     "data": {
      "text/plain": [
       "2.5"
      ]
     },
     "execution_count": 3,
     "metadata": {},
     "output_type": "execute_result"
    }
   ],
   "source": [
    "import statistics\n",
    "data = [1, 2, 3, 4]\n",
    "statistics.mean(data)"
   ]
  },
  {
   "cell_type": "markdown",
   "metadata": {},
   "source": [
    "### 라이브러리 사용하기 - 기본 사용법2\n",
    "- 라이브러리에서 일부 함수만 불러와서, 사용하기 위해서는 다음과 같이 from 라이브러명 import 함수명 으로 사용\n",
    "- 마치 해당 함수를 현재 코드 상단에 선언한 것과 마찬가지가 됨\n",
    "  - 라이브러리명.함수명 으로 쓰지 않고 함수명만 쓰면 됨"
   ]
  },
  {
   "cell_type": "code",
   "execution_count": 4,
   "metadata": {},
   "outputs": [
    {
     "data": {
      "text/plain": [
       "2.5"
      ]
     },
     "execution_count": 4,
     "metadata": {},
     "output_type": "execute_result"
    }
   ],
   "source": [
    "from statistics import mean \n",
    "mean(data)"
   ]
  },
  {
   "cell_type": "markdown",
   "metadata": {},
   "source": [
    "- 다음과 같이 쓰면, 해당 라이브러리에 있는 모든 함수를 라이브러리명 없이 쓸 수 있음"
   ]
  },
  {
   "cell_type": "code",
   "execution_count": 5,
   "metadata": {},
   "outputs": [
    {
     "name": "stdout",
     "output_type": "stream",
     "text": [
      "2.5\n",
      "1.2909944487358056\n"
     ]
    }
   ],
   "source": [
    "from statistics import *\n",
    "print (mean(data))\n",
    "print (stdev(data))"
   ]
  },
  {
   "cell_type": "markdown",
   "metadata": {},
   "source": [
    "### 라이브러리 사용하기 - 기본 사용법3\n",
    "- 매번 라이브러리명.함수 또는 해당 라이브러리의 함수명 조차 길어서, 줄이고 싶을 경우 "
   ]
  },
  {
   "cell_type": "code",
   "execution_count": 6,
   "metadata": {},
   "outputs": [
    {
     "data": {
      "text/plain": [
       "2.5"
      ]
     },
     "execution_count": 6,
     "metadata": {},
     "output_type": "execute_result"
    }
   ],
   "source": [
    "# 라이브러리명을 줄이고 싶을 때 (다른 이름으로 변경할 때)\n",
    "import statistics as s\n",
    "data = [1, 2, 3, 4]\n",
    "s.mean(data)"
   ]
  },
  {
   "cell_type": "code",
   "execution_count": 18,
   "metadata": {},
   "outputs": [
    {
     "data": {
      "text/plain": [
       "2.5"
      ]
     },
     "execution_count": 18,
     "metadata": {},
     "output_type": "execute_result"
    }
   ],
   "source": [
    "# 라이브러리명을 줄이고 싶을 때 (다른 이름으로 변경할 때)\n",
    "from statistics import mean as m\n",
    "m(data)"
   ]
  }
 ],
 "metadata": {
  "kernelspec": {
   "display_name": "Python 3",
   "language": "python",
   "name": "python3"
  },
  "language_info": {
   "codemirror_mode": {
    "name": "ipython",
    "version": 3
   },
   "file_extension": ".py",
   "mimetype": "text/x-python",
   "name": "python",
   "nbconvert_exporter": "python",
   "pygments_lexer": "ipython3",
   "version": "3.7.7"
  },
  "nbTranslate": {
   "displayLangs": [
    "*"
   ],
   "hotkey": "alt-t",
   "langInMainMenu": true,
   "sourceLang": "en",
   "targetLang": "fr",
   "useGoogleTranslate": true
  }
 },
 "nbformat": 4,
 "nbformat_minor": 1
}
