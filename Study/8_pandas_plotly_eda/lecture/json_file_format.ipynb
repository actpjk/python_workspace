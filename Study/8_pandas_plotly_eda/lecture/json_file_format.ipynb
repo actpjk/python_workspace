{
 "cells": [
  {
   "cell_type": "markdown",
   "metadata": {},
   "source": [
    "## 4. 다양한 데이터 포멧 이해하기: JSON"
   ]
  },
  {
   "cell_type": "markdown",
   "metadata": {},
   "source": [
    "### 4.1. JSON 데이터 포멧 이해하기\n",
    " - **J**avaScript **Ob**ject **N**otation 줄임말\n",
    " - JSON은 서버와 클라이언트 또는 컴퓨터/프로그램 사이에 데이터를 주고 받을 때 사용하는 데이터 포멧\n",
    " - 키와 값을 괄호와 세미콜론과 같이 간단한 기호로 구성하여 표현할 수 있고, 언어나 운영체제에 구애받지 않기 때문에 많이 사용됨\n",
    " - 특히 웹/앱 환경에서 Rest API를 사용하여, 서버와 클라이언트 사이에 데이터를 주고 받을때 많이 사용\n",
    " - JSON 포멧 예 <br>\n",
    " { \"id\":\"01\", \"language\": \"Java\", \"edition\": \"third\", \"author\": \"Herbert Schildt\" }"
   ]
  },
  {
   "cell_type": "markdown",
   "metadata": {
    "collapsed": true
   },
   "source": [
    "### 4.2. JSON 데이터 포멧 읽기\n",
    "- json 라이브러리 제공\n",
    "\n",
    "#### json.loads() 함수로 문자열로된 json 데이터를 사전처럼 다룰 수 있음"
   ]
  },
  {
   "cell_type": "code",
   "execution_count": 2,
   "metadata": {},
   "outputs": [],
   "source": [
    "import json # pip install json"
   ]
  },
  {
   "cell_type": "code",
   "execution_count": 3,
   "metadata": {},
   "outputs": [
    {
     "name": "stdout",
     "output_type": "stream",
     "text": [
      "01 Java third Herbert Schildt <class 'dict'>\n"
     ]
    }
   ],
   "source": [
    "import json\n",
    "\n",
    "# 변수에 문자열로 된 JSON 포멧의 데이터가 있을 경우\n",
    "data = '{ \"id\":\"01\", \"language\": \"Java\", \"edition\": \"third\", \"author\": \"Herbert Schildt\" }' \n",
    "\n",
    "jsondata = json.loads(data)\n",
    "print (jsondata['id'], jsondata['language'], jsondata['edition'], jsondata['author'], type(jsondata))"
   ]
  },
  {
   "cell_type": "markdown",
   "metadata": {},
   "source": [
    "#### json.dumps() 함수로 파이썬 사전 데이터를 JSON 문자열 데이터로 변환할 수 있음"
   ]
  },
  {
   "cell_type": "code",
   "execution_count": 7,
   "metadata": {},
   "outputs": [
    {
     "name": "stdout",
     "output_type": "stream",
     "text": [
      "{\"id\": \"01\", \"language\": {\"Java\": \"advance\"}, \"edition\": \"third\", \"author\": \"Herbert Schildt\"} <class 'str'>\n",
      "{\n",
      "  \"id\": \"01\",\n",
      "  \"language\": {\n",
      "    \"Java\": \"advance\"\n",
      "  },\n",
      "  \"edition\": \"third\",\n",
      "  \"author\": \"Herbert Schildt\"\n",
      "} <class 'str'>\n"
     ]
    }
   ],
   "source": [
    "import json\n",
    "\n",
    "# 변수에 문자열로 된 JSON 포멧의 데이터가 있을 경우\n",
    "data = { \"id\":\"01\", \"language\": {\"Java\":\"basic\", \"Java\":\"advance\"}, \"edition\": \"third\", \"author\": \"Herbert Schildt\" }\n",
    "\n",
    "jsondata = json.dumps(data) # 문자열로 변환됨 dumps\n",
    "print (jsondata, type(jsondata))\n",
    "jsondata = json.dumps(data, indent=2) # 들여쓰기\n",
    "print (jsondata, type(jsondata))"
   ]
  },
  {
   "cell_type": "markdown",
   "metadata": {},
   "source": [
    "#### json.dump() 함수로 파이썬 사전 데이터를 파일로 쓰기"
   ]
  },
  {
   "cell_type": "code",
   "execution_count": 10,
   "metadata": {},
   "outputs": [],
   "source": [
    "import json\n",
    "\n",
    "# 변수에 문자열로 된 JSON 포멧의 데이터가 있을 경우\n",
    "data = { \"id\":\"01\", \"language\": \"Java\", \"edition\": \"third\", \"author\": \"Herbert Schildt\" }\n",
    "data['language'] = ['Java', 'C']\n",
    "\n",
    "with open('00_data/test.json', 'w', encoding='utf-8-sig') as json_file:\n",
    "    json_string = json.dump(data, json_file, indent=2) # dump 사용!"
   ]
  },
  {
   "cell_type": "markdown",
   "metadata": {},
   "source": [
    "#### json.load() 함수로 파일로된 json 데이터를 사전처럼 다룰 수 있음\n",
    "- JSON 파일 예: 유투브 카테고리 (미국)\n",
    "```\n",
    "{\n",
    "    \"kind\": \"youtube#videoCategoryListResponse\",\n",
    "    \"etag\": \"\\\"m2yskBQFythfE4irbTIeOgYYfBU/S730Ilt-Fi-emsQJvJAAShlR6hM\\\"\",\n",
    "    \"items\": [\n",
    "        {\n",
    "            \"kind\": \"youtube#videoCategory\",\n",
    "            \"etag\": \"\\\"m2yskBQFythfE4irbTIeOgYYfBU/Xy1mB4_yLrHy_BmKmPBggty2mZQ\\\"\",\n",
    "            \"id\": \"1\",\n",
    "            \"snippet\": {\n",
    "                \"channelId\": \"UCBR8-60-B28hp2BmDPdntcQ\",\n",
    "                \"title\": \"Film & Animation\",\n",
    "                \"assignable\": true\n",
    "            }\n",
    "        },\n",
    "        {\n",
    "            \"kind\": \"youtube#videoCategory\",\n",
    "            \"etag\": \"\\\"m2yskBQFythfE4irbTIeOgYYfBU/UZ1oLIIz2dxIhO45ZTFR3a3NyTA\\\"\",\n",
    "            \"id\": \"2\",\n",
    "            \"snippet\": {\n",
    "                \"channelId\": \"UCBR8-60-B28hp2BmDPdntcQ\",\n",
    "                \"title\": \"Autos & Vehicles\",\n",
    "                \"assignable\": true\n",
    "            }\n",
    "        }\n",
    "    ]\n",
    "}\n",
    "```"
   ]
  },
  {
   "cell_type": "code",
   "execution_count": 4,
   "metadata": {},
   "outputs": [
    {
     "name": "stdout",
     "output_type": "stream",
     "text": [
      "dict_keys(['kind', 'etag', 'items'])\n"
     ]
    }
   ],
   "source": [
    "import json\n",
    "\n",
    "with open('00_data/US_category_id.json', 'r', encoding='utf-8-sig') as json_file:\n",
    "    json_data = json.load(json_file)\n",
    "    print (json_data.keys())"
   ]
  },
  {
   "cell_type": "markdown",
   "metadata": {},
   "source": [
    "- items 데이터만 뽑기\n",
    "  - JSON 데이터에 리스트도 포함될 수 있음 (사전 데이터에 키값이 리스트인 경우와 동일)"
   ]
  },
  {
   "cell_type": "code",
   "execution_count": 5,
   "metadata": {},
   "outputs": [
    {
     "name": "stdout",
     "output_type": "stream",
     "text": [
      "youtube#videoCategory Film & Animation\n",
      "youtube#videoCategory Autos & Vehicles\n",
      "youtube#videoCategory Music\n",
      "youtube#videoCategory Pets & Animals\n",
      "youtube#videoCategory Sports\n",
      "youtube#videoCategory Short Movies\n",
      "youtube#videoCategory Travel & Events\n",
      "youtube#videoCategory Gaming\n",
      "youtube#videoCategory Videoblogging\n",
      "youtube#videoCategory People & Blogs\n",
      "youtube#videoCategory Comedy\n",
      "youtube#videoCategory Entertainment\n",
      "youtube#videoCategory News & Politics\n",
      "youtube#videoCategory Howto & Style\n",
      "youtube#videoCategory Education\n",
      "youtube#videoCategory Science & Technology\n",
      "youtube#videoCategory Nonprofits & Activism\n",
      "youtube#videoCategory Movies\n",
      "youtube#videoCategory Anime/Animation\n",
      "youtube#videoCategory Action/Adventure\n",
      "youtube#videoCategory Classics\n",
      "youtube#videoCategory Comedy\n",
      "youtube#videoCategory Documentary\n",
      "youtube#videoCategory Drama\n",
      "youtube#videoCategory Family\n",
      "youtube#videoCategory Foreign\n",
      "youtube#videoCategory Horror\n",
      "youtube#videoCategory Sci-Fi/Fantasy\n",
      "youtube#videoCategory Thriller\n",
      "youtube#videoCategory Shorts\n",
      "youtube#videoCategory Shows\n",
      "youtube#videoCategory Trailers\n"
     ]
    }
   ],
   "source": [
    "import json\n",
    "\n",
    "with open('00_data/US_category_id.json', 'r', encoding='utf-8-sig') as json_file:\n",
    "    json_data = json.load(json_file)\n",
    "    for item in json_data['items']:\n",
    "        print (item['kind'], item['snippet']['title'])"
   ]
  },
  {
   "cell_type": "code",
   "execution_count": null,
   "metadata": {},
   "outputs": [],
   "source": []
  }
 ],
 "metadata": {
  "kernelspec": {
   "display_name": "Python 3",
   "language": "python",
   "name": "python3"
  },
  "language_info": {
   "codemirror_mode": {
    "name": "ipython",
    "version": 3
   },
   "file_extension": ".py",
   "mimetype": "text/x-python",
   "name": "python",
   "nbconvert_exporter": "python",
   "pygments_lexer": "ipython3",
   "version": "3.8.5"
  },
  "nbTranslate": {
   "displayLangs": [
    "*"
   ],
   "hotkey": "alt-t",
   "langInMainMenu": true,
   "sourceLang": "en",
   "targetLang": "fr",
   "useGoogleTranslate": true
  },
  "toc": {
   "base_numbering": 1,
   "nav_menu": {},
   "number_sections": true,
   "sideBar": true,
   "skip_h1_title": false,
   "title_cell": "Table of Contents",
   "title_sidebar": "Contents",
   "toc_cell": false,
   "toc_position": {},
   "toc_section_display": true,
   "toc_window_display": false
  },
  "varInspector": {
   "cols": {
    "lenName": 16,
    "lenType": 16,
    "lenVar": 40
   },
   "kernels_config": {
    "python": {
     "delete_cmd_postfix": "",
     "delete_cmd_prefix": "del ",
     "library": "var_list.py",
     "varRefreshCmd": "print(var_dic_list())"
    },
    "r": {
     "delete_cmd_postfix": ") ",
     "delete_cmd_prefix": "rm(",
     "library": "var_list.r",
     "varRefreshCmd": "cat(var_dic_list()) "
    }
   },
   "types_to_exclude": [
    "module",
    "function",
    "builtin_function_or_method",
    "instance",
    "_Feature"
   ],
   "window_display": false
  }
 },
 "nbformat": 4,
 "nbformat_minor": 2
}
