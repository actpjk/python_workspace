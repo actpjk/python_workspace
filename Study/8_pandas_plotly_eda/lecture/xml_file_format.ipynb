{
 "cells": [
  {
   "cell_type": "markdown",
   "metadata": {},
   "source": [
    "## 3. 다양한 데이터 포멧 이해하기: XML"
   ]
  },
  {
   "cell_type": "markdown",
   "metadata": {},
   "source": [
    "### 3.1. XML 포멧 이해하기\n",
    "* XML(Extensible Markup Language)\n",
    "  - 특정 목적에 따라 데이터를 태그로 감싸서 마크업하는 범용적인 포멧\n",
    "  - 마크업 언어는 태그 등을 이용하여 데이터의 구조를 기술하는 언어의 한 가지\n",
    "  - 가장 친숙한 마크업 언어가 HTML\n",
    "  - XML은 HTML과 마찬가지로 데이터를 계층 구조로 표현\n",
    "  - XML 기본 구조\n",
    "    ```\n",
    "    <태그 속성=\"속성값\">내용</태그>\n",
    "\n",
    "    ```\n",
    "  - 태그와 속성은 특정 목적에 따라 임의로 이름을 정해서 사용\n",
    "    ```\n",
    "    <product id=\"M001\" price=\"300000\">32인치 LCD 모니터</product>  \n",
    "    ```\n",
    "  - 다른 요소와 그룹으로 묶을 수도 있음\n",
    "    ```\n",
    "    <products type=\"전자제품\">\n",
    "        <product id=\"M001\" price=\"300000\">32인치 LCD 모니터</product>\n",
    "        <product id=\"M002\" price=\"210000\">24인치 LCD 모니터</product>\n",
    "    </products>  \n",
    "    ```"
   ]
  },
  {
   "cell_type": "markdown",
   "metadata": {},
   "source": [
    "### 3.2. XML 파일 읽고 데이터 추출하기\n",
    "1. open() 함수로 xml 데이터 읽기\n",
    "2. xml 데이터 파싱하기\n",
    "3. select() 로 원하는 데이터 태그 선택하기\n",
    "   - 리턴값은 리스트 타입\n",
    "   - 원하는 데이터가 하나일 경우에는 select_one() 함수 사용\n",
    "   - 실제 데이터는 각 아이템.text 로 추출가능\n",
    "\n",
    "```\n",
    "data_file = open('users.xml', 'r', encoding='utf-8-sig') # 1. xml 데이터 읽기\n",
    "soup = BeautifulSoup(data_file, 'xml')                   # 2. xml 데이터 파싱하기\n",
    "users = soup.select('user')                              # 3. 원하는 데이터 관련 태그 선택하기\n",
    "for user in users:                                       # 4. 리스트이므로 for 문으로 아이템 추출\n",
    "    print(user.text)                                     # 5. 각 아이템.text 로 원하는 데이터 출력\n",
    "```"
   ]
  },
  {
   "cell_type": "markdown",
   "metadata": {},
   "source": [
    "### 파싱 (parsing)과 데이터 추출 코드 이해\n",
    "- 일종의 xml 데이터를 분석해서, 빠르게 원하는 데이터를 추출할 수 있도록 트리(tree) 형태로 만드는 것\n",
    "- pip install bs4\n",
    "\n",
    "```python\n",
    "from bs4 import BeautifulSoup\n",
    "soup = BeautifulSoup(xml파일디스크립터, 'xml')\n",
    "soup.select(원하는 데이터 태그)\n",
    "```"
   ]
  },
  {
   "cell_type": "markdown",
   "metadata": {},
   "source": [
    "### 예제 코드"
   ]
  },
  {
   "cell_type": "code",
   "execution_count": 11,
   "metadata": {},
   "outputs": [
    {
     "name": "stdout",
     "output_type": "stream",
     "text": [
      "\n",
      "잔재미코딩\n",
      "30\n",
      "\n",
      "\n",
      "Dave Lee\n",
      "21\n",
      "\n"
     ]
    }
   ],
   "source": [
    "from bs4 import BeautifulSoup\n",
    "\n",
    "data_file = open('00_data/users.xml', 'r', encoding='utf-8-sig')\n",
    "soup = BeautifulSoup(data_file, 'xml')\n",
    "\n",
    "users = soup.select('user')\n",
    "\n",
    "for user in users:\n",
    "    print(user.text)"
   ]
  },
  {
   "cell_type": "markdown",
   "metadata": {},
   "source": [
    "### 이름과 나이 각각 추출하려면?"
   ]
  },
  {
   "cell_type": "code",
   "execution_count": 14,
   "metadata": {},
   "outputs": [
    {
     "name": "stdout",
     "output_type": "stream",
     "text": [
      "이름: 잔재미코딩\n",
      "나이: 30\n",
      "이름: Dave Lee\n",
      "나이: 21\n"
     ]
    }
   ],
   "source": [
    "from bs4 import BeautifulSoup\n",
    "\n",
    "data_file = open('00_data/users.xml', 'r', encoding='utf-8-sig')\n",
    "soup = BeautifulSoup(data_file, 'xml')\n",
    "\n",
    "users = soup.select('user')\n",
    "\n",
    "for user in users:\n",
    "    name = user.select_one('name')\n",
    "    print ('이름:', name.text)\n",
    "    age = user.select_one('age')\n",
    "    print ('나이:', age.text)"
   ]
  },
  {
   "cell_type": "markdown",
   "metadata": {},
   "source": [
    "### 예제 코드 (연습 문제 풀이)"
   ]
  },
  {
   "cell_type": "markdown",
   "metadata": {},
   "source": [
    "<div class=\"alert alert-block\" style=\"border: 1px solid #FFB300;background-color:#F9FBE7;\">\n",
    "<font size=\"4em\" style=\"font-weight:bold;color:#3f8dbf;\">연습문제</font><br>\n",
    "<pre>\n",
    "- http://suggestqueries.google.com/complete/search?output=toolbar&q= 에 키워드를 추가하면 연관 검색어를 추출 가능\n",
    "- XML 포멧으로 되어 있으므로, 태그과 속성값 추출 기술을 활용해서 추출 가능\n",
    "\n",
    "```xml\n",
    "<suggestion data=\"연관검색어\">\n",
    "```\n",
    "\n",
    "- 원하는 데이터가 태그의 속성값에 있을 때에는 아이템[속성이름] 로 추출 가능\n",
    "\n",
    "</pre>\n",
    "\n",
    "<pre>\n",
    "다음 셀에 다음 코드를 넣고 다음 마지막 문장을 입력하여 코드를 완성하시오\n",
    "import requests\n",
    "from bs4 import BeautifulSoup\n",
    "\n",
    "keyword = '스마트폰'\n",
    "google_related_keyword_api = 'http://suggestqueries.google.com/complete/search?output=toolbar&q=' + keyword\n",
    "response = requests.get(google_related_keyword_api)       # 파일이 아니라, 데이터를 Open API 에서 가져오기 위한 함수\n",
    "soup = BeautifulSoup(response.content, 'xml')             # requests.get() 의 리턴값은 객체\n",
    "                                                          # 객체.content 에 가져온 데이터가 있음\n",
    "\n",
    "datas1 = [-------------------]\n",
    "\n",
    "for item in datas1:\n",
    "    print(item['data'])\n",
    "        \n",
    "</pre>"
   ]
  },
  {
   "cell_type": "code",
   "execution_count": null,
   "metadata": {},
   "outputs": [],
   "source": [
    "datas1 = soup.select('suggestion')"
   ]
  },
  {
   "cell_type": "code",
   "execution_count": 12,
   "metadata": {},
   "outputs": [
    {
     "name": "stdout",
     "output_type": "stream",
     "text": [
      "코로나 확진자\n",
      "코로나라이브\n",
      "코로나증상\n",
      "코로나 3단계\n",
      "코로나현황\n",
      "코로나 2.5단계\n",
      "코로나 단계\n",
      "코로나실시간\n",
      "코로나검사\n",
      "코로나 치료제\n"
     ]
    }
   ],
   "source": [
    "import requests\n",
    "from bs4 import BeautifulSoup\n",
    "\n",
    "keyword = '코로나'\n",
    "google_related_keyword_api = 'http://suggestqueries.google.com/complete/search?output=toolbar&q=' + keyword\n",
    "response = requests.get(google_related_keyword_api)       # 파일이 아니라, 데이터를 Open API 에서 가져오기 위한 함수\n",
    "soup = BeautifulSoup(response.content, 'xml')             # requests.get() 의 리턴값은 객체\n",
    "                                                          # 객체.content 에 가져온 데이터가 있음\n",
    "\n",
    "datas1 = soup.select('suggestion')\n",
    "\n",
    "for item in datas1:\n",
    "    print(item['data'])"
   ]
  },
  {
   "cell_type": "code",
   "execution_count": null,
   "metadata": {},
   "outputs": [],
   "source": []
  }
 ],
 "metadata": {
  "kernelspec": {
   "display_name": "Python 3",
   "language": "python",
   "name": "python3"
  },
  "language_info": {
   "codemirror_mode": {
    "name": "ipython",
    "version": 3
   },
   "file_extension": ".py",
   "mimetype": "text/x-python",
   "name": "python",
   "nbconvert_exporter": "python",
   "pygments_lexer": "ipython3",
   "version": "3.8.5"
  },
  "nbTranslate": {
   "displayLangs": [
    "*"
   ],
   "hotkey": "alt-t",
   "langInMainMenu": true,
   "sourceLang": "en",
   "targetLang": "fr",
   "useGoogleTranslate": true
  },
  "toc": {
   "base_numbering": 1,
   "nav_menu": {},
   "number_sections": true,
   "sideBar": true,
   "skip_h1_title": false,
   "title_cell": "Table of Contents",
   "title_sidebar": "Contents",
   "toc_cell": false,
   "toc_position": {},
   "toc_section_display": true,
   "toc_window_display": false
  },
  "varInspector": {
   "cols": {
    "lenName": 16,
    "lenType": 16,
    "lenVar": 40
   },
   "kernels_config": {
    "python": {
     "delete_cmd_postfix": "",
     "delete_cmd_prefix": "del ",
     "library": "var_list.py",
     "varRefreshCmd": "print(var_dic_list())"
    },
    "r": {
     "delete_cmd_postfix": ") ",
     "delete_cmd_prefix": "rm(",
     "library": "var_list.r",
     "varRefreshCmd": "cat(var_dic_list()) "
    }
   },
   "types_to_exclude": [
    "module",
    "function",
    "builtin_function_or_method",
    "instance",
    "_Feature"
   ],
   "window_display": false
  }
 },
 "nbformat": 4,
 "nbformat_minor": 2
}
