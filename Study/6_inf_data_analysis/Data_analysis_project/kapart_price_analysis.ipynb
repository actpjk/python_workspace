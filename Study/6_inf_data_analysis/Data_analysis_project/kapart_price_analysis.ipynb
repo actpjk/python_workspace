{
 "cells": [
  {
   "cell_type": "markdown",
   "metadata": {},
   "source": [
    "# 매매가격지수 데이터"
   ]
  },
  {
   "cell_type": "code",
   "execution_count": 1,
   "metadata": {},
   "outputs": [],
   "source": [
    "import pandas as pd\n",
    "import matplotlib.pyplot as plt\n",
    "import seaborn as sns\n",
    "import folium\n",
    "import numpy as np\n",
    "\n",
    "plt.rc('font', family = 'Malgun Gothic')\n",
    "plt.rc('axes', unicode_minus = False)\n",
    "\n",
    "from IPython.display import set_matplotlib_formats\n",
    "set_matplotlib_formats('retina')\n",
    "\n",
    "%matplotlib inline"
   ]
  },
  {
   "cell_type": "code",
   "execution_count": 2,
   "metadata": {},
   "outputs": [],
   "source": [
    "df_i = pd.read_csv(r'C:\\Users\\pjk\\Documents\\Data_set\\Jupyter_data\\한국부동산원_아파트 매매가격지수(월별, 규모별)_20201014.csv', encoding = 'cp949') \n",
    "df_p = pd.read_csv(r'C:\\Users\\pjk\\Documents\\Data_set\\Jupyter_data\\한국부동산원_아파트 평균매매가격(월별)_20201029.csv', encoding = 'cp949')"
   ]
  },
  {
   "cell_type": "markdown",
   "metadata": {},
   "source": [
    "## 전처리"
   ]
  },
  {
   "cell_type": "code",
   "execution_count": 3,
   "metadata": {
    "scrolled": false
   },
   "outputs": [
    {
     "data": {
      "text/html": [
       "<div>\n",
       "<style scoped>\n",
       "    .dataframe tbody tr th:only-of-type {\n",
       "        vertical-align: middle;\n",
       "    }\n",
       "\n",
       "    .dataframe tbody tr th {\n",
       "        vertical-align: top;\n",
       "    }\n",
       "\n",
       "    .dataframe thead th {\n",
       "        text-align: right;\n",
       "    }\n",
       "</style>\n",
       "<table border=\"1\" class=\"dataframe\">\n",
       "  <thead>\n",
       "    <tr style=\"text-align: right;\">\n",
       "      <th></th>\n",
       "      <th>지역 및 규모</th>\n",
       "      <th>2012-01</th>\n",
       "      <th>2012-02</th>\n",
       "      <th>2012-03</th>\n",
       "      <th>2012-04</th>\n",
       "      <th>2012-05</th>\n",
       "      <th>2012-06</th>\n",
       "      <th>2012-07</th>\n",
       "      <th>2012-08</th>\n",
       "      <th>2012-09</th>\n",
       "      <th>2012-10</th>\n",
       "      <th>2012-11</th>\n",
       "      <th>...</th>\n",
       "      <th>2019-10</th>\n",
       "      <th>2019-11</th>\n",
       "      <th>2019-12</th>\n",
       "      <th>2020-01</th>\n",
       "      <th>2020-02</th>\n",
       "      <th>2020-03</th>\n",
       "      <th>2020-04</th>\n",
       "      <th>2020-05</th>\n",
       "      <th>2020-06</th>\n",
       "      <th>2020-07</th>\n",
       "      <th>2020-08</th>\n",
       "      <th>2020-09</th>\n",
       "    </tr>\n",
       "  </thead>\n",
       "  <tbody>\n",
       "    <tr>\n",
       "      <th>0</th>\n",
       "      <td>전국 /40㎡이하</td>\n",
       "      <td>NaN</td>\n",
       "      <td>NaN</td>\n",
       "      <td>NaN</td>\n",
       "      <td>NaN</td>\n",
       "      <td>NaN</td>\n",
       "      <td>NaN</td>\n",
       "      <td>NaN</td>\n",
       "      <td>NaN</td>\n",
       "      <td>NaN</td>\n",
       "      <td>NaN</td>\n",
       "      <td>NaN</td>\n",
       "      <td>...</td>\n",
       "      <td>94.543989</td>\n",
       "      <td>94.452203</td>\n",
       "      <td>94.695685</td>\n",
       "      <td>94.608182</td>\n",
       "      <td>94.570657</td>\n",
       "      <td>94.924834</td>\n",
       "      <td>95.021443</td>\n",
       "      <td>94.976008</td>\n",
       "      <td>95.348703</td>\n",
       "      <td>95.813348</td>\n",
       "      <td>96.035571</td>\n",
       "      <td>96.093772</td>\n",
       "    </tr>\n",
       "    <tr>\n",
       "      <th>1</th>\n",
       "      <td>전국 /40㎡초과 ~ 60㎡이하</td>\n",
       "      <td>89.066007</td>\n",
       "      <td>89.181306</td>\n",
       "      <td>89.351083</td>\n",
       "      <td>89.437508</td>\n",
       "      <td>89.406334</td>\n",
       "      <td>89.255803</td>\n",
       "      <td>88.964926</td>\n",
       "      <td>88.740966</td>\n",
       "      <td>88.581878</td>\n",
       "      <td>88.457188</td>\n",
       "      <td>88.356604</td>\n",
       "      <td>...</td>\n",
       "      <td>95.490715</td>\n",
       "      <td>95.571127</td>\n",
       "      <td>95.924112</td>\n",
       "      <td>96.131995</td>\n",
       "      <td>96.458845</td>\n",
       "      <td>97.067226</td>\n",
       "      <td>97.296164</td>\n",
       "      <td>97.384525</td>\n",
       "      <td>97.750979</td>\n",
       "      <td>98.434306</td>\n",
       "      <td>98.899605</td>\n",
       "      <td>99.313357</td>\n",
       "    </tr>\n",
       "  </tbody>\n",
       "</table>\n",
       "<p>2 rows × 106 columns</p>\n",
       "</div>"
      ],
      "text/plain": [
       "             지역 및 규모    2012-01    2012-02    2012-03    2012-04    2012-05  \\\n",
       "0          전국 /40㎡이하        NaN        NaN        NaN        NaN        NaN   \n",
       "1  전국 /40㎡초과 ~ 60㎡이하  89.066007  89.181306  89.351083  89.437508  89.406334   \n",
       "\n",
       "     2012-06    2012-07    2012-08    2012-09    2012-10    2012-11  ...  \\\n",
       "0        NaN        NaN        NaN        NaN        NaN        NaN  ...   \n",
       "1  89.255803  88.964926  88.740966  88.581878  88.457188  88.356604  ...   \n",
       "\n",
       "     2019-10    2019-11    2019-12    2020-01    2020-02    2020-03  \\\n",
       "0  94.543989  94.452203  94.695685  94.608182  94.570657  94.924834   \n",
       "1  95.490715  95.571127  95.924112  96.131995  96.458845  97.067226   \n",
       "\n",
       "     2020-04    2020-05    2020-06    2020-07    2020-08    2020-09  \n",
       "0  95.021443  94.976008  95.348703  95.813348  96.035571  96.093772  \n",
       "1  97.296164  97.384525  97.750979  98.434306  98.899605  99.313357  \n",
       "\n",
       "[2 rows x 106 columns]"
      ]
     },
     "execution_count": 3,
     "metadata": {},
     "output_type": "execute_result"
    }
   ],
   "source": [
    "pd.options.display.max_columns = 25\n",
    "df_i.head(2)"
   ]
  },
  {
   "cell_type": "code",
   "execution_count": 4,
   "metadata": {},
   "outputs": [
    {
     "name": "stdout",
     "output_type": "stream",
     "text": [
      "<class 'pandas.core.frame.DataFrame'>\n",
      "RangeIndex: 246 entries, 0 to 245\n",
      "Columns: 106 entries, 지역 및 규모 to 2020-09\n",
      "dtypes: float64(104), int64(1), object(1)\n",
      "memory usage: 203.8+ KB\n"
     ]
    }
   ],
   "source": [
    "df_i.info()"
   ]
  },
  {
   "cell_type": "code",
   "execution_count": 5,
   "metadata": {},
   "outputs": [
    {
     "data": {
      "text/html": [
       "<div>\n",
       "<style scoped>\n",
       "    .dataframe tbody tr th:only-of-type {\n",
       "        vertical-align: middle;\n",
       "    }\n",
       "\n",
       "    .dataframe tbody tr th {\n",
       "        vertical-align: top;\n",
       "    }\n",
       "\n",
       "    .dataframe thead th {\n",
       "        text-align: right;\n",
       "    }\n",
       "</style>\n",
       "<table border=\"1\" class=\"dataframe\">\n",
       "  <thead>\n",
       "    <tr style=\"text-align: right;\">\n",
       "      <th></th>\n",
       "      <th>지역 및 규모</th>\n",
       "      <th>기간</th>\n",
       "      <th>매매가격지수</th>\n",
       "    </tr>\n",
       "  </thead>\n",
       "  <tbody>\n",
       "    <tr>\n",
       "      <th>0</th>\n",
       "      <td>전국 /40㎡이하</td>\n",
       "      <td>2012-01</td>\n",
       "      <td>NaN</td>\n",
       "    </tr>\n",
       "    <tr>\n",
       "      <th>1</th>\n",
       "      <td>전국 /40㎡초과 ~ 60㎡이하</td>\n",
       "      <td>2012-01</td>\n",
       "      <td>89.066007</td>\n",
       "    </tr>\n",
       "    <tr>\n",
       "      <th>2</th>\n",
       "      <td>전국 /60㎡초과 ~ 85㎡이하</td>\n",
       "      <td>2012-01</td>\n",
       "      <td>93.025407</td>\n",
       "    </tr>\n",
       "    <tr>\n",
       "      <th>3</th>\n",
       "      <td>전국 /85㎡초과 ~ 102㎡이하</td>\n",
       "      <td>2012-01</td>\n",
       "      <td>97.969171</td>\n",
       "    </tr>\n",
       "    <tr>\n",
       "      <th>4</th>\n",
       "      <td>전국 /102㎡초과 ~ 135㎡이하</td>\n",
       "      <td>2012-01</td>\n",
       "      <td>100.087735</td>\n",
       "    </tr>\n",
       "    <tr>\n",
       "      <th>5</th>\n",
       "      <td>전국 /135㎡초과</td>\n",
       "      <td>2012-01</td>\n",
       "      <td>105.536222</td>\n",
       "    </tr>\n",
       "    <tr>\n",
       "      <th>6</th>\n",
       "      <td>수도권 /40㎡이하</td>\n",
       "      <td>2012-01</td>\n",
       "      <td>NaN</td>\n",
       "    </tr>\n",
       "    <tr>\n",
       "      <th>7</th>\n",
       "      <td>수도권 /40㎡초과 ~ 60㎡이하</td>\n",
       "      <td>2012-01</td>\n",
       "      <td>87.680620</td>\n",
       "    </tr>\n",
       "    <tr>\n",
       "      <th>8</th>\n",
       "      <td>수도권 /60㎡초과 ~ 85㎡이하</td>\n",
       "      <td>2012-01</td>\n",
       "      <td>94.288892</td>\n",
       "    </tr>\n",
       "    <tr>\n",
       "      <th>9</th>\n",
       "      <td>수도권 /85㎡초과 ~ 102㎡이하</td>\n",
       "      <td>2012-01</td>\n",
       "      <td>98.991379</td>\n",
       "    </tr>\n",
       "  </tbody>\n",
       "</table>\n",
       "</div>"
      ],
      "text/plain": [
       "               지역 및 규모       기간      매매가격지수\n",
       "0            전국 /40㎡이하  2012-01         NaN\n",
       "1    전국 /40㎡초과 ~ 60㎡이하  2012-01   89.066007\n",
       "2    전국 /60㎡초과 ~ 85㎡이하  2012-01   93.025407\n",
       "3   전국 /85㎡초과 ~ 102㎡이하  2012-01   97.969171\n",
       "4  전국 /102㎡초과 ~ 135㎡이하  2012-01  100.087735\n",
       "5           전국 /135㎡초과  2012-01  105.536222\n",
       "6           수도권 /40㎡이하  2012-01         NaN\n",
       "7   수도권 /40㎡초과 ~ 60㎡이하  2012-01   87.680620\n",
       "8   수도권 /60㎡초과 ~ 85㎡이하  2012-01   94.288892\n",
       "9  수도권 /85㎡초과 ~ 102㎡이하  2012-01   98.991379"
      ]
     },
     "execution_count": 5,
     "metadata": {},
     "output_type": "execute_result"
    }
   ],
   "source": [
    "df_i_melt = df_i.melt(id_vars='지역 및 규모', var_name='기간', value_name = '매매가격지수').copy()\n",
    "df_i_melt.head(10)"
   ]
  },
  {
   "cell_type": "code",
   "execution_count": 6,
   "metadata": {
    "scrolled": true
   },
   "outputs": [],
   "source": [
    "# 지역 및 규모를 지역, 규모 칼럼으로 분리한다.\n",
    "site = '전국 /40㎡이하~60㎡초과'\n",
    "\n",
    "def parse_local(site):\n",
    "    local = site.split(' ')[0].replace(' ','')\n",
    "    local = str(local)\n",
    "    return local\n",
    "\n",
    "def parse_size(site):\n",
    "    size = site.split('/')[1].replace('초과','-').replace('이하','').replace('~','').replace(' ','')\n",
    "    size = str(size)\n",
    "    return size"
   ]
  },
  {
   "cell_type": "code",
   "execution_count": 7,
   "metadata": {},
   "outputs": [
    {
     "data": {
      "text/plain": [
       "'2012'"
      ]
     },
     "execution_count": 7,
     "metadata": {},
     "output_type": "execute_result"
    }
   ],
   "source": [
    "date = '2012-1'\n",
    "date.split('-')[0]"
   ]
  },
  {
   "cell_type": "code",
   "execution_count": 8,
   "metadata": {},
   "outputs": [],
   "source": [
    "\n",
    "# def parse_year(date):\n",
    "#     year = date.split('-')[0]\n",
    "#     year = int(year)\n",
    "#     return year\n",
    "\n",
    "# def parse_month(date):\n",
    "#     month = date.split('-')[1]\n",
    "#     month = int(month)\n",
    "#     return month\n",
    "\n",
    "# parse_year(date)"
   ]
  },
  {
   "cell_type": "code",
   "execution_count": 9,
   "metadata": {},
   "outputs": [],
   "source": [
    "df_i_melt['지역명'] = df_i_melt['지역 및 규모'].apply(parse_local)\n",
    "df_i_melt['전용면적'] = df_i_melt['지역 및 규모'].apply(parse_size)\n",
    "# df_i_melt['날짜'] = df_i_melt['기간'].apply(parse_year)\n",
    "# df_i_melt['월'] = df_i_melt['기간'].apply(parse_month)"
   ]
  },
  {
   "cell_type": "code",
   "execution_count": 10,
   "metadata": {},
   "outputs": [],
   "source": [
    "df_i_melt = df_i_melt.drop(['지역 및 규모'], axis=1)"
   ]
  },
  {
   "cell_type": "code",
   "execution_count": 11,
   "metadata": {},
   "outputs": [
    {
     "data": {
      "text/plain": [
       "['기간', '매매가격지수', '지역명', '전용면적']"
      ]
     },
     "execution_count": 11,
     "metadata": {},
     "output_type": "execute_result"
    }
   ],
   "source": [
    "df_i_melt.columns.to_list()"
   ]
  },
  {
   "cell_type": "markdown",
   "metadata": {},
   "source": [
    "## 매매가격지수 전처리 완료된 데이터"
   ]
  },
  {
   "cell_type": "code",
   "execution_count": 12,
   "metadata": {
    "scrolled": true
   },
   "outputs": [
    {
     "data": {
      "text/html": [
       "<div>\n",
       "<style scoped>\n",
       "    .dataframe tbody tr th:only-of-type {\n",
       "        vertical-align: middle;\n",
       "    }\n",
       "\n",
       "    .dataframe tbody tr th {\n",
       "        vertical-align: top;\n",
       "    }\n",
       "\n",
       "    .dataframe thead th {\n",
       "        text-align: right;\n",
       "    }\n",
       "</style>\n",
       "<table border=\"1\" class=\"dataframe\">\n",
       "  <thead>\n",
       "    <tr style=\"text-align: right;\">\n",
       "      <th></th>\n",
       "      <th>기간</th>\n",
       "      <th>매매가격지수</th>\n",
       "      <th>지역명</th>\n",
       "      <th>전용면적</th>\n",
       "    </tr>\n",
       "  </thead>\n",
       "  <tbody>\n",
       "    <tr>\n",
       "      <th>43</th>\n",
       "      <td>2012-01</td>\n",
       "      <td>86.476065</td>\n",
       "      <td>서울</td>\n",
       "      <td>40㎡-60㎡</td>\n",
       "    </tr>\n",
       "    <tr>\n",
       "      <th>44</th>\n",
       "      <td>2012-01</td>\n",
       "      <td>92.831743</td>\n",
       "      <td>서울</td>\n",
       "      <td>60㎡-85㎡</td>\n",
       "    </tr>\n",
       "    <tr>\n",
       "      <th>45</th>\n",
       "      <td>2012-01</td>\n",
       "      <td>92.974395</td>\n",
       "      <td>서울</td>\n",
       "      <td>85㎡-102㎡</td>\n",
       "    </tr>\n",
       "    <tr>\n",
       "      <th>46</th>\n",
       "      <td>2012-01</td>\n",
       "      <td>101.971484</td>\n",
       "      <td>서울</td>\n",
       "      <td>102㎡-135㎡</td>\n",
       "    </tr>\n",
       "    <tr>\n",
       "      <th>47</th>\n",
       "      <td>2012-01</td>\n",
       "      <td>107.671253</td>\n",
       "      <td>서울</td>\n",
       "      <td>135㎡-</td>\n",
       "    </tr>\n",
       "    <tr>\n",
       "      <th>...</th>\n",
       "      <td>...</td>\n",
       "      <td>...</td>\n",
       "      <td>...</td>\n",
       "      <td>...</td>\n",
       "    </tr>\n",
       "    <tr>\n",
       "      <th>25824</th>\n",
       "      <td>2020-09</td>\n",
       "      <td>87.282447</td>\n",
       "      <td>제주</td>\n",
       "      <td>40㎡</td>\n",
       "    </tr>\n",
       "    <tr>\n",
       "      <th>25825</th>\n",
       "      <td>2020-09</td>\n",
       "      <td>90.577891</td>\n",
       "      <td>제주</td>\n",
       "      <td>40㎡-60㎡</td>\n",
       "    </tr>\n",
       "    <tr>\n",
       "      <th>25826</th>\n",
       "      <td>2020-09</td>\n",
       "      <td>93.136589</td>\n",
       "      <td>제주</td>\n",
       "      <td>60㎡-85㎡</td>\n",
       "    </tr>\n",
       "    <tr>\n",
       "      <th>25827</th>\n",
       "      <td>2020-09</td>\n",
       "      <td>89.814254</td>\n",
       "      <td>제주</td>\n",
       "      <td>85㎡-102㎡</td>\n",
       "    </tr>\n",
       "    <tr>\n",
       "      <th>25828</th>\n",
       "      <td>2020-09</td>\n",
       "      <td>93.234823</td>\n",
       "      <td>제주</td>\n",
       "      <td>102㎡-135㎡</td>\n",
       "    </tr>\n",
       "  </tbody>\n",
       "</table>\n",
       "<p>18584 rows × 4 columns</p>\n",
       "</div>"
      ],
      "text/plain": [
       "            기간      매매가격지수 지역명       전용면적\n",
       "43     2012-01   86.476065  서울    40㎡-60㎡\n",
       "44     2012-01   92.831743  서울    60㎡-85㎡\n",
       "45     2012-01   92.974395  서울   85㎡-102㎡\n",
       "46     2012-01  101.971484  서울  102㎡-135㎡\n",
       "47     2012-01  107.671253  서울      135㎡-\n",
       "...        ...         ...  ..        ...\n",
       "25824  2020-09   87.282447  제주        40㎡\n",
       "25825  2020-09   90.577891  제주    40㎡-60㎡\n",
       "25826  2020-09   93.136589  제주    60㎡-85㎡\n",
       "25827  2020-09   89.814254  제주   85㎡-102㎡\n",
       "25828  2020-09   93.234823  제주  102㎡-135㎡\n",
       "\n",
       "[18584 rows x 4 columns]"
      ]
     },
     "execution_count": 12,
     "metadata": {},
     "output_type": "execute_result"
    }
   ],
   "source": [
    "df_i_prepare = df_i_melt[(df_i_melt['매매가격지수'].notnull()) & (df_i_melt['지역명'] != '전국') \n",
    "                         & (df_i_melt['지역명'] != '수도권') & (df_i_melt['지역명'] != '지방권')\n",
    "                        & (df_i_melt['지역명'] != '6대광역시') & (df_i_melt['지역명'] != '5대광역시')\n",
    "                        & (df_i_melt['지역명'] != '9개도') & (df_i_melt['지역명'] != '8개도')]\n",
    "df_i_prepare"
   ]
  },
  {
   "cell_type": "markdown",
   "metadata": {},
   "source": [
    "# 분양가격 데이터"
   ]
  },
  {
   "cell_type": "markdown",
   "metadata": {},
   "source": [
    "## 과거 데이터 전처리"
   ]
  },
  {
   "cell_type": "code",
   "execution_count": 13,
   "metadata": {},
   "outputs": [
    {
     "data": {
      "text/html": [
       "<div>\n",
       "<style scoped>\n",
       "    .dataframe tbody tr th:only-of-type {\n",
       "        vertical-align: middle;\n",
       "    }\n",
       "\n",
       "    .dataframe tbody tr th {\n",
       "        vertical-align: top;\n",
       "    }\n",
       "\n",
       "    .dataframe thead th {\n",
       "        text-align: right;\n",
       "    }\n",
       "</style>\n",
       "<table border=\"1\" class=\"dataframe\">\n",
       "  <thead>\n",
       "    <tr style=\"text-align: right;\">\n",
       "      <th></th>\n",
       "      <th>지역</th>\n",
       "      <th>2013년12월</th>\n",
       "      <th>2014년1월</th>\n",
       "      <th>2014년2월</th>\n",
       "      <th>2014년3월</th>\n",
       "      <th>2014년4월</th>\n",
       "      <th>2014년5월</th>\n",
       "      <th>2014년6월</th>\n",
       "      <th>2014년7월</th>\n",
       "      <th>2014년8월</th>\n",
       "      <th>2014년9월</th>\n",
       "      <th>2014년10월</th>\n",
       "      <th>2014년11월</th>\n",
       "      <th>2014년12월</th>\n",
       "      <th>2015년1월</th>\n",
       "      <th>2015년2월</th>\n",
       "      <th>2015년3월</th>\n",
       "      <th>2015년4월</th>\n",
       "      <th>2015년5월</th>\n",
       "      <th>2015년6월</th>\n",
       "      <th>2015년7월</th>\n",
       "      <th>2015년8월</th>\n",
       "    </tr>\n",
       "  </thead>\n",
       "  <tbody>\n",
       "    <tr>\n",
       "      <th>0</th>\n",
       "      <td>서울</td>\n",
       "      <td>18189</td>\n",
       "      <td>17925</td>\n",
       "      <td>17925</td>\n",
       "      <td>18016</td>\n",
       "      <td>18098</td>\n",
       "      <td>19446</td>\n",
       "      <td>18867</td>\n",
       "      <td>18742</td>\n",
       "      <td>19274</td>\n",
       "      <td>19404</td>\n",
       "      <td>19759</td>\n",
       "      <td>20242</td>\n",
       "      <td>20269</td>\n",
       "      <td>20670</td>\n",
       "      <td>20670</td>\n",
       "      <td>19415</td>\n",
       "      <td>18842</td>\n",
       "      <td>18367</td>\n",
       "      <td>18374</td>\n",
       "      <td>18152</td>\n",
       "      <td>18443</td>\n",
       "    </tr>\n",
       "  </tbody>\n",
       "</table>\n",
       "</div>"
      ],
      "text/plain": [
       "   지역  2013년12월  2014년1월  2014년2월  2014년3월  2014년4월  2014년5월  2014년6월  \\\n",
       "0  서울     18189    17925    17925    18016    18098    19446    18867   \n",
       "\n",
       "   2014년7월  2014년8월  2014년9월  2014년10월  2014년11월  2014년12월  2015년1월  2015년2월  \\\n",
       "0    18742    19274    19404     19759     20242     20269    20670    20670   \n",
       "\n",
       "   2015년3월  2015년4월  2015년5월  2015년6월  2015년7월  2015년8월  \n",
       "0    19415    18842    18367    18374    18152    18443  "
      ]
     },
     "execution_count": 13,
     "metadata": {},
     "output_type": "execute_result"
    }
   ],
   "source": [
    "df_first = pd.read_csv(r\"C:\\Users\\pjk\\Documents\\Data_set\\Jupyter_data\\전국 평균 분양가격(2013년 9월부터 2015년 8월까지).csv\", \n",
    "                       encoding=\"cp949\")\n",
    "df_first.head(1)"
   ]
  },
  {
   "cell_type": "code",
   "execution_count": 14,
   "metadata": {
    "scrolled": true
   },
   "outputs": [],
   "source": [
    "df_first_melt = df_first.melt(id_vars = '지역',var_name = '기간', value_name = '평당분양가격').copy()"
   ]
  },
  {
   "cell_type": "code",
   "execution_count": 15,
   "metadata": {},
   "outputs": [
    {
     "data": {
      "text/html": [
       "<div>\n",
       "<style scoped>\n",
       "    .dataframe tbody tr th:only-of-type {\n",
       "        vertical-align: middle;\n",
       "    }\n",
       "\n",
       "    .dataframe tbody tr th {\n",
       "        vertical-align: top;\n",
       "    }\n",
       "\n",
       "    .dataframe thead th {\n",
       "        text-align: right;\n",
       "    }\n",
       "</style>\n",
       "<table border=\"1\" class=\"dataframe\">\n",
       "  <thead>\n",
       "    <tr style=\"text-align: right;\">\n",
       "      <th></th>\n",
       "      <th>지역</th>\n",
       "      <th>기간</th>\n",
       "      <th>평당분양가격</th>\n",
       "    </tr>\n",
       "  </thead>\n",
       "  <tbody>\n",
       "    <tr>\n",
       "      <th>0</th>\n",
       "      <td>서울</td>\n",
       "      <td>2013년12월</td>\n",
       "      <td>18189</td>\n",
       "    </tr>\n",
       "  </tbody>\n",
       "</table>\n",
       "</div>"
      ],
      "text/plain": [
       "   지역        기간  평당분양가격\n",
       "0  서울  2013년12월   18189"
      ]
     },
     "execution_count": 15,
     "metadata": {},
     "output_type": "execute_result"
    }
   ],
   "source": [
    "df_first_melt.head(1)"
   ]
  },
  {
   "cell_type": "code",
   "execution_count": 16,
   "metadata": {},
   "outputs": [
    {
     "name": "stdout",
     "output_type": "stream",
     "text": [
      "<class 'pandas.core.frame.DataFrame'>\n",
      "RangeIndex: 357 entries, 0 to 356\n",
      "Data columns (total 3 columns):\n",
      " #   Column  Non-Null Count  Dtype \n",
      "---  ------  --------------  ----- \n",
      " 0   지역      357 non-null    object\n",
      " 1   기간      357 non-null    object\n",
      " 2   평당분양가격  357 non-null    int64 \n",
      "dtypes: int64(1), object(2)\n",
      "memory usage: 8.5+ KB\n"
     ]
    }
   ],
   "source": [
    "df_first_melt.info()"
   ]
  },
  {
   "cell_type": "code",
   "execution_count": 17,
   "metadata": {
    "scrolled": true
   },
   "outputs": [
    {
     "data": {
      "text/plain": [
       "지역        0\n",
       "기간        0\n",
       "평당분양가격    0\n",
       "dtype: int64"
      ]
     },
     "execution_count": 17,
     "metadata": {},
     "output_type": "execute_result"
    }
   ],
   "source": [
    "df_first_melt.isnull().sum()"
   ]
  },
  {
   "cell_type": "code",
   "execution_count": 18,
   "metadata": {},
   "outputs": [
    {
     "data": {
      "text/plain": [
       "'2014-1'"
      ]
     },
     "execution_count": 18,
     "metadata": {},
     "output_type": "execute_result"
    }
   ],
   "source": [
    "date = '2014년1월'\n",
    "\n",
    "def parse_range(date):\n",
    "    year = date.split('년')[0] + '-' + date.split('년')[1].replace('월','')\n",
    "    year = str(year)\n",
    "    return year\n",
    "\n",
    "parse_range(date)"
   ]
  },
  {
   "cell_type": "code",
   "execution_count": 19,
   "metadata": {},
   "outputs": [],
   "source": [
    "df_first_melt['기간'] = df_first_melt['기간'].apply(parse_range)\n",
    "# df_first_melt['월'] = df_first_melt['기간'].apply(parse_month)\n",
    "df_first_melt['지역명'] = df_first_melt['지역']"
   ]
  },
  {
   "cell_type": "code",
   "execution_count": 20,
   "metadata": {},
   "outputs": [],
   "source": [
    "df_first = df_first_melt.drop(['지역'], axis=1)"
   ]
  },
  {
   "cell_type": "markdown",
   "metadata": {},
   "source": [
    "## 과거 데이터 전처리 완료"
   ]
  },
  {
   "cell_type": "code",
   "execution_count": 21,
   "metadata": {},
   "outputs": [
    {
     "data": {
      "text/html": [
       "<div>\n",
       "<style scoped>\n",
       "    .dataframe tbody tr th:only-of-type {\n",
       "        vertical-align: middle;\n",
       "    }\n",
       "\n",
       "    .dataframe tbody tr th {\n",
       "        vertical-align: top;\n",
       "    }\n",
       "\n",
       "    .dataframe thead th {\n",
       "        text-align: right;\n",
       "    }\n",
       "</style>\n",
       "<table border=\"1\" class=\"dataframe\">\n",
       "  <thead>\n",
       "    <tr style=\"text-align: right;\">\n",
       "      <th></th>\n",
       "      <th>기간</th>\n",
       "      <th>평당분양가격</th>\n",
       "      <th>지역명</th>\n",
       "    </tr>\n",
       "  </thead>\n",
       "  <tbody>\n",
       "    <tr>\n",
       "      <th>0</th>\n",
       "      <td>2013-12</td>\n",
       "      <td>18189</td>\n",
       "      <td>서울</td>\n",
       "    </tr>\n",
       "    <tr>\n",
       "      <th>1</th>\n",
       "      <td>2013-12</td>\n",
       "      <td>8111</td>\n",
       "      <td>부산</td>\n",
       "    </tr>\n",
       "    <tr>\n",
       "      <th>2</th>\n",
       "      <td>2013-12</td>\n",
       "      <td>8080</td>\n",
       "      <td>대구</td>\n",
       "    </tr>\n",
       "    <tr>\n",
       "      <th>3</th>\n",
       "      <td>2013-12</td>\n",
       "      <td>10204</td>\n",
       "      <td>인천</td>\n",
       "    </tr>\n",
       "    <tr>\n",
       "      <th>4</th>\n",
       "      <td>2013-12</td>\n",
       "      <td>6098</td>\n",
       "      <td>광주</td>\n",
       "    </tr>\n",
       "    <tr>\n",
       "      <th>...</th>\n",
       "      <td>...</td>\n",
       "      <td>...</td>\n",
       "      <td>...</td>\n",
       "    </tr>\n",
       "    <tr>\n",
       "      <th>352</th>\n",
       "      <td>2015-8</td>\n",
       "      <td>6580</td>\n",
       "      <td>전북</td>\n",
       "    </tr>\n",
       "    <tr>\n",
       "      <th>353</th>\n",
       "      <td>2015-8</td>\n",
       "      <td>6289</td>\n",
       "      <td>전남</td>\n",
       "    </tr>\n",
       "    <tr>\n",
       "      <th>354</th>\n",
       "      <td>2015-8</td>\n",
       "      <td>7037</td>\n",
       "      <td>경북</td>\n",
       "    </tr>\n",
       "    <tr>\n",
       "      <th>355</th>\n",
       "      <td>2015-8</td>\n",
       "      <td>7665</td>\n",
       "      <td>경남</td>\n",
       "    </tr>\n",
       "    <tr>\n",
       "      <th>356</th>\n",
       "      <td>2015-8</td>\n",
       "      <td>7343</td>\n",
       "      <td>제주</td>\n",
       "    </tr>\n",
       "  </tbody>\n",
       "</table>\n",
       "<p>357 rows × 3 columns</p>\n",
       "</div>"
      ],
      "text/plain": [
       "          기간  평당분양가격 지역명\n",
       "0    2013-12   18189  서울\n",
       "1    2013-12    8111  부산\n",
       "2    2013-12    8080  대구\n",
       "3    2013-12   10204  인천\n",
       "4    2013-12    6098  광주\n",
       "..       ...     ...  ..\n",
       "352   2015-8    6580  전북\n",
       "353   2015-8    6289  전남\n",
       "354   2015-8    7037  경북\n",
       "355   2015-8    7665  경남\n",
       "356   2015-8    7343  제주\n",
       "\n",
       "[357 rows x 3 columns]"
      ]
     },
     "execution_count": 21,
     "metadata": {},
     "output_type": "execute_result"
    }
   ],
   "source": [
    "df_first"
   ]
  },
  {
   "cell_type": "markdown",
   "metadata": {},
   "source": [
    "## 최근 데이터 전처리"
   ]
  },
  {
   "cell_type": "code",
   "execution_count": 79,
   "metadata": {},
   "outputs": [],
   "source": [
    "df_last = pd.read_csv(r'C:\\Users\\pjk\\Documents\\Data_set\\Jupyter_data\\주택도시보증공사_전국 신규 민간아파트 분양가격 동향_20200430.csv', encoding = 'cp949')"
   ]
  },
  {
   "cell_type": "code",
   "execution_count": 80,
   "metadata": {
    "scrolled": true
   },
   "outputs": [
    {
     "data": {
      "text/html": [
       "<div>\n",
       "<style scoped>\n",
       "    .dataframe tbody tr th:only-of-type {\n",
       "        vertical-align: middle;\n",
       "    }\n",
       "\n",
       "    .dataframe tbody tr th {\n",
       "        vertical-align: top;\n",
       "    }\n",
       "\n",
       "    .dataframe thead th {\n",
       "        text-align: right;\n",
       "    }\n",
       "</style>\n",
       "<table border=\"1\" class=\"dataframe\">\n",
       "  <thead>\n",
       "    <tr style=\"text-align: right;\">\n",
       "      <th></th>\n",
       "      <th>지역명</th>\n",
       "      <th>규모구분</th>\n",
       "      <th>연도</th>\n",
       "      <th>월</th>\n",
       "      <th>분양가격(㎡)</th>\n",
       "    </tr>\n",
       "  </thead>\n",
       "  <tbody>\n",
       "    <tr>\n",
       "      <th>0</th>\n",
       "      <td>서울</td>\n",
       "      <td>전체</td>\n",
       "      <td>2015</td>\n",
       "      <td>10</td>\n",
       "      <td>5841</td>\n",
       "    </tr>\n",
       "    <tr>\n",
       "      <th>1</th>\n",
       "      <td>서울</td>\n",
       "      <td>전용면적 60㎡이하</td>\n",
       "      <td>2015</td>\n",
       "      <td>10</td>\n",
       "      <td>5652</td>\n",
       "    </tr>\n",
       "    <tr>\n",
       "      <th>2</th>\n",
       "      <td>서울</td>\n",
       "      <td>전용면적 60㎡초과 85㎡이하</td>\n",
       "      <td>2015</td>\n",
       "      <td>10</td>\n",
       "      <td>5882</td>\n",
       "    </tr>\n",
       "    <tr>\n",
       "      <th>3</th>\n",
       "      <td>서울</td>\n",
       "      <td>전용면적 85㎡초과 102㎡이하</td>\n",
       "      <td>2015</td>\n",
       "      <td>10</td>\n",
       "      <td>5721</td>\n",
       "    </tr>\n",
       "    <tr>\n",
       "      <th>4</th>\n",
       "      <td>서울</td>\n",
       "      <td>전용면적 102㎡초과</td>\n",
       "      <td>2015</td>\n",
       "      <td>10</td>\n",
       "      <td>5879</td>\n",
       "    </tr>\n",
       "  </tbody>\n",
       "</table>\n",
       "</div>"
      ],
      "text/plain": [
       "  지역명               규모구분    연도   월 분양가격(㎡)\n",
       "0  서울                 전체  2015  10    5841\n",
       "1  서울         전용면적 60㎡이하  2015  10    5652\n",
       "2  서울   전용면적 60㎡초과 85㎡이하  2015  10    5882\n",
       "3  서울  전용면적 85㎡초과 102㎡이하  2015  10    5721\n",
       "4  서울        전용면적 102㎡초과  2015  10    5879"
      ]
     },
     "execution_count": 80,
     "metadata": {},
     "output_type": "execute_result"
    }
   ],
   "source": [
    "df_last.head()"
   ]
  },
  {
   "cell_type": "code",
   "execution_count": 81,
   "metadata": {},
   "outputs": [
    {
     "name": "stdout",
     "output_type": "stream",
     "text": [
      "<class 'pandas.core.frame.DataFrame'>\n",
      "RangeIndex: 4675 entries, 0 to 4674\n",
      "Data columns (total 5 columns):\n",
      " #   Column   Non-Null Count  Dtype \n",
      "---  ------   --------------  ----- \n",
      " 0   지역명      4675 non-null   object\n",
      " 1   규모구분     4675 non-null   object\n",
      " 2   연도       4675 non-null   int64 \n",
      " 3   월        4675 non-null   int64 \n",
      " 4   분양가격(㎡)  4346 non-null   object\n",
      "dtypes: int64(2), object(3)\n",
      "memory usage: 182.7+ KB\n"
     ]
    }
   ],
   "source": [
    "df_last.info()\n",
    "df_last['분양가격'] = pd.to_numeric(df_last['분양가격(㎡)'], errors='coerce')"
   ]
  },
  {
   "cell_type": "code",
   "execution_count": 82,
   "metadata": {},
   "outputs": [],
   "source": [
    "df_last = df_last[df_last['분양가격'].notnull()]\n",
    "df_last['평당분양가격'] = df_last['분양가격']*3.3"
   ]
  },
  {
   "cell_type": "code",
   "execution_count": 83,
   "metadata": {
    "scrolled": true
   },
   "outputs": [],
   "source": [
    "df_last = df_last.drop(['분양가격(㎡)','분양가격'], axis = 1)"
   ]
  },
  {
   "cell_type": "code",
   "execution_count": 84,
   "metadata": {
    "scrolled": false
   },
   "outputs": [
    {
     "data": {
      "text/plain": [
       "지역명  규모구분              연도    월   평당분양가격 \n",
       "충북   전체                2020  4   7920.0     1\n",
       "대구   전용면적 60㎡초과 85㎡이하  2018  12  12929.4    1\n",
       "                       2020  2   14579.4    1\n",
       "                             1   14576.1    1\n",
       "                       2019  12  14411.1    1\n",
       "                                           ..\n",
       "인천   전용면적 60㎡초과 85㎡이하  2018  7   11672.1    1\n",
       "                             6   11672.1    1\n",
       "                             5   11771.1    1\n",
       "                             4   11378.4    1\n",
       "강원   전용면적 102㎡초과       2015  10  7164.3     1\n",
       "Length: 4330, dtype: int64"
      ]
     },
     "execution_count": 84,
     "metadata": {},
     "output_type": "execute_result"
    }
   ],
   "source": [
    "df_last.value_counts()"
   ]
  },
  {
   "cell_type": "code",
   "execution_count": 86,
   "metadata": {},
   "outputs": [
    {
     "data": {
      "text/html": [
       "<div>\n",
       "<style scoped>\n",
       "    .dataframe tbody tr th:only-of-type {\n",
       "        vertical-align: middle;\n",
       "    }\n",
       "\n",
       "    .dataframe tbody tr th {\n",
       "        vertical-align: top;\n",
       "    }\n",
       "\n",
       "    .dataframe thead th {\n",
       "        text-align: right;\n",
       "    }\n",
       "</style>\n",
       "<table border=\"1\" class=\"dataframe\">\n",
       "  <thead>\n",
       "    <tr style=\"text-align: right;\">\n",
       "      <th></th>\n",
       "      <th>지역명</th>\n",
       "      <th>규모구분</th>\n",
       "      <th>연도</th>\n",
       "      <th>월</th>\n",
       "      <th>평당분양가격</th>\n",
       "      <th>전용면적</th>\n",
       "    </tr>\n",
       "  </thead>\n",
       "  <tbody>\n",
       "    <tr>\n",
       "      <th>0</th>\n",
       "      <td>서울</td>\n",
       "      <td>전체</td>\n",
       "      <td>2015</td>\n",
       "      <td>10</td>\n",
       "      <td>19275.3</td>\n",
       "      <td>전체</td>\n",
       "    </tr>\n",
       "    <tr>\n",
       "      <th>1</th>\n",
       "      <td>서울</td>\n",
       "      <td>전용면적 60㎡이하</td>\n",
       "      <td>2015</td>\n",
       "      <td>10</td>\n",
       "      <td>18651.6</td>\n",
       "      <td>60㎡</td>\n",
       "    </tr>\n",
       "    <tr>\n",
       "      <th>2</th>\n",
       "      <td>서울</td>\n",
       "      <td>전용면적 60㎡초과 85㎡이하</td>\n",
       "      <td>2015</td>\n",
       "      <td>10</td>\n",
       "      <td>19410.6</td>\n",
       "      <td>60㎡-85㎡</td>\n",
       "    </tr>\n",
       "    <tr>\n",
       "      <th>3</th>\n",
       "      <td>서울</td>\n",
       "      <td>전용면적 85㎡초과 102㎡이하</td>\n",
       "      <td>2015</td>\n",
       "      <td>10</td>\n",
       "      <td>18879.3</td>\n",
       "      <td>85㎡-102㎡</td>\n",
       "    </tr>\n",
       "    <tr>\n",
       "      <th>4</th>\n",
       "      <td>서울</td>\n",
       "      <td>전용면적 102㎡초과</td>\n",
       "      <td>2015</td>\n",
       "      <td>10</td>\n",
       "      <td>19400.7</td>\n",
       "      <td>102㎡-</td>\n",
       "    </tr>\n",
       "    <tr>\n",
       "      <th>...</th>\n",
       "      <td>...</td>\n",
       "      <td>...</td>\n",
       "      <td>...</td>\n",
       "      <td>...</td>\n",
       "      <td>...</td>\n",
       "      <td>...</td>\n",
       "    </tr>\n",
       "    <tr>\n",
       "      <th>4667</th>\n",
       "      <td>경남</td>\n",
       "      <td>전용면적 60㎡초과 85㎡이하</td>\n",
       "      <td>2020</td>\n",
       "      <td>4</td>\n",
       "      <td>10424.7</td>\n",
       "      <td>60㎡-85㎡</td>\n",
       "    </tr>\n",
       "    <tr>\n",
       "      <th>4668</th>\n",
       "      <td>경남</td>\n",
       "      <td>전용면적 85㎡초과 102㎡이하</td>\n",
       "      <td>2020</td>\n",
       "      <td>4</td>\n",
       "      <td>10711.8</td>\n",
       "      <td>85㎡-102㎡</td>\n",
       "    </tr>\n",
       "    <tr>\n",
       "      <th>4670</th>\n",
       "      <td>제주</td>\n",
       "      <td>전체</td>\n",
       "      <td>2020</td>\n",
       "      <td>4</td>\n",
       "      <td>13480.5</td>\n",
       "      <td>전체</td>\n",
       "    </tr>\n",
       "    <tr>\n",
       "      <th>4671</th>\n",
       "      <td>제주</td>\n",
       "      <td>전용면적 60㎡이하</td>\n",
       "      <td>2020</td>\n",
       "      <td>4</td>\n",
       "      <td>13328.7</td>\n",
       "      <td>60㎡</td>\n",
       "    </tr>\n",
       "    <tr>\n",
       "      <th>4672</th>\n",
       "      <td>제주</td>\n",
       "      <td>전용면적 60㎡초과 85㎡이하</td>\n",
       "      <td>2020</td>\n",
       "      <td>4</td>\n",
       "      <td>13500.3</td>\n",
       "      <td>60㎡-85㎡</td>\n",
       "    </tr>\n",
       "  </tbody>\n",
       "</table>\n",
       "<p>4330 rows × 6 columns</p>\n",
       "</div>"
      ],
      "text/plain": [
       "     지역명               규모구분    연도   월   평당분양가격      전용면적\n",
       "0     서울                 전체  2015  10  19275.3        전체\n",
       "1     서울         전용면적 60㎡이하  2015  10  18651.6       60㎡\n",
       "2     서울   전용면적 60㎡초과 85㎡이하  2015  10  19410.6   60㎡-85㎡\n",
       "3     서울  전용면적 85㎡초과 102㎡이하  2015  10  18879.3  85㎡-102㎡\n",
       "4     서울        전용면적 102㎡초과  2015  10  19400.7     102㎡-\n",
       "...   ..                ...   ...  ..      ...       ...\n",
       "4667  경남   전용면적 60㎡초과 85㎡이하  2020   4  10424.7   60㎡-85㎡\n",
       "4668  경남  전용면적 85㎡초과 102㎡이하  2020   4  10711.8  85㎡-102㎡\n",
       "4670  제주                 전체  2020   4  13480.5        전체\n",
       "4671  제주         전용면적 60㎡이하  2020   4  13328.7       60㎡\n",
       "4672  제주   전용면적 60㎡초과 85㎡이하  2020   4  13500.3   60㎡-85㎡\n",
       "\n",
       "[4330 rows x 6 columns]"
      ]
     },
     "execution_count": 86,
     "metadata": {},
     "output_type": "execute_result"
    }
   ],
   "source": [
    "df_last[\"전용면적\"] = df_last[\"규모구분\"].str.replace(\"전용면적\", \"\")\n",
    "df_last[\"전용면적\"] = df_last[\"전용면적\"].str.replace(\"초과\", \"-\")\n",
    "df_last[\"전용면적\"] = df_last[\"전용면적\"].str.replace(\"이하\", \"\")\n",
    "df_last[\"전용면적\"] = df_last[\"전용면적\"].str.replace(\" \", \"\").str.strip()\n",
    "df_last"
   ]
  },
  {
   "cell_type": "markdown",
   "metadata": {},
   "source": [
    "## 연도 열 과  월 열의 내용 합치기"
   ]
  },
  {
   "cell_type": "code",
   "execution_count": 29,
   "metadata": {},
   "outputs": [],
   "source": [
    "# cols = ['연도', '월']\n",
    "# df_last['기간'] = df_last[cols].apply(lambda row: '-'.join(row.values.astype(str)), axis=1)"
   ]
  },
  {
   "cell_type": "code",
   "execution_count": 30,
   "metadata": {
    "scrolled": true
   },
   "outputs": [],
   "source": [
    "df_last = df_last.drop(['연도', '월'], axis=1)"
   ]
  },
  {
   "cell_type": "code",
   "execution_count": 41,
   "metadata": {},
   "outputs": [],
   "source": []
  },
  {
   "cell_type": "code",
   "execution_count": 44,
   "metadata": {
    "scrolled": true
   },
   "outputs": [
    {
     "data": {
      "text/html": [
       "<div>\n",
       "<style scoped>\n",
       "    .dataframe tbody tr th:only-of-type {\n",
       "        vertical-align: middle;\n",
       "    }\n",
       "\n",
       "    .dataframe tbody tr th {\n",
       "        vertical-align: top;\n",
       "    }\n",
       "\n",
       "    .dataframe thead th {\n",
       "        text-align: right;\n",
       "    }\n",
       "</style>\n",
       "<table border=\"1\" class=\"dataframe\">\n",
       "  <thead>\n",
       "    <tr style=\"text-align: right;\">\n",
       "      <th></th>\n",
       "      <th>지역명</th>\n",
       "      <th>기간</th>\n",
       "      <th>평당분양가격</th>\n",
       "    </tr>\n",
       "  </thead>\n",
       "  <tbody>\n",
       "    <tr>\n",
       "      <th>0</th>\n",
       "      <td>서울</td>\n",
       "      <td>2015-10</td>\n",
       "      <td>19275.3</td>\n",
       "    </tr>\n",
       "  </tbody>\n",
       "</table>\n",
       "</div>"
      ],
      "text/plain": [
       "  지역명       기간   평당분양가격\n",
       "0  서울  2015-10  19275.3"
      ]
     },
     "execution_count": 44,
     "metadata": {},
     "output_type": "execute_result"
    }
   ],
   "source": []
  },
  {
   "cell_type": "code",
   "execution_count": 45,
   "metadata": {},
   "outputs": [
    {
     "data": {
      "text/html": [
       "<div>\n",
       "<style scoped>\n",
       "    .dataframe tbody tr th:only-of-type {\n",
       "        vertical-align: middle;\n",
       "    }\n",
       "\n",
       "    .dataframe tbody tr th {\n",
       "        vertical-align: top;\n",
       "    }\n",
       "\n",
       "    .dataframe thead th {\n",
       "        text-align: right;\n",
       "    }\n",
       "</style>\n",
       "<table border=\"1\" class=\"dataframe\">\n",
       "  <thead>\n",
       "    <tr style=\"text-align: right;\">\n",
       "      <th></th>\n",
       "      <th>지역명</th>\n",
       "      <th>기간</th>\n",
       "      <th>평당분양가격</th>\n",
       "      <th>전용면적</th>\n",
       "    </tr>\n",
       "  </thead>\n",
       "  <tbody>\n",
       "    <tr>\n",
       "      <th>1</th>\n",
       "      <td>서울</td>\n",
       "      <td>2015-10</td>\n",
       "      <td>18651.6</td>\n",
       "      <td>60㎡</td>\n",
       "    </tr>\n",
       "  </tbody>\n",
       "</table>\n",
       "</div>"
      ],
      "text/plain": [
       "  지역명       기간   평당분양가격 전용면적\n",
       "1  서울  2015-10  18651.6  60㎡"
      ]
     },
     "execution_count": 45,
     "metadata": {},
     "output_type": "execute_result"
    }
   ],
   "source": [
    "df_ntotal.head(1)"
   ]
  },
  {
   "cell_type": "markdown",
   "metadata": {},
   "source": [
    "# 데이터 합치기"
   ]
  },
  {
   "cell_type": "markdown",
   "metadata": {},
   "source": [
    "## concat 과거 분양가 + 최근 분양가"
   ]
  },
  {
   "cell_type": "code",
   "execution_count": 73,
   "metadata": {},
   "outputs": [
    {
     "data": {
      "text/html": [
       "<div>\n",
       "<style scoped>\n",
       "    .dataframe tbody tr th:only-of-type {\n",
       "        vertical-align: middle;\n",
       "    }\n",
       "\n",
       "    .dataframe tbody tr th {\n",
       "        vertical-align: top;\n",
       "    }\n",
       "\n",
       "    .dataframe thead th {\n",
       "        text-align: right;\n",
       "    }\n",
       "</style>\n",
       "<table border=\"1\" class=\"dataframe\">\n",
       "  <thead>\n",
       "    <tr style=\"text-align: right;\">\n",
       "      <th></th>\n",
       "      <th>기간</th>\n",
       "      <th>평당분양가격</th>\n",
       "      <th>지역명</th>\n",
       "    </tr>\n",
       "  </thead>\n",
       "  <tbody>\n",
       "    <tr>\n",
       "      <th>0</th>\n",
       "      <td>2013-12</td>\n",
       "      <td>18189.0</td>\n",
       "      <td>서울</td>\n",
       "    </tr>\n",
       "    <tr>\n",
       "      <th>1</th>\n",
       "      <td>2013-12</td>\n",
       "      <td>8111.0</td>\n",
       "      <td>부산</td>\n",
       "    </tr>\n",
       "    <tr>\n",
       "      <th>2</th>\n",
       "      <td>2013-12</td>\n",
       "      <td>8080.0</td>\n",
       "      <td>대구</td>\n",
       "    </tr>\n",
       "    <tr>\n",
       "      <th>3</th>\n",
       "      <td>2013-12</td>\n",
       "      <td>10204.0</td>\n",
       "      <td>인천</td>\n",
       "    </tr>\n",
       "    <tr>\n",
       "      <th>4</th>\n",
       "      <td>2013-12</td>\n",
       "      <td>6098.0</td>\n",
       "      <td>광주</td>\n",
       "    </tr>\n",
       "    <tr>\n",
       "      <th>...</th>\n",
       "      <td>...</td>\n",
       "      <td>...</td>\n",
       "      <td>...</td>\n",
       "    </tr>\n",
       "    <tr>\n",
       "      <th>4650</th>\n",
       "      <td>2020-4</td>\n",
       "      <td>8259.9</td>\n",
       "      <td>전북</td>\n",
       "    </tr>\n",
       "    <tr>\n",
       "      <th>4655</th>\n",
       "      <td>2020-4</td>\n",
       "      <td>8550.3</td>\n",
       "      <td>전남</td>\n",
       "    </tr>\n",
       "    <tr>\n",
       "      <th>4660</th>\n",
       "      <td>2020-4</td>\n",
       "      <td>8807.7</td>\n",
       "      <td>경북</td>\n",
       "    </tr>\n",
       "    <tr>\n",
       "      <th>4665</th>\n",
       "      <td>2020-4</td>\n",
       "      <td>10404.9</td>\n",
       "      <td>경남</td>\n",
       "    </tr>\n",
       "    <tr>\n",
       "      <th>4670</th>\n",
       "      <td>2020-4</td>\n",
       "      <td>13480.5</td>\n",
       "      <td>제주</td>\n",
       "    </tr>\n",
       "  </tbody>\n",
       "</table>\n",
       "<p>1282 rows × 3 columns</p>\n",
       "</div>"
      ],
      "text/plain": [
       "           기간   평당분양가격 지역명\n",
       "0     2013-12  18189.0  서울\n",
       "1     2013-12   8111.0  부산\n",
       "2     2013-12   8080.0  대구\n",
       "3     2013-12  10204.0  인천\n",
       "4     2013-12   6098.0  광주\n",
       "...       ...      ...  ..\n",
       "4650   2020-4   8259.9  전북\n",
       "4655   2020-4   8550.3  전남\n",
       "4660   2020-4   8807.7  경북\n",
       "4665   2020-4  10404.9  경남\n",
       "4670   2020-4  13480.5  제주\n",
       "\n",
       "[1282 rows x 3 columns]"
      ]
     },
     "execution_count": 73,
     "metadata": {},
     "output_type": "execute_result"
    }
   ],
   "source": [
    "df_concat = pd.concat([df_first, df_total])\n",
    "df_concat"
   ]
  },
  {
   "cell_type": "code",
   "execution_count": 77,
   "metadata": {
    "scrolled": false
   },
   "outputs": [
    {
     "data": {
      "text/plain": [
       "<AxesSubplot:xlabel='기간'>"
      ]
     },
     "execution_count": 77,
     "metadata": {},
     "output_type": "execute_result"
    },
    {
     "data": {
      "image/png": "[encoded data removed]",
      "text/plain": [
       "<Figure size 1440x720 with 1 Axes>"
      ]
     },
     "metadata": {
      "image/png": {
       "height": 616,
       "width": 1164
      },
      "needs_background": "light"
     },
     "output_type": "display_data"
    }
   ],
   "source": [
    "g = df_concat.groupby(['기간'])['평당분양가격'].mean()\n",
    "g.plot.bar(figsize = (20,10))"
   ]
  },
  {
   "cell_type": "code",
   "execution_count": 48,
   "metadata": {
    "scrolled": true
   },
   "outputs": [
    {
     "data": {
      "text/html": [
       "<div>\n",
       "<style scoped>\n",
       "    .dataframe tbody tr th:only-of-type {\n",
       "        vertical-align: middle;\n",
       "    }\n",
       "\n",
       "    .dataframe tbody tr th {\n",
       "        vertical-align: top;\n",
       "    }\n",
       "\n",
       "    .dataframe thead th {\n",
       "        text-align: right;\n",
       "    }\n",
       "</style>\n",
       "<table border=\"1\" class=\"dataframe\">\n",
       "  <thead>\n",
       "    <tr style=\"text-align: right;\">\n",
       "      <th></th>\n",
       "      <th>기간</th>\n",
       "      <th>평당분양가격</th>\n",
       "      <th>지역명</th>\n",
       "    </tr>\n",
       "  </thead>\n",
       "  <tbody>\n",
       "    <tr>\n",
       "      <th>0</th>\n",
       "      <td>2013-12</td>\n",
       "      <td>18189.0</td>\n",
       "      <td>서울</td>\n",
       "    </tr>\n",
       "    <tr>\n",
       "      <th>1</th>\n",
       "      <td>2013-12</td>\n",
       "      <td>8111.0</td>\n",
       "      <td>부산</td>\n",
       "    </tr>\n",
       "    <tr>\n",
       "      <th>2</th>\n",
       "      <td>2013-12</td>\n",
       "      <td>8080.0</td>\n",
       "      <td>대구</td>\n",
       "    </tr>\n",
       "    <tr>\n",
       "      <th>3</th>\n",
       "      <td>2013-12</td>\n",
       "      <td>10204.0</td>\n",
       "      <td>인천</td>\n",
       "    </tr>\n",
       "    <tr>\n",
       "      <th>4</th>\n",
       "      <td>2013-12</td>\n",
       "      <td>6098.0</td>\n",
       "      <td>광주</td>\n",
       "    </tr>\n",
       "    <tr>\n",
       "      <th>...</th>\n",
       "      <td>...</td>\n",
       "      <td>...</td>\n",
       "      <td>...</td>\n",
       "    </tr>\n",
       "    <tr>\n",
       "      <th>4650</th>\n",
       "      <td>2020-4</td>\n",
       "      <td>8259.9</td>\n",
       "      <td>전북</td>\n",
       "    </tr>\n",
       "    <tr>\n",
       "      <th>4655</th>\n",
       "      <td>2020-4</td>\n",
       "      <td>8550.3</td>\n",
       "      <td>전남</td>\n",
       "    </tr>\n",
       "    <tr>\n",
       "      <th>4660</th>\n",
       "      <td>2020-4</td>\n",
       "      <td>8807.7</td>\n",
       "      <td>경북</td>\n",
       "    </tr>\n",
       "    <tr>\n",
       "      <th>4665</th>\n",
       "      <td>2020-4</td>\n",
       "      <td>10404.9</td>\n",
       "      <td>경남</td>\n",
       "    </tr>\n",
       "    <tr>\n",
       "      <th>4670</th>\n",
       "      <td>2020-4</td>\n",
       "      <td>13480.5</td>\n",
       "      <td>제주</td>\n",
       "    </tr>\n",
       "  </tbody>\n",
       "</table>\n",
       "<p>1282 rows × 3 columns</p>\n",
       "</div>"
      ],
      "text/plain": [
       "           기간   평당분양가격 지역명\n",
       "0     2013-12  18189.0  서울\n",
       "1     2013-12   8111.0  부산\n",
       "2     2013-12   8080.0  대구\n",
       "3     2013-12  10204.0  인천\n",
       "4     2013-12   6098.0  광주\n",
       "...       ...      ...  ..\n",
       "4650   2020-4   8259.9  전북\n",
       "4655   2020-4   8550.3  전남\n",
       "4660   2020-4   8807.7  경북\n",
       "4665   2020-4  10404.9  경남\n",
       "4670   2020-4  13480.5  제주\n",
       "\n",
       "[1282 rows x 3 columns]"
      ]
     },
     "execution_count": 48,
     "metadata": {},
     "output_type": "execute_result"
    }
   ],
   "source": [
    "df_concat"
   ]
  },
  {
   "cell_type": "markdown",
   "metadata": {},
   "source": [
    "# 시각화"
   ]
  },
  {
   "cell_type": "markdown",
   "metadata": {},
   "source": [
    "## matplotlib"
   ]
  },
  {
   "cell_type": "markdown",
   "metadata": {},
   "source": [
    "## seaborn"
   ]
  },
  {
   "cell_type": "code",
   "execution_count": null,
   "metadata": {},
   "outputs": [],
   "source": []
  }
 ],
 "metadata": {
  "kernelspec": {
   "display_name": "Python 3",
   "language": "python",
   "name": "python3"
  },
  "language_info": {
   "codemirror_mode": {
    "name": "ipython",
    "version": 3
   },
   "file_extension": ".py",
   "mimetype": "text/x-python",
   "name": "python",
   "nbconvert_exporter": "python",
   "pygments_lexer": "ipython3",
   "version": "3.8.5"
  },
  "toc": {
   "base_numbering": 1,
   "nav_menu": {},
   "number_sections": true,
   "sideBar": true,
   "skip_h1_title": false,
   "title_cell": "Table of Contents",
   "title_sidebar": "Contents",
   "toc_cell": false,
   "toc_position": {
    "height": "calc(100% - 180px)",
    "left": "10px",
    "top": "150px",
    "width": "167.262px"
   },
   "toc_section_display": true,
   "toc_window_display": true
  },
  "varInspector": {
   "cols": {
    "lenName": 16,
    "lenType": 16,
    "lenVar": 40
   },
   "kernels_config": {
    "python": {
     "delete_cmd_postfix": "",
     "delete_cmd_prefix": "del ",
     "library": "var_list.py",
     "varRefreshCmd": "print(var_dic_list())"
    },
    "r": {
     "delete_cmd_postfix": ") ",
     "delete_cmd_prefix": "rm(",
     "library": "var_list.r",
     "varRefreshCmd": "cat(var_dic_list()) "
    }
   },
   "types_to_exclude": [
    "module",
    "function",
    "builtin_function_or_method",
    "instance",
    "_Feature"
   ],
   "window_display": false
  }
 },
 "nbformat": 4,
 "nbformat_minor": 4
}
