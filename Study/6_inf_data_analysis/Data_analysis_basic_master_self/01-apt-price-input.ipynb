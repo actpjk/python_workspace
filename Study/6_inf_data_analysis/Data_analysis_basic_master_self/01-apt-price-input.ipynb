{
 "cells": [
  {
   "cell_type": "markdown",
   "metadata": {
    "colab_type": "text",
    "id": "KjUsJlrmJZUh"
   },
   "source": [
    "[![Open In Colab](https://colab.research.google.com/assets/colab-badge.svg)](https://bit.ly/open-data-01-apt-price-input)\n",
    "\n",
    "# 전국 신규 민간 아파트 분양가격 동향\n",
    "\n",
    "2013년부터 최근까지 부동산 가격 변동 추세가 아파트 분양가에도 반영될까요? 공공데이터 포털에 있는 데이터를 Pandas 의 melt, concat, pivot, transpose 와 같은 reshape 기능을 활용해 분석해 봅니다. 그리고 groupby, pivot_table, info, describe, value_counts 등을 통한 데이터 요약과 분석을 해봅니다. 이를 통해 전혀 다른 형태의 두 데이터를 가져와 정제하고 병합하는 과정을 다루는 방법을 알게 됩니다. 전처리 한 결과에 대해 수치형, 범주형 데이터의 차이를 이해하고 다양한 그래프로 시각화를 할 수 있게 됩니다.\n",
    "\n",
    "\n",
    "## 다루는 내용\n",
    "* 공공데이터를 활용해 전혀 다른 두 개의 데이터를 가져와서 전처리 하고 병합하기\n",
    "* 수치형 데이터와 범주형 데이터를 바라보는 시각을 기르기\n",
    "* 데이터의 형식에 따른 다양한 시각화 방법 이해하기\n",
    "\n",
    "## 실습\n",
    "* 공공데이터 다운로드 후 주피터 노트북으로 로드하기\n",
    "* 판다스를 통해 데이터를 요약하고 분석하기\n",
    "* 데이터 전처리와 병합하기\n",
    "* 수치형 데이터와 범주형 데이터 다루기\n",
    "* 막대그래프(bar plot), 선그래프(line plot), 산포도(scatter plot), 상관관계(lm plot), 히트맵, 상자수염그림, swarm plot, 도수분포표, 히스토그램(distplot) 실습하기\n",
    "\n",
    "## 데이터셋\n",
    "* 다운로드 위치 : https://www.data.go.kr/dataset/3035522/fileData.do\n",
    "\n",
    "### 전국 평균 분양가격(2013년 9월부터 2015년 8월까지)\n",
    "* 전국 공동주택의 3.3제곱미터당 평균분양가격 데이터를 제공\n",
    "\n",
    "###  주택도시보증공사_전국 평균 분양가격(2019년 12월)\n",
    "* 전국 공동주택의 연도별, 월별, 전용면적별 제곱미터당 평균분양가격 데이터를 제공\n",
    "* 지역별 평균값은 단순 산술평균값이 아닌 가중평균값임"
   ]
  },
  {
   "cell_type": "code",
   "execution_count": null,
   "metadata": {},
   "outputs": [],
   "source": []
  },
  {
   "cell_type": "code",
   "execution_count": 1,
   "metadata": {
    "colab": {},
    "colab_type": "code",
    "id": "zpY51yLhJZUj"
   },
   "outputs": [],
   "source": [
    "# 파이썬에서 쓸 수 있는 엑셀과도 유사한 판다스 라이브러리를 불러옵니다.\n",
    "import pandas as pd"
   ]
  },
  {
   "cell_type": "markdown",
   "metadata": {
    "colab_type": "text",
    "id": "bWq3K5gGJZUo"
   },
   "source": [
    "## 데이터 로드\n",
    "### 최근 파일 로드\n",
    "공공데이터 포털에서 \"주택도시보증공사_전국 평균 분양가격\"파일을 다운로드 받아 불러옵니다.\n",
    "이 때, 인코딩을 설정을 해주어야 한글이 깨지지 않습니다.\n",
    "보통 엑셀로 저장된 한글의 인코딩은 cp949 혹은 euc-kr로 되어 있습니다.\n",
    "df_last 라는 변수에 최근 분양가 파일을 다운로드 받아 로드합니다.\n",
    "\n",
    "* 한글인코딩 : [‘설믜를 설믜라 못 부르는’ 김설믜씨 “제 이름을 지켜주세요” : 사회일반 : 사회 : 뉴스 : 한겨레](http://www.hani.co.kr/arti/society/society_general/864914.html)\n",
    "\n",
    "데이터를 로드한 뒤 shape를 통해 행과 열의 갯수를 출력합니다."
   ]
  },
  {
   "cell_type": "code",
   "execution_count": 2,
   "metadata": {
    "colab": {},
    "colab_type": "code",
    "id": "QhUa-oftJZUp"
   },
   "outputs": [
    {
     "data": {
      "text/plain": [
       "(4335, 5)"
      ]
     },
     "execution_count": 2,
     "metadata": {},
     "output_type": "execute_result"
    }
   ],
   "source": [
    "# 최근 분양가 파일을 로드해서 df_last 라는 변수에 담습니다.\n",
    "# 파일로드시 OSError가 발생한다면, engine=\"python\"을 추가해 보세요.\n",
    "# 윈도우에서 파일탐색기의 경로를 복사해서 붙여넣기 했는데도 파일을 불러올 수 없다면\n",
    "# 아마도 경로에 있는 ₩ 역슬래시 표시를 못 읽어왔을 가능성이 큽니다. \n",
    "# r\"경로명\" 으로 적어주세요.\n",
    "# r\"경로명\"으로 적게 되면 경로를 문자 그대로(raw) 읽으라는 의미입니다.\n",
    "df_last = pd.read_csv(r'C:\\python_workspace\\Jupiter\\data\\주택도시보증공사_전국 평균 분양가격(2019년 12월).csv', encoding = 'cp949')\n",
    "df_last.shape"
   ]
  },
  {
   "cell_type": "code",
   "execution_count": 3,
   "metadata": {
    "colab": {},
    "colab_type": "code",
    "id": "luD_xdGcJZUr",
    "scrolled": true
   },
   "outputs": [
    {
     "data": {
      "text/html": [
       "<div>\n",
       "<style scoped>\n",
       "    .dataframe tbody tr th:only-of-type {\n",
       "        vertical-align: middle;\n",
       "    }\n",
       "\n",
       "    .dataframe tbody tr th {\n",
       "        vertical-align: top;\n",
       "    }\n",
       "\n",
       "    .dataframe thead th {\n",
       "        text-align: right;\n",
       "    }\n",
       "</style>\n",
       "<table border=\"1\" class=\"dataframe\">\n",
       "  <thead>\n",
       "    <tr style=\"text-align: right;\">\n",
       "      <th></th>\n",
       "      <th>지역명</th>\n",
       "      <th>규모구분</th>\n",
       "      <th>연도</th>\n",
       "      <th>월</th>\n",
       "      <th>분양가격(㎡)</th>\n",
       "    </tr>\n",
       "  </thead>\n",
       "  <tbody>\n",
       "    <tr>\n",
       "      <th>0</th>\n",
       "      <td>서울</td>\n",
       "      <td>전체</td>\n",
       "      <td>2015</td>\n",
       "      <td>10</td>\n",
       "      <td>5841</td>\n",
       "    </tr>\n",
       "    <tr>\n",
       "      <th>1</th>\n",
       "      <td>서울</td>\n",
       "      <td>전용면적 60㎡이하</td>\n",
       "      <td>2015</td>\n",
       "      <td>10</td>\n",
       "      <td>5652</td>\n",
       "    </tr>\n",
       "    <tr>\n",
       "      <th>2</th>\n",
       "      <td>서울</td>\n",
       "      <td>전용면적 60㎡초과 85㎡이하</td>\n",
       "      <td>2015</td>\n",
       "      <td>10</td>\n",
       "      <td>5882</td>\n",
       "    </tr>\n",
       "    <tr>\n",
       "      <th>3</th>\n",
       "      <td>서울</td>\n",
       "      <td>전용면적 85㎡초과 102㎡이하</td>\n",
       "      <td>2015</td>\n",
       "      <td>10</td>\n",
       "      <td>5721</td>\n",
       "    </tr>\n",
       "    <tr>\n",
       "      <th>4</th>\n",
       "      <td>서울</td>\n",
       "      <td>전용면적 102㎡초과</td>\n",
       "      <td>2015</td>\n",
       "      <td>10</td>\n",
       "      <td>5879</td>\n",
       "    </tr>\n",
       "    <tr>\n",
       "      <th>5</th>\n",
       "      <td>인천</td>\n",
       "      <td>전체</td>\n",
       "      <td>2015</td>\n",
       "      <td>10</td>\n",
       "      <td>3163</td>\n",
       "    </tr>\n",
       "    <tr>\n",
       "      <th>6</th>\n",
       "      <td>인천</td>\n",
       "      <td>전용면적 60㎡이하</td>\n",
       "      <td>2015</td>\n",
       "      <td>10</td>\n",
       "      <td>3488</td>\n",
       "    </tr>\n",
       "    <tr>\n",
       "      <th>7</th>\n",
       "      <td>인천</td>\n",
       "      <td>전용면적 60㎡초과 85㎡이하</td>\n",
       "      <td>2015</td>\n",
       "      <td>10</td>\n",
       "      <td>3119</td>\n",
       "    </tr>\n",
       "    <tr>\n",
       "      <th>8</th>\n",
       "      <td>인천</td>\n",
       "      <td>전용면적 85㎡초과 102㎡이하</td>\n",
       "      <td>2015</td>\n",
       "      <td>10</td>\n",
       "      <td>3545</td>\n",
       "    </tr>\n",
       "    <tr>\n",
       "      <th>9</th>\n",
       "      <td>인천</td>\n",
       "      <td>전용면적 102㎡초과</td>\n",
       "      <td>2015</td>\n",
       "      <td>10</td>\n",
       "      <td>3408</td>\n",
       "    </tr>\n",
       "  </tbody>\n",
       "</table>\n",
       "</div>"
      ],
      "text/plain": [
       "  지역명               규모구분    연도   월 분양가격(㎡)\n",
       "0  서울                 전체  2015  10    5841\n",
       "1  서울         전용면적 60㎡이하  2015  10    5652\n",
       "2  서울   전용면적 60㎡초과 85㎡이하  2015  10    5882\n",
       "3  서울  전용면적 85㎡초과 102㎡이하  2015  10    5721\n",
       "4  서울        전용면적 102㎡초과  2015  10    5879\n",
       "5  인천                 전체  2015  10    3163\n",
       "6  인천         전용면적 60㎡이하  2015  10    3488\n",
       "7  인천   전용면적 60㎡초과 85㎡이하  2015  10    3119\n",
       "8  인천  전용면적 85㎡초과 102㎡이하  2015  10    3545\n",
       "9  인천        전용면적 102㎡초과  2015  10    3408"
      ]
     },
     "execution_count": 3,
     "metadata": {},
     "output_type": "execute_result"
    }
   ],
   "source": [
    "# head 로 파일을 미리보기 합니다.\n",
    "# 메소드 뒤에 ?를 하면 자기호출 이라는 기능을 통해 메소드의 docstring을 출력합니다.\n",
    "# 메소드의 ()괄호 안에서 Shift + Tab키를 눌러도 같은 문서를 열어볼 수 있습니다.\n",
    "# Shift + Tab + Tab 을 하게 되면 팝업창을 키울 수 있습니다.\n",
    "df_last.head(10)"
   ]
  },
  {
   "cell_type": "code",
   "execution_count": 4,
   "metadata": {
    "colab": {},
    "colab_type": "code",
    "id": "odvB6ab7JZUu"
   },
   "outputs": [
    {
     "data": {
      "text/html": [
       "<div>\n",
       "<style scoped>\n",
       "    .dataframe tbody tr th:only-of-type {\n",
       "        vertical-align: middle;\n",
       "    }\n",
       "\n",
       "    .dataframe tbody tr th {\n",
       "        vertical-align: top;\n",
       "    }\n",
       "\n",
       "    .dataframe thead th {\n",
       "        text-align: right;\n",
       "    }\n",
       "</style>\n",
       "<table border=\"1\" class=\"dataframe\">\n",
       "  <thead>\n",
       "    <tr style=\"text-align: right;\">\n",
       "      <th></th>\n",
       "      <th>지역명</th>\n",
       "      <th>규모구분</th>\n",
       "      <th>연도</th>\n",
       "      <th>월</th>\n",
       "      <th>분양가격(㎡)</th>\n",
       "    </tr>\n",
       "  </thead>\n",
       "  <tbody>\n",
       "    <tr>\n",
       "      <th>4330</th>\n",
       "      <td>제주</td>\n",
       "      <td>전체</td>\n",
       "      <td>2019</td>\n",
       "      <td>12</td>\n",
       "      <td>3882</td>\n",
       "    </tr>\n",
       "    <tr>\n",
       "      <th>4331</th>\n",
       "      <td>제주</td>\n",
       "      <td>전용면적 60㎡이하</td>\n",
       "      <td>2019</td>\n",
       "      <td>12</td>\n",
       "      <td>NaN</td>\n",
       "    </tr>\n",
       "    <tr>\n",
       "      <th>4332</th>\n",
       "      <td>제주</td>\n",
       "      <td>전용면적 60㎡초과 85㎡이하</td>\n",
       "      <td>2019</td>\n",
       "      <td>12</td>\n",
       "      <td>3898</td>\n",
       "    </tr>\n",
       "    <tr>\n",
       "      <th>4333</th>\n",
       "      <td>제주</td>\n",
       "      <td>전용면적 85㎡초과 102㎡이하</td>\n",
       "      <td>2019</td>\n",
       "      <td>12</td>\n",
       "      <td>NaN</td>\n",
       "    </tr>\n",
       "    <tr>\n",
       "      <th>4334</th>\n",
       "      <td>제주</td>\n",
       "      <td>전용면적 102㎡초과</td>\n",
       "      <td>2019</td>\n",
       "      <td>12</td>\n",
       "      <td>3601</td>\n",
       "    </tr>\n",
       "  </tbody>\n",
       "</table>\n",
       "</div>"
      ],
      "text/plain": [
       "     지역명               규모구분    연도   월 분양가격(㎡)\n",
       "4330  제주                 전체  2019  12    3882\n",
       "4331  제주         전용면적 60㎡이하  2019  12     NaN\n",
       "4332  제주   전용면적 60㎡초과 85㎡이하  2019  12    3898\n",
       "4333  제주  전용면적 85㎡초과 102㎡이하  2019  12     NaN\n",
       "4334  제주        전용면적 102㎡초과  2019  12    3601"
      ]
     },
     "execution_count": 4,
     "metadata": {},
     "output_type": "execute_result"
    }
   ],
   "source": [
    "# tail 로도 미리보기를 합니다.\n",
    "df_last.tail()"
   ]
  },
  {
   "cell_type": "markdown",
   "metadata": {
    "colab_type": "text",
    "id": "ruVmuOlXJZUw"
   },
   "source": [
    "### 2015년 부터 최근까지의 데이터 로드\n",
    "전국 평균 분양가격(2013년 9월부터 2015년 8월까지) 파일을 불러옵니다.\n",
    "df_first 라는 변수에 담고 shape로 행과 열의 갯수를 출력합니다."
   ]
  },
  {
   "cell_type": "code",
   "execution_count": 5,
   "metadata": {},
   "outputs": [],
   "source": [
    "# 해당되는 폴더 혹은 경로의 파일 목록을 출력해 줍니다.\n"
   ]
  },
  {
   "cell_type": "code",
   "execution_count": 6,
   "metadata": {
    "colab": {},
    "colab_type": "code",
    "id": "vI9ANsK7JZUx",
    "scrolled": true
   },
   "outputs": [
    {
     "data": {
      "text/plain": [
       "(17, 22)"
      ]
     },
     "execution_count": 6,
     "metadata": {},
     "output_type": "execute_result"
    }
   ],
   "source": [
    "# df_first 에 담고 shape로 행과 열의 수를 출력해 봅니다.\n",
    "df_first = pd.read_csv(r'C:\\python_workspace\\Jupiter\\data\\전국 평균 분양가격(2013년 9월부터 2015년 8월까지).csv',encoding='cp949')\n",
    "df_first.shape"
   ]
  },
  {
   "cell_type": "code",
   "execution_count": 7,
   "metadata": {
    "colab": {},
    "colab_type": "code",
    "id": "NrnsHAX9JZUz"
   },
   "outputs": [
    {
     "data": {
      "text/html": [
       "<div>\n",
       "<style scoped>\n",
       "    .dataframe tbody tr th:only-of-type {\n",
       "        vertical-align: middle;\n",
       "    }\n",
       "\n",
       "    .dataframe tbody tr th {\n",
       "        vertical-align: top;\n",
       "    }\n",
       "\n",
       "    .dataframe thead th {\n",
       "        text-align: right;\n",
       "    }\n",
       "</style>\n",
       "<table border=\"1\" class=\"dataframe\">\n",
       "  <thead>\n",
       "    <tr style=\"text-align: right;\">\n",
       "      <th></th>\n",
       "      <th>지역</th>\n",
       "      <th>2013년12월</th>\n",
       "      <th>2014년1월</th>\n",
       "      <th>2014년2월</th>\n",
       "      <th>2014년3월</th>\n",
       "      <th>2014년4월</th>\n",
       "      <th>2014년5월</th>\n",
       "      <th>2014년6월</th>\n",
       "      <th>2014년7월</th>\n",
       "      <th>2014년8월</th>\n",
       "      <th>...</th>\n",
       "      <th>2014년11월</th>\n",
       "      <th>2014년12월</th>\n",
       "      <th>2015년1월</th>\n",
       "      <th>2015년2월</th>\n",
       "      <th>2015년3월</th>\n",
       "      <th>2015년4월</th>\n",
       "      <th>2015년5월</th>\n",
       "      <th>2015년6월</th>\n",
       "      <th>2015년7월</th>\n",
       "      <th>2015년8월</th>\n",
       "    </tr>\n",
       "  </thead>\n",
       "  <tbody>\n",
       "    <tr>\n",
       "      <th>0</th>\n",
       "      <td>서울</td>\n",
       "      <td>18189</td>\n",
       "      <td>17925</td>\n",
       "      <td>17925</td>\n",
       "      <td>18016</td>\n",
       "      <td>18098</td>\n",
       "      <td>19446</td>\n",
       "      <td>18867</td>\n",
       "      <td>18742</td>\n",
       "      <td>19274</td>\n",
       "      <td>...</td>\n",
       "      <td>20242</td>\n",
       "      <td>20269</td>\n",
       "      <td>20670</td>\n",
       "      <td>20670</td>\n",
       "      <td>19415</td>\n",
       "      <td>18842</td>\n",
       "      <td>18367</td>\n",
       "      <td>18374</td>\n",
       "      <td>18152</td>\n",
       "      <td>18443</td>\n",
       "    </tr>\n",
       "    <tr>\n",
       "      <th>1</th>\n",
       "      <td>부산</td>\n",
       "      <td>8111</td>\n",
       "      <td>8111</td>\n",
       "      <td>9078</td>\n",
       "      <td>8965</td>\n",
       "      <td>9402</td>\n",
       "      <td>9501</td>\n",
       "      <td>9453</td>\n",
       "      <td>9457</td>\n",
       "      <td>9411</td>\n",
       "      <td>...</td>\n",
       "      <td>9208</td>\n",
       "      <td>9208</td>\n",
       "      <td>9204</td>\n",
       "      <td>9235</td>\n",
       "      <td>9279</td>\n",
       "      <td>9327</td>\n",
       "      <td>9345</td>\n",
       "      <td>9515</td>\n",
       "      <td>9559</td>\n",
       "      <td>9581</td>\n",
       "    </tr>\n",
       "    <tr>\n",
       "      <th>2</th>\n",
       "      <td>대구</td>\n",
       "      <td>8080</td>\n",
       "      <td>8080</td>\n",
       "      <td>8077</td>\n",
       "      <td>8101</td>\n",
       "      <td>8267</td>\n",
       "      <td>8274</td>\n",
       "      <td>8360</td>\n",
       "      <td>8360</td>\n",
       "      <td>8370</td>\n",
       "      <td>...</td>\n",
       "      <td>8439</td>\n",
       "      <td>8253</td>\n",
       "      <td>8327</td>\n",
       "      <td>8416</td>\n",
       "      <td>8441</td>\n",
       "      <td>8446</td>\n",
       "      <td>8568</td>\n",
       "      <td>8542</td>\n",
       "      <td>8542</td>\n",
       "      <td>8795</td>\n",
       "    </tr>\n",
       "    <tr>\n",
       "      <th>3</th>\n",
       "      <td>인천</td>\n",
       "      <td>10204</td>\n",
       "      <td>10204</td>\n",
       "      <td>10408</td>\n",
       "      <td>10408</td>\n",
       "      <td>10000</td>\n",
       "      <td>9844</td>\n",
       "      <td>10058</td>\n",
       "      <td>9974</td>\n",
       "      <td>9973</td>\n",
       "      <td>...</td>\n",
       "      <td>10020</td>\n",
       "      <td>10020</td>\n",
       "      <td>10017</td>\n",
       "      <td>9876</td>\n",
       "      <td>9876</td>\n",
       "      <td>9938</td>\n",
       "      <td>10551</td>\n",
       "      <td>10443</td>\n",
       "      <td>10443</td>\n",
       "      <td>10449</td>\n",
       "    </tr>\n",
       "    <tr>\n",
       "      <th>4</th>\n",
       "      <td>광주</td>\n",
       "      <td>6098</td>\n",
       "      <td>7326</td>\n",
       "      <td>7611</td>\n",
       "      <td>7346</td>\n",
       "      <td>7346</td>\n",
       "      <td>7523</td>\n",
       "      <td>7659</td>\n",
       "      <td>7612</td>\n",
       "      <td>7622</td>\n",
       "      <td>...</td>\n",
       "      <td>7752</td>\n",
       "      <td>7748</td>\n",
       "      <td>7752</td>\n",
       "      <td>7756</td>\n",
       "      <td>7861</td>\n",
       "      <td>7914</td>\n",
       "      <td>7877</td>\n",
       "      <td>7881</td>\n",
       "      <td>8089</td>\n",
       "      <td>8231</td>\n",
       "    </tr>\n",
       "  </tbody>\n",
       "</table>\n",
       "<p>5 rows × 22 columns</p>\n",
       "</div>"
      ],
      "text/plain": [
       "   지역  2013년12월  2014년1월  2014년2월  2014년3월  2014년4월  2014년5월  2014년6월  \\\n",
       "0  서울     18189    17925    17925    18016    18098    19446    18867   \n",
       "1  부산      8111     8111     9078     8965     9402     9501     9453   \n",
       "2  대구      8080     8080     8077     8101     8267     8274     8360   \n",
       "3  인천     10204    10204    10408    10408    10000     9844    10058   \n",
       "4  광주      6098     7326     7611     7346     7346     7523     7659   \n",
       "\n",
       "   2014년7월  2014년8월  ...  2014년11월  2014년12월  2015년1월  2015년2월  2015년3월  \\\n",
       "0    18742    19274  ...     20242     20269    20670    20670    19415   \n",
       "1     9457     9411  ...      9208      9208     9204     9235     9279   \n",
       "2     8360     8370  ...      8439      8253     8327     8416     8441   \n",
       "3     9974     9973  ...     10020     10020    10017     9876     9876   \n",
       "4     7612     7622  ...      7752      7748     7752     7756     7861   \n",
       "\n",
       "   2015년4월  2015년5월  2015년6월  2015년7월  2015년8월  \n",
       "0    18842    18367    18374    18152    18443  \n",
       "1     9327     9345     9515     9559     9581  \n",
       "2     8446     8568     8542     8542     8795  \n",
       "3     9938    10551    10443    10443    10449  \n",
       "4     7914     7877     7881     8089     8231  \n",
       "\n",
       "[5 rows x 22 columns]"
      ]
     },
     "execution_count": 7,
     "metadata": {},
     "output_type": "execute_result"
    }
   ],
   "source": [
    "# df_first 변수에 담긴 데이터프레임을 head로 미리보기 합니다.\n",
    "df_first.head()"
   ]
  },
  {
   "cell_type": "code",
   "execution_count": 8,
   "metadata": {
    "colab": {},
    "colab_type": "code",
    "id": "7uLubVT-JZU1"
   },
   "outputs": [
    {
     "data": {
      "text/html": [
       "<div>\n",
       "<style scoped>\n",
       "    .dataframe tbody tr th:only-of-type {\n",
       "        vertical-align: middle;\n",
       "    }\n",
       "\n",
       "    .dataframe tbody tr th {\n",
       "        vertical-align: top;\n",
       "    }\n",
       "\n",
       "    .dataframe thead th {\n",
       "        text-align: right;\n",
       "    }\n",
       "</style>\n",
       "<table border=\"1\" class=\"dataframe\">\n",
       "  <thead>\n",
       "    <tr style=\"text-align: right;\">\n",
       "      <th></th>\n",
       "      <th>지역</th>\n",
       "      <th>2013년12월</th>\n",
       "      <th>2014년1월</th>\n",
       "      <th>2014년2월</th>\n",
       "      <th>2014년3월</th>\n",
       "      <th>2014년4월</th>\n",
       "      <th>2014년5월</th>\n",
       "      <th>2014년6월</th>\n",
       "      <th>2014년7월</th>\n",
       "      <th>2014년8월</th>\n",
       "      <th>...</th>\n",
       "      <th>2014년11월</th>\n",
       "      <th>2014년12월</th>\n",
       "      <th>2015년1월</th>\n",
       "      <th>2015년2월</th>\n",
       "      <th>2015년3월</th>\n",
       "      <th>2015년4월</th>\n",
       "      <th>2015년5월</th>\n",
       "      <th>2015년6월</th>\n",
       "      <th>2015년7월</th>\n",
       "      <th>2015년8월</th>\n",
       "    </tr>\n",
       "  </thead>\n",
       "  <tbody>\n",
       "    <tr>\n",
       "      <th>12</th>\n",
       "      <td>전북</td>\n",
       "      <td>6282</td>\n",
       "      <td>6281</td>\n",
       "      <td>5946</td>\n",
       "      <td>5966</td>\n",
       "      <td>6277</td>\n",
       "      <td>6306</td>\n",
       "      <td>6351</td>\n",
       "      <td>6319</td>\n",
       "      <td>6436</td>\n",
       "      <td>...</td>\n",
       "      <td>6583</td>\n",
       "      <td>6583</td>\n",
       "      <td>6583</td>\n",
       "      <td>6583</td>\n",
       "      <td>6542</td>\n",
       "      <td>6551</td>\n",
       "      <td>6556</td>\n",
       "      <td>6601</td>\n",
       "      <td>6750</td>\n",
       "      <td>6580</td>\n",
       "    </tr>\n",
       "    <tr>\n",
       "      <th>13</th>\n",
       "      <td>전남</td>\n",
       "      <td>5678</td>\n",
       "      <td>5678</td>\n",
       "      <td>5678</td>\n",
       "      <td>5696</td>\n",
       "      <td>5736</td>\n",
       "      <td>5656</td>\n",
       "      <td>5609</td>\n",
       "      <td>5780</td>\n",
       "      <td>5685</td>\n",
       "      <td>...</td>\n",
       "      <td>5768</td>\n",
       "      <td>5784</td>\n",
       "      <td>5784</td>\n",
       "      <td>5833</td>\n",
       "      <td>5825</td>\n",
       "      <td>5940</td>\n",
       "      <td>6050</td>\n",
       "      <td>6243</td>\n",
       "      <td>6286</td>\n",
       "      <td>6289</td>\n",
       "    </tr>\n",
       "    <tr>\n",
       "      <th>14</th>\n",
       "      <td>경북</td>\n",
       "      <td>6168</td>\n",
       "      <td>6168</td>\n",
       "      <td>6234</td>\n",
       "      <td>6317</td>\n",
       "      <td>6412</td>\n",
       "      <td>6409</td>\n",
       "      <td>6554</td>\n",
       "      <td>6556</td>\n",
       "      <td>6563</td>\n",
       "      <td>...</td>\n",
       "      <td>6881</td>\n",
       "      <td>6989</td>\n",
       "      <td>6992</td>\n",
       "      <td>6953</td>\n",
       "      <td>6997</td>\n",
       "      <td>7006</td>\n",
       "      <td>6966</td>\n",
       "      <td>6887</td>\n",
       "      <td>7035</td>\n",
       "      <td>7037</td>\n",
       "    </tr>\n",
       "    <tr>\n",
       "      <th>15</th>\n",
       "      <td>경남</td>\n",
       "      <td>6473</td>\n",
       "      <td>6485</td>\n",
       "      <td>6502</td>\n",
       "      <td>6610</td>\n",
       "      <td>6599</td>\n",
       "      <td>6610</td>\n",
       "      <td>6615</td>\n",
       "      <td>6613</td>\n",
       "      <td>6606</td>\n",
       "      <td>...</td>\n",
       "      <td>7125</td>\n",
       "      <td>7332</td>\n",
       "      <td>7592</td>\n",
       "      <td>7588</td>\n",
       "      <td>7668</td>\n",
       "      <td>7683</td>\n",
       "      <td>7717</td>\n",
       "      <td>7715</td>\n",
       "      <td>7723</td>\n",
       "      <td>7665</td>\n",
       "    </tr>\n",
       "    <tr>\n",
       "      <th>16</th>\n",
       "      <td>제주</td>\n",
       "      <td>7674</td>\n",
       "      <td>7900</td>\n",
       "      <td>7900</td>\n",
       "      <td>7900</td>\n",
       "      <td>7900</td>\n",
       "      <td>7900</td>\n",
       "      <td>7914</td>\n",
       "      <td>7914</td>\n",
       "      <td>7914</td>\n",
       "      <td>...</td>\n",
       "      <td>7724</td>\n",
       "      <td>7739</td>\n",
       "      <td>7739</td>\n",
       "      <td>7739</td>\n",
       "      <td>7826</td>\n",
       "      <td>7285</td>\n",
       "      <td>7285</td>\n",
       "      <td>7343</td>\n",
       "      <td>7343</td>\n",
       "      <td>7343</td>\n",
       "    </tr>\n",
       "  </tbody>\n",
       "</table>\n",
       "<p>5 rows × 22 columns</p>\n",
       "</div>"
      ],
      "text/plain": [
       "    지역  2013년12월  2014년1월  2014년2월  2014년3월  2014년4월  2014년5월  2014년6월  \\\n",
       "12  전북      6282     6281     5946     5966     6277     6306     6351   \n",
       "13  전남      5678     5678     5678     5696     5736     5656     5609   \n",
       "14  경북      6168     6168     6234     6317     6412     6409     6554   \n",
       "15  경남      6473     6485     6502     6610     6599     6610     6615   \n",
       "16  제주      7674     7900     7900     7900     7900     7900     7914   \n",
       "\n",
       "    2014년7월  2014년8월  ...  2014년11월  2014년12월  2015년1월  2015년2월  2015년3월  \\\n",
       "12     6319     6436  ...      6583      6583     6583     6583     6542   \n",
       "13     5780     5685  ...      5768      5784     5784     5833     5825   \n",
       "14     6556     6563  ...      6881      6989     6992     6953     6997   \n",
       "15     6613     6606  ...      7125      7332     7592     7588     7668   \n",
       "16     7914     7914  ...      7724      7739     7739     7739     7826   \n",
       "\n",
       "    2015년4월  2015년5월  2015년6월  2015년7월  2015년8월  \n",
       "12     6551     6556     6601     6750     6580  \n",
       "13     5940     6050     6243     6286     6289  \n",
       "14     7006     6966     6887     7035     7037  \n",
       "15     7683     7717     7715     7723     7665  \n",
       "16     7285     7285     7343     7343     7343  \n",
       "\n",
       "[5 rows x 22 columns]"
      ]
     },
     "execution_count": 8,
     "metadata": {},
     "output_type": "execute_result"
    }
   ],
   "source": [
    "# df_first 변수에 담긴 데이터프레임을 tail로 미리보기 합니다.\n",
    "df_first.tail()"
   ]
  },
  {
   "cell_type": "markdown",
   "metadata": {
    "colab_type": "text",
    "id": "sRgcY7H7JZU3"
   },
   "source": [
    "### 데이터 요약하기"
   ]
  },
  {
   "cell_type": "code",
   "execution_count": 9,
   "metadata": {
    "colab": {},
    "colab_type": "code",
    "id": "rG_jMT8CJZU3"
   },
   "outputs": [
    {
     "name": "stdout",
     "output_type": "stream",
     "text": [
      "<class 'pandas.core.frame.DataFrame'>\n",
      "RangeIndex: 4335 entries, 0 to 4334\n",
      "Data columns (total 5 columns):\n",
      " #   Column   Non-Null Count  Dtype \n",
      "---  ------   --------------  ----- \n",
      " 0   지역명      4335 non-null   object\n",
      " 1   규모구분     4335 non-null   object\n",
      " 2   연도       4335 non-null   int64 \n",
      " 3   월        4335 non-null   int64 \n",
      " 4   분양가격(㎡)  4058 non-null   object\n",
      "dtypes: int64(2), object(3)\n",
      "memory usage: 169.5+ KB\n"
     ]
    }
   ],
   "source": [
    "# info 로 요약합니다. # object 는 문자형이라는 뜻 분양가격 수치형으로 바꾸자.\n",
    "df_last.info()"
   ]
  },
  {
   "cell_type": "markdown",
   "metadata": {
    "colab_type": "text",
    "id": "0MekOAekJZU5"
   },
   "source": [
    "### 결측치 보기"
   ]
  },
  {
   "cell_type": "markdown",
   "metadata": {
    "colab_type": "text",
    "id": "yRMZ_rLdJZU6"
   },
   "source": [
    "isnull 혹은 isna 를 통해 데이터가 비어있는지를 확인할 수 있습니다.\n",
    "결측치는 True로 표시되는데, True == 1 이기 때문에 이 값을 다 더해주면 결측치의 수가 됩니다."
   ]
  },
  {
   "cell_type": "code",
   "execution_count": 10,
   "metadata": {},
   "outputs": [
    {
     "data": {
      "text/html": [
       "<div>\n",
       "<style scoped>\n",
       "    .dataframe tbody tr th:only-of-type {\n",
       "        vertical-align: middle;\n",
       "    }\n",
       "\n",
       "    .dataframe tbody tr th {\n",
       "        vertical-align: top;\n",
       "    }\n",
       "\n",
       "    .dataframe thead th {\n",
       "        text-align: right;\n",
       "    }\n",
       "</style>\n",
       "<table border=\"1\" class=\"dataframe\">\n",
       "  <thead>\n",
       "    <tr style=\"text-align: right;\">\n",
       "      <th></th>\n",
       "      <th>지역명</th>\n",
       "      <th>규모구분</th>\n",
       "      <th>연도</th>\n",
       "      <th>월</th>\n",
       "      <th>분양가격(㎡)</th>\n",
       "    </tr>\n",
       "  </thead>\n",
       "  <tbody>\n",
       "    <tr>\n",
       "      <th>0</th>\n",
       "      <td>False</td>\n",
       "      <td>False</td>\n",
       "      <td>False</td>\n",
       "      <td>False</td>\n",
       "      <td>False</td>\n",
       "    </tr>\n",
       "    <tr>\n",
       "      <th>1</th>\n",
       "      <td>False</td>\n",
       "      <td>False</td>\n",
       "      <td>False</td>\n",
       "      <td>False</td>\n",
       "      <td>False</td>\n",
       "    </tr>\n",
       "    <tr>\n",
       "      <th>2</th>\n",
       "      <td>False</td>\n",
       "      <td>False</td>\n",
       "      <td>False</td>\n",
       "      <td>False</td>\n",
       "      <td>False</td>\n",
       "    </tr>\n",
       "    <tr>\n",
       "      <th>3</th>\n",
       "      <td>False</td>\n",
       "      <td>False</td>\n",
       "      <td>False</td>\n",
       "      <td>False</td>\n",
       "      <td>False</td>\n",
       "    </tr>\n",
       "    <tr>\n",
       "      <th>4</th>\n",
       "      <td>False</td>\n",
       "      <td>False</td>\n",
       "      <td>False</td>\n",
       "      <td>False</td>\n",
       "      <td>False</td>\n",
       "    </tr>\n",
       "    <tr>\n",
       "      <th>...</th>\n",
       "      <td>...</td>\n",
       "      <td>...</td>\n",
       "      <td>...</td>\n",
       "      <td>...</td>\n",
       "      <td>...</td>\n",
       "    </tr>\n",
       "    <tr>\n",
       "      <th>4330</th>\n",
       "      <td>False</td>\n",
       "      <td>False</td>\n",
       "      <td>False</td>\n",
       "      <td>False</td>\n",
       "      <td>False</td>\n",
       "    </tr>\n",
       "    <tr>\n",
       "      <th>4331</th>\n",
       "      <td>False</td>\n",
       "      <td>False</td>\n",
       "      <td>False</td>\n",
       "      <td>False</td>\n",
       "      <td>True</td>\n",
       "    </tr>\n",
       "    <tr>\n",
       "      <th>4332</th>\n",
       "      <td>False</td>\n",
       "      <td>False</td>\n",
       "      <td>False</td>\n",
       "      <td>False</td>\n",
       "      <td>False</td>\n",
       "    </tr>\n",
       "    <tr>\n",
       "      <th>4333</th>\n",
       "      <td>False</td>\n",
       "      <td>False</td>\n",
       "      <td>False</td>\n",
       "      <td>False</td>\n",
       "      <td>True</td>\n",
       "    </tr>\n",
       "    <tr>\n",
       "      <th>4334</th>\n",
       "      <td>False</td>\n",
       "      <td>False</td>\n",
       "      <td>False</td>\n",
       "      <td>False</td>\n",
       "      <td>False</td>\n",
       "    </tr>\n",
       "  </tbody>\n",
       "</table>\n",
       "<p>4335 rows × 5 columns</p>\n",
       "</div>"
      ],
      "text/plain": [
       "        지역명   규모구분     연도      월  분양가격(㎡)\n",
       "0     False  False  False  False    False\n",
       "1     False  False  False  False    False\n",
       "2     False  False  False  False    False\n",
       "3     False  False  False  False    False\n",
       "4     False  False  False  False    False\n",
       "...     ...    ...    ...    ...      ...\n",
       "4330  False  False  False  False    False\n",
       "4331  False  False  False  False     True\n",
       "4332  False  False  False  False    False\n",
       "4333  False  False  False  False     True\n",
       "4334  False  False  False  False    False\n",
       "\n",
       "[4335 rows x 5 columns]"
      ]
     },
     "execution_count": 10,
     "metadata": {},
     "output_type": "execute_result"
    }
   ],
   "source": [
    "# isnull 을 통해 결측치를 봅니다.\n",
    "df_last.isnull()"
   ]
  },
  {
   "cell_type": "code",
   "execution_count": 11,
   "metadata": {
    "colab": {},
    "colab_type": "code",
    "id": "CqaWXfocJZU7"
   },
   "outputs": [
    {
     "data": {
      "text/plain": [
       "지역명          0\n",
       "규모구분         0\n",
       "연도           0\n",
       "월            0\n",
       "분양가격(㎡)    277\n",
       "dtype: int64"
      ]
     },
     "execution_count": 11,
     "metadata": {},
     "output_type": "execute_result"
    }
   ],
   "source": [
    "# isnull 을 통해 결측치를 구합니다.\n",
    "df_last.isnull().sum()"
   ]
  },
  {
   "cell_type": "code",
   "execution_count": 12,
   "metadata": {
    "colab": {},
    "colab_type": "code",
    "id": "jIf6_IFvJZU8"
   },
   "outputs": [
    {
     "data": {
      "text/plain": [
       "지역명          0\n",
       "규모구분         0\n",
       "연도           0\n",
       "월            0\n",
       "분양가격(㎡)    277\n",
       "dtype: int64"
      ]
     },
     "execution_count": 12,
     "metadata": {},
     "output_type": "execute_result"
    }
   ],
   "source": [
    "# isna 를 통해 결측치를 구합니다.\n",
    "df_last.isna().sum()"
   ]
  },
  {
   "cell_type": "markdown",
   "metadata": {
    "colab_type": "text",
    "id": "9PNqs0q4JZU_"
   },
   "source": [
    "### 데이터 타입 변경\n",
    "분양가격이 object(문자) 타입으로 되어 있습니다. 문자열 타입을 계산할 수 없기 때문에 수치 데이터로 변경해 줍니다. 결측치가 섞여 있을 때 변환이 제대로 되지 않습니다. 그래서 pd.to_numeric 을 통해 데이터의 타입을 변경합니다."
   ]
  },
  {
   "cell_type": "code",
   "execution_count": 13,
   "metadata": {},
   "outputs": [
    {
     "name": "stderr",
     "output_type": "stream",
     "text": [
      "<ipython-input-13-e71c757bba12>:1: FutureWarning: The pandas.np module is deprecated and will be removed from pandas in a future version. Import numpy directly instead\n",
      "  type(pd.np.nan)\n"
     ]
    },
    {
     "data": {
      "text/plain": [
       "float"
      ]
     },
     "execution_count": 13,
     "metadata": {},
     "output_type": "execute_result"
    }
   ],
   "source": [
    "type(pd.np.nan)"
   ]
  },
  {
   "cell_type": "code",
   "execution_count": 14,
   "metadata": {
    "colab": {},
    "colab_type": "code",
    "id": "YdqsOWagJZVA"
   },
   "outputs": [
    {
     "data": {
      "text/plain": [
       "0    5841.0\n",
       "Name: 분양가격, dtype: float64"
      ]
     },
     "execution_count": 14,
     "metadata": {},
     "output_type": "execute_result"
    }
   ],
   "source": [
    "df_last['분양가격'] = pd.to_numeric(df_last['분양가격(㎡)'], errors = 'coerce')\n",
    "df_last['분양가격'].head(1)"
   ]
  },
  {
   "cell_type": "markdown",
   "metadata": {
    "colab_type": "text",
    "id": "kdeItDwvJZVE"
   },
   "source": [
    "### 평당분양가격 구하기\n",
    "공공데이터포털에 올라와 있는 2013년부터의 데이터는 평당분양가격 기준으로 되어 있습니다.\n",
    "분양가격을 평당기준으로 보기위해 3.3을 곱해서 \"평당분양가격\" 컬럼을 만들어 추가해 줍니다."
   ]
  },
  {
   "cell_type": "code",
   "execution_count": 15,
   "metadata": {
    "colab": {},
    "colab_type": "code",
    "id": "y0dqodhEJZVE"
   },
   "outputs": [
    {
     "data": {
      "text/html": [
       "<div>\n",
       "<style scoped>\n",
       "    .dataframe tbody tr th:only-of-type {\n",
       "        vertical-align: middle;\n",
       "    }\n",
       "\n",
       "    .dataframe tbody tr th {\n",
       "        vertical-align: top;\n",
       "    }\n",
       "\n",
       "    .dataframe thead th {\n",
       "        text-align: right;\n",
       "    }\n",
       "</style>\n",
       "<table border=\"1\" class=\"dataframe\">\n",
       "  <thead>\n",
       "    <tr style=\"text-align: right;\">\n",
       "      <th></th>\n",
       "      <th>지역명</th>\n",
       "      <th>규모구분</th>\n",
       "      <th>연도</th>\n",
       "      <th>월</th>\n",
       "      <th>분양가격(㎡)</th>\n",
       "      <th>분양가격</th>\n",
       "      <th>평당분양가격</th>\n",
       "    </tr>\n",
       "  </thead>\n",
       "  <tbody>\n",
       "    <tr>\n",
       "      <th>0</th>\n",
       "      <td>서울</td>\n",
       "      <td>전체</td>\n",
       "      <td>2015</td>\n",
       "      <td>10</td>\n",
       "      <td>5841</td>\n",
       "      <td>5841.0</td>\n",
       "      <td>19275.3</td>\n",
       "    </tr>\n",
       "  </tbody>\n",
       "</table>\n",
       "</div>"
      ],
      "text/plain": [
       "  지역명 규모구분    연도   월 분양가격(㎡)    분양가격   평당분양가격\n",
       "0  서울   전체  2015  10    5841  5841.0  19275.3"
      ]
     },
     "execution_count": 15,
     "metadata": {},
     "output_type": "execute_result"
    }
   ],
   "source": [
    "df_last['평당분양가격'] = df_last['분양가격'] * 3.3\n",
    "df_last.head(1)"
   ]
  },
  {
   "cell_type": "markdown",
   "metadata": {
    "colab_type": "text",
    "id": "O0PFKeVrJZVG"
   },
   "source": [
    "### 분양가격 요약하기"
   ]
  },
  {
   "cell_type": "code",
   "execution_count": 16,
   "metadata": {
    "colab": {},
    "colab_type": "code",
    "id": "dUFsWpx1JZVH"
   },
   "outputs": [
    {
     "name": "stdout",
     "output_type": "stream",
     "text": [
      "<class 'pandas.core.frame.DataFrame'>\n",
      "RangeIndex: 4335 entries, 0 to 4334\n",
      "Data columns (total 7 columns):\n",
      " #   Column   Non-Null Count  Dtype  \n",
      "---  ------   --------------  -----  \n",
      " 0   지역명      4335 non-null   object \n",
      " 1   규모구분     4335 non-null   object \n",
      " 2   연도       4335 non-null   int64  \n",
      " 3   월        4335 non-null   int64  \n",
      " 4   분양가격(㎡)  4058 non-null   object \n",
      " 5   분양가격     3957 non-null   float64\n",
      " 6   평당분양가격   3957 non-null   float64\n",
      "dtypes: float64(2), int64(2), object(3)\n",
      "memory usage: 237.2+ KB\n"
     ]
    }
   ],
   "source": [
    "# info를 통해 분양가격을 봅니다.\n",
    "df_last.info()"
   ]
  },
  {
   "cell_type": "code",
   "execution_count": 17,
   "metadata": {
    "colab": {},
    "colab_type": "code",
    "id": "V77bOjLIJZVJ"
   },
   "outputs": [
    {
     "data": {
      "text/plain": [
       "count     4058\n",
       "unique    1753\n",
       "top       2221\n",
       "freq        17\n",
       "Name: 분양가격(㎡), dtype: object"
      ]
     },
     "execution_count": 17,
     "metadata": {},
     "output_type": "execute_result"
    }
   ],
   "source": [
    "# 변경 전 컬럼인 분양가격(㎡) 컬럼을 요약합니다.\n",
    "# unique 중복되지 않은 값\n",
    "# top 가장 빈번하게 등장하는 문자\n",
    "# freq 가장 빈번하게 등장하는 문자가 몇 번 등장 하는지\n",
    "df_last['분양가격(㎡)'].describe()"
   ]
  },
  {
   "cell_type": "code",
   "execution_count": 18,
   "metadata": {
    "colab": {},
    "colab_type": "code",
    "id": "LqwqYcy0JZVL"
   },
   "outputs": [
    {
     "data": {
      "text/plain": [
       "count     3957.000000\n",
       "mean      3238.128633\n",
       "std       1264.309933\n",
       "min       1868.000000\n",
       "25%       2441.000000\n",
       "50%       2874.000000\n",
       "75%       3561.000000\n",
       "max      12728.000000\n",
       "Name: 분양가격, dtype: float64"
      ]
     },
     "execution_count": 18,
     "metadata": {},
     "output_type": "execute_result"
    }
   ],
   "source": [
    "# 수치데이터로 변경된 분양가격 컬럼을 요약합니다.\n",
    "# count가 위와 다른 경우, 공백은 결측치가 되어 적어짐\n",
    "df_last['분양가격'].describe()"
   ]
  },
  {
   "cell_type": "markdown",
   "metadata": {
    "colab_type": "text",
    "id": "AReZC_8JJZVO"
   },
   "source": [
    "### 규모구분을 전용면적 컬럼으로 변경\n",
    "규모구분 컬럼은 전용면적에 대한 내용이 있습니다. 전용면적이라는 문구가 공통적으로 들어가고 규모구분보다는 전용면적이 좀 더 직관적이기 때문에 전용면적이라는 컬럼을 새로 만들어주고 기존 규모구분의 값에서 전용면적, 초과, 이하 등의 문구를 빼고 간결하게 만들어 봅니다.\n",
    "\n",
    "이 때 str 의 replace 기능을 사용해서 예를들면 \"전용면적 60㎡초과 85㎡이하\"라면 \"60㎡~85㎡\" 로 변경해 줍니다.\n",
    "\n",
    "* pandas 의 string-handling 기능을 좀 더 보고 싶다면 :\n",
    "https://pandas.pydata.org/pandas-docs/stable/reference/series.html#string-handling"
   ]
  },
  {
   "cell_type": "code",
   "execution_count": 19,
   "metadata": {},
   "outputs": [
    {
     "data": {
      "text/plain": [
       "array(['전체', '전용면적 60㎡이하', '전용면적 60㎡초과 85㎡이하', '전용면적 85㎡초과 102㎡이하',\n",
       "       '전용면적 102㎡초과'], dtype=object)"
      ]
     },
     "execution_count": 19,
     "metadata": {},
     "output_type": "execute_result"
    }
   ],
   "source": [
    "# 규모구분의 unique 값 보기\n",
    "df_last['규모구분'].unique()\n"
   ]
  },
  {
   "cell_type": "code",
   "execution_count": 20,
   "metadata": {},
   "outputs": [
    {
     "data": {
      "text/plain": [
       "0             전체\n",
       "1            60㎡\n",
       "2        60㎡~85㎡\n",
       "3       85㎡~102㎡\n",
       "4          102㎡~\n",
       "          ...   \n",
       "4330          전체\n",
       "4331         60㎡\n",
       "4332     60㎡~85㎡\n",
       "4333    85㎡~102㎡\n",
       "4334       102㎡~\n",
       "Name: 전용면적, Length: 4335, dtype: object"
      ]
     },
     "execution_count": 20,
     "metadata": {},
     "output_type": "execute_result"
    }
   ],
   "source": [
    "# 규모구분을 전용면적으로 변경하기\n",
    "\n",
    "df_last['전용면적'] = df_last['규모구분'].str.replace('전용면적','') # replace는 텍스트가 완전히 같아야 바뀜. pandas 의 str을 사용,\n",
    "df_last['전용면적'] = df_last['전용면적'].str.replace('초과','~')\n",
    "df_last['전용면적'] = df_last['전용면적'].str.replace('이하','')\n",
    "df_last['전용면적'] = df_last['전용면적'].str.replace(' ','').str.strip()\n",
    "df_last['전용면적']"
   ]
  },
  {
   "cell_type": "markdown",
   "metadata": {},
   "source": [
    "### 필요없는 컬럼 제거하기\n",
    "drop을 통해 전처리 해준 컬럼을 제거합니다. pandas의 데이터프레임과 관련된 메소드에는 axis 옵션이 필요할 때가 있는데 행과 열중 어떤 기준으로 처리를 할 것인지를 의미합니다. 보통 기본적으로 0으로 되어 있고 행을 기준으로 처리함을 의미합니다. 메모리 사용량이 줄어들었는지 확인합니다."
   ]
  },
  {
   "cell_type": "code",
   "execution_count": 21,
   "metadata": {
    "scrolled": false
   },
   "outputs": [
    {
     "name": "stdout",
     "output_type": "stream",
     "text": [
      "<class 'pandas.core.frame.DataFrame'>\n",
      "RangeIndex: 4335 entries, 0 to 4334\n",
      "Data columns (total 8 columns):\n",
      " #   Column   Non-Null Count  Dtype  \n",
      "---  ------   --------------  -----  \n",
      " 0   지역명      4335 non-null   object \n",
      " 1   규모구분     4335 non-null   object \n",
      " 2   연도       4335 non-null   int64  \n",
      " 3   월        4335 non-null   int64  \n",
      " 4   분양가격(㎡)  4058 non-null   object \n",
      " 5   분양가격     3957 non-null   float64\n",
      " 6   평당분양가격   3957 non-null   float64\n",
      " 7   전용면적     4335 non-null   object \n",
      "dtypes: float64(2), int64(2), object(4)\n",
      "memory usage: 271.1+ KB\n"
     ]
    }
   ],
   "source": [
    "# info로 정보 보기\n",
    "df_last.info()"
   ]
  },
  {
   "cell_type": "code",
   "execution_count": 22,
   "metadata": {},
   "outputs": [],
   "source": [
    "# drop 사용시 axis에 유의 합니다.\n",
    "# axis 0:행, 1:열\n",
    "\n",
    "df_last = df_last.drop(['규모구분','분양가격(㎡)'], axis=1) # axis 0은 행, 1은 열"
   ]
  },
  {
   "cell_type": "code",
   "execution_count": 23,
   "metadata": {},
   "outputs": [
    {
     "data": {
      "text/html": [
       "<div>\n",
       "<style scoped>\n",
       "    .dataframe tbody tr th:only-of-type {\n",
       "        vertical-align: middle;\n",
       "    }\n",
       "\n",
       "    .dataframe tbody tr th {\n",
       "        vertical-align: top;\n",
       "    }\n",
       "\n",
       "    .dataframe thead th {\n",
       "        text-align: right;\n",
       "    }\n",
       "</style>\n",
       "<table border=\"1\" class=\"dataframe\">\n",
       "  <thead>\n",
       "    <tr style=\"text-align: right;\">\n",
       "      <th></th>\n",
       "      <th>지역명</th>\n",
       "      <th>연도</th>\n",
       "      <th>월</th>\n",
       "      <th>분양가격</th>\n",
       "      <th>평당분양가격</th>\n",
       "      <th>전용면적</th>\n",
       "    </tr>\n",
       "  </thead>\n",
       "  <tbody>\n",
       "    <tr>\n",
       "      <th>0</th>\n",
       "      <td>서울</td>\n",
       "      <td>2015</td>\n",
       "      <td>10</td>\n",
       "      <td>5841.0</td>\n",
       "      <td>19275.3</td>\n",
       "      <td>전체</td>\n",
       "    </tr>\n",
       "    <tr>\n",
       "      <th>1</th>\n",
       "      <td>서울</td>\n",
       "      <td>2015</td>\n",
       "      <td>10</td>\n",
       "      <td>5652.0</td>\n",
       "      <td>18651.6</td>\n",
       "      <td>60㎡</td>\n",
       "    </tr>\n",
       "    <tr>\n",
       "      <th>2</th>\n",
       "      <td>서울</td>\n",
       "      <td>2015</td>\n",
       "      <td>10</td>\n",
       "      <td>5882.0</td>\n",
       "      <td>19410.6</td>\n",
       "      <td>60㎡~85㎡</td>\n",
       "    </tr>\n",
       "    <tr>\n",
       "      <th>3</th>\n",
       "      <td>서울</td>\n",
       "      <td>2015</td>\n",
       "      <td>10</td>\n",
       "      <td>5721.0</td>\n",
       "      <td>18879.3</td>\n",
       "      <td>85㎡~102㎡</td>\n",
       "    </tr>\n",
       "    <tr>\n",
       "      <th>4</th>\n",
       "      <td>서울</td>\n",
       "      <td>2015</td>\n",
       "      <td>10</td>\n",
       "      <td>5879.0</td>\n",
       "      <td>19400.7</td>\n",
       "      <td>102㎡~</td>\n",
       "    </tr>\n",
       "    <tr>\n",
       "      <th>...</th>\n",
       "      <td>...</td>\n",
       "      <td>...</td>\n",
       "      <td>...</td>\n",
       "      <td>...</td>\n",
       "      <td>...</td>\n",
       "      <td>...</td>\n",
       "    </tr>\n",
       "    <tr>\n",
       "      <th>4330</th>\n",
       "      <td>제주</td>\n",
       "      <td>2019</td>\n",
       "      <td>12</td>\n",
       "      <td>3882.0</td>\n",
       "      <td>12810.6</td>\n",
       "      <td>전체</td>\n",
       "    </tr>\n",
       "    <tr>\n",
       "      <th>4331</th>\n",
       "      <td>제주</td>\n",
       "      <td>2019</td>\n",
       "      <td>12</td>\n",
       "      <td>NaN</td>\n",
       "      <td>NaN</td>\n",
       "      <td>60㎡</td>\n",
       "    </tr>\n",
       "    <tr>\n",
       "      <th>4332</th>\n",
       "      <td>제주</td>\n",
       "      <td>2019</td>\n",
       "      <td>12</td>\n",
       "      <td>3898.0</td>\n",
       "      <td>12863.4</td>\n",
       "      <td>60㎡~85㎡</td>\n",
       "    </tr>\n",
       "    <tr>\n",
       "      <th>4333</th>\n",
       "      <td>제주</td>\n",
       "      <td>2019</td>\n",
       "      <td>12</td>\n",
       "      <td>NaN</td>\n",
       "      <td>NaN</td>\n",
       "      <td>85㎡~102㎡</td>\n",
       "    </tr>\n",
       "    <tr>\n",
       "      <th>4334</th>\n",
       "      <td>제주</td>\n",
       "      <td>2019</td>\n",
       "      <td>12</td>\n",
       "      <td>3601.0</td>\n",
       "      <td>11883.3</td>\n",
       "      <td>102㎡~</td>\n",
       "    </tr>\n",
       "  </tbody>\n",
       "</table>\n",
       "<p>4335 rows × 6 columns</p>\n",
       "</div>"
      ],
      "text/plain": [
       "     지역명    연도   월    분양가격   평당분양가격      전용면적\n",
       "0     서울  2015  10  5841.0  19275.3        전체\n",
       "1     서울  2015  10  5652.0  18651.6       60㎡\n",
       "2     서울  2015  10  5882.0  19410.6   60㎡~85㎡\n",
       "3     서울  2015  10  5721.0  18879.3  85㎡~102㎡\n",
       "4     서울  2015  10  5879.0  19400.7     102㎡~\n",
       "...   ..   ...  ..     ...      ...       ...\n",
       "4330  제주  2019  12  3882.0  12810.6        전체\n",
       "4331  제주  2019  12     NaN      NaN       60㎡\n",
       "4332  제주  2019  12  3898.0  12863.4   60㎡~85㎡\n",
       "4333  제주  2019  12     NaN      NaN  85㎡~102㎡\n",
       "4334  제주  2019  12  3601.0  11883.3     102㎡~\n",
       "\n",
       "[4335 rows x 6 columns]"
      ]
     },
     "execution_count": 23,
     "metadata": {},
     "output_type": "execute_result"
    }
   ],
   "source": [
    "# 제거가 잘 되었는지 확인 합니다.\n",
    "\n",
    "df_last"
   ]
  },
  {
   "cell_type": "code",
   "execution_count": 24,
   "metadata": {},
   "outputs": [
    {
     "name": "stdout",
     "output_type": "stream",
     "text": [
      "<class 'pandas.core.frame.DataFrame'>\n",
      "RangeIndex: 4335 entries, 0 to 4334\n",
      "Data columns (total 6 columns):\n",
      " #   Column  Non-Null Count  Dtype  \n",
      "---  ------  --------------  -----  \n",
      " 0   지역명     4335 non-null   object \n",
      " 1   연도      4335 non-null   int64  \n",
      " 2   월       4335 non-null   int64  \n",
      " 3   분양가격    3957 non-null   float64\n",
      " 4   평당분양가격  3957 non-null   float64\n",
      " 5   전용면적    4335 non-null   object \n",
      "dtypes: float64(2), int64(2), object(2)\n",
      "memory usage: 203.3+ KB\n"
     ]
    }
   ],
   "source": [
    "# 컬럼 제거를 통해 메모리 사용량이 줄어들었는지 확인합니다.\n",
    "df_last.info()\n"
   ]
  },
  {
   "cell_type": "markdown",
   "metadata": {
    "colab_type": "text",
    "id": "qhS9AqdkJZVT"
   },
   "source": [
    "## groupby 로 데이터 집계하기\n",
    "groupby 를 통해 데이터를 그룹화해서 연산을 해봅니다."
   ]
  },
  {
   "cell_type": "code",
   "execution_count": 25,
   "metadata": {
    "colab": {},
    "colab_type": "code",
    "id": "c_lCPSzLJZVO"
   },
   "outputs": [
    {
     "data": {
      "text/plain": [
       "지역명\n",
       "강원     7890.750000\n",
       "경기    13356.895200\n",
       "경남     9268.778138\n",
       "경북     8376.536515\n",
       "광주     9951.535821\n",
       "대구    11980.895455\n",
       "대전    10253.333333\n",
       "부산    12087.121200\n",
       "서울    23599.976400\n",
       "세종     9796.516456\n",
       "울산    10014.902013\n",
       "인천    11915.320732\n",
       "전남     7565.316532\n",
       "전북     7724.235484\n",
       "제주    11241.276712\n",
       "충남     8233.651883\n",
       "충북     7634.655600\n",
       "Name: 평당분양가격, dtype: float64"
      ]
     },
     "execution_count": 25,
     "metadata": {},
     "output_type": "execute_result"
    }
   ],
   "source": [
    "# 지역명으로 분양가격의 평균을 구하고 막대그래프(bar)로 시각화 합니다.\n",
    "# df.groupby([\"인덱스로 사용할 컬럼명\"])[\"계산할 컬럼 값\"].연산()\n",
    "\n",
    "df_last.groupby(['지역명'])['평당분양가격'].mean()"
   ]
  },
  {
   "cell_type": "code",
   "execution_count": 26,
   "metadata": {},
   "outputs": [
    {
     "data": {
      "text/plain": [
       "전용면적\n",
       "102㎡~       11517.705634\n",
       "60㎡         10375.137421\n",
       "60㎡~85㎡     10271.040071\n",
       "85㎡~102㎡    11097.599573\n",
       "전체          10276.086207\n",
       "Name: 평당분양가격, dtype: float64"
      ]
     },
     "execution_count": 26,
     "metadata": {},
     "output_type": "execute_result"
    }
   ],
   "source": [
    "# 전용면적으로 분양가격의 평균을 구합니다.\n",
    "df_last.groupby(['전용면적'])['평당분양가격'].mean()\n"
   ]
  },
  {
   "cell_type": "code",
   "execution_count": 27,
   "metadata": {},
   "outputs": [
    {
     "data": {
      "text/html": [
       "<div>\n",
       "<style scoped>\n",
       "    .dataframe tbody tr th:only-of-type {\n",
       "        vertical-align: middle;\n",
       "    }\n",
       "\n",
       "    .dataframe tbody tr th {\n",
       "        vertical-align: top;\n",
       "    }\n",
       "\n",
       "    .dataframe thead th {\n",
       "        text-align: right;\n",
       "    }\n",
       "</style>\n",
       "<table border=\"1\" class=\"dataframe\">\n",
       "  <thead>\n",
       "    <tr style=\"text-align: right;\">\n",
       "      <th>전용면적</th>\n",
       "      <th>102㎡~</th>\n",
       "      <th>60㎡</th>\n",
       "      <th>60㎡~85㎡</th>\n",
       "      <th>85㎡~102㎡</th>\n",
       "      <th>전체</th>\n",
       "    </tr>\n",
       "    <tr>\n",
       "      <th>지역명</th>\n",
       "      <th></th>\n",
       "      <th></th>\n",
       "      <th></th>\n",
       "      <th></th>\n",
       "      <th></th>\n",
       "    </tr>\n",
       "  </thead>\n",
       "  <tbody>\n",
       "    <tr>\n",
       "      <th>강원</th>\n",
       "      <td>8311.38</td>\n",
       "      <td>7567.10</td>\n",
       "      <td>7485.59</td>\n",
       "      <td>8749.56</td>\n",
       "      <td>7477.54</td>\n",
       "    </tr>\n",
       "    <tr>\n",
       "      <th>경기</th>\n",
       "      <td>14771.79</td>\n",
       "      <td>13251.74</td>\n",
       "      <td>12523.57</td>\n",
       "      <td>13677.77</td>\n",
       "      <td>12559.60</td>\n",
       "    </tr>\n",
       "    <tr>\n",
       "      <th>경남</th>\n",
       "      <td>10358.36</td>\n",
       "      <td>8689.17</td>\n",
       "      <td>8618.68</td>\n",
       "      <td>10017.61</td>\n",
       "      <td>8658.67</td>\n",
       "    </tr>\n",
       "    <tr>\n",
       "      <th>경북</th>\n",
       "      <td>9157.30</td>\n",
       "      <td>7883.17</td>\n",
       "      <td>8061.37</td>\n",
       "      <td>8773.81</td>\n",
       "      <td>8078.53</td>\n",
       "    </tr>\n",
       "    <tr>\n",
       "      <th>광주</th>\n",
       "      <td>11041.53</td>\n",
       "      <td>9430.67</td>\n",
       "      <td>9910.69</td>\n",
       "      <td>9296.10</td>\n",
       "      <td>9903.63</td>\n",
       "    </tr>\n",
       "    <tr>\n",
       "      <th>대구</th>\n",
       "      <td>13087.34</td>\n",
       "      <td>11992.07</td>\n",
       "      <td>11778.69</td>\n",
       "      <td>11140.64</td>\n",
       "      <td>11771.30</td>\n",
       "    </tr>\n",
       "    <tr>\n",
       "      <th>대전</th>\n",
       "      <td>14876.87</td>\n",
       "      <td>9176.48</td>\n",
       "      <td>9711.37</td>\n",
       "      <td>9037.43</td>\n",
       "      <td>9786.02</td>\n",
       "    </tr>\n",
       "    <tr>\n",
       "      <th>부산</th>\n",
       "      <td>13208.25</td>\n",
       "      <td>11353.78</td>\n",
       "      <td>11864.82</td>\n",
       "      <td>12072.59</td>\n",
       "      <td>11936.17</td>\n",
       "    </tr>\n",
       "    <tr>\n",
       "      <th>서울</th>\n",
       "      <td>23446.04</td>\n",
       "      <td>23212.79</td>\n",
       "      <td>22786.83</td>\n",
       "      <td>25943.87</td>\n",
       "      <td>22610.35</td>\n",
       "    </tr>\n",
       "    <tr>\n",
       "      <th>세종</th>\n",
       "      <td>10106.98</td>\n",
       "      <td>9323.93</td>\n",
       "      <td>9775.46</td>\n",
       "      <td>9847.93</td>\n",
       "      <td>9805.42</td>\n",
       "    </tr>\n",
       "    <tr>\n",
       "      <th>울산</th>\n",
       "      <td>9974.45</td>\n",
       "      <td>9202.11</td>\n",
       "      <td>10502.53</td>\n",
       "      <td>8861.01</td>\n",
       "      <td>10492.71</td>\n",
       "    </tr>\n",
       "    <tr>\n",
       "      <th>인천</th>\n",
       "      <td>14362.03</td>\n",
       "      <td>11241.32</td>\n",
       "      <td>11384.41</td>\n",
       "      <td>11527.56</td>\n",
       "      <td>11257.03</td>\n",
       "    </tr>\n",
       "    <tr>\n",
       "      <th>전남</th>\n",
       "      <td>8168.49</td>\n",
       "      <td>7210.17</td>\n",
       "      <td>7269.24</td>\n",
       "      <td>7908.86</td>\n",
       "      <td>7283.56</td>\n",
       "    </tr>\n",
       "    <tr>\n",
       "      <th>전북</th>\n",
       "      <td>8193.57</td>\n",
       "      <td>7609.93</td>\n",
       "      <td>7271.35</td>\n",
       "      <td>8275.78</td>\n",
       "      <td>7292.60</td>\n",
       "    </tr>\n",
       "    <tr>\n",
       "      <th>제주</th>\n",
       "      <td>10522.79</td>\n",
       "      <td>14022.22</td>\n",
       "      <td>10621.31</td>\n",
       "      <td>10709.08</td>\n",
       "      <td>10784.99</td>\n",
       "    </tr>\n",
       "    <tr>\n",
       "      <th>충남</th>\n",
       "      <td>8689.17</td>\n",
       "      <td>7911.16</td>\n",
       "      <td>7818.95</td>\n",
       "      <td>9120.04</td>\n",
       "      <td>7815.32</td>\n",
       "    </tr>\n",
       "    <tr>\n",
       "      <th>충북</th>\n",
       "      <td>8195.35</td>\n",
       "      <td>7103.12</td>\n",
       "      <td>7264.49</td>\n",
       "      <td>8391.31</td>\n",
       "      <td>7219.01</td>\n",
       "    </tr>\n",
       "  </tbody>\n",
       "</table>\n",
       "</div>"
      ],
      "text/plain": [
       "전용면적     102㎡~       60㎡   60㎡~85㎡  85㎡~102㎡        전체\n",
       "지역명                                                   \n",
       "강원     8311.38   7567.10   7485.59   8749.56   7477.54\n",
       "경기    14771.79  13251.74  12523.57  13677.77  12559.60\n",
       "경남    10358.36   8689.17   8618.68  10017.61   8658.67\n",
       "경북     9157.30   7883.17   8061.37   8773.81   8078.53\n",
       "광주    11041.53   9430.67   9910.69   9296.10   9903.63\n",
       "대구    13087.34  11992.07  11778.69  11140.64  11771.30\n",
       "대전    14876.87   9176.48   9711.37   9037.43   9786.02\n",
       "부산    13208.25  11353.78  11864.82  12072.59  11936.17\n",
       "서울    23446.04  23212.79  22786.83  25943.87  22610.35\n",
       "세종    10106.98   9323.93   9775.46   9847.93   9805.42\n",
       "울산     9974.45   9202.11  10502.53   8861.01  10492.71\n",
       "인천    14362.03  11241.32  11384.41  11527.56  11257.03\n",
       "전남     8168.49   7210.17   7269.24   7908.86   7283.56\n",
       "전북     8193.57   7609.93   7271.35   8275.78   7292.60\n",
       "제주    10522.79  14022.22  10621.31  10709.08  10784.99\n",
       "충남     8689.17   7911.16   7818.95   9120.04   7815.32\n",
       "충북     8195.35   7103.12   7264.49   8391.31   7219.01"
      ]
     },
     "execution_count": 27,
     "metadata": {},
     "output_type": "execute_result"
    }
   ],
   "source": [
    "# 지역명, 전용면적으로 평당분양가격의 평균을 구합니다.\n",
    "df_last.groupby(['지역명','전용면적'])['평당분양가격'].mean().unstack().round(2)\n"
   ]
  },
  {
   "cell_type": "code",
   "execution_count": 28,
   "metadata": {},
   "outputs": [
    {
     "data": {
      "text/html": [
       "<div>\n",
       "<style scoped>\n",
       "    .dataframe tbody tr th:only-of-type {\n",
       "        vertical-align: middle;\n",
       "    }\n",
       "\n",
       "    .dataframe tbody tr th {\n",
       "        vertical-align: top;\n",
       "    }\n",
       "\n",
       "    .dataframe thead th {\n",
       "        text-align: right;\n",
       "    }\n",
       "</style>\n",
       "<table border=\"1\" class=\"dataframe\">\n",
       "  <thead>\n",
       "    <tr style=\"text-align: right;\">\n",
       "      <th>연도</th>\n",
       "      <th>2015</th>\n",
       "      <th>2016</th>\n",
       "      <th>2017</th>\n",
       "      <th>2018</th>\n",
       "      <th>2019</th>\n",
       "    </tr>\n",
       "    <tr>\n",
       "      <th>지역명</th>\n",
       "      <th></th>\n",
       "      <th></th>\n",
       "      <th></th>\n",
       "      <th></th>\n",
       "      <th></th>\n",
       "    </tr>\n",
       "  </thead>\n",
       "  <tbody>\n",
       "    <tr>\n",
       "      <th>강원</th>\n",
       "      <td>7188.06</td>\n",
       "      <td>7162.90</td>\n",
       "      <td>7273.56</td>\n",
       "      <td>8219.26</td>\n",
       "      <td>8934.48</td>\n",
       "    </tr>\n",
       "    <tr>\n",
       "      <th>경기</th>\n",
       "      <td>11060.94</td>\n",
       "      <td>11684.97</td>\n",
       "      <td>12304.98</td>\n",
       "      <td>14258.42</td>\n",
       "      <td>15665.54</td>\n",
       "    </tr>\n",
       "    <tr>\n",
       "      <th>경남</th>\n",
       "      <td>8459.22</td>\n",
       "      <td>8496.73</td>\n",
       "      <td>8786.76</td>\n",
       "      <td>9327.67</td>\n",
       "      <td>10697.62</td>\n",
       "    </tr>\n",
       "    <tr>\n",
       "      <th>경북</th>\n",
       "      <td>7464.16</td>\n",
       "      <td>7753.41</td>\n",
       "      <td>8280.80</td>\n",
       "      <td>8680.78</td>\n",
       "      <td>9050.25</td>\n",
       "    </tr>\n",
       "    <tr>\n",
       "      <th>광주</th>\n",
       "      <td>7916.70</td>\n",
       "      <td>9190.68</td>\n",
       "      <td>9613.98</td>\n",
       "      <td>9526.95</td>\n",
       "      <td>12111.68</td>\n",
       "    </tr>\n",
       "    <tr>\n",
       "      <th>대구</th>\n",
       "      <td>9018.90</td>\n",
       "      <td>10282.03</td>\n",
       "      <td>12206.70</td>\n",
       "      <td>12139.25</td>\n",
       "      <td>14081.65</td>\n",
       "    </tr>\n",
       "    <tr>\n",
       "      <th>대전</th>\n",
       "      <td>8190.60</td>\n",
       "      <td>8910.73</td>\n",
       "      <td>9957.16</td>\n",
       "      <td>10234.11</td>\n",
       "      <td>12619.20</td>\n",
       "    </tr>\n",
       "    <tr>\n",
       "      <th>부산</th>\n",
       "      <td>10377.40</td>\n",
       "      <td>10743.53</td>\n",
       "      <td>11560.68</td>\n",
       "      <td>12889.97</td>\n",
       "      <td>13537.87</td>\n",
       "    </tr>\n",
       "    <tr>\n",
       "      <th>서울</th>\n",
       "      <td>20315.68</td>\n",
       "      <td>21753.44</td>\n",
       "      <td>21831.06</td>\n",
       "      <td>23202.25</td>\n",
       "      <td>28286.83</td>\n",
       "    </tr>\n",
       "    <tr>\n",
       "      <th>세종</th>\n",
       "      <td>8765.02</td>\n",
       "      <td>8857.81</td>\n",
       "      <td>9132.51</td>\n",
       "      <td>10340.46</td>\n",
       "      <td>11299.39</td>\n",
       "    </tr>\n",
       "    <tr>\n",
       "      <th>울산</th>\n",
       "      <td>9367.60</td>\n",
       "      <td>9582.57</td>\n",
       "      <td>10666.94</td>\n",
       "      <td>10241.40</td>\n",
       "      <td>10216.25</td>\n",
       "    </tr>\n",
       "    <tr>\n",
       "      <th>인천</th>\n",
       "      <td>10976.02</td>\n",
       "      <td>11099.06</td>\n",
       "      <td>11640.60</td>\n",
       "      <td>11881.53</td>\n",
       "      <td>13249.78</td>\n",
       "    </tr>\n",
       "    <tr>\n",
       "      <th>전남</th>\n",
       "      <td>6798.88</td>\n",
       "      <td>6936.60</td>\n",
       "      <td>7372.92</td>\n",
       "      <td>7929.84</td>\n",
       "      <td>8219.28</td>\n",
       "    </tr>\n",
       "    <tr>\n",
       "      <th>전북</th>\n",
       "      <td>7110.40</td>\n",
       "      <td>6906.63</td>\n",
       "      <td>7398.97</td>\n",
       "      <td>8174.59</td>\n",
       "      <td>8532.26</td>\n",
       "    </tr>\n",
       "    <tr>\n",
       "      <th>제주</th>\n",
       "      <td>7951.07</td>\n",
       "      <td>9567.48</td>\n",
       "      <td>12566.73</td>\n",
       "      <td>11935.97</td>\n",
       "      <td>11828.47</td>\n",
       "    </tr>\n",
       "    <tr>\n",
       "      <th>충남</th>\n",
       "      <td>7689.88</td>\n",
       "      <td>7958.23</td>\n",
       "      <td>8198.42</td>\n",
       "      <td>8201.82</td>\n",
       "      <td>8748.84</td>\n",
       "    </tr>\n",
       "    <tr>\n",
       "      <th>충북</th>\n",
       "      <td>6828.80</td>\n",
       "      <td>7133.34</td>\n",
       "      <td>7473.12</td>\n",
       "      <td>8149.29</td>\n",
       "      <td>7970.87</td>\n",
       "    </tr>\n",
       "  </tbody>\n",
       "</table>\n",
       "</div>"
      ],
      "text/plain": [
       "연도       2015      2016      2017      2018      2019\n",
       "지역명                                                  \n",
       "강원    7188.06   7162.90   7273.56   8219.26   8934.48\n",
       "경기   11060.94  11684.97  12304.98  14258.42  15665.54\n",
       "경남    8459.22   8496.73   8786.76   9327.67  10697.62\n",
       "경북    7464.16   7753.41   8280.80   8680.78   9050.25\n",
       "광주    7916.70   9190.68   9613.98   9526.95  12111.68\n",
       "대구    9018.90  10282.03  12206.70  12139.25  14081.65\n",
       "대전    8190.60   8910.73   9957.16  10234.11  12619.20\n",
       "부산   10377.40  10743.53  11560.68  12889.97  13537.87\n",
       "서울   20315.68  21753.44  21831.06  23202.25  28286.83\n",
       "세종    8765.02   8857.81   9132.51  10340.46  11299.39\n",
       "울산    9367.60   9582.57  10666.94  10241.40  10216.25\n",
       "인천   10976.02  11099.06  11640.60  11881.53  13249.78\n",
       "전남    6798.88   6936.60   7372.92   7929.84   8219.28\n",
       "전북    7110.40   6906.63   7398.97   8174.59   8532.26\n",
       "제주    7951.07   9567.48  12566.73  11935.97  11828.47\n",
       "충남    7689.88   7958.23   8198.42   8201.82   8748.84\n",
       "충북    6828.80   7133.34   7473.12   8149.29   7970.87"
      ]
     },
     "execution_count": 28,
     "metadata": {},
     "output_type": "execute_result"
    }
   ],
   "source": [
    "# 연도, 지역명으로 평당분양가격의 평균을 구합니다.\n",
    "g = df_last.groupby(['연도','지역명'])['평당분양가격'].mean().unstack().T.round(2)\n",
    "g\n",
    "#g.unstack().transpose()"
   ]
  },
  {
   "cell_type": "markdown",
   "metadata": {},
   "source": [
    "## pivot table 로 데이터 집계하기\n",
    "* groupby 로 했던 작업을 pivot_table로 똑같이 해봅니다."
   ]
  },
  {
   "cell_type": "code",
   "execution_count": 29,
   "metadata": {},
   "outputs": [
    {
     "data": {
      "text/html": [
       "<div>\n",
       "<style scoped>\n",
       "    .dataframe tbody tr th:only-of-type {\n",
       "        vertical-align: middle;\n",
       "    }\n",
       "\n",
       "    .dataframe tbody tr th {\n",
       "        vertical-align: top;\n",
       "    }\n",
       "\n",
       "    .dataframe thead th {\n",
       "        text-align: right;\n",
       "    }\n",
       "</style>\n",
       "<table border=\"1\" class=\"dataframe\">\n",
       "  <thead>\n",
       "    <tr style=\"text-align: right;\">\n",
       "      <th></th>\n",
       "      <th>평당분양가격</th>\n",
       "    </tr>\n",
       "    <tr>\n",
       "      <th>지역명</th>\n",
       "      <th></th>\n",
       "    </tr>\n",
       "  </thead>\n",
       "  <tbody>\n",
       "    <tr>\n",
       "      <th>강원</th>\n",
       "      <td>7890.750000</td>\n",
       "    </tr>\n",
       "    <tr>\n",
       "      <th>경기</th>\n",
       "      <td>13356.895200</td>\n",
       "    </tr>\n",
       "    <tr>\n",
       "      <th>경남</th>\n",
       "      <td>9268.778138</td>\n",
       "    </tr>\n",
       "    <tr>\n",
       "      <th>경북</th>\n",
       "      <td>8376.536515</td>\n",
       "    </tr>\n",
       "    <tr>\n",
       "      <th>광주</th>\n",
       "      <td>9951.535821</td>\n",
       "    </tr>\n",
       "    <tr>\n",
       "      <th>대구</th>\n",
       "      <td>11980.895455</td>\n",
       "    </tr>\n",
       "    <tr>\n",
       "      <th>대전</th>\n",
       "      <td>10253.333333</td>\n",
       "    </tr>\n",
       "    <tr>\n",
       "      <th>부산</th>\n",
       "      <td>12087.121200</td>\n",
       "    </tr>\n",
       "    <tr>\n",
       "      <th>서울</th>\n",
       "      <td>23599.976400</td>\n",
       "    </tr>\n",
       "    <tr>\n",
       "      <th>세종</th>\n",
       "      <td>9796.516456</td>\n",
       "    </tr>\n",
       "    <tr>\n",
       "      <th>울산</th>\n",
       "      <td>10014.902013</td>\n",
       "    </tr>\n",
       "    <tr>\n",
       "      <th>인천</th>\n",
       "      <td>11915.320732</td>\n",
       "    </tr>\n",
       "    <tr>\n",
       "      <th>전남</th>\n",
       "      <td>7565.316532</td>\n",
       "    </tr>\n",
       "    <tr>\n",
       "      <th>전북</th>\n",
       "      <td>7724.235484</td>\n",
       "    </tr>\n",
       "    <tr>\n",
       "      <th>제주</th>\n",
       "      <td>11241.276712</td>\n",
       "    </tr>\n",
       "    <tr>\n",
       "      <th>충남</th>\n",
       "      <td>8233.651883</td>\n",
       "    </tr>\n",
       "    <tr>\n",
       "      <th>충북</th>\n",
       "      <td>7634.655600</td>\n",
       "    </tr>\n",
       "  </tbody>\n",
       "</table>\n",
       "</div>"
      ],
      "text/plain": [
       "           평당분양가격\n",
       "지역명              \n",
       "강원    7890.750000\n",
       "경기   13356.895200\n",
       "경남    9268.778138\n",
       "경북    8376.536515\n",
       "광주    9951.535821\n",
       "대구   11980.895455\n",
       "대전   10253.333333\n",
       "부산   12087.121200\n",
       "서울   23599.976400\n",
       "세종    9796.516456\n",
       "울산   10014.902013\n",
       "인천   11915.320732\n",
       "전남    7565.316532\n",
       "전북    7724.235484\n",
       "제주   11241.276712\n",
       "충남    8233.651883\n",
       "충북    7634.655600"
      ]
     },
     "execution_count": 29,
     "metadata": {},
     "output_type": "execute_result"
    }
   ],
   "source": [
    "# 지역명을 index 로 평당분양가격 을 values 로 구합니다. 좀더 명시적, 피벗 테이블로 나옴\n",
    "\n",
    "pd.pivot_table(df_last, index=['지역명'], values=['평당분양가격'], aggfunc='mean')"
   ]
  },
  {
   "cell_type": "code",
   "execution_count": 30,
   "metadata": {},
   "outputs": [
    {
     "data": {
      "text/plain": [
       "전용면적\n",
       "102㎡~       11517.705634\n",
       "60㎡         10375.137421\n",
       "60㎡~85㎡     10271.040071\n",
       "85㎡~102㎡    11097.599573\n",
       "전체          10276.086207\n",
       "Name: 평당분양가격, dtype: float64"
      ]
     },
     "execution_count": 30,
     "metadata": {},
     "output_type": "execute_result"
    }
   ],
   "source": [
    "df_last.groupby([\"전용면적\"])[\"평당분양가격\"].mean()"
   ]
  },
  {
   "cell_type": "code",
   "execution_count": 31,
   "metadata": {},
   "outputs": [
    {
     "data": {
      "text/html": [
       "<div>\n",
       "<style scoped>\n",
       "    .dataframe tbody tr th:only-of-type {\n",
       "        vertical-align: middle;\n",
       "    }\n",
       "\n",
       "    .dataframe tbody tr th {\n",
       "        vertical-align: top;\n",
       "    }\n",
       "\n",
       "    .dataframe thead th {\n",
       "        text-align: right;\n",
       "    }\n",
       "</style>\n",
       "<table border=\"1\" class=\"dataframe\">\n",
       "  <thead>\n",
       "    <tr style=\"text-align: right;\">\n",
       "      <th></th>\n",
       "      <th>평당분양가격</th>\n",
       "    </tr>\n",
       "    <tr>\n",
       "      <th>전용면적</th>\n",
       "      <th></th>\n",
       "    </tr>\n",
       "  </thead>\n",
       "  <tbody>\n",
       "    <tr>\n",
       "      <th>102㎡~</th>\n",
       "      <td>11517.705634</td>\n",
       "    </tr>\n",
       "    <tr>\n",
       "      <th>60㎡</th>\n",
       "      <td>10375.137421</td>\n",
       "    </tr>\n",
       "    <tr>\n",
       "      <th>60㎡~85㎡</th>\n",
       "      <td>10271.040071</td>\n",
       "    </tr>\n",
       "    <tr>\n",
       "      <th>85㎡~102㎡</th>\n",
       "      <td>11097.599573</td>\n",
       "    </tr>\n",
       "    <tr>\n",
       "      <th>전체</th>\n",
       "      <td>10276.086207</td>\n",
       "    </tr>\n",
       "  </tbody>\n",
       "</table>\n",
       "</div>"
      ],
      "text/plain": [
       "                평당분양가격\n",
       "전용면적                  \n",
       "102㎡~     11517.705634\n",
       "60㎡       10375.137421\n",
       "60㎡~85㎡   10271.040071\n",
       "85㎡~102㎡  11097.599573\n",
       "전체        10276.086207"
      ]
     },
     "execution_count": 31,
     "metadata": {},
     "output_type": "execute_result"
    }
   ],
   "source": [
    "# 전용면적을 index 로 평당분양가격 을 values 로 구합니다.\n",
    "pd.pivot_table(df_last, index='전용면적', values='평당분양가격')\n"
   ]
  },
  {
   "cell_type": "code",
   "execution_count": 32,
   "metadata": {},
   "outputs": [
    {
     "data": {
      "text/html": [
       "<div>\n",
       "<style scoped>\n",
       "    .dataframe tbody tr th:only-of-type {\n",
       "        vertical-align: middle;\n",
       "    }\n",
       "\n",
       "    .dataframe tbody tr th {\n",
       "        vertical-align: top;\n",
       "    }\n",
       "\n",
       "    .dataframe thead th {\n",
       "        text-align: right;\n",
       "    }\n",
       "</style>\n",
       "<table border=\"1\" class=\"dataframe\">\n",
       "  <thead>\n",
       "    <tr style=\"text-align: right;\">\n",
       "      <th>지역명</th>\n",
       "      <th>강원</th>\n",
       "      <th>경기</th>\n",
       "      <th>경남</th>\n",
       "      <th>경북</th>\n",
       "      <th>광주</th>\n",
       "      <th>대구</th>\n",
       "      <th>대전</th>\n",
       "      <th>부산</th>\n",
       "      <th>서울</th>\n",
       "      <th>세종</th>\n",
       "      <th>울산</th>\n",
       "      <th>인천</th>\n",
       "      <th>전남</th>\n",
       "      <th>전북</th>\n",
       "      <th>제주</th>\n",
       "      <th>충남</th>\n",
       "      <th>충북</th>\n",
       "    </tr>\n",
       "    <tr>\n",
       "      <th>전용면적</th>\n",
       "      <th></th>\n",
       "      <th></th>\n",
       "      <th></th>\n",
       "      <th></th>\n",
       "      <th></th>\n",
       "      <th></th>\n",
       "      <th></th>\n",
       "      <th></th>\n",
       "      <th></th>\n",
       "      <th></th>\n",
       "      <th></th>\n",
       "      <th></th>\n",
       "      <th></th>\n",
       "      <th></th>\n",
       "      <th></th>\n",
       "      <th></th>\n",
       "      <th></th>\n",
       "    </tr>\n",
       "  </thead>\n",
       "  <tbody>\n",
       "    <tr>\n",
       "      <th>102㎡~</th>\n",
       "      <td>8311.38</td>\n",
       "      <td>14771.79</td>\n",
       "      <td>10358.36</td>\n",
       "      <td>9157.30</td>\n",
       "      <td>11041.53</td>\n",
       "      <td>13087.34</td>\n",
       "      <td>14876.87</td>\n",
       "      <td>13208.25</td>\n",
       "      <td>23446.04</td>\n",
       "      <td>10106.98</td>\n",
       "      <td>9974.45</td>\n",
       "      <td>14362.03</td>\n",
       "      <td>8168.49</td>\n",
       "      <td>8193.57</td>\n",
       "      <td>10522.79</td>\n",
       "      <td>8689.17</td>\n",
       "      <td>8195.35</td>\n",
       "    </tr>\n",
       "    <tr>\n",
       "      <th>60㎡</th>\n",
       "      <td>7567.10</td>\n",
       "      <td>13251.74</td>\n",
       "      <td>8689.17</td>\n",
       "      <td>7883.17</td>\n",
       "      <td>9430.67</td>\n",
       "      <td>11992.07</td>\n",
       "      <td>9176.48</td>\n",
       "      <td>11353.78</td>\n",
       "      <td>23212.79</td>\n",
       "      <td>9323.93</td>\n",
       "      <td>9202.11</td>\n",
       "      <td>11241.32</td>\n",
       "      <td>7210.17</td>\n",
       "      <td>7609.93</td>\n",
       "      <td>14022.22</td>\n",
       "      <td>7911.16</td>\n",
       "      <td>7103.12</td>\n",
       "    </tr>\n",
       "    <tr>\n",
       "      <th>60㎡~85㎡</th>\n",
       "      <td>7485.59</td>\n",
       "      <td>12523.57</td>\n",
       "      <td>8618.68</td>\n",
       "      <td>8061.37</td>\n",
       "      <td>9910.69</td>\n",
       "      <td>11778.69</td>\n",
       "      <td>9711.37</td>\n",
       "      <td>11864.82</td>\n",
       "      <td>22786.83</td>\n",
       "      <td>9775.46</td>\n",
       "      <td>10502.53</td>\n",
       "      <td>11384.41</td>\n",
       "      <td>7269.24</td>\n",
       "      <td>7271.35</td>\n",
       "      <td>10621.31</td>\n",
       "      <td>7818.95</td>\n",
       "      <td>7264.49</td>\n",
       "    </tr>\n",
       "    <tr>\n",
       "      <th>85㎡~102㎡</th>\n",
       "      <td>8749.56</td>\n",
       "      <td>13677.77</td>\n",
       "      <td>10017.61</td>\n",
       "      <td>8773.81</td>\n",
       "      <td>9296.10</td>\n",
       "      <td>11140.64</td>\n",
       "      <td>9037.43</td>\n",
       "      <td>12072.59</td>\n",
       "      <td>25943.87</td>\n",
       "      <td>9847.93</td>\n",
       "      <td>8861.01</td>\n",
       "      <td>11527.56</td>\n",
       "      <td>7908.86</td>\n",
       "      <td>8275.78</td>\n",
       "      <td>10709.08</td>\n",
       "      <td>9120.04</td>\n",
       "      <td>8391.31</td>\n",
       "    </tr>\n",
       "    <tr>\n",
       "      <th>전체</th>\n",
       "      <td>7477.54</td>\n",
       "      <td>12559.60</td>\n",
       "      <td>8658.67</td>\n",
       "      <td>8078.53</td>\n",
       "      <td>9903.63</td>\n",
       "      <td>11771.30</td>\n",
       "      <td>9786.02</td>\n",
       "      <td>11936.17</td>\n",
       "      <td>22610.35</td>\n",
       "      <td>9805.42</td>\n",
       "      <td>10492.71</td>\n",
       "      <td>11257.03</td>\n",
       "      <td>7283.56</td>\n",
       "      <td>7292.60</td>\n",
       "      <td>10784.99</td>\n",
       "      <td>7815.32</td>\n",
       "      <td>7219.01</td>\n",
       "    </tr>\n",
       "  </tbody>\n",
       "</table>\n",
       "</div>"
      ],
      "text/plain": [
       "지역명            강원        경기        경남       경북        광주        대구        대전  \\\n",
       "전용면적                                                                           \n",
       "102㎡~     8311.38  14771.79  10358.36  9157.30  11041.53  13087.34  14876.87   \n",
       "60㎡       7567.10  13251.74   8689.17  7883.17   9430.67  11992.07   9176.48   \n",
       "60㎡~85㎡   7485.59  12523.57   8618.68  8061.37   9910.69  11778.69   9711.37   \n",
       "85㎡~102㎡  8749.56  13677.77  10017.61  8773.81   9296.10  11140.64   9037.43   \n",
       "전체        7477.54  12559.60   8658.67  8078.53   9903.63  11771.30   9786.02   \n",
       "\n",
       "지역명             부산        서울        세종        울산        인천       전남       전북  \\\n",
       "전용면적                                                                           \n",
       "102㎡~     13208.25  23446.04  10106.98   9974.45  14362.03  8168.49  8193.57   \n",
       "60㎡       11353.78  23212.79   9323.93   9202.11  11241.32  7210.17  7609.93   \n",
       "60㎡~85㎡   11864.82  22786.83   9775.46  10502.53  11384.41  7269.24  7271.35   \n",
       "85㎡~102㎡  12072.59  25943.87   9847.93   8861.01  11527.56  7908.86  8275.78   \n",
       "전체        11936.17  22610.35   9805.42  10492.71  11257.03  7283.56  7292.60   \n",
       "\n",
       "지역명             제주       충남       충북  \n",
       "전용면적                                  \n",
       "102㎡~     10522.79  8689.17  8195.35  \n",
       "60㎡       14022.22  7911.16  7103.12  \n",
       "60㎡~85㎡   10621.31  7818.95  7264.49  \n",
       "85㎡~102㎡  10709.08  9120.04  8391.31  \n",
       "전체        10784.99  7815.32  7219.01  "
      ]
     },
     "execution_count": 32,
     "metadata": {},
     "output_type": "execute_result"
    }
   ],
   "source": [
    "# 지역명, 전용면적으로 평당분양가격의 평균을 구합니다.\n",
    "# df_last.groupby([\"전용면적\", \"지역명\"])[\"평당분양가격\"].mean().unstack().round()\n",
    "\n",
    "df_last.pivot_table(index='전용면적', columns = '지역명', values='평당분양가격').round(2)"
   ]
  },
  {
   "cell_type": "code",
   "execution_count": 33,
   "metadata": {},
   "outputs": [
    {
     "data": {
      "text/html": [
       "<div>\n",
       "<style scoped>\n",
       "    .dataframe tbody tr th:only-of-type {\n",
       "        vertical-align: middle;\n",
       "    }\n",
       "\n",
       "    .dataframe tbody tr th {\n",
       "        vertical-align: top;\n",
       "    }\n",
       "\n",
       "    .dataframe thead th {\n",
       "        text-align: right;\n",
       "    }\n",
       "</style>\n",
       "<table border=\"1\" class=\"dataframe\">\n",
       "  <thead>\n",
       "    <tr style=\"text-align: right;\">\n",
       "      <th></th>\n",
       "      <th>평당분양가격</th>\n",
       "    </tr>\n",
       "    <tr>\n",
       "      <th>지역명</th>\n",
       "      <th></th>\n",
       "    </tr>\n",
       "  </thead>\n",
       "  <tbody>\n",
       "    <tr>\n",
       "      <th>강원</th>\n",
       "      <td>7273.560000</td>\n",
       "    </tr>\n",
       "    <tr>\n",
       "      <th>경기</th>\n",
       "      <td>12304.980000</td>\n",
       "    </tr>\n",
       "    <tr>\n",
       "      <th>경남</th>\n",
       "      <td>8786.760000</td>\n",
       "    </tr>\n",
       "    <tr>\n",
       "      <th>경북</th>\n",
       "      <td>8280.800000</td>\n",
       "    </tr>\n",
       "    <tr>\n",
       "      <th>광주</th>\n",
       "      <td>9613.977551</td>\n",
       "    </tr>\n",
       "    <tr>\n",
       "      <th>대구</th>\n",
       "      <td>12206.700000</td>\n",
       "    </tr>\n",
       "    <tr>\n",
       "      <th>대전</th>\n",
       "      <td>9957.158491</td>\n",
       "    </tr>\n",
       "    <tr>\n",
       "      <th>부산</th>\n",
       "      <td>11560.680000</td>\n",
       "    </tr>\n",
       "    <tr>\n",
       "      <th>서울</th>\n",
       "      <td>21831.060000</td>\n",
       "    </tr>\n",
       "    <tr>\n",
       "      <th>세종</th>\n",
       "      <td>9132.505556</td>\n",
       "    </tr>\n",
       "    <tr>\n",
       "      <th>울산</th>\n",
       "      <td>10666.935714</td>\n",
       "    </tr>\n",
       "    <tr>\n",
       "      <th>인천</th>\n",
       "      <td>11640.600000</td>\n",
       "    </tr>\n",
       "    <tr>\n",
       "      <th>전남</th>\n",
       "      <td>7372.920000</td>\n",
       "    </tr>\n",
       "    <tr>\n",
       "      <th>전북</th>\n",
       "      <td>7398.973585</td>\n",
       "    </tr>\n",
       "    <tr>\n",
       "      <th>제주</th>\n",
       "      <td>12566.730000</td>\n",
       "    </tr>\n",
       "    <tr>\n",
       "      <th>충남</th>\n",
       "      <td>8198.422222</td>\n",
       "    </tr>\n",
       "    <tr>\n",
       "      <th>충북</th>\n",
       "      <td>7473.120000</td>\n",
       "    </tr>\n",
       "  </tbody>\n",
       "</table>\n",
       "</div>"
      ],
      "text/plain": [
       "           평당분양가격\n",
       "지역명              \n",
       "강원    7273.560000\n",
       "경기   12304.980000\n",
       "경남    8786.760000\n",
       "경북    8280.800000\n",
       "광주    9613.977551\n",
       "대구   12206.700000\n",
       "대전    9957.158491\n",
       "부산   11560.680000\n",
       "서울   21831.060000\n",
       "세종    9132.505556\n",
       "울산   10666.935714\n",
       "인천   11640.600000\n",
       "전남    7372.920000\n",
       "전북    7398.973585\n",
       "제주   12566.730000\n",
       "충남    8198.422222\n",
       "충북    7473.120000"
      ]
     },
     "execution_count": 33,
     "metadata": {},
     "output_type": "execute_result"
    }
   ],
   "source": [
    "# 연도, 지역명으로 평당분양가격의 평균을 구합니다.\n",
    "# g = df_last.groupby([\"연도\", \"지역명\"])[\"평당분양가격\"].mean()\n",
    "\n",
    "# pd.pivot_table(df_last, index = '연도', columns = '지역명', values = '평당분양가격')\n",
    "p = pd.pivot_table(df_last, index = ['연도', '지역명'], values = '평당분양가격')\n",
    "p.loc[2017] # 행 기준 가져옴"
   ]
  },
  {
   "cell_type": "markdown",
   "metadata": {
    "colab_type": "text",
    "id": "y6kOVY3CJZVQ"
   },
   "source": [
    "## 최근 데이터 시각화 하기\n",
    "### 데이터시각화를 위한 폰트설정\n",
    "한글폰트 사용을 위해 matplotlib의 pyplot을 plt라는 별칭으로 불러옵니다."
   ]
  },
  {
   "cell_type": "code",
   "execution_count": 34,
   "metadata": {},
   "outputs": [],
   "source": [
    "import matplotlib.pyplot as plt\n",
    "\n",
    "plt.rc(\"font\", family=\"Malgun Gothic\")\n",
    "# plt.rc(\"font\", family=\"AppleGothic\")"
   ]
  },
  {
   "cell_type": "markdown",
   "metadata": {},
   "source": [
    "### Pandas로 시각화 하기 - 선그래프와 막대그래프\n",
    "pandas의 plot을 활용하면 다양한 그래프를 그릴 수 있습니다.\n",
    "seaborn을 사용했을 때보다 pandas를 사용해서 시각화를 할 때의 장점은 미리 계산을 하고 그리기 때문에 속도가 좀 더 빠릅니다."
   ]
  },
  {
   "cell_type": "code",
   "execution_count": 35,
   "metadata": {},
   "outputs": [
    {
     "data": {
      "text/plain": [
       "<AxesSubplot:xlabel='지역명'>"
      ]
     },
     "execution_count": 35,
     "metadata": {},
     "output_type": "execute_result"
    },
    {
     "data": {
      "image/png": "[encoded data removed]",
      "text/plain": [
       "<Figure size 432x288 with 1 Axes>"
      ]
     },
     "metadata": {
      "needs_background": "light"
     },
     "output_type": "display_data"
    }
   ],
   "source": [
    "# 지역명으로 분양가격의 평균을 구하고 선그래프로 시각화 합니다.\n",
    "g = df_last.groupby(['지역명'])['평당분양가격'].mean().sort_values(ascending=False)\n",
    "g.plot()"
   ]
  },
  {
   "cell_type": "code",
   "execution_count": 36,
   "metadata": {
    "colab": {},
    "colab_type": "code",
    "id": "zLLbvsgAJZVV"
   },
   "outputs": [
    {
     "data": {
      "text/plain": [
       "<AxesSubplot:xlabel='지역명'>"
      ]
     },
     "execution_count": 36,
     "metadata": {},
     "output_type": "execute_result"
    },
    {
     "data": {
      "image/png": "[encoded data removed]",
      "text/plain": [
       "<Figure size 720x216 with 1 Axes>"
      ]
     },
     "metadata": {
      "needs_background": "light"
     },
     "output_type": "display_data"
    }
   ],
   "source": [
    "# 지역명으로 분양가격의 평균을 구하고 막대그래프(bar)로 시각화 합니다.\n",
    "\n",
    "g.plot.bar(rot=0, figsize=(10,3))"
   ]
  },
  {
   "cell_type": "markdown",
   "metadata": {
    "colab_type": "text",
    "id": "mW5UyrkSJZVZ"
   },
   "source": [
    "전용면적별 분양가격의 평균값을 구하고 그래프로 그려봅니다."
   ]
  },
  {
   "cell_type": "code",
   "execution_count": 37,
   "metadata": {
    "colab": {},
    "colab_type": "code",
    "id": "YL0cMtMGJZVa"
   },
   "outputs": [
    {
     "ename": "AttributeError",
     "evalue": "'AxesSubplot' object has no attribute 'sort_values'",
     "output_type": "error",
     "traceback": [
      "\u001b[1;31m---------------------------------------------------------------------------\u001b[0m",
      "\u001b[1;31mAttributeError\u001b[0m                            Traceback (most recent call last)",
      "\u001b[1;32m<ipython-input-37-be5d54e317ba>\u001b[0m in \u001b[0;36m<module>\u001b[1;34m\u001b[0m\n\u001b[0;32m      1\u001b[0m \u001b[1;31m# 전용면적으로 분양가격의 평균을 구하고 막대그래프(bar)로 시각화 합니다.\u001b[0m\u001b[1;33m\u001b[0m\u001b[1;33m\u001b[0m\u001b[1;33m\u001b[0m\u001b[0m\n\u001b[0;32m      2\u001b[0m \u001b[1;33m\u001b[0m\u001b[0m\n\u001b[1;32m----> 3\u001b[1;33m \u001b[0mdf_last\u001b[0m\u001b[1;33m.\u001b[0m\u001b[0mgroupby\u001b[0m\u001b[1;33m(\u001b[0m\u001b[1;33m[\u001b[0m\u001b[1;34m'전용면적'\u001b[0m\u001b[1;33m]\u001b[0m\u001b[1;33m)\u001b[0m\u001b[1;33m[\u001b[0m\u001b[1;34m'분양가격'\u001b[0m\u001b[1;33m]\u001b[0m\u001b[1;33m.\u001b[0m\u001b[0mmean\u001b[0m\u001b[1;33m(\u001b[0m\u001b[1;33m)\u001b[0m\u001b[1;33m.\u001b[0m\u001b[0mplot\u001b[0m\u001b[1;33m.\u001b[0m\u001b[0mbar\u001b[0m\u001b[1;33m(\u001b[0m\u001b[1;33m)\u001b[0m\u001b[1;33m.\u001b[0m\u001b[0msort_values\u001b[0m\u001b[1;33m(\u001b[0m\u001b[0mascending\u001b[0m\u001b[1;33m=\u001b[0m\u001b[1;32mFalse\u001b[0m\u001b[1;33m)\u001b[0m\u001b[1;33m\u001b[0m\u001b[1;33m\u001b[0m\u001b[0m\n\u001b[0m",
      "\u001b[1;31mAttributeError\u001b[0m: 'AxesSubplot' object has no attribute 'sort_values'"
     ]
    },
    {
     "data": {
      "image/png": "[encoded data removed]",
      "text/plain": [
       "<Figure size 432x288 with 1 Axes>"
      ]
     },
     "metadata": {
      "needs_background": "light"
     },
     "output_type": "display_data"
    }
   ],
   "source": [
    "# 전용면적으로 분양가격의 평균을 구하고 막대그래프(bar)로 시각화 합니다.\n",
    "\n",
    "df_last.groupby(['전용면적'])['분양가격'].mean().plot.bar().sort_values(ascending=False)"
   ]
  },
  {
   "cell_type": "code",
   "execution_count": null,
   "metadata": {},
   "outputs": [],
   "source": [
    "df_last.head()"
   ]
  },
  {
   "cell_type": "code",
   "execution_count": null,
   "metadata": {},
   "outputs": [],
   "source": [
    "# 연도별 분양가격 평균을 구하고 막대그래프로 시각화\n",
    "df_last.groupby(['연도'])['평당분양가격'].mean().plot()\n",
    "pd.pivot_table(df_last, index='연도', values='평당분양가격').plot(kind='bar')"
   ]
  },
  {
   "cell_type": "markdown",
   "metadata": {
    "colab_type": "text",
    "id": "R5QxvdFJJZVc"
   },
   "source": [
    "### box-and-whisker plot | diagram\n",
    "\n",
    "* https://pandas.pydata.org/pandas-docs/stable/user_guide/visualization.html\n",
    "* https://pandas.pydata.org/pandas-docs/stable/reference/api/pandas.DataFrame.boxplot.html\n",
    "\n",
    "* [상자 수염 그림 - 위키백과, 우리 모두의 백과사전](https://ko.wikipedia.org/wiki/%EC%83%81%EC%9E%90_%EC%88%98%EC%97%BC_%EA%B7%B8%EB%A6%BC)\n",
    "* 가공하지 않은 자료 그대로를 이용하여 그린 것이 아니라, 자료로부터 얻어낸 통계량인 5가지 요약 수치로 그린다.\n",
    "* 5가지 요약 수치란 기술통계학에서 자료의 정보를 알려주는 아래의 다섯 가지 수치를 의미한다.\n",
    "\n",
    "\n",
    "1. 최솟값\n",
    "1. 제 1사분위수\n",
    "1. 제 2사분위수( ), 즉 중앙값\n",
    "1. 제 3 사분위 수( )\n",
    "1. 최댓값\n",
    "\n",
    "* Box plot 이해하기 : \n",
    "    * [박스 플롯에 대하여 :: -[|]- Box and Whisker](https://boxnwhis.kr/2019/02/19/boxplot.html)\n",
    "    * [Understanding Boxplots – Towards Data Science](https://towardsdatascience.com/understanding-boxplots-5e2df7bcbd51)"
   ]
  },
  {
   "cell_type": "code",
   "execution_count": 42,
   "metadata": {},
   "outputs": [
    {
     "data": {
      "text/plain": [
       "<AxesSubplot:>"
      ]
     },
     "execution_count": 42,
     "metadata": {},
     "output_type": "execute_result"
    },
    {
     "data": {
      "image/png": "[encoded data removed]",
      "text/plain": [
       "<Figure size 432x288 with 1 Axes>"
      ]
     },
     "metadata": {
      "needs_background": "light"
     },
     "output_type": "display_data"
    }
   ],
   "source": [
    "# index를 월, columns 를 연도로 구하고 평당분양가격 으로 pivot_table 을 구하고 상자수염그림을 그립니다.\n",
    "df_last.pivot_table(index='전용면적', columns='연도', values = '평당분양가격').plot.box()"
   ]
  },
  {
   "cell_type": "code",
   "execution_count": 44,
   "metadata": {},
   "outputs": [
    {
     "data": {
      "text/plain": [
       "<AxesSubplot:>"
      ]
     },
     "execution_count": 44,
     "metadata": {},
     "output_type": "execute_result"
    },
    {
     "data": {
      "image/png": "[encoded data removed]",
      "text/plain": [
       "<Figure size 1080x216 with 1 Axes>"
      ]
     },
     "metadata": {
      "needs_background": "light"
     },
     "output_type": "display_data"
    }
   ],
   "source": [
    "# columns 에 \"연도\", \"전용면적\"을 추가해서 pivot_table 을 만들고 시각화 합니다.\n",
    "\n",
    "p = df_last.pivot_table(index='월', columns=['연도','전용면적'], values = '평당분양가격')\n",
    "p.plot.box(figsize=(15,3), rot =30)"
   ]
  },
  {
   "cell_type": "code",
   "execution_count": 48,
   "metadata": {
    "colab": {},
    "colab_type": "code",
    "id": "Z8nv1y-nJZVd"
   },
   "outputs": [
    {
     "data": {
      "text/plain": [
       "<AxesSubplot:xlabel='연도'>"
      ]
     },
     "execution_count": 48,
     "metadata": {},
     "output_type": "execute_result"
    },
    {
     "data": {
      "image/png": "[encoded data removed]",
      "text/plain": [
       "<Figure size 1080x216 with 1 Axes>"
      ]
     },
     "metadata": {
      "needs_background": "light"
     },
     "output_type": "display_data"
    }
   ],
   "source": [
    "# index를 월, columns 를 지역명으로 구하고 평당분양가격 으로 pivot_table 을 구하고 선그래프를 그립니다.\n",
    "p = df_last.pivot_table(index='연도', columns='월', values = '평당분양가격')\n",
    "p.plot(figsize=(15,3), rot =30)\n"
   ]
  },
  {
   "cell_type": "markdown",
   "metadata": {
    "colab_type": "text",
    "id": "D6DhLjbeJZVq"
   },
   "source": [
    "### Seaborn 으로 시각화 해보기"
   ]
  },
  {
   "cell_type": "code",
   "execution_count": 50,
   "metadata": {},
   "outputs": [],
   "source": [
    "# 라이브러리 로드하기\n",
    "import seaborn as sns\n",
    "\n",
    "%matplotlib inline"
   ]
  },
  {
   "cell_type": "code",
   "execution_count": 60,
   "metadata": {
    "colab": {},
    "colab_type": "code",
    "id": "FK4lchFMJZVs"
   },
   "outputs": [
    {
     "data": {
      "text/plain": [
       "<AxesSubplot:xlabel='지역명', ylabel='평당분양가격'>"
      ]
     },
     "execution_count": 60,
     "metadata": {},
     "output_type": "execute_result"
    },
    {
     "data": {
      "image/png": "[encoded data removed]",
      "text/plain": [
       "<Figure size 720x216 with 1 Axes>"
      ]
     },
     "metadata": {
      "needs_background": "light"
     },
     "output_type": "display_data"
    }
   ],
   "source": [
    "# barplot으로 지역별 평당분양가격을 그려봅니다.\n",
    "plt.figure(figsize=(10,3))\n",
    "sns.barplot(data=df_last, x='지역명', y='평당분양가격') # sd : 표준편차"
   ]
  },
  {
   "cell_type": "code",
   "execution_count": 61,
   "metadata": {
    "colab": {},
    "colab_type": "code",
    "id": "3GLbX_atJZVv",
    "scrolled": true
   },
   "outputs": [
    {
     "data": {
      "text/plain": [
       "<AxesSubplot:xlabel='연도', ylabel='평당분양가격'>"
      ]
     },
     "execution_count": 61,
     "metadata": {},
     "output_type": "execute_result"
    },
    {
     "data": {
      "image/png": "[encoded data removed]",
      "text/plain": [
       "<Figure size 432x288 with 1 Axes>"
      ]
     },
     "metadata": {
      "needs_background": "light"
     },
     "output_type": "display_data"
    }
   ],
   "source": [
    "# barplot으로 연도별 평당분양가격을 그려봅니다.\n",
    "sns.barplot(data=df_last, x='연도', y='평당분양가격')\n"
   ]
  },
  {
   "cell_type": "code",
   "execution_count": 78,
   "metadata": {},
   "outputs": [
    {
     "data": {
      "text/plain": [
       "<seaborn.axisgrid.FacetGrid at 0x1a7f34848e0>"
      ]
     },
     "execution_count": 78,
     "metadata": {},
     "output_type": "execute_result"
    },
    {
     "data": {
      "image/png": "[encoded data removed]",
      "text/plain": [
       "<Figure size 1440x1800 with 17 Axes>"
      ]
     },
     "metadata": {
      "needs_background": "light"
     },
     "output_type": "display_data"
    }
   ],
   "source": [
    "# catplot 으로 서브플롯 그리기\n",
    "sns.catplot(data=df_last, x='연도', y='평당분양가격', kind='bar', col='지역명', col_wrap=4)\n"
   ]
  },
  {
   "cell_type": "markdown",
   "metadata": {},
   "source": [
    "https://stackoverflow.com/questions/30490740/move-legend-outside-figure-in-seaborn-tsplot"
   ]
  },
  {
   "cell_type": "code",
   "execution_count": 69,
   "metadata": {
    "colab": {},
    "colab_type": "code",
    "id": "Gw1TJOE0JZVz"
   },
   "outputs": [
    {
     "data": {
      "text/plain": [
       "<matplotlib.legend.Legend at 0x1a7ef767a90>"
      ]
     },
     "execution_count": 69,
     "metadata": {},
     "output_type": "execute_result"
    },
    {
     "data": {
      "image/png": "[encoded data removed]",
      "text/plain": [
       "<Figure size 720x360 with 1 Axes>"
      ]
     },
     "metadata": {
      "needs_background": "light"
     },
     "output_type": "display_data"
    }
   ],
   "source": [
    "# lineplot으로 연도별 평당분양가격을 그려봅니다.\n",
    "# hue 옵션을 통해 지역별로 다르게 표시해 봅니다.\n",
    "plt.figure(figsize=(10,5))\n",
    "sns.lineplot(data=df_last, x='연도', y='평당분양가격',hue='지역명')\n",
    "plt.legend(bbox_to_anchor=(1.02, 1), loc=2, borderaxespad=0.)"
   ]
  },
  {
   "cell_type": "code",
   "execution_count": 76,
   "metadata": {},
   "outputs": [
    {
     "data": {
      "text/plain": [
       "<seaborn.axisgrid.FacetGrid at 0x1a7f0b64a30>"
      ]
     },
     "execution_count": 76,
     "metadata": {},
     "output_type": "execute_result"
    },
    {
     "data": {
      "image/png": "[encoded data removed]",
      "text/plain": [
       "<Figure size 1496x1800 with 17 Axes>"
      ]
     },
     "metadata": {
      "needs_background": "light"
     },
     "output_type": "display_data"
    }
   ],
   "source": [
    "# relplot 으로 서브플롯 그리기\n",
    "sns.relplot(data=df_last, x='연도', y='평당분양가격',\n",
    "            hue='지역명',kind='line', col='지역명', col_wrap=4, ci=None) # 지역별 평균값 구해서 시각화\n"
   ]
  },
  {
   "cell_type": "markdown",
   "metadata": {},
   "source": [
    "### boxplot과 violinplot"
   ]
  },
  {
   "cell_type": "code",
   "execution_count": 83,
   "metadata": {
    "colab": {},
    "colab_type": "code",
    "id": "rxsrlYmyJZV5"
   },
   "outputs": [
    {
     "data": {
      "text/plain": [
       "<AxesSubplot:xlabel='연도', ylabel='평당분양가격'>"
      ]
     },
     "execution_count": 83,
     "metadata": {},
     "output_type": "execute_result"
    },
    {
     "data": {
      "image/png": "[encoded data removed]",
      "text/plain": [
       "<Figure size 432x288 with 1 Axes>"
      ]
     },
     "metadata": {
      "needs_background": "light"
     },
     "output_type": "display_data"
    }
   ],
   "source": [
    "# 연도별 평당분양가격을 boxplot으로 그려봅니다.\n",
    "# 최솟값\n",
    "# 제 1사분위수\n",
    "# 제 2사분위수( ), 즉 중앙값\n",
    "# 제 3 사분위 수( )\n",
    "# 최댓값\n",
    "sns.boxplot(data=df_last, x='연도', y='평당분양가격')\n"
   ]
  },
  {
   "cell_type": "code",
   "execution_count": 85,
   "metadata": {
    "colab": {},
    "colab_type": "code",
    "id": "6YzYjc_xJZV7"
   },
   "outputs": [
    {
     "data": {
      "text/plain": [
       "<AxesSubplot:xlabel='연도', ylabel='평당분양가격'>"
      ]
     },
     "execution_count": 85,
     "metadata": {},
     "output_type": "execute_result"
    },
    {
     "data": {
      "image/png": "[encoded data removed]",
      "text/plain": [
       "<Figure size 1080x288 with 1 Axes>"
      ]
     },
     "metadata": {
      "needs_background": "light"
     },
     "output_type": "display_data"
    }
   ],
   "source": [
    "# hue옵션을 주어 전용면적별로 다르게 표시해 봅니다.\n",
    "plt.figure(figsize=(15,4))\n",
    "sns.boxplot(data=df_last, x='연도', y='평당분양가격', hue='전용면적')\n"
   ]
  },
  {
   "cell_type": "code",
   "execution_count": 86,
   "metadata": {
    "colab": {},
    "colab_type": "code",
    "id": "sN78v5QHJZV9"
   },
   "outputs": [
    {
     "data": {
      "text/plain": [
       "<AxesSubplot:xlabel='연도', ylabel='평당분양가격'>"
      ]
     },
     "execution_count": 86,
     "metadata": {},
     "output_type": "execute_result"
    },
    {
     "data": {
      "image/png": "[encoded data removed]",
      "text/plain": [
       "<Figure size 432x288 with 1 Axes>"
      ]
     },
     "metadata": {
      "needs_background": "light"
     },
     "output_type": "display_data"
    }
   ],
   "source": [
    "# 연도별 평당분양가격을 violinplot으로 그려봅니다.\n",
    "\n",
    "sns.violinplot(data=df_last, x='연도', y='평당분양가격') # 밀도 추정 값을 그려줌 밀도 추정 그래프를 세로로 세운 모양"
   ]
  },
  {
   "cell_type": "markdown",
   "metadata": {},
   "source": [
    "### lmplot과 swarmplot "
   ]
  },
  {
   "cell_type": "code",
   "execution_count": null,
   "metadata": {
    "colab": {},
    "colab_type": "code",
    "id": "tqDZ3quoJZWB"
   },
   "outputs": [],
   "source": [
    "# 연도별 평당분양가격을 lmplot으로 그려봅니다. \n",
    "# hue 옵션으로 전용면적을 표현해 봅니다.\n",
    "\n"
   ]
  },
  {
   "cell_type": "code",
   "execution_count": null,
   "metadata": {
    "colab": {},
    "colab_type": "code",
    "id": "8HXGt1ZSJZWD",
    "scrolled": true
   },
   "outputs": [],
   "source": [
    "# 연도별 평당분양가격을 swarmplot 으로 그려봅니다. \n",
    "# swarmplot은 범주형(카테고리) 데이터의 산점도를 표현하기에 적합합니다.\n",
    "\n"
   ]
  },
  {
   "cell_type": "markdown",
   "metadata": {
    "colab_type": "text",
    "id": "3FVFKFZyJZWF"
   },
   "source": [
    "### 이상치 보기"
   ]
  },
  {
   "cell_type": "code",
   "execution_count": null,
   "metadata": {
    "colab": {},
    "colab_type": "code",
    "id": "AOVmBaRIJZWG"
   },
   "outputs": [],
   "source": [
    "# 평당분양가격의 최대값을 구해서 max_price 라는 변수에 담습니다.\n"
   ]
  },
  {
   "cell_type": "code",
   "execution_count": null,
   "metadata": {},
   "outputs": [],
   "source": []
  },
  {
   "cell_type": "code",
   "execution_count": null,
   "metadata": {
    "colab": {},
    "colab_type": "code",
    "id": "MsnZwsdGJZWH"
   },
   "outputs": [],
   "source": [
    "# 서울의 평당분양가격이 특히 높은 데이터가 있습니다. 해당 데이터를 가져옵니다.\n",
    "\n"
   ]
  },
  {
   "cell_type": "markdown",
   "metadata": {
    "colab_type": "text",
    "id": "L-lOJGCAJZWK"
   },
   "source": [
    "### 수치데이터 히스토그램 그리기"
   ]
  },
  {
   "cell_type": "markdown",
   "metadata": {
    "colab_type": "text",
    "id": "qg_D3zf0JZWK"
   },
   "source": [
    "distplot은 결측치가 있으면 그래프를 그릴 때 오류가 납니다. \n",
    "따라서 결측치가 아닌 데이터만 따로 모아서 평당분양가격을 시각화하기 위한 데이터를 만듭니다.\n",
    "데이터프레임의 .loc를 활용하여 결측치가 없는 데이터에서 평당분양가격만 가져옵니다."
   ]
  },
  {
   "cell_type": "code",
   "execution_count": null,
   "metadata": {},
   "outputs": [],
   "source": []
  },
  {
   "cell_type": "code",
   "execution_count": null,
   "metadata": {
    "colab": {},
    "colab_type": "code",
    "id": "tgsPLSG7JZWL"
   },
   "outputs": [],
   "source": []
  },
  {
   "cell_type": "code",
   "execution_count": null,
   "metadata": {},
   "outputs": [],
   "source": [
    "# 결측치가 없는 데이터에서 평당분양가격만 가져옵니다. 그리고 price라는 변수에 담습니다.\n",
    "# .loc[행]\n",
    "# .loc[행, 열]\n",
    "\n"
   ]
  },
  {
   "cell_type": "code",
   "execution_count": null,
   "metadata": {
    "colab": {},
    "colab_type": "code",
    "id": "rV3v5VOxJZWM",
    "scrolled": true
   },
   "outputs": [],
   "source": [
    "# distplot으로 평당분양가격을 표현해 봅니다.\n",
    "\n"
   ]
  },
  {
   "cell_type": "code",
   "execution_count": null,
   "metadata": {},
   "outputs": [],
   "source": [
    "# sns.distplot(price, hist=False, rug=True)\n",
    "\n"
   ]
  },
  {
   "cell_type": "markdown",
   "metadata": {},
   "source": [
    "* distplot을 산마루 형태의 ridge plot으로 그리기\n",
    "* https://seaborn.pydata.org/tutorial/axis_grids.html#conditional-small-multiples\n",
    "* https://seaborn.pydata.org/examples/kde_ridgeplot.html"
   ]
  },
  {
   "cell_type": "code",
   "execution_count": null,
   "metadata": {
    "colab": {},
    "colab_type": "code",
    "id": "g2pcgOGSJZWP",
    "scrolled": false
   },
   "outputs": [],
   "source": [
    "# subplot 으로 표현해 봅니다.\n",
    "\n"
   ]
  },
  {
   "cell_type": "code",
   "execution_count": null,
   "metadata": {},
   "outputs": [],
   "source": [
    "# pairplot\n",
    "\n"
   ]
  },
  {
   "cell_type": "code",
   "execution_count": null,
   "metadata": {
    "colab": {},
    "colab_type": "code",
    "id": "VFj5rmGCJZWU"
   },
   "outputs": [],
   "source": [
    "# 규모구분(전용면적)별로 value_counts를 사용해서 데이터를 집계해 봅니다.\n",
    "\n"
   ]
  },
  {
   "cell_type": "markdown",
   "metadata": {
    "colab_type": "text",
    "id": "B1Y4qFSKJZWa"
   },
   "source": [
    "## 2015년 8월 이전 데이터 보기"
   ]
  },
  {
   "cell_type": "code",
   "execution_count": null,
   "metadata": {},
   "outputs": [],
   "source": [
    "# 모든 컬럼이 출력되게 설정합니다.\n",
    "\n"
   ]
  },
  {
   "cell_type": "code",
   "execution_count": null,
   "metadata": {},
   "outputs": [],
   "source": [
    "# head 로 미리보기를 합니다.\n",
    "\n"
   ]
  },
  {
   "cell_type": "code",
   "execution_count": null,
   "metadata": {
    "colab": {},
    "colab_type": "code",
    "id": "ZsRnpSRJJZWa"
   },
   "outputs": [],
   "source": [
    "# df_first 변수에 담겨있는 데이터프레임의 정보를 info를 통해 봅니다.\n",
    "\n"
   ]
  },
  {
   "cell_type": "code",
   "execution_count": null,
   "metadata": {
    "colab": {},
    "colab_type": "code",
    "id": "BE3i4RslJZWc",
    "scrolled": false
   },
   "outputs": [],
   "source": [
    "# 결측치가 있는지 봅니다.\n",
    "\n"
   ]
  },
  {
   "cell_type": "markdown",
   "metadata": {
    "colab_type": "text",
    "id": "qJPb9qxMJZWi"
   },
   "source": [
    "### melt로 Tidy data 만들기\n",
    "pandas의 melt를 사용하면 데이터의 형태를 변경할 수 있습니다. \n",
    "df_first 변수에 담긴 데이터프레임은 df_last에 담겨있는 데이터프레임의 모습과 다릅니다. \n",
    "같은 형태로 만들어주어야 데이터를 합칠 수 있습니다. \n",
    "데이터를 병합하기 위해 melt를 사용해 열에 있는 데이터를 행으로 녹여봅니다.\n",
    "\n",
    "* https://pandas.pydata.org/docs/user_guide/reshaping.html#reshaping-by-melt\n",
    "* [Tidy Data 란?](https://vita.had.co.nz/papers/tidy-data.pdf)"
   ]
  },
  {
   "cell_type": "code",
   "execution_count": null,
   "metadata": {},
   "outputs": [],
   "source": [
    "# head 로 미리보기 합니다.\n",
    "\n"
   ]
  },
  {
   "cell_type": "code",
   "execution_count": null,
   "metadata": {
    "colab": {},
    "colab_type": "code",
    "id": "XFlALkt_JZWi"
   },
   "outputs": [],
   "source": [
    "# pd.melt 를 사용하며, 녹인 데이터는 df_first_melt 변수에 담습니다. \n",
    "\n",
    "\n"
   ]
  },
  {
   "cell_type": "code",
   "execution_count": null,
   "metadata": {
    "colab": {},
    "colab_type": "code",
    "id": "cw_cUHIBJZWm"
   },
   "outputs": [],
   "source": [
    "# df_first_melt 변수에 담겨진 컬럼의 이름을 \n",
    "# [\"지역명\", \"기간\", \"평당분양가격\"] 으로 변경합니다.\n",
    "\n"
   ]
  },
  {
   "cell_type": "markdown",
   "metadata": {},
   "source": [
    "### 연도와 월을 분리하기\n",
    "* pandas 의 string-handling 사용하기 : https://pandas.pydata.org/pandas-docs/stable/reference/series.html#string-handling"
   ]
  },
  {
   "cell_type": "code",
   "execution_count": null,
   "metadata": {
    "colab": {},
    "colab_type": "code",
    "id": "PxzM-lNZJZWo"
   },
   "outputs": [],
   "source": [
    "date = \"2013년12월\"\n",
    "date"
   ]
  },
  {
   "cell_type": "code",
   "execution_count": null,
   "metadata": {
    "colab": {},
    "colab_type": "code",
    "id": "FvVearAvJZWq"
   },
   "outputs": [],
   "source": [
    "# split 을 통해 \"년\"을 기준으로 텍스트를 분리해 봅니다.\n",
    "\n"
   ]
  },
  {
   "cell_type": "code",
   "execution_count": null,
   "metadata": {
    "colab": {},
    "colab_type": "code",
    "id": "XN7UQjf2JZWr"
   },
   "outputs": [],
   "source": [
    "# 리스트의 인덱싱을 사용해서 연도만 가져옵니다.\n",
    "\n"
   ]
  },
  {
   "cell_type": "code",
   "execution_count": null,
   "metadata": {
    "colab": {},
    "colab_type": "code",
    "id": "IerNx9rJJZWt"
   },
   "outputs": [],
   "source": [
    "# 리스트의 인덱싱과 replace를 사용해서 월을 제거합니다.\n",
    "\n"
   ]
  },
  {
   "cell_type": "code",
   "execution_count": null,
   "metadata": {
    "colab": {},
    "colab_type": "code",
    "id": "FzrhsBYVJZWu"
   },
   "outputs": [],
   "source": [
    "# parse_year라는 함수를 만듭니다.\n",
    "# 연도만 반환하도록 하며, 반환하는 데이터는 int 타입이 되도록 합니다.\n"
   ]
  },
  {
   "cell_type": "code",
   "execution_count": null,
   "metadata": {
    "colab": {},
    "colab_type": "code",
    "id": "_cb07-sTJZWv",
    "scrolled": true
   },
   "outputs": [],
   "source": [
    "# 제대로 분리가 되었는지 parse_year 함수를 확인합니다.\n",
    "\n"
   ]
  },
  {
   "cell_type": "code",
   "execution_count": null,
   "metadata": {
    "colab": {},
    "colab_type": "code",
    "id": "5ZZV-wMCJZWx"
   },
   "outputs": [],
   "source": [
    "# parse_month 라는 함수를 만듭니다.\n",
    "# 월만 반환하도록 하며, 반환하는 데이터는 int 타입이 되도록 합니다.\n"
   ]
  },
  {
   "cell_type": "code",
   "execution_count": null,
   "metadata": {
    "colab": {},
    "colab_type": "code",
    "id": "9Vg3xrfMJZWy"
   },
   "outputs": [],
   "source": [
    "# 제대로 분리가 되었는지 parse_month 함수를 확인합니다.\n",
    "\n"
   ]
  },
  {
   "cell_type": "code",
   "execution_count": null,
   "metadata": {
    "colab": {},
    "colab_type": "code",
    "id": "-1kqUVUiJZW2"
   },
   "outputs": [],
   "source": [
    "# df_first_melt 변수에 담긴 데이터프레임에서 \n",
    "# apply를 활용해 연도만 추출해서 새로운 컬럼에 담습니다.\n",
    "\n"
   ]
  },
  {
   "cell_type": "code",
   "execution_count": null,
   "metadata": {
    "colab": {},
    "colab_type": "code",
    "id": "rITud4g6JZW4"
   },
   "outputs": [],
   "source": [
    "# df_first_melt 변수에 담긴 데이터프레임에서 \n",
    "# apply를 활용해 월만 추출해서 새로운 컬럼에 담습니다.\n",
    "\n"
   ]
  },
  {
   "cell_type": "code",
   "execution_count": null,
   "metadata": {},
   "outputs": [],
   "source": [
    "# 컬럼명을 리스트로 만들때 버전에 따라 tolist() 로 동작하기도 합니다.\n",
    "# to_list() 가 동작하지 않는다면 tolist() 로 해보세요.\n",
    "\n"
   ]
  },
  {
   "cell_type": "code",
   "execution_count": null,
   "metadata": {
    "colab": {},
    "colab_type": "code",
    "id": "01xmyXCZJZW5"
   },
   "outputs": [],
   "source": [
    "# df_last와 병합을 하기 위해서는 컬럼의 이름이 같아야 합니다.\n",
    "# sample을 활용해서 데이터를 미리보기 합니다.\n",
    "\n"
   ]
  },
  {
   "cell_type": "code",
   "execution_count": null,
   "metadata": {},
   "outputs": [],
   "source": [
    "cols = ['지역명', '연도', '월', '평당분양가격']\n",
    "cols"
   ]
  },
  {
   "cell_type": "code",
   "execution_count": null,
   "metadata": {
    "colab": {},
    "colab_type": "code",
    "id": "g1ZjE8N2JZW8"
   },
   "outputs": [],
   "source": [
    "# 최근 데이터가 담긴 df_last 에는 전용면적이 있습니다. \n",
    "# 이전 데이터에는 전용면적이 없기 때문에 \"전체\"만 사용하도록 합니다.\n",
    "# loc를 사용해서 전체에 해당하는 면적만 copy로 복사해서 df_last_prepare 변수에 담습니다.\n",
    "\n"
   ]
  },
  {
   "cell_type": "code",
   "execution_count": null,
   "metadata": {
    "colab": {},
    "colab_type": "code",
    "id": "4CwygvPsJZW9"
   },
   "outputs": [],
   "source": [
    "# df_first_melt에서 공통된 컬럼만 가져온 뒤\n",
    "# copy로 복사해서 df_first_prepare 변수에 담습니다.\n",
    "\n"
   ]
  },
  {
   "cell_type": "markdown",
   "metadata": {
    "colab_type": "text",
    "id": "1D9an7yBJZW-"
   },
   "source": [
    "### concat 으로 데이터 합치기\n",
    "* https://pandas.pydata.org/pandas-docs/stable/reference/api/pandas.concat.html"
   ]
  },
  {
   "cell_type": "code",
   "execution_count": null,
   "metadata": {
    "colab": {},
    "colab_type": "code",
    "id": "zzt1XHxrJZW_"
   },
   "outputs": [],
   "source": [
    "# df_first_prepare 와 df_last_prepare 를 합쳐줍니다.\n",
    "\n"
   ]
  },
  {
   "cell_type": "code",
   "execution_count": null,
   "metadata": {
    "colab": {},
    "colab_type": "code",
    "id": "O4YP4QDkJZXC"
   },
   "outputs": [],
   "source": [
    "# 제대로 합쳐졌는지 미리보기를 합니다.\n",
    "\n"
   ]
  },
  {
   "cell_type": "code",
   "execution_count": null,
   "metadata": {
    "colab": {},
    "colab_type": "code",
    "id": "Qn5Cyfp2JZXE"
   },
   "outputs": [],
   "source": [
    "# 연도별로 데이터가 몇개씩 있는지 value_counts를 통해 세어봅니다.\n",
    "\n"
   ]
  },
  {
   "cell_type": "markdown",
   "metadata": {
    "colab_type": "text",
    "id": "pbwSpueSJZXF"
   },
   "source": [
    "### pivot_table 사용하기\n",
    "* https://pandas.pydata.org/docs/user_guide/reshaping.html#reshaping-and-pivot-tables"
   ]
  },
  {
   "cell_type": "code",
   "execution_count": null,
   "metadata": {
    "colab": {},
    "colab_type": "code",
    "id": "fmMM40-5JZXG",
    "scrolled": true
   },
   "outputs": [],
   "source": [
    "# 연도를 인덱스로, 지역명을 컬럼으로 평당분양가격을 피봇테이블로 그려봅니다.\n"
   ]
  },
  {
   "cell_type": "code",
   "execution_count": null,
   "metadata": {
    "colab": {},
    "colab_type": "code",
    "id": "IcMINejpJZXH"
   },
   "outputs": [],
   "source": [
    "# 위에서 그린 피봇테이블을 히트맵으로 표현해 봅니다.\n",
    "\n"
   ]
  },
  {
   "cell_type": "code",
   "execution_count": null,
   "metadata": {
    "colab": {},
    "colab_type": "code",
    "id": "fvSgNmt9JZXK"
   },
   "outputs": [],
   "source": [
    "# transpose 를 사용하면 행과 열을 바꿔줄 수 있습니다.\n",
    "\n"
   ]
  },
  {
   "cell_type": "code",
   "execution_count": null,
   "metadata": {
    "colab": {},
    "colab_type": "code",
    "id": "7e3AZk_iJZXM"
   },
   "outputs": [],
   "source": [
    "# 바뀐 행과 열을 히트맵으로 표현해 봅니다.\n",
    "\n"
   ]
  },
  {
   "cell_type": "code",
   "execution_count": null,
   "metadata": {
    "colab": {},
    "colab_type": "code",
    "id": "x7sStggaJZXN"
   },
   "outputs": [],
   "source": [
    "# Groupby로 그려봅니다. 인덱스에 [\"연도\", \"지역명\"] 을 넣고 그려봅니다.\n",
    "\n"
   ]
  },
  {
   "cell_type": "code",
   "execution_count": null,
   "metadata": {},
   "outputs": [],
   "source": []
  },
  {
   "cell_type": "markdown",
   "metadata": {
    "colab_type": "text",
    "id": "vVBBZGaZJZXO"
   },
   "source": [
    "## 2013년부터 최근 데이터까지 시각화하기\n",
    "### 연도별 평당분양가격 보기"
   ]
  },
  {
   "cell_type": "code",
   "execution_count": null,
   "metadata": {
    "colab": {},
    "colab_type": "code",
    "id": "iv0eQZCHJZXP"
   },
   "outputs": [],
   "source": [
    "# barplot 으로 연도별 평당분양가격 그리기\n"
   ]
  },
  {
   "cell_type": "code",
   "execution_count": null,
   "metadata": {
    "colab": {},
    "colab_type": "code",
    "id": "2rK7oFJbJZXR"
   },
   "outputs": [],
   "source": [
    "# pointplot 으로 연도별 평당분양가격 그리기\n"
   ]
  },
  {
   "cell_type": "code",
   "execution_count": null,
   "metadata": {
    "colab": {},
    "colab_type": "code",
    "id": "gLQJIom0JZXU"
   },
   "outputs": [],
   "source": [
    "# 서울만 barplot 으로 그리기\n"
   ]
  },
  {
   "cell_type": "code",
   "execution_count": null,
   "metadata": {
    "colab": {},
    "colab_type": "code",
    "id": "gkQm5wr_JZXW"
   },
   "outputs": [],
   "source": [
    "# 연도별 평당분양가격 boxplot 그리기\n",
    "\n"
   ]
  },
  {
   "cell_type": "code",
   "execution_count": null,
   "metadata": {},
   "outputs": [],
   "source": []
  },
  {
   "cell_type": "code",
   "execution_count": null,
   "metadata": {
    "colab": {},
    "colab_type": "code",
    "id": "6HFolwlNJZXX"
   },
   "outputs": [],
   "source": [
    "# 연도별 평당분양가격 violinplot 그리기\n",
    "\n"
   ]
  },
  {
   "cell_type": "code",
   "execution_count": null,
   "metadata": {
    "colab": {},
    "colab_type": "code",
    "id": "uyY0TQlDJZXb"
   },
   "outputs": [],
   "source": [
    "# 연도별 평당분양가격 swarmplot 그리기\n",
    "\n"
   ]
  },
  {
   "cell_type": "markdown",
   "metadata": {
    "colab_type": "text",
    "id": "HfEF2oEBJZXe"
   },
   "source": [
    "### 지역별 평당분양가격 보기"
   ]
  },
  {
   "cell_type": "code",
   "execution_count": null,
   "metadata": {
    "colab": {},
    "colab_type": "code",
    "id": "ChZzsxFyJZXe"
   },
   "outputs": [],
   "source": [
    "# barplot 으로 지역별 평당분양가격을 그려봅니다.\n",
    "\n"
   ]
  },
  {
   "cell_type": "code",
   "execution_count": null,
   "metadata": {
    "colab": {},
    "colab_type": "code",
    "id": "CbwY3fWHJZXh"
   },
   "outputs": [],
   "source": [
    "# boxplot 으로 지역별 평당분양가격을 그려봅니다.\n"
   ]
  },
  {
   "cell_type": "code",
   "execution_count": null,
   "metadata": {},
   "outputs": [],
   "source": []
  },
  {
   "cell_type": "code",
   "execution_count": null,
   "metadata": {
    "colab": {},
    "colab_type": "code",
    "id": "e_bpkMzXJZXi"
   },
   "outputs": [],
   "source": [
    "# violinplot 으로 지역별 평당분양가격을 그려봅니다.\n"
   ]
  },
  {
   "cell_type": "code",
   "execution_count": null,
   "metadata": {
    "colab": {},
    "colab_type": "code",
    "id": "ie5-t4I8JZXj"
   },
   "outputs": [],
   "source": [
    "# swarmplot 으로 지역별 평당분양가격을 그려봅니다.\n",
    "\n"
   ]
  },
  {
   "cell_type": "code",
   "execution_count": null,
   "metadata": {},
   "outputs": [],
   "source": []
  },
  {
   "cell_type": "code",
   "execution_count": null,
   "metadata": {},
   "outputs": [],
   "source": []
  },
  {
   "cell_type": "markdown",
   "metadata": {},
   "source": [
    "<big> 고생 많으셨습니다! 다음 챕터도 화이팅 입니다!</big>"
   ]
  },
  {
   "cell_type": "code",
   "execution_count": null,
   "metadata": {},
   "outputs": [],
   "source": []
  },
  {
   "cell_type": "code",
   "execution_count": null,
   "metadata": {},
   "outputs": [],
   "source": []
  }
 ],
 "metadata": {
  "colab": {
   "collapsed_sections": [
    "9PNqs0q4JZU_",
    "kdeItDwvJZVE",
    "O0PFKeVrJZVG",
    "AReZC_8JJZVO",
    "y6kOVY3CJZVQ",
    "qhS9AqdkJZVT",
    "R5QxvdFJJZVc",
    "D6DhLjbeJZVq",
    "3FVFKFZyJZWF",
    "L-lOJGCAJZWK",
    "B1Y4qFSKJZWa",
    "Fnc_Oj1zJZWo",
    "1D9an7yBJZW-",
    "pbwSpueSJZXF",
    "vVBBZGaZJZXO",
    "HfEF2oEBJZXe"
   ],
   "name": "01-apt-price.ipynb",
   "provenance": []
  },
  "kernelspec": {
   "display_name": "Python 3",
   "language": "python",
   "name": "python3"
  },
  "language_info": {
   "codemirror_mode": {
    "name": "ipython",
    "version": 3
   },
   "file_extension": ".py",
   "mimetype": "text/x-python",
   "name": "python",
   "nbconvert_exporter": "python",
   "pygments_lexer": "ipython3",
   "version": "3.8.5"
  },
  "toc": {
   "base_numbering": 1,
   "nav_menu": {},
   "number_sections": true,
   "sideBar": true,
   "skip_h1_title": false,
   "title_cell": "Table of Contents",
   "title_sidebar": "Contents",
   "toc_cell": false,
   "toc_position": {
    "height": "calc(100% - 180px)",
    "left": "10px",
    "top": "150px",
    "width": "204.8px"
   },
   "toc_section_display": true,
   "toc_window_display": true
  },
  "varInspector": {
   "cols": {
    "lenName": 16,
    "lenType": 16,
    "lenVar": 40
   },
   "kernels_config": {
    "python": {
     "delete_cmd_postfix": "",
     "delete_cmd_prefix": "del ",
     "library": "var_list.py",
     "varRefreshCmd": "print(var_dic_list())"
    },
    "r": {
     "delete_cmd_postfix": ") ",
     "delete_cmd_prefix": "rm(",
     "library": "var_list.r",
     "varRefreshCmd": "cat(var_dic_list()) "
    }
   },
   "types_to_exclude": [
    "module",
    "function",
    "builtin_function_or_method",
    "instance",
    "_Feature"
   ],
   "window_display": false
  }
 },
 "nbformat": 4,
 "nbformat_minor": 1
}
