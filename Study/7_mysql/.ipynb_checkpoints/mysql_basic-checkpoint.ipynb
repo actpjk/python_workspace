{
 "cells": [
  {
   "cell_type": "markdown",
   "metadata": {},
   "source": [
    "## 1. RDBMS(Relational Database Management System) 이해\n",
    "\n",
    "### 1.1 데이터베이스란?\n",
    " - 체계화된 데이터의 모임\n",
    " - 여러 응용 시스템들의 통합된 정보를 저장하여, 운영할 수 있는 공용 데이터의 묶음\n",
    " - 논리적으로 연관된 하나 이상의 자료 모음으로, 데이터를 고도로 구조화함으로써 검색/갱신등의 데이터 관리를 효율화함\n",
    " - DBMS: 데이터베이스를 관리하는 시스템\n",
    " <br><br>\n",
    " - 데이터베이스 장점\n",
    "   1. 데이터 중복 최소화\n",
    "   2. 데이터 공유\n",
    "   3. 일관성, 무결성, 보안성 유지\n",
    "   4. 최신의 데이터 유지\n",
    "   5. 데이터의 표준화 가능\n",
    "   6. 데이터의 논리적, 물리적 독립성\n",
    "   7. 용이한 데이터 접근\n",
    "   8. 데이터 저장 공간 절약\n",
    " <br><br>\n",
    " - 데이터베이스 단점\n",
    "   1. 데이터베이스 전문가 필요\n",
    "   2. 많은 비용 부담\n",
    "   3. 시스템의 복잡함\n",
    "   \n",
    " - 데이터베이스 랭킹 (Oct. 2017)\n",
    " <img src=\"https://www.fun-coding.org/00_Images/db_types.png\" /><br>\n",
    " 출처: https://db-engines.com/en/ranking\n"
   ]
  },
  {
   "cell_type": "markdown",
   "metadata": {},
   "source": [
    "### 1.2 RDBMS(Relational Database Management System, 관계형 데이터베이스 관리 시스템)\n",
    " \n",
    " - 데이터베이스의 한 종류로, 가장 많이 사용됨\n",
    " - 역사가 오래되어, 가장 신뢰성이 높고, 데이터 분류, 정렬, 탐색 속도가 빠름\n",
    " <br><br>\n",
    " - 관계형 데이터베이스 = 테이블!\n",
    " - 2차원 테이블(Table) 형식을 이용하여 데이터를 정의하고 설명하는 데이터 모델\n",
    " - 관계형 데이터베이스에서는 데이터를 속성(Attribute)과 데이터 값(Attribute Value)으로 구조화(2차원 Table 형태로 만들어짐)\n",
    " - 데이터를 구조화한다는 것은 속성(Attribute)과 데이터 값(Attribute Value) 사이에서 관계(Relation)을 찾아내고 이를 테이블 모양의 구조로 도식화함의 의미함\n",
    " - 주요 용어\n",
    " <img src=\"https://www.fun-coding.org/00_Images/rdbms_term1.png\" />\n",
    "   - Primary Key and Foreign Key\n",
    "     - Primary Key(기본키): Primary Key는 한 테이블(Table)의 각 로우(Row)를 유일하게 식별해주는 컬럼(Column)으로, <br>\n",
    "       각 테이블마다 Primary Key가 존재해야 하며, NULL 값을 허용하지 않고, 각 로우(Row)마다 유일한 값이어야 한다.\n",
    "     - Foreign Key(외래키 또는 외부키): Foreign Key는 한 테이블의 필드(Attribute) 중 다른 테이블의 행(Row)을 식별할 수 있는 키\n",
    " <img src=\"https://www.fun-coding.org/00_Images/rdbms_keys.png\" />"
   ]
  },
  {
   "cell_type": "markdown",
   "metadata": {},
   "source": [
    "### 1.3 데이터베이스 스키마(Schema)\n",
    " \n",
    " - 데이터베이스의 테이블 구조 및 형식, 관계 등의 정보를 형식 언어(formal language)로 기술한 것\n",
    "   1. 관계형 데이터베이스를 사용하여 데이터를 저장할 때 가장 먼저 할 일은 데이터의 공통 속성을 식별하여 컬럼(Column)으로 정의하고, 테이블(Table)을 만드는 것\n",
    "   2. 통상적으로 하나의 테이블이 아닌 여러 개의 테이블로 만들고, 각 테이블 구조, 형식, 관계를 정의함\n",
    "   3. 이를 스키마라고 하며, 일종의 데이터베이스 설계도로 이해하면 됨\n",
    "   4. 데이터베이스마다 스키마를 만드는 언어가 존재하며, 해당 스키마만 있으면 동일한 구조의 데이터베이스를 만들 수 있음<br>\n",
    "      (데이터베이스 백업과는 달리 데이터 구조만 동일하게 만들 수 있음)\n",
    " <img src=\"https://www.fun-coding.org/00_Images/schema.png\" />\n",
    "      "
   ]
  },
  {
   "cell_type": "markdown",
   "metadata": {},
   "source": [
    "### 1.4 SQL(Structured Query Language)\n",
    " \n",
    " - 관계형 데이터베이스 관리 시스템에서 데이터를 관리하기 위해 사용되는 표준 프로그래밍 언어(Language)\n",
    " - 데이터베이스 스키마 생성 및 수정, 테이블 관리, 데이터 추가, 수정, 삭제, 조회 등, 데이터베이스와 관련된 거의 모든 작업을 위해 사용되는 언어\n",
    " - 데이터베이스마다 문법에 약간의 차이가 있지만, 표준 SQL을 기본으로 하므로, 관계형 데이터베이스를 다루기 위해서는 필수적으로 알아야 함\n",
    " - SQL은 크게 세 가지 종류로 나뉨\n",
    "   - 데이터 정의 언어(DDL, Data Definition Language)\n",
    "   - 데이터 처리 언어(DML, Data Manipulation Language)\n",
    "   - 데이터 제어 언어(DCL, Data Control Language)\n",
    " \n",
    "#### 1.4.1 데이터 정의 언어(DDL, Data Definition Language): 데이터 구조 정의\n",
    " - 테이블(TABLE), 인덱스(INDEX) 등의 개체를 만들고 관리하는데 사용되는 명령\n",
    " - CREATE, ALTER, DROP 등이 있음\n",
    " \n",
    "#### 1.4.2 데이터 조작 언어(DML, Data Manipulation Language): 데이터 CRUD [Create(생성), Read(읽기), Update(갱신), Delete(삭제)]\n",
    " - INSERT\t테이블(Table)에 하나 이상의 데이터 추가.\n",
    " - UPDATE\t테이블(Table)에 저장된 하나 이상의 데이터 수정.\n",
    " - DELETE\t테이블(Table)의 데이터 삭제.\n",
    " - SELECT\t테이블(Table)에 저장된 데이터 조회.\n",
    " \n",
    "#### 1.4.2 데이터 제어 언어(DCL, Data Control Language): 데이터 핸들링 권한 설정, 데이터 무결성 처리 등 수행\n",
    " - GRANT\t데이터베이스 개체(테이블, 인덱스 등)에 대한 사용 권한 설정.\n",
    " - BEGIN\t트랜잭션(Transaction) 시작.\n",
    " - COMMIT\t트랜잭션(Transaction) 내의 실행 결과 적용.\n",
    " - ROLLBACK\t트랜잭션(Transaction)의 실행 취소.\n"
   ]
  },
  {
   "cell_type": "markdown",
   "metadata": {},
   "source": [
    "## 2. MySQL 이해 및 실습 \n",
    " - MySQL(마이에스큐엘)은 세계에서 가장 많이 쓰이는 오픈 소스 관계형 데이터베이스 관리 시스템\n",
    " - MySQL는 오라클사가 소유. 불확실한 라이선스 정책으로 인해, 동일 소스를 기반으로 MariaDB 가 파생됨 (거의 유사, MariaDB가 오픈소스 라이센스를 따르고 있다고 보면 됨)"
   ]
  },
  {
   "cell_type": "markdown",
   "metadata": {},
   "source": [
    "<div class=\"alert alert-block alert-success\">\n",
    "<font color=\"blue\" size=\"4em\">2.1 MySQL 설치 - 실습1</font><br>\n",
    "   1. sudo apt-get update<br>\n",
    "   2. sudo apt-get install mysql-server<br>\n",
    "   3. mysql_secure_installation<br>\n",
    "      - 비밀번호 설정 필요<br>\n",
    "      - 참고: 만약 vi 명령이 없다면, 다음과 같이 vi 설치 및 사용법 숙지<br>\n",
    "        - sudo apt-get install vim<br>\n",
    "   3. sudo vim /etc/mysql/mysql.conf.d/mysqld.cnf <br>\n",
    "     - 다음 설정을 [mysqld] 에 추가<br>\n",
    "       1. mysql 원격 접속 허용<br>\n",
    "          - bind-address 0.0.0.0 로 변경<br>\n",
    "       2. mysql 한글 설정 추가<br>\n",
    "          - collation-server = utf8_unicode_ci<br>\n",
    "          - character-set-server = utf8<br>\n",
    "          - skip-character-set-client-handshake<br>\n",
    "   4. sudo service mysql start<br>\n",
    "     - mysql 서비스 시작<br>\n",
    " 참고:\n",
    " <pre>\n",
    " Usage: /etc/init.d/mysql start|stop|restart|status\n",
    " </pre>\n",
    " \n",
    "   5. 모든 호스트에서 mysql 접속 허용하기<br>\n",
    " \n",
    " <pre>\n",
    " # mysql -u root -p 후 비밀번호 입력\n",
    " mysql> use mysql;\n",
    " mysql> GRANT ALL PRIVILEGES ON *.* to 'root'@'%' IDENTIFIED BY 'korea123';\n",
    " mysql> flush privileges;\n",
    " mysql> exit\n",
    " # sudo service mysql restart\n",
    " </pre>\n",
    " </div>"
   ]
  },
  {
   "cell_type": "markdown",
   "metadata": {},
   "source": [
    "<pre>\n",
    "/etc/mysql/mysql.conf.d/mysqld.cnf 파일의 [mysqld] 설정 예\n",
    "\n",
    "[mysqld]\n",
    "#\n",
    "# * Basic Settings\n",
    "#\n",
    "user            = mysql\n",
    "pid-file        = /var/run/mysqld/mysqld.pid\n",
    "socket          = /var/run/mysqld/mysqld.sock\n",
    "port            = 3306\n",
    "basedir         = /usr\n",
    "datadir         = /var/lib/mysql\n",
    "tmpdir          = /tmp\n",
    "lc-messages-dir = /usr/share/mysql\n",
    "skip-external-locking\n",
    "collation-server = utf8_unicode_ci\n",
    "character-set-server = utf8\n",
    "skip-character-set-client-handshake\n",
    "#\n",
    "# Instead of skip-networking the default is now to listen only on\n",
    "# localhost which is more compatible and is not less secure.\n",
    "bind-address            = 0.0.0.0\n",
    "</pre>"
   ]
  },
  {
   "cell_type": "markdown",
   "metadata": {},
   "source": [
    "<pre>\n",
    "참고1: use mysql;\n",
    "use 데이터베이스명; 으로 mysql 데이터베이스는 mysql 설정을 저장하고 있는 데이터베이스임. 해당 데이터베이스에서 작업을 하겠다는 의미임.\n",
    "\n",
    "참고2: mysql 접속 허용 관련 설정 (5장 참고)\n",
    "1) 로컬에서만 접속 허용\n",
    "mysql> GRANT ALL PRIVILEGES ON DATABASE.TABLE to 'root'@localhost identified by \"korea123\";\n",
    "\n",
    "2) 특정 호스트에만 접속 허용\n",
    "mysql> GRANT ALL PRIVILEGES ON DATABASE.TABLE to 'root'@www.blim.co.kr identified by \"korea123\";\n",
    "\n",
    "3) 모든 호스트에서 접속 허용\n",
    "mysql> GRANT ALL PRIVILEGES ON DATABASE.TABLE to 'root'@'%' identified by \"korea123\";\n",
    "\n",
    "옵션 상세\n",
    "(1) ALL – 모든 권한 / SELECT, UPDATE – 조회, 수정 권한등으로 권한 제한 가능\n",
    "    예) GRANT INSERT,UPDATE,SELECT ON *.* TO 'username'@'localhost' IDENTIFIED BY '비밀번호';\n",
    "(2) database.table – 특정 데이터베이스에 특정 테이블에만 권한을 줄 수 있음 / *.* – 모든 데이터베이스에 모든 테이블 권한을 가짐\n",
    "(3) root – 계정명\n",
    "(4) korea123 – 계정 비밀번호\n",
    "\n",
    "참고3: flush privileges; (5장 참고)\n",
    "- user, db 같은 grant table을 INSERT, UPDATE 등을 써서 직접 데이터 입력/수정을 할 경우, grant tables를 다시 읽어야 권한 설정이 적용됨.\n",
    "- 서버를 재기동하지 않고, grant table을 새로 읽으라는 명령이 flush privileges 이지만, INSERT, UPDATE 가 아닌 GRANT 명령을 사용했을 경우에는 해당 명령 생략 가능 (하지만 확실하게 하기 위해 일반적으로 사용)\n",
    "</pre>"
   ]
  },
  {
   "cell_type": "markdown",
   "metadata": {},
   "source": [
    "<div class=\"alert alert-block alert-success\">\n",
    "<font color=\"blue\" size=\"4em\">2.2 mysql workbench 설치 - 실습2</font><br>\n",
    " - mysql 서버에 접속해서 SQL 명령을 통해, mysql 데이터베이스 조회 및 조작을 할 수 있는 클라이언트 소프트웨어<br>\n",
    " - 프로그래머들은 mysql workbench를 사용하기보다는 직접 CLI(Command line interface)를 사용하는 경우가 많음<br>\n",
    " - workbench 사용법 및 CLI 사용법 둘다 익혀둘 것<br>\n",
    " <br>\n",
    " - 다운로드 및 설치: <br>\n",
    "   - https://dev.mysql.com/downloads/workbench/ 에서 workbench 다운로드<br>\n",
    "   - 설치 및 mysql 서버 연결 참고, 상세 인터페이스 (https://help.iwinv.kr/manual/read.html?idx=349)<br>\n",
    " <br>\n",
    " - docker에 mysql 서버를 설치한 경우는 3306 mysql 포트 추가 오픈이 필요함<br>\n",
    "   - 추가 포트 오픈 방법 <br>\n",
    " http://1004jonghee.tistory.com/entry/%EC%BB%A8%ED%85%8C%EC%9D%B4%EB%84%88-%EC%82%AD%EC%A0%9C%ED%95%98%EC%A7%80-%EC%95%8A%EA%B3%A0-%ED%8F%AC%ED%8A%B8-%EC%B6%94%EA%B0%80%ED%95%98%EA%B8%B0![image.png](attachment:image.png)\n",
    "   <br><br>\n",
    "   - 예: commit 후 새로운 image로 기존 옵션에 -p 3306:3306 추가해서 docker 실행 <br>\n",
    "     - docker pull jhleeroot/dave_ubuntu:1.0.1<br>\n",
    "     - docker run -Pit -i -t -p 8888:8888 -p 8787:8787 -p 8022:22 -p 3306:3306 --name dave_ubuntu jhleeroot/dave_ubuntu:1.0.1 /bin/bash<br>\n",
    "     - docker ps -a<br>\n",
    "     - docker restart dave_ubuntu<br>\n",
    "     - docker attach dave_ubuntu<br>\n",
    "   - docker 안에서 mysql 처음 시작시 다음 명령 실행<br>\n",
    "     - sudo usermod -d /var/lib/mysql/ mysql<br>\n",
    "     - sudo chown -R mysql:mysql /var/lib/mysql /var/run/mysqld<br>\n",
    "   - sudo service mysql restart\n",
    "   <br><br>\n",
    "   - 윈도우10의 경우 workbench 연결 설정의 Hostname을 127.0.0.1 로 하면 접속 성공<br>\n",
    "   - 맥의 경우 workbench 연결 설정의 Hostname을 0.0.0.0 으로 하면 접속 성공\n",
    " </div>\n",
    " "
   ]
  },
  {
   "cell_type": "markdown",
   "metadata": {},
   "source": [
    "### mysql 접속 명령"
   ]
  },
  {
   "cell_type": "raw",
   "metadata": {},
   "source": [
    "<pre>\n",
    "# mysql -h host -u user -p [password] dbname\n",
    "  host: mysql 서버 주소 (관련 옵션 사용 안하면, 현재 PC)\n",
    "  user: mysql ID\n",
    "  password: mysql ID의 암호\n",
    "\n",
    "예)\n",
    "  # mysql -u root -p\n",
    "  현재 PC에 root ID로 별도 데이터베이스를 지정하지 않고, 접속\n",
    "</pre>"
   ]
  },
  {
   "cell_type": "markdown",
   "metadata": {},
   "source": [
    "<div class=\"alert alert-block alert-success\">\n",
    "<font color=\"blue\" size=\"4em\">실습3 - 데이터베이스, 테이블 목록 보기</font>\n",
    "<pre>\n",
    "# mysql -u root -p\n",
    "# show databases;\n",
    "# use mysql;\n",
    "# show tables;\n",
    "# use information_schema;\n",
    "# show tables;\n",
    "# exit\n",
    "</pre>\n",
    "\n",
    "참고: https://dev.mysql.com/doc/refman/5.7/en/\n",
    "</div>"
   ]
  },
  {
   "cell_type": "markdown",
   "metadata": {
    "collapsed": true
   },
   "source": [
    "## 3. SQL DDL(Data Definition Language) 이해 및 실습"
   ]
  },
  {
   "cell_type": "markdown",
   "metadata": {},
   "source": [
    " ### 3.1 데이터베이스\n",
    " \n",
    " - 데이터베이스 안에는 여러 개의 데이터베이스 이름이 존재한다.\n",
    " - 각 데이터베이스 이름 안에는 여러 개의 테이블이 존재한다.\n",
    "  <img src=\"https://www.fun-coding.org/00_Images/db_table.png\" />"
   ]
  },
  {
   "cell_type": "markdown",
   "metadata": {},
   "source": [
    "<pre>\n",
    "1. 데이터베이스 생성\n",
    "mysql> CREATE DATABASE dbname;\n",
    " \n",
    "2. 데이터베이스 목록 보기\n",
    "mysql> SHOW DATABASES;\n",
    " \n",
    "3. dbname 데이터베이스 사용 시\n",
    "mysql> USE dbname;\n",
    " \n",
    "4. dbname 데이터베이스 삭제\n",
    "mysql> DROP DATABASE [IF EXISTS] dbname;\n",
    "\n",
    "IF EXISTS 옵션은 해당 데이타베이스 이름이 없더라도 오류를 발생시키지 말라는 의미\n",
    "</pre>"
   ]
  },
  {
   "cell_type": "markdown",
   "metadata": {},
   "source": [
    "* CREATE SCHEMA dbname;\n",
    "CREATE DATABASE dbname과 동일한 명령임"
   ]
  },
  {
   "cell_type": "code",
   "execution_count": null,
   "metadata": {},
   "outputs": [],
   "source": []
  },
  {
   "cell_type": "markdown",
   "metadata": {},
   "source": [
    "<div class=\"alert alert-block alert-success\">\n",
    "<font color=\"blue\" size=\"4em\">실습4 - 데이터베이스 생성, 목록 보기, 사용, 삭제</font><br>\n",
    "<pre>\n",
    "mysql> CREATE DATABASE dave;\n",
    "Query OK, 1 row affected (0.00 sec)\n",
    "\n",
    "mysql> SHOW DATABASES;\n",
    "+--------------------+\n",
    "| Database           |\n",
    "+--------------------+\n",
    "| information_schema |\n",
    "| dave               |\n",
    "| mysql              |\n",
    "| performance_schema |\n",
    "| sys                |\n",
    "+--------------------+\n",
    "5 rows in set (0.00 sec)\n",
    "\n",
    "mysql> USE dave;\n",
    "Database changed\n",
    "mysql> DROP DATABASE IF EXISTS dave;\n",
    "Query OK, 0 rows affected (0.00 sec)\n",
    "\n",
    "mysql> SHOW DATABASES;\n",
    "+--------------------+\n",
    "| Database           |\n",
    "+--------------------+\n",
    "| information_schema |\n",
    "| mysql              |\n",
    "| performance_schema |\n",
    "| sys                |\n",
    "+--------------------+\n",
    "4 rows in set (0.00 sec)\n",
    "</pre>\n",
    "</div>"
   ]
  },
  {
   "cell_type": "markdown",
   "metadata": {},
   "source": [
    "### 3.2 테이블\n",
    "\n",
    "#### 3.2.1 테이블 생성\n",
    "- 기본 문법 (CREATE TABLE 구문)\n",
    "\n",
    "<pre>\n",
    "CREATE TABLE 테이블명 (\n",
    "    컬럼명 데이터형,\n",
    "    컬러명 데이터형,\n",
    "    .\n",
    "    .\n",
    "    기본키 셋\n",
    ");\n",
    "</pre>\n",
    "\n",
    "    "
   ]
  },
  {
   "cell_type": "markdown",
   "metadata": {},
   "source": [
    "1. 테이블을 생성할 데이터베이스를 먼저 사용하겠다고 명령한 후에,\n",
    "<pre>\n",
    "mysql> CREATE DATABASE dave;\n",
    "mysql> use dave;\n",
    "</pre>\n",
    "2. 테이블 생성\n",
    "<pre>\n",
    "mysql> CREATE TABLE 테이블명 (\n",
    "    컬럼명 데이터형,\n",
    "    컬러명 데이터형,\n",
    "    .\n",
    "    .\n",
    "    Primary Key 가 될 필드 지정\n",
    ");\n",
    "</pre>"
   ]
  },
  {
   "cell_type": "markdown",
   "metadata": {},
   "source": [
    "- 숫자 타입의 컬럼 정의 문법\n",
    "<pre>\n",
    "mysql> CREATE TABLE dave_table (\n",
    "    -> id INT [UNSIGNED] [NOT NULL] [AUTO_INCREMENT],\n",
    "</pre>\n",
    "<pre>\n",
    "id : 컬럼명, 가능한 영어 소문자 중심으로 명명\n",
    "INT : 컬럼에 대한 데이터 타입 선언 (참고4 참조)\n",
    "[UNSIGNED] : 옵션 사항\n",
    "             예) TINYINT 로 지정시 -128 ~ +127 \n",
    "                 TINYINT UNSIGNED 로 지정시 0 ~ 255\n",
    "[NOT NULL] : NOT NULL 명시하면 데이터 입력시, 해당 컬럼 데이터에 값이 할당되지 않는 경우를 허락하지 않겠다는 의미\n",
    "[AUTO_INCREMENT] : AUTO_INCREMENT 명시하면, 해당 테이블에 데이터 등록시 해당 컬럼은 자동으로 숫자가 1씩 증가하여 저장됨\n",
    "                   해당 컬럼은 양의 정수만 등록할 수 있어야 하고, 테이블 안에서 AUTO_INCREMENT 컬럼은 하나만 지정 가능함\n",
    "</pre>\n",
    "<img src=\"https://www.fun-coding.org/00_Images/numeric_column.png\" />"
   ]
  },
  {
   "cell_type": "markdown",
   "metadata": {},
   "source": [
    "- 문자 타입의 컬럼 정의 문법\n",
    "<pre>\n",
    "mysql> CREATE TABLE dave_table (\n",
    "    -> name VARCHAR(50),\n",
    "</pre>\n",
    "<pre>\n",
    "name : 컬럼명, 가능한 영어 소문자 중심으로 명명\n",
    "VARCHAR(n) : 컬럼에 대한 문자형 데이터 타입 선언 (참고4 참조)\n",
    "</pre>\n",
    "<img src=\"https://www.fun-coding.org/00_Images/string_column.png\" />"
   ]
  },
  {
   "cell_type": "markdown",
   "metadata": {},
   "source": [
    "- 시간 타입의 컬럼 정의 문법\n",
    "<pre>\n",
    "mysql> CREATE TABLE dave_table (\n",
    "    -> ts DATE,\n",
    "</pre>\n",
    "<pre>\n",
    "ts : 컬럼명, 가능한 영어 소문자 중심으로 명명\n",
    "DATE : 컬럼에 대한 시간 타입 선언\n",
    "</pre>\n",
    "<img src=\"https://www.fun-coding.org/00_Images/date_column.png\" />"
   ]
  },
  {
   "cell_type": "markdown",
   "metadata": {},
   "source": [
    "- Primary Key 가 될 필드 지정 문법\n",
    "<pre>\n",
    "mysql> CREATE TABLE dave_table (\n",
    "    -> 컬럼명 데이터형,\n",
    "    -> .\n",
    "    -> PRIMARY KEY(컬럼명1, 컬럼명2, ...)\n",
    "    -> );\n",
    "</pre>\n",
    "<pre>\n",
    "컬럼명1, 컬럼명2, ... : PRIMARY KEY 로 지정할 컬럼명을 넣음 (한 개 이상을 지정할 수 있음, 보통은 한 개를 지정함)\n",
    "         PRIMARY KEY 로 지정할 컬럼은 NULL 값을 등록할 수 없어야 하고, 컬럼 안에서 같은 값이 없도록 각 값이 유일해야 함\n",
    "         따라서, 해당 컬럼은 보통 NOT NULL(NULL 값 방지) AUTO_INCREMENT(유일함) 선언이 되어 있는 경우가 많음\n",
    "</pre>\n",
    "<pre>\n",
    "예)\n",
    "CREATE TABLE mytable (\n",
    "  id INT UNSIGNED NOT NULL AUTO_INCREMENT,\n",
    "  name VARCHAR(50) NOT NULL,\n",
    "  modelnumber VARCHAR(15) NOT NULL,\n",
    "  series VARCHAR(30) NOT NULL,\n",
    "  PRIMARY KEY(id)\n",
    ");\n",
    "</pre>"
   ]
  },
  {
   "cell_type": "markdown",
   "metadata": {},
   "source": [
    "<div class=\"alert alert-block alert-success\">\n",
    "<font color=\"blue\" size=\"4em\">실습5 - 테이블 생성</font>\n",
    "<pre>\n",
    "\n",
    "1. 데이터베이스 만들기: 이름 customer_db\n",
    "2. 테이블 만들기\n",
    "<img src=\"https://www.fun-coding.org/00_Images/table_ex.png\" />\n",
    "3. 테이블 잘못만들어졌으면 DROP TABLE [IF EXISTS] dbname; 로 테이블 삭제 후 재생성\n",
    "</pre>\n",
    "</div>"
   ]
  },
  {
   "cell_type": "markdown",
   "metadata": {},
   "source": [
    "<pre>\n",
    "CREATE DATABASE customer_db;\n",
    "USE customer_db;\n",
    "\n",
    "CREATE TABLE mytable (\n",
    "    no INT UNSIGNED NOT NULL AUTO_INCREMENT,\n",
    "    name CHAR(20) NOT NULL,\n",
    "    age TINYINT,\n",
    "    phone VARCHAR(20),\n",
    "    email VARCHAR(30) NOT NULL,\n",
    "    address VARCHAR(50),\n",
    "    PRIMARY KEY(id)\n",
    ");\n",
    "</pre>"
   ]
  },
  {
   "cell_type": "markdown",
   "metadata": {},
   "source": [
    "#### 3.2.1 테이블 조회\n",
    "- 기본 문법 (SHOW TABLES)\n",
    "<pre>\n",
    "mysql> SHOW TABLES;\n",
    "+----------------+\n",
    "| Tables_in_dave |\n",
    "+----------------+\n",
    "| mytable        |\n",
    "+----------------+\n",
    "1 row in set (0.00 sec)\n",
    "</pre>\n",
    "\n",
    "- 기본 문법 (DESC 테이블명)\n",
    "\n",
    "<pre>\n",
    "mysql> desc mytable;\n",
    "+-------------+------------------+------+-----+---------+----------------+\n",
    "| Field       | Type             | Null | Key | Default | Extra          |\n",
    "+-------------+------------------+------+-----+---------+----------------+\n",
    "| id          | int(10) unsigned | NO   | PRI | NULL    | auto_increment |\n",
    "| name        | varchar(50)      | NO   |     | NULL    |                |\n",
    "| modelnumber | varchar(15)      | NO   |     | NULL    |                |\n",
    "| series      | varchar(30)      | NO   |     | NULL    |                |\n",
    "+-------------+------------------+------+-----+---------+----------------+\n",
    "4 rows in set (0.00 sec)\n",
    "</pre>"
   ]
  },
  {
   "cell_type": "markdown",
   "metadata": {},
   "source": [
    "#### 3.2.2 테이블 삭제\n",
    "- 기본 문법 (DROP TABLE 테이블명)\n",
    "<pre>\n",
    "mysql> DROP TABLE [IF EXISTS] 테이블명;\n",
    "</pre>\n",
    "\n",
    "IF EXISTS 옵션은 해당 데이타베이스 이름이 없더라도 오류를 발생시키지 말라는 의미"
   ]
  },
  {
   "cell_type": "markdown",
   "metadata": {},
   "source": [
    "#### 3.2.3 테이블 구조 수정\n",
    "\n",
    "- 테이블에 새로운 컬럼 추가\n",
    "<pre>\n",
    "문법: ALTER TABLE [테이블명] ADD COLUMN [추가할 컬럼명][추가할 컬럼 데이터형] \n",
    "mysql> ALTER TABLE mytable ADD COLUMN model_type varchar(10) NOT NULL;\n",
    "</pre>\n",
    "\n",
    "- 테이블 컬럼 타입 변경<br>\n",
    "<pre>\n",
    "문법: ALTER TABLE [테이블명] MODIFY COLUMN [변경할 컬럼명][변경할 컬럼 타입]\n",
    "mysql>ALTER TABLE mytable MODIFY COLUMN name varchar(20) NOT NULL; \n",
    "</pre>\n",
    "\n",
    "- 테이블 컬럼 이름 변경<br>\n",
    "<pre>\n",
    "문법: ALTER TABLE [테이블명] CHANGE COLUMN [기존 컬럼 명][변경할 컬럼 명][변경할 컬럼 타입]\n",
    "mysql>ALTER TABLE mytable CHANGE COLUMN modelnumber model_num varchar(10) NOT NULL;\n",
    "</pre>\n",
    "\n",
    "- 테이블 컬럼 삭제<br>\n",
    "<pre>\n",
    "문법: ALTER TABLE [테이블명] DROP COLUMN [삭제할 컬럼 명]\n",
    "mysql>ALTER TABLE mytable DROP COLUMN series;\n",
    "</pre>"
   ]
  },
  {
   "cell_type": "markdown",
   "metadata": {},
   "source": [
    "<div class=\"alert alert-block alert-warning\">\n",
    "<font color=\"blue\" size=\"4em\">실습5 - 테이블 생성, 조회</font><br>\n",
    "<pre>\n",
    "mysql> CREATE DATABASE dave;\n",
    "mysql> USE dave;\n",
    "mysql> CREATE TABLE mytable (\n",
    "    ->   id INT UNSIGNED NOT NULL AUTO_INCREMENT,\n",
    "    ->   name VARCHAR(50) NOT NULL,\n",
    "    ->   modelnumber VARCHAR(15) NOT NULL,\n",
    "    ->   series VARCHAR(30) NOT NULL,\n",
    "    ->   PRIMARY KEY(id)\n",
    "    -> );\n",
    "mysql> SHOW TABLES;\n",
    "+----------------+\n",
    "| Tables_in_dave |\n",
    "+----------------+\n",
    "| mytable        |\n",
    "+----------------+\n",
    "1 row in set (0.00 sec)\n",
    "mysql> desc mytable;\n",
    "+-------------+------------------+------+-----+---------+----------------+\n",
    "| Field       | Type             | Null | Key | Default | Extra          |\n",
    "+-------------+------------------+------+-----+---------+----------------+\n",
    "| id          | int(10) unsigned | NO   | PRI | NULL    | auto_increment |\n",
    "| name        | varchar(50)      | NO   |     | NULL    |                |\n",
    "| modelnumber | varchar(15)      | NO   |     | NULL    |                |\n",
    "| series      | varchar(30)      | NO   |     | NULL    |                |\n",
    "+-------------+------------------+------+-----+---------+----------------+\n",
    "4 rows in set (0.00 sec)\n",
    "</pre>\n",
    "\n",
    "<b>연습문제1: 다음과 같이 보이도록 테이블 컬럼을 수정하시오</b>\n",
    "<pre>\n",
    "mysql> desc mytable;\n",
    "+------------+------------------+------+-----+---------+----------------+\n",
    "| Field      | Type             | Null | Key | Default | Extra          |\n",
    "+------------+------------------+------+-----+---------+----------------+\n",
    "| id         | int(10) unsigned | NO   | PRI | NULL    | auto_increment |\n",
    "| name       | varchar(20)      | NO   |     | NULL    |                |\n",
    "| model_num  | varchar(10)      | NO   |     | NULL    |                |\n",
    "| model_type | varchar(10)      | NO   |     | NULL    |                |\n",
    "+------------+------------------+------+-----+---------+----------------+\n",
    "</pre>\n",
    "\n",
    "<b>연습문제2 - 위 테이블을 삭제한 후, 연습문제1과 같은 컬럼을 가진 테이블을 생성하시오 (테이블명은 model_info 로 하시오)</b>\n",
    "</div>\n",
    "\n"
   ]
  },
  {
   "cell_type": "markdown",
   "metadata": {
    "collapsed": true
   },
   "source": [
    "<pre>\n",
    "CREATE TABLE mytable (\n",
    "       id INT UNSIGNED NOT NULL AUTO_INCREMENT,\n",
    "       name VARCHAR(50) NOT NULL,\n",
    "       modelnumber VARCHAR(15) NOT NULL,\n",
    "       series VARCHAR(30) NOT NULL,\n",
    "       PRIMARY KEY(id)\n",
    ");\n",
    "\n",
    "ALTER TABLE mytable MODIFY COLUMN name varchar(20) NOT NULL;\n",
    "ALTER TABLE mytable CHANGE COLUMN modelnumber model_num varchar(10) NOT NULL;\n",
    "ALTER TABLE mytable CHANGE COLUMN series model_type varchar(10) NOT NULL;\n",
    "</pre>"
   ]
  },
  {
   "cell_type": "markdown",
   "metadata": {
    "collapsed": true
   },
   "source": [
    "## 4. SQL DML(Data Manipulation Language) 이해 및 실습 (focusing on CRUD)"
   ]
  },
  {
   "cell_type": "markdown",
   "metadata": {},
   "source": [
    " ### 4.1. CRUD [Create(생성), Read(읽기), Update(갱신), Delete(삭제)]\n",
    " \n",
    " - 데이터 관리는 결국 데이터 생성, 읽기(검색), 수정(갱신), 삭제 를 한다는 의미"
   ]
  },
  {
   "cell_type": "markdown",
   "metadata": {},
   "source": [
    "#### 4.1.1 데이터 생성 \n",
    "- 테이블에 컬럼에 맞추어 데이터를 넣는 작업\n",
    "- 기본 문법 (INSERT)\n",
    "\n",
    "  1. 테이블 전체 컬럼에 대응하는 값을 모두 넣기\n",
    "<pre>\n",
    "    mysql> INSERT INTO 테이블명 VALUES(값1, 값2, ...);\n",
    "</pre>\n",
    "\n",
    "  2. 테이블 특정 컬럼에 대응하는 값만 넣기 (지정되지 않은 컬럼은 디폴트값 또는 NULL값이 들어감)\n",
    "<pre>\n",
    "    mysql> INSERT INTO 테이블명 (col1, col2, ...) VALUES(값1, 값2, ...);\n",
    "</pre>\n",
    "\n",
    "<pre>\n",
    "예)\n",
    "# mysql -u root -p\n",
    "mysql> show databases;\n",
    "+--------------------+\n",
    "| Database           |\n",
    "+--------------------+\n",
    "| information_schema |\n",
    "| dave               |\n",
    "| mysql              |\n",
    "| performance_schema |\n",
    "| sys                |\n",
    "+--------------------+\n",
    "mysql> use dave;\n",
    "mysql> show tables;\n",
    "+----------------+\n",
    "| Tables_in_dave |\n",
    "+----------------+\n",
    "| mytable        |\n",
    "+----------------+\n",
    "\n",
    "mysql> desc mytable;\n",
    "+------------+------------------+------+-----+---------+----------------+\n",
    "| Field      | Type             | Null | Key | Default | Extra          |\n",
    "+------------+------------------+------+-----+---------+----------------+\n",
    "| id         | int(10) unsigned | NO   | PRI | NULL    | auto_increment |\n",
    "| name       | varchar(20)      | NO   |     | NULL    |                |\n",
    "| model_num  | varchar(10)      | NO   |     | NULL    |                |\n",
    "| model_type | varchar(10)      | NO   |     | NULL    |                |\n",
    "+------------+------------------+------+-----+---------+----------------+\n",
    "</pre>\n",
    "\n",
    "<b><font color=\"blue\">mysql> INSERT INTO mytable VALUES(1, 'i7', '7700', 'Kaby Lake');</font></b>\n",
    "<pre>\n",
    "Query OK, 1 row affected (0.01 sec)\n",
    "\n",
    "mysql> SELECT * FROM mytable;\n",
    "+----+------+-----------+------------+\n",
    "| id | name | model_num | model_type |\n",
    "+----+------+-----------+------------+\n",
    "|  1 | i7   | 7700      | Kaby Lake  |\n",
    "+----+------+-----------+------------+\n",
    "1 row in set (0.00 sec)\n",
    "</pre>\n",
    "\n",
    "<b><font color=\"blue\">mysql> INSERT INTO mytable (name, model_num, model_type) VALUES('i7', '7700K', 'Kaby Lake');</font></b>\n",
    "<pre>\n",
    "Query OK, 1 row affected (0.01 sec)\n",
    "\n",
    "mysql> SELECT * FROM mytable;\n",
    "+----+------+-----------+------------+\n",
    "| id | name | model_num | model_type |\n",
    "+----+------+-----------+------------+\n",
    "|  1 | i7   | 7700      | Kaby Lake  |\n",
    "|  2 | i7   | 7700K     | Kaby Lake  |\n",
    "+----+------+-----------+------------+\n",
    "2 rows in set (0.00 sec)\n",
    "</pre>"
   ]
  },
  {
   "cell_type": "markdown",
   "metadata": {},
   "source": [
    "<div class=\"alert alert-block alert-warning\">\n",
    "<font color=\"blue\" size=\"4em\">실습 - 데이터 생성(입력), 검색</font><br>\n",
    "웹페이지(http://www.enuri.com/list.jsp?cate=070701) 에서 1위 ~ 5위까지 데이터 입력하기<br>\n",
    "<br>\n",
    "- id는 자동 증가<br>\n",
    "- name 은 코어 이름 <br>\n",
    "- model_num 은 코어 모델 번호 <br>\n",
    "- model_type 은 코드명 (카비레이크 -> Kaby Lake, 스카이레이크 -> Sky Lake 로 영문으로 작성)<br>\n",
    "<br>\n",
    "- 예: 코어 i7 7700 카비레이크<br>\n",
    "-> name 은 i7<br>\n",
    "-> model_num 은 7700<br>\n",
    "-> model_type 은 Kaby Lake\n",
    "</div>"
   ]
  },
  {
   "cell_type": "markdown",
   "metadata": {
    "collapsed": true
   },
   "source": [
    "<pre>\n",
    "INSERT INTO mytable (name, model_num, model_type) VALUES('i7', '7700', 'Kaby Lake');\n",
    "INSERT INTO mytable (name, model_num, model_type) VALUES('i7', '7500', 'Kaby Lake');    \n",
    "INSERT INTO mytable (name, model_num, model_type) VALUES('i7', '7700K', 'Kaby Lake');  \n",
    "INSERT INTO mytable (name, model_num, model_type) VALUES('i7', 'G4600', 'Kaby Lake');  \n",
    "INSERT INTO mytable (name, model_num, model_type) VALUES('i7', '7600', 'Kaby Lake');  \n",
    "</pre>"
   ]
  },
  {
   "cell_type": "markdown",
   "metadata": {},
   "source": [
    "#### 4.1.2 데이터 읽기(검색)\n",
    "- 테이블에 저장된 데이터를 읽는 작업\n",
    "- 데이터베이스는 대용량 데이터를 가정하므로, 대용량 데이터 중 특정한 조건에 맞는 데이터를 추출하는 검색 작업이라고 하는 편이 보다 적합함\n",
    "- 기본 문법 (SELECT)\n",
    "\n",
    "  1. 테이블 전체 컬럼의 데이터 모두 읽기\n",
    "<pre>\n",
    "    mysql> SELECT * FROM 테이블명;\n",
    "</pre>\n",
    "\n",
    "  2. 테이블 특정 컬럼의 데이터만 읽기\n",
    "<pre>\n",
    "    mysql> SELECT 컬럼1, 컬럼2, ... FROM 테이블명;\n",
    "</pre>\n",
    "<pre>\n",
    "mysql> SELECT name, model_num FROM mytable;\n",
    "+------+-----------+\n",
    "| name | model_num |\n",
    "+------+-----------+\n",
    "| i7   | 7700      |\n",
    "| i7   | 7700K     |\n",
    "+------+-----------+\n",
    "</pre>\n",
    "\n",
    "  3. 테이블 특정 컬럼의 데이터를 검색하되, 표시할 컬럼명도 다르게 하기 \n",
    "<pre>\n",
    "    mysql> SELECT 컬럼1 AS 바꿀컬럼이름, 컬럼2 AS 바꿀컬럼이름 FROM 테이블명;\n",
    "</pre>\n",
    "<pre>\n",
    "예)\n",
    "mysql> SELECT name AS cpu_name, model_num AS cpu_num FROM mytable;\n",
    "+----------+---------+\n",
    "| cpu_name | cpu_num |\n",
    "+----------+---------+\n",
    "| i7       | 7700    |\n",
    "| i7       | 7700K   |\n",
    "+----------+---------+\n",
    "</pre>\n",
    "\n",
    "  4. 데이터 정렬해서 읽기\n",
    "     - ORDER BY 정렬할 기준 컬럼명 DESC|ASC\n",
    "     - DESC는 내림차순 ASC는 오름차순\n",
    "<pre>\n",
    "mysql> SELECT * FROM 테이블명 ORDER BY 정렬할기준컬럼명 DESC;\n",
    "</pre>\n",
    "<pre>\n",
    "mysql> SELECT 컬럼1, 컬럼2 FROM 테이블명 ORDER BY 정렬할기준컬럼명 ASC;\n",
    "</pre>\n",
    "<pre>\n",
    "예)\n",
    "mysql> SELECT * FROM mytable ORDER BY id DESC;\n",
    "+----+------+-----------+------------+\n",
    "| id | name | model_num | model_type |\n",
    "+----+------+-----------+------------+\n",
    "|  2 | i7   | 7700K     | Kaby Lake  |\n",
    "|  1 | i7   | 7700      | Kaby Lake  |\n",
    "+----+------+-----------+------------+\n",
    "2 rows in set (0.01 sec)\n",
    "</pre>\n",
    "<pre>\n",
    "mysql> SELECT * FROM mytable ORDER BY id ASC;\n",
    "+----+------+-----------+------------+\n",
    "| id | name | model_num | model_type |\n",
    "+----+------+-----------+------------+\n",
    "|  1 | i7   | 7700      | Kaby Lake  |\n",
    "|  2 | i7   | 7700K     | Kaby Lake  |\n",
    "+----+------+-----------+------------+\n",
    "2 rows in set (0.00 sec)\n",
    "</pre>\n",
    "\n",
    "  5. 조건에 맞는 데이터만 검색하기 (비교)\n",
    "     - WHERE 조건문 으로 조건 검색\n",
    "     - 예) WHERE 컬럼명 < 값\n",
    "     - 예) WHERE 컬럼명 > 값\n",
    "     - 예) WHERE 컬럼명 = 값\n",
    "<pre>\n",
    "SELECT * FROM 테이블명 WHERE 필드명 = '값'\n",
    "</pre>\n",
    "<pre>\n",
    "예)\n",
    "mysql> SELECT * FROM mytable WHERE id < 2;\n",
    "+----+------+-----------+------------+\n",
    "| id | name | model_num | model_type |\n",
    "+----+------+-----------+------------+\n",
    "|  1 | i7   | 7700      | Kaby Lake  |\n",
    "+----+------+-----------+------------+\n",
    "1 row in set (0.00 sec)\n",
    "mysql> SELECT * FROM mytable WHERE id = 1;\n",
    "+----+------+-----------+------------+\n",
    "| id | name | model_num | model_type |\n",
    "+----+------+-----------+------------+\n",
    "|  1 | i7   | 7700      | Kaby Lake  |\n",
    "+----+------+-----------+------------+\n",
    "1 row in set (0.00 sec)\n",
    "mysql> SELECT * FROM mytable WHERE id > 1;\n",
    "+----+------+-----------+------------+\n",
    "| id | name | model_num | model_type |\n",
    "+----+------+-----------+------------+\n",
    "|  2 | i7   | 7700K     | Kaby Lake  |\n",
    "+----+------+-----------+------------+\n",
    "</pre>\n",
    "\n",
    "  6. 조건에 맞는 데이터만 검색하기 (논리 연산자)\n",
    "     - WHERE 조건문 으로 조건 검색\n",
    "     - 논리 연산자 활용\n",
    "     - 예) WHERE 컬럼명 < 값 OR 컬럼명 > 값\n",
    "     - 예) WHERE 컬럼명 > 값 AND 컬럼명 < 값\n",
    "<pre>\n",
    "SELECT * FROM 테이블명 WHERE (필드명='값') OR ( 필드명 ='값');\n",
    "</pre>\n",
    "<pre>\n",
    "SELECT * FROM 테이블명 WHERE (필드명='값') AND ( 필드명 ='값');\n",
    "</pre>\n",
    "<pre>\n",
    "예)\n",
    "mysql> SELECT * FROM mytable WHERE id > 0 OR id < 2;\n",
    "+----+------+-----------+------------+\n",
    "| id | name | model_num | model_type |\n",
    "+----+------+-----------+------------+\n",
    "|  1 | i7   | 7700      | Kaby Lake  |\n",
    "|  2 | i7   | 7700K     | Kaby Lake  |\n",
    "+----+------+-----------+------------+\n",
    "2 rows in set (0.00 sec)\n",
    "mysql> SELECT * FROM mytable WHERE id = 1 AND name = 'i7';\n",
    "+----+------+-----------+------------+\n",
    "| id | name | model_num | model_type |\n",
    "+----+------+-----------+------------+\n",
    "|  1 | i7   | 7700      | Kaby Lake  |\n",
    "+----+------+-----------+------------+\n",
    "1 row in set (0.00 sec)\n",
    "</pre>\n",
    "\n",
    "  7. 조건에 맞는 데이터만 검색하기 (LIKE 를 활용한 부분 일치)\n",
    "     - WHERE 조건문 으로 조건 검색\n",
    "     - LIKE  활용\n",
    "     - 예) 홍으로 시작되는 값을 모두 찾을 경우\n",
    "<pre>\n",
    "SELECT * FROM 테이블명 WHERE 필드명 LIKE '홍%';\n",
    "</pre>\n",
    "     - 예) 홍이 들어간 값을 모두 찾을 경우\n",
    "<pre>\n",
    "SELECT * FROM 테이블명 WHERE 필드명 LIKE '%홍%';\n",
    "</pre>\n",
    "     - 예) 홍으로 시작되고 뒤에 2글자가 붙을 경우\n",
    "<pre>\n",
    "SELECT * FROM 테이블명 WHERE 필드명 LIKE '홍__';\n",
    "</pre>\n",
    "<pre>\n",
    "예)\n",
    "mysql> SELECT * FROM mytable WHERE name LIKE 'i%';\n",
    "+----+------+-----------+------------+\n",
    "| id | name | model_num | model_type |\n",
    "+----+------+-----------+------------+\n",
    "|  1 | i7   | 7700      | Kaby Lake  |\n",
    "|  2 | i7   | 7700K     | Kaby Lake  |\n",
    "+----+------+-----------+------------+\n",
    "2 rows in set (0.00 sec)\n",
    "mysql> SELECT * FROM mytable WHERE name LIKE 'i__';\n",
    "Empty set (0.00 sec)\n",
    "</pre>\n",
    "\n",
    "  8. 결과중 일부만 데이터 가져오기 (LIMIT 을 활용)\n",
    "     - LIMIT  활용\n",
    "     - 예) 결과중 처음부터 10개만 가져오기\n",
    "<pre>\n",
    "SELECT * FROM 필드명 LIMIT 10;\n",
    "</pre>\n",
    "     - 예) 결과중 100번째부터, 10개만 가져오기\n",
    "<pre>\n",
    "SELECT * FROM 필드명 LIMIT 100, 10;\n",
    "</pre>\n",
    "<pre>\n",
    "예)\n",
    "mysql> SELECT * FROM mytable LIMIT 1;\n",
    "+----+------+-----------+------------+\n",
    "| id | name | model_num | model_type |\n",
    "+----+------+-----------+------------+\n",
    "|  1 | i7   | 7700      | Kaby Lake  |\n",
    "+----+------+-----------+------------+\n",
    "1 row in set (0.00 sec)\n",
    "mysql> SELECT * FROM mytable LIMIT 1, 1;\n",
    "+----+------+-----------+------------+\n",
    "| id | name | model_num | model_type |\n",
    "+----+------+-----------+------------+\n",
    "|  2 | i7   | 7700K     | Kaby Lake  |\n",
    "+----+------+-----------+------------+\n",
    "1 row in set (0.00 sec)\n",
    "</pre>\n",
    "\n",
    "  9. 조건 조합\n",
    "     - 위에서 나열한 조건을 조합해서 다양한 Query를 작성할 수 있음\n",
    "     - 조합 순서 SELECT FROM WHERE ORDER BY LIMIT\n",
    "\n",
    "<pre>\n",
    "예)\n",
    "mysql> SELECT id, name FROM mytable\n",
    "->  WHERE id < 4 AND name LIKE '%i%'\n",
    "-> ORDER BY name DESC\n",
    "-> LIMIT 2;\n",
    "</pre>"
   ]
  },
  {
   "cell_type": "markdown",
   "metadata": {},
   "source": [
    "<div class=\"alert alert-block alert-warning\">\n",
    "<font color=\"blue\" size=\"4em\">실습 - 데이터 검색</font><br>\n",
    "\n",
    "- 연습문제1: model_num 이 7700 으로 시작하는 로우(Row) 검색하기<br>\n",
    "- 연습문제2: name 이 i7 인 로우(Row) 검색하기<br>\n",
    "- 연습문제3: model_type 이 카비레이크 인 로우(Row) 를 1개만 검색하기(LIMIT 사용)\n",
    "</div>"
   ]
  },
  {
   "cell_type": "markdown",
   "metadata": {},
   "source": [
    "<pre>\n",
    "SELECT * FROM mytable WHERE model_num LIKE '7700%'\n",
    "SELECT * FROM mytable WHERE name LIKE '%i7%'\n",
    "SELECT * FROM mytable WHERE model_type LIKE '%카바레이크%' LIMIT 1\n",
    "</pre>"
   ]
  },
  {
   "cell_type": "markdown",
   "metadata": {},
   "source": [
    "#### 4.1.3 데이터 수정\n",
    "- 테이블에 저장된 데이터를 수정하는 작업\n",
    "- 기본 문법 (UPDATE)\n",
    "\n",
    "  1. 보통 WHERE 조건문과 함께 쓰여서, 특정한 조건에 맞는 데이터만 수정하는 경우가 많음\n",
    "<pre>\n",
    "    mysql> UPDATE 테이블명 SET 수정하고 싶은 컬럼명 = '수정하고 싶은 값' WHERE 특정 컬럼 = '값';\n",
    "</pre>\n",
    "\n",
    "  2. 다수의 컬럼 값을 수정할 수도 있음\n",
    "<pre>\n",
    "    mysql> UPDATE 테이블명 SET 수정하고 싶은 컬럼명1 = '수정하고 싶은 값', 수정하고 싶은 컬럼명2 = '수정하고 싶은 값', 수정하고 싶은 컬럼명3 = '수정하고 싶은 값' WHERE 특정 컬럼 < '값';\n",
    "</pre>\n",
    "<pre>\n",
    "예)\n",
    "mysql> SELECT * FROM mytable;\n",
    "+----+------+-----------+------------+\n",
    "| id | name | model_num | model_type |\n",
    "+----+------+-----------+------------+\n",
    "|  3 | i7   | 7700      | Kaby Lake  |\n",
    "+----+------+-----------+------------+\n",
    "mysql> UPDATE mytable SET name = 'i5', model_num = '5500' WHERE id = 3;\n",
    "mysql> SELECT * FROM mytable;\n",
    "+----+------+-----------+------------+\n",
    "| id | name | model_num | model_type |\n",
    "+----+------+-----------+------------+\n",
    "|  3 | i5   | 5500      | Kaby Lake  |\n",
    "+----+------+-----------+------------+\n",
    "</pre>\n"
   ]
  },
  {
   "cell_type": "markdown",
   "metadata": {},
   "source": [
    "#### 4.1.4 데이터 삭제\n",
    "- 테이블에 저장된 데이터를 삭제하는 작업\n",
    "- 기본 문법 (DELETE)\n",
    "\n",
    "  1. 보통 WHERE 조건문과 함께 쓰여서, 특정한 조건에 맞는 데이터만 삭제하는 경우가 많음\n",
    "<pre>\n",
    "    mysql> DELETE FROM 테이블명 WHERE 특정 컬럼 = '값';\n",
    "</pre>\n",
    "\n",
    "  2. 테이블에 저장된 모든 데이터를 삭제할 수도 있음\n",
    "<pre>\n",
    "    mysql> DELETE FROM 테이블명;\n",
    "</pre>\n",
    "<pre>\n",
    "예)\n",
    "mysql> SELECT * FROM mytable;\n",
    "+----+------+-----------+------------+\n",
    "| id | name | model_num | model_type |\n",
    "+----+------+-----------+------------+\n",
    "|  3 | i5   | 5500      | Kaby Lake  |\n",
    "+----+------+-----------+------------+\n",
    "1 row in set (0.00 sec)\n",
    "mysql> DELETE FROM mytable WHERE id = 3;\n",
    "Query OK, 1 row affected (0.01 sec)\n",
    "mysql> SELECT * FROM mytable;\n",
    "Empty set (0.00 sec)\n",
    "</pre>"
   ]
  },
  {
   "cell_type": "markdown",
   "metadata": {},
   "source": [
    "<div class=\"alert alert-block alert-warning\">\n",
    "<font color=\"blue\" size=\"4em\">실습 - 테이블 수정, 데이터 수정, 검색</font><br>\n",
    "\n",
    "사전조건: 이미 테이블에는 웹페이지(http://www.enuri.com/list.jsp?cate=070701) 에서 1위 ~ 5위까지 데이터가 입력되어 있어야 함<br>\n",
    "<br>\n",
    "1. lowest_price(컬럼명) INT UNSIGNED(데이터타입) 으로 컬럼 추가<br>\n",
    "2. 최종 다음과 같은 모습으로 mytable 구조가 되어야 함<br>\n",
    "<pre>\n",
    "mysql> desc mytable;\n",
    "+--------------+------------------+------+-----+---------+----------------+\n",
    "| Field        | Type             | Null | Key | Default | Extra          |\n",
    "+--------------+------------------+------+-----+---------+----------------+\n",
    "| id           | int(10) unsigned | NO   | PRI | NULL    | auto_increment |\n",
    "| name         | varchar(20)      | NO   |     | NULL    |                |\n",
    "| model_num    | varchar(10)      | NO   |     | NULL    |                |\n",
    "| model_type   | varchar(10)      | NO   |     | NULL    |                |\n",
    "| lowest_price | int(10) unsigned | YES  |     | NULL    |                |\n",
    "+--------------+------------------+------+-----+---------+----------------+\n",
    "</pre>\n",
    "3. 웹페이지(http://www.enuri.com/list.jsp?cate=070701) 에서 1위 ~ 5위까지 lowest_price 값 수정하기<br>\n",
    "   - lowest_price 값은 정품 최저 가격으로 입력하기 <br>\n",
    "   - 예: 222,180원 -> 222180<br>\n",
    "<br>\n",
    "- 연습문제1: lowest_price 이 300000 이하인 로우(Row) 중에서 name과 model_num만 검색하기<br>\n",
    "  . 이하는 같거나, 작은 값을 의미하고, 조건으로는 <= 와 같이 작성한다.<br>\n",
    "  <br>\n",
    "- 연습문제2: lowest_price 이 400000 이상인 로우(Row) 만 검색하기<br>\n",
    "  . 이상은 같거나, 큰 값을 의미하고, 조건으로는 >= 와 같이 작성한다.\n",
    "</div>\n"
   ]
  },
  {
   "cell_type": "markdown",
   "metadata": {},
   "source": [
    "<pre>\n",
    "ALTER TABLE mytable ADD COLUMN lowest_price INT UNSIGNED;\n",
    "\n",
    "UPDATE mytable SET lowest_price = 347100 WHERE id = 1;\n",
    "...\n",
    "\n",
    "SELECT name, model_num FROM mytable WHERE lowest_price < 300000;\n",
    "</pre>"
   ]
  },
  {
   "cell_type": "markdown",
   "metadata": {},
   "source": [
    "## 5. SQL DCL(Data Control Language) 이해 및 실습"
   ]
  },
  {
   "cell_type": "markdown",
   "metadata": {},
   "source": [
    "### 5.1. mysql 사용자 확인, 추가, 비밀번호 변경, 삭제"
   ]
  },
  {
   "cell_type": "markdown",
   "metadata": {},
   "source": [
    "<pre>\n",
    "1. mysql 사용자 확인\n",
    "# mysql -u root -p\n",
    "mysql> use mysql;\n",
    "mysql> select * from user;\n",
    "\n",
    "2. 사용자 추가\n",
    "# mysql -u root -p\n",
    "mysql> use mysql;\n",
    "\n",
    "1) 로컬에서만 접속 가능한 userid 생성\n",
    "mysql> create user 'userid'@localhost identified by '비밀번호';\n",
    "\n",
    "2) 모든 호스트에서 접속 가능한 userid 생성\n",
    "mysql> create user 'userid'@'%' identified by '비밀번호';\n",
    "\n",
    "3. 사용자 비밀번호 변경\n",
    "mysql> SET PASSWORD FOR 'userid'@'%' = '신규비밀번호';\n",
    "\n",
    "4. 사용자 삭제\n",
    "# mysql -u root -p\n",
    "mysql> use mysql;\n",
    "mysql> drop user 'userid'@'%';\n",
    "</pre>"
   ]
  },
  {
   "cell_type": "markdown",
   "metadata": {},
   "source": [
    "<div class=\"alert alert-block alert-success\">\n",
    "<font color=\"blue\" size=\"4em\">실습 - 사용자 확인, 추가, 비밀번호 변경, 삭제</font>\n",
    "<pre>\n",
    "# mysql -u root -p\n",
    "mysql> use mysql;\n",
    "mysql> create user '만들고싶은ID'@'%' identified by '비밀번호';\n",
    "mysql> select host, user from user;\n",
    "mysql> SET PASSWORD FOR '만들고싶은ID'@'%' = '신규비밀번호';\n",
    "mysql> exit;\n",
    "</pre>\n",
    "<pre>\n",
    "# mysql -u 만들고싶은ID -p\n",
    "mysql> exit;\n",
    "</pre>\n",
    "<pre>\n",
    "# mysql -u root -p\n",
    "mysql> use mysql;\n",
    "mysql> drop user '만들고싶은ID'@'%';\n",
    "mysql> select host, user from user;\n",
    "mysql> exit;\n",
    "</pre>\n",
    "<pre>\n",
    "# mysql -u 만들고싶은ID -p\n",
    "에러가 나와야 함\n",
    "</pre>"
   ]
  },
  {
   "cell_type": "markdown",
   "metadata": {},
   "source": [
    "### 5.2. mysql 접속 허용 관련 설정"
   ]
  },
  {
   "cell_type": "markdown",
   "metadata": {},
   "source": [
    "<pre>\n",
    "1) 현재 부여된 권한 확인하기\n",
    "mysql> SHOW GRANTS for 아이디;\n",
    "예) SHOW GRANTS for 'davelee'@'%'\n",
    "\n",
    "2) 로컬에서만 접속 허용\n",
    "mysql> GRANT ALL ON DATABASE.TABLE to 'root'@localhost;\n",
    "\n",
    "3) 특정 권한만 허용\n",
    "mysql> GRANT SELECT, UPDATE ON DATABASE.TABLE to 'root'@localhost;\n",
    "\n",
    "\n",
    "옵션 상세\n",
    "(1) ALL – 모든 권한 / SELECT, UPDATE – 조회, 수정 권한등으로 권한 제한 가능\n",
    "    예) GRANT INSERT,UPDATE,SELECT ON *.* TO 'username'@'localhost';\n",
    "(2) DATABASE.TABLE – 특정 데이터베이스에 특정 테이블에만 권한을 줄 수 있음 / *.* – 모든 데이터베이스에 모든 테이블 권한을 가짐\n",
    "(3) root – 계정명\n",
    "(4) korea123 – 계정 비밀번호\n",
    "</pre>"
   ]
  },
  {
   "cell_type": "markdown",
   "metadata": {
    "collapsed": true
   },
   "source": [
    "## 6. pymysql 모듈 이해 및 실습\n",
    "\n",
    "### 6.1 pymysql 라이브러리 소개 및 설치\n",
    "* mysql을 python에서 사용할 수 있는 라이브러리 (pymysql 라이브러리 이외에도 MySQLdb(Mysql-pytion), MySQL connector 등 다양한 라이브러리 존재)\n",
    "* 이 중에서 설치가 가장 쉬운 라이브러리\n",
    "* 설치\n",
    "  - pip install PyMySQL\n",
    "  \n",
    "* 일반적인 mysql 핸들링 코드 작성 순서\n",
    "  1. PyMySql 모듈 import\n",
    "  2. pymysql.connect() 메소드를 사용하여 MySQL에 연결\n",
    "     - 호스트명, 포트, 로그인, 암호, 접속할 DB 등을 파라미터로 지정\n",
    "  3. MySQL 접속이 성공하면, Connection 객체로부터 cursor() 메서드를 호출하여 Cursor 객체를 가져옴\n",
    "  4. Cursor 객체의 execute() 메서드를 사용하여 SQL 문장을 DB 서버에 전송\n",
    "  5. SQL 쿼리의 경우 Cursor 객체의 fetchall(), fetchone(), fetchmany() 등의 메서드를 사용하여 서버로부터 가져온 데이타를 코드에서 활용\n",
    "  6. 삽입, 갱신, 삭제 등의 DML(Data Manipulation Language) 문장을 실행하는 경우, INSERT/UPDATE/DELETE 후 Connection 객체의 commit() 메서드를 사용하여 데이타를 확정\n",
    "  7. Connection 객체의 close() 메서드를 사용하여 DB 연결을 닫음"
   ]
  },
  {
   "cell_type": "markdown",
   "metadata": {},
   "source": [
    "* PyMySql 모듈 import"
   ]
  },
  {
   "cell_type": "code",
   "execution_count": 1,
   "metadata": {},
   "outputs": [],
   "source": [
    "import pymysql"
   ]
  },
  {
   "cell_type": "markdown",
   "metadata": {},
   "source": [
    "* pymysql.connect() 메소드를 사용하여 MySQL에 연결\n",
    "     - 호스트명, 포트, 로그인, 암호, 접속할 DB 등을 파라미터로 지정\n",
    "     - 주요 파라미터\n",
    "       - host : 접속할 mysql server 주소\n",
    "       - port : 접속할 mysql server 의 포트 번호\n",
    "       - user : mysql ID\n",
    "       - passwd : mysql ID의 암호\n",
    "       - db : 접속할 데이터베이스\n",
    "       - charset='utf8' : mysql에서 select하여 데이타를 가져올 때 한글이 깨질 수 있으므로 연결 설정에 넣어줌"
   ]
  },
  {
   "cell_type": "code",
   "execution_count": 17,
   "metadata": {},
   "outputs": [],
   "source": [
    "db = pymysql.connect(host='localhost', port=3306, user='root', passwd='0000', db='ecommerce', charset='utf8')"
   ]
  },
  {
   "cell_type": "code",
   "execution_count": 18,
   "metadata": {},
   "outputs": [
    {
     "data": {
      "text/plain": [
       "<pymysql.connections.Connection at 0x2bc53272910>"
      ]
     },
     "execution_count": 18,
     "metadata": {},
     "output_type": "execute_result"
    }
   ],
   "source": [
    "db"
   ]
  },
  {
   "cell_type": "markdown",
   "metadata": {},
   "source": [
    "  3. MySQL 접속이 성공하면, Connection 객체로부터 cursor() 메서드를 호출하여 Cursor 객체를 가져옴\n",
    "  4. Cursor 객체의 execute() 메서드를 사용하여 SQL 문장을 DB 서버에 전송"
   ]
  },
  {
   "cell_type": "markdown",
   "metadata": {},
   "source": [
    "* 테이블 생성\n",
    "  - Cursor Object 가져오기: cursor = db.cursor()  \n",
    "  - SQL 실행하기: cursor.execute(SQL)\n",
    "  - 실행 mysql 서버에 확정 반영하기: db.commit()"
   ]
  },
  {
   "cell_type": "code",
   "execution_count": 8,
   "metadata": {},
   "outputs": [],
   "source": [
    "ecommerce = db.cursor() # 실제 명령 내릴 수 있는 상태"
   ]
  },
  {
   "cell_type": "code",
   "execution_count": 9,
   "metadata": {},
   "outputs": [
    {
     "data": {
      "text/plain": [
       "<pymysql.cursors.Cursor at 0x2bc5325a6d0>"
      ]
     },
     "execution_count": 9,
     "metadata": {},
     "output_type": "execute_result"
    }
   ],
   "source": [
    "ecommerce"
   ]
  },
  {
   "cell_type": "markdown",
   "metadata": {},
   "source": [
    "* cursor 는 control structure of database 입니다. (연결된 객체로 보셔도 좋습니다.)"
   ]
  },
  {
   "cell_type": "code",
   "execution_count": 10,
   "metadata": {},
   "outputs": [],
   "source": [
    "sql = \"\"\"\n",
    "    create table product(\n",
    "        product_code varchar(20) not null,\n",
    "        title varchar(200) not null,\n",
    "        ori_price int,\n",
    "        discount_price int,\n",
    "        discount_percent int,\n",
    "        delevery varchar(2),\n",
    "        primary key (product_code)\n",
    "    );\n",
    "\"\"\""
   ]
  },
  {
   "cell_type": "markdown",
   "metadata": {},
   "source": [
    "* SQL 실행 (Cursor 객체의 execute() 메서드를 사용하여 INSERT, UPDATE 혹은 DELETE 문장을 DB 서버에 보냄)"
   ]
  },
  {
   "cell_type": "code",
   "execution_count": 11,
   "metadata": {},
   "outputs": [
    {
     "data": {
      "text/plain": [
       "0"
      ]
     },
     "execution_count": 11,
     "metadata": {},
     "output_type": "execute_result"
    }
   ],
   "source": [
    "ecommerce.execute(sql)"
   ]
  },
  {
   "cell_type": "markdown",
   "metadata": {},
   "source": [
    "* 삽입, 갱신, 삭제 등이 모두 끝났으면 Connection 객체의 commit() 메서드를 사용하여 데이타를 Commit"
   ]
  },
  {
   "cell_type": "code",
   "execution_count": 12,
   "metadata": {},
   "outputs": [],
   "source": [
    "db.commit() # 정상적인 명령을 보냈으니 시작하라는 뜻."
   ]
  },
  {
   "cell_type": "markdown",
   "metadata": {},
   "source": [
    "* Connection 객체의 close() 메서드를 사용하여 DB 연결을 닫음"
   ]
  },
  {
   "cell_type": "code",
   "execution_count": 13,
   "metadata": {},
   "outputs": [],
   "source": [
    "db.close()"
   ]
  },
  {
   "cell_type": "markdown",
   "metadata": {
    "collapsed": true
   },
   "source": [
    "### 패턴으로 익히는 pymysql"
   ]
  },
  {
   "cell_type": "code",
   "execution_count": null,
   "metadata": {},
   "outputs": [],
   "source": [
    "# 1. 라이브러리 가져오기\n",
    "import pymysql\n",
    "\n",
    "# 2. 접속하기\n",
    "db = pymysql.connect(host='localhost', port=3306, user='root', passwd='funcoding', db='ecommerce', charset='utf8')\n",
    "\n",
    "# 3. 커서 가져오기, 작동하게 해주는 코드\n",
    "cursor = db.cursor()\n",
    "\n",
    "# 4. SQL 구문 만들기 (CRUD SQL 구문 등)\n",
    "sql = '''\n",
    "    CREATE TABLE product (\n",
    "        PRODUCT_CODE VARCHAR(20) NOT NULL,\n",
    "        TITLE VARCHAR(200) NOT NULL,\n",
    "        ORI_PRICE INT,\n",
    "        DISCOUNT_PRICE INT,\n",
    "        DISCOUNT_PERCENT INT,\n",
    "        DELIVERY VARCHAR(2),\n",
    "        PRIMARY KEY(PRODUCT_CODE)\n",
    "    );\n",
    "'''\n",
    "\n",
    "# 5. SQL 구문 실행하기\n",
    "cursor.execute(sql)\n",
    "\n",
    "# 6. DB에 Complete 하기, 커밋 해야 데이터 실제 반영됨.\n",
    "db.commit()\n",
    "\n",
    "# 7. DB 연결 닫기\n",
    "db.close()"
   ]
  },
  {
   "cell_type": "markdown",
   "metadata": {},
   "source": [
    "* 데이터 삽입(INSERT)\n",
    "  - Cursor Object 가져오기: cursor = db.cursor()  \n",
    "  - SQL 실행하기: cursor.execute(SQL)\n",
    "  - 실행 mysql 서버에 확정 반영하기: db.commit()"
   ]
  },
  {
   "cell_type": "code",
   "execution_count": 14,
   "metadata": {
    "collapsed": true
   },
   "outputs": [
    {
     "name": "stdout",
     "output_type": "stream",
     "text": [
      "INSERT INTO product VALUES(\n",
      "    '215673141', '스위트바니 여름신상5900원~롱원피스티셔츠/긴팔/반팔', 23000, 6900, 70, 'F'); \n",
      "INSERT INTO product VALUES(\n",
      "    '215673142', '스위트바니 여름신상5900원~롱원피스티셔츠/긴팔/반팔', 23000, 6900, 70, 'F'); \n",
      "INSERT INTO product VALUES(\n",
      "    '215673143', '스위트바니 여름신상5900원~롱원피스티셔츠/긴팔/반팔', 23000, 6900, 70, 'F'); \n",
      "INSERT INTO product VALUES(\n",
      "    '215673144', '스위트바니 여름신상5900원~롱원피스티셔츠/긴팔/반팔', 23000, 6900, 70, 'F'); \n",
      "INSERT INTO product VALUES(\n",
      "    '215673145', '스위트바니 여름신상5900원~롱원피스티셔츠/긴팔/반팔', 23000, 6900, 70, 'F'); \n",
      "INSERT INTO product VALUES(\n",
      "    '215673146', '스위트바니 여름신상5900원~롱원피스티셔츠/긴팔/반팔', 23000, 6900, 70, 'F'); \n",
      "INSERT INTO product VALUES(\n",
      "    '215673147', '스위트바니 여름신상5900원~롱원피스티셔츠/긴팔/반팔', 23000, 6900, 70, 'F'); \n",
      "INSERT INTO product VALUES(\n",
      "    '215673148', '스위트바니 여름신상5900원~롱원피스티셔츠/긴팔/반팔', 23000, 6900, 70, 'F'); \n",
      "INSERT INTO product VALUES(\n",
      "    '215673149', '스위트바니 여름신상5900원~롱원피스티셔츠/긴팔/반팔', 23000, 6900, 70, 'F'); \n",
      "INSERT INTO product VALUES(\n",
      "    '215673150', '스위트바니 여름신상5900원~롱원피스티셔츠/긴팔/반팔', 23000, 6900, 70, 'F'); \n"
     ]
    }
   ],
   "source": [
    "import pymysql\n",
    "\n",
    "db = pymysql.connect(host='127.0.0.1', port=3306, user='root', passwd='0000', db='ecommerce', charset='utf8')\n",
    "\n",
    "cursor = db.cursor()\n",
    "\n",
    "for index in range(10):\n",
    "    product_code = 215673140 + index + 1\n",
    "    sql = \"\"\"INSERT INTO product VALUES(\n",
    "    '\"\"\" + str(product_code) + \"\"\"', '스위트바니 여름신상5900원~롱원피스티셔츠/긴팔/반팔', 23000, 6900, 70, 'F'); \"\"\"\n",
    "    print (sql)\n",
    "    cursor.execute(sql)\n",
    "\n",
    "db.commit()\n",
    "db.close()"
   ]
  },
  {
   "cell_type": "markdown",
   "metadata": {},
   "source": [
    "* 데이터 조회(SELECT)\n",
    "  - Cursor Object 가져오기: cursor = db.cursor()  \n",
    "  - SQL 실행하기: cursor.execute(SQL)\n",
    "  - mysql 서버로부터 데이터 가져오기: fetch 메서드 사용\n",
    "    - fetchall(): Fetch all the rows\n",
    "    - fetchmany(size=None): Fetch several rows\n",
    "    - fetchone(): Fetch the next row"
   ]
  },
  {
   "cell_type": "code",
   "execution_count": null,
   "metadata": {},
   "outputs": [],
   "source": [
    "data = ((1, 2, 3, 4), (5, 6, 7, 8))\n",
    "for item in data:\n",
    "    print (item[1])"
   ]
  },
  {
   "cell_type": "code",
   "execution_count": 21,
   "metadata": {},
   "outputs": [
    {
     "name": "stdout",
     "output_type": "stream",
     "text": [
      "('215673141', '스위트바니 여름신상5900원~롱원피스티셔츠/긴팔/반팔', 23000, 6900, 70, 'F')\n"
     ]
    }
   ],
   "source": [
    "db = pymysql.connect(host='localhost', port=3306, user='root', passwd='0000', db='ecommerce', charset='utf8')\n",
    "cursor = db.cursor()\n",
    "sql = \"SELECT * FROM product\"\n",
    "cursor.execute(sql)\n",
    "\n",
    "record = cursor.fetchone() #fetch___\n",
    "\n",
    "print(record)\n",
    "db.close()"
   ]
  },
  {
   "cell_type": "markdown",
   "metadata": {},
   "source": [
    "* 데이터 수정(UPDATE)\n",
    "  - Cursor Object 가져오기: cursor = db.cursor()  \n",
    "  - SQL 실행하기: cursor.execute(SQL)\n",
    "  - 실행 mysql 서버에 확정 반영하기: db.commit()"
   ]
  },
  {
   "cell_type": "code",
   "execution_count": null,
   "metadata": {},
   "outputs": [],
   "source": [
    "달리샵린넨원피스 뷔스티에 썸머 가디건 코디전\n",
    "33,000원\n",
    "9,900원\n",
    "70\n",
    "\n",
    "UPDATE product SET \n",
    "    TITLE='달리샵린넨원피스 뷔스티에 썸머 가디건 코디전', \n",
    "    ORI_PRICE=33000, \n",
    "    DISCOUNT_PRICE=9900, \n",
    "    DISCOUNT_PERCENT=70 \n",
    "    WHERE PRODUCT_CODE='215673141'\n"
   ]
  },
  {
   "cell_type": "code",
   "execution_count": 23,
   "metadata": {},
   "outputs": [],
   "source": [
    "# 1. 라이브러리 가져오기\n",
    "import pymysql\n",
    "\n",
    "# 2. 접속하기\n",
    "db = pymysql.connect(host='localhost', port=3306, user='root', passwd='0000', db='ecommerce', charset='utf8')\n",
    "\n",
    "# 3. 커서 가져오기\n",
    "cursor = db.cursor()\n",
    "\n",
    "# 4. SQL 구문 만들기\n",
    "SQL = \"\"\"\n",
    "UPDATE product SET \n",
    "    TITLE='달리샵린넨원피스 뷔스티에 썸머 가디건 코디전', \n",
    "    ORI_PRICE=33000, \n",
    "    DISCOUNT_PRICE=9900, \n",
    "    DISCOUNT_PERCENT=70 \n",
    "    WHERE PRODUCT_CODE='215673141'\n",
    "\"\"\"\n",
    "\n",
    "# 5. SQL 구문 실행하기\n",
    "cursor.execute(SQL)\n",
    "\n",
    "# 6. commit 하기\n",
    "db.commit()\n",
    "\n",
    "# 7. close 하기\n",
    "db.close()"
   ]
  },
  {
   "cell_type": "markdown",
   "metadata": {},
   "source": [
    "* 데이터 삭제(DELETE)\n",
    "  - Cursor Object 가져오기: cursor = db.cursor()  \n",
    "  - SQL 실행하기: cursor.execute(SQL)\n",
    "  - 실행 mysql 서버에 확정 반영하기: db.commit()"
   ]
  },
  {
   "cell_type": "code",
   "execution_count": null,
   "metadata": {},
   "outputs": [],
   "source": [
    "DELETE FROM product WHERE PRODUCT_CODE='215673142'"
   ]
  },
  {
   "cell_type": "code",
   "execution_count": 29,
   "metadata": {},
   "outputs": [],
   "source": [
    "import pymysql\n",
    "\n",
    "db = pymysql.connect(host = 'localhost', port =3306, user = 'root', passwd = '0000', db='ecommerce', charset = 'utf8')\n",
    "\n",
    "cursor = db.cursor()\n",
    "\n",
    "sql = \"\"\"DELETE FROM product WHERE PRODUCT_CODE='215673142'\"\"\"\n",
    "\n",
    "cursor.execute(sql)\n",
    "\n",
    "db.commit()\n",
    "db.close()"
   ]
  },
  {
   "cell_type": "markdown",
   "metadata": {},
   "source": [
    "<div class=\"alert alert-block alert-warning\">\n",
    "<font color=\"blue\" size=\"4em\">연습문제</font><br>\n",
    "* 위 pymysql 샘플코드를 참고해서 다음과 깉이 작업하기<br>\n",
    "<br>\n",
    "웹페이지(http://www.enuri.com/list.jsp?cate=070701) 에서 1위 ~ 3위까지 데이터 입력하기<br>\n",
    "<br>\n",
    "- id는 자동 증가<br>\n",
    "- name 은 코어 이름 <br>\n",
    "- model_num 은 코어 모델 번호 <br>\n",
    "- model_type 은 코드명 (카비레이크, 스카이레이크 로 작성)<br>\n",
    "<br>\n",
    "- 예: 코어 i7 7700 카비레이크<br>\n",
    "-> name 은 i7<br>\n",
    "-> model_num 은 7700<br>\n",
    "-> model_type 은 카비레이크\n",
    "</div>"
   ]
  },
  {
   "cell_type": "code",
   "execution_count": 33,
   "metadata": {},
   "outputs": [
    {
     "name": "stdout",
     "output_type": "stream",
     "text": [
      "0\n",
      "1\n",
      "2\n"
     ]
    }
   ],
   "source": [
    "for i in range(3):\n",
    "    print(i)"
   ]
  },
  {
   "cell_type": "code",
   "execution_count": 40,
   "metadata": {
    "collapsed": true
   },
   "outputs": [
    {
     "ename": "OperationalError",
     "evalue": "(1051, \"Unknown table 'ecommerce.product'\")",
     "output_type": "error",
     "traceback": [
      "\u001b[1;31m---------------------------------------------------------------------------\u001b[0m",
      "\u001b[1;31mOperationalError\u001b[0m                          Traceback (most recent call last)",
      "\u001b[1;32m<ipython-input-40-5e43b2abc09d>\u001b[0m in \u001b[0;36m<module>\u001b[1;34m\u001b[0m\n\u001b[0;32m      5\u001b[0m \u001b[0mdrop\u001b[0m \u001b[1;33m=\u001b[0m \u001b[1;34m\"drop table product\"\u001b[0m\u001b[1;33m\u001b[0m\u001b[1;33m\u001b[0m\u001b[0m\n\u001b[0;32m      6\u001b[0m \u001b[1;33m\u001b[0m\u001b[0m\n\u001b[1;32m----> 7\u001b[1;33m \u001b[0mcursor\u001b[0m\u001b[1;33m.\u001b[0m\u001b[0mexecute\u001b[0m\u001b[1;33m(\u001b[0m\u001b[0mdrop\u001b[0m\u001b[1;33m)\u001b[0m\u001b[1;33m\u001b[0m\u001b[1;33m\u001b[0m\u001b[0m\n\u001b[0m",
      "\u001b[1;32m~\\anaconda3\\lib\\site-packages\\pymysql\\cursors.py\u001b[0m in \u001b[0;36mexecute\u001b[1;34m(self, query, args)\u001b[0m\n\u001b[0;32m    146\u001b[0m         \u001b[0mquery\u001b[0m \u001b[1;33m=\u001b[0m \u001b[0mself\u001b[0m\u001b[1;33m.\u001b[0m\u001b[0mmogrify\u001b[0m\u001b[1;33m(\u001b[0m\u001b[0mquery\u001b[0m\u001b[1;33m,\u001b[0m \u001b[0margs\u001b[0m\u001b[1;33m)\u001b[0m\u001b[1;33m\u001b[0m\u001b[1;33m\u001b[0m\u001b[0m\n\u001b[0;32m    147\u001b[0m \u001b[1;33m\u001b[0m\u001b[0m\n\u001b[1;32m--> 148\u001b[1;33m         \u001b[0mresult\u001b[0m \u001b[1;33m=\u001b[0m \u001b[0mself\u001b[0m\u001b[1;33m.\u001b[0m\u001b[0m_query\u001b[0m\u001b[1;33m(\u001b[0m\u001b[0mquery\u001b[0m\u001b[1;33m)\u001b[0m\u001b[1;33m\u001b[0m\u001b[1;33m\u001b[0m\u001b[0m\n\u001b[0m\u001b[0;32m    149\u001b[0m         \u001b[0mself\u001b[0m\u001b[1;33m.\u001b[0m\u001b[0m_executed\u001b[0m \u001b[1;33m=\u001b[0m \u001b[0mquery\u001b[0m\u001b[1;33m\u001b[0m\u001b[1;33m\u001b[0m\u001b[0m\n\u001b[0;32m    150\u001b[0m         \u001b[1;32mreturn\u001b[0m \u001b[0mresult\u001b[0m\u001b[1;33m\u001b[0m\u001b[1;33m\u001b[0m\u001b[0m\n",
      "\u001b[1;32m~\\anaconda3\\lib\\site-packages\\pymysql\\cursors.py\u001b[0m in \u001b[0;36m_query\u001b[1;34m(self, q)\u001b[0m\n\u001b[0;32m    308\u001b[0m         \u001b[0mself\u001b[0m\u001b[1;33m.\u001b[0m\u001b[0m_last_executed\u001b[0m \u001b[1;33m=\u001b[0m \u001b[0mq\u001b[0m\u001b[1;33m\u001b[0m\u001b[1;33m\u001b[0m\u001b[0m\n\u001b[0;32m    309\u001b[0m         \u001b[0mself\u001b[0m\u001b[1;33m.\u001b[0m\u001b[0m_clear_result\u001b[0m\u001b[1;33m(\u001b[0m\u001b[1;33m)\u001b[0m\u001b[1;33m\u001b[0m\u001b[1;33m\u001b[0m\u001b[0m\n\u001b[1;32m--> 310\u001b[1;33m         \u001b[0mconn\u001b[0m\u001b[1;33m.\u001b[0m\u001b[0mquery\u001b[0m\u001b[1;33m(\u001b[0m\u001b[0mq\u001b[0m\u001b[1;33m)\u001b[0m\u001b[1;33m\u001b[0m\u001b[1;33m\u001b[0m\u001b[0m\n\u001b[0m\u001b[0;32m    311\u001b[0m         \u001b[0mself\u001b[0m\u001b[1;33m.\u001b[0m\u001b[0m_do_get_result\u001b[0m\u001b[1;33m(\u001b[0m\u001b[1;33m)\u001b[0m\u001b[1;33m\u001b[0m\u001b[1;33m\u001b[0m\u001b[0m\n\u001b[0;32m    312\u001b[0m         \u001b[1;32mreturn\u001b[0m \u001b[0mself\u001b[0m\u001b[1;33m.\u001b[0m\u001b[0mrowcount\u001b[0m\u001b[1;33m\u001b[0m\u001b[1;33m\u001b[0m\u001b[0m\n",
      "\u001b[1;32m~\\anaconda3\\lib\\site-packages\\pymysql\\connections.py\u001b[0m in \u001b[0;36mquery\u001b[1;34m(self, sql, unbuffered)\u001b[0m\n\u001b[0;32m    546\u001b[0m             \u001b[0msql\u001b[0m \u001b[1;33m=\u001b[0m \u001b[0msql\u001b[0m\u001b[1;33m.\u001b[0m\u001b[0mencode\u001b[0m\u001b[1;33m(\u001b[0m\u001b[0mself\u001b[0m\u001b[1;33m.\u001b[0m\u001b[0mencoding\u001b[0m\u001b[1;33m,\u001b[0m \u001b[1;34m\"surrogateescape\"\u001b[0m\u001b[1;33m)\u001b[0m\u001b[1;33m\u001b[0m\u001b[1;33m\u001b[0m\u001b[0m\n\u001b[0;32m    547\u001b[0m         \u001b[0mself\u001b[0m\u001b[1;33m.\u001b[0m\u001b[0m_execute_command\u001b[0m\u001b[1;33m(\u001b[0m\u001b[0mCOMMAND\u001b[0m\u001b[1;33m.\u001b[0m\u001b[0mCOM_QUERY\u001b[0m\u001b[1;33m,\u001b[0m \u001b[0msql\u001b[0m\u001b[1;33m)\u001b[0m\u001b[1;33m\u001b[0m\u001b[1;33m\u001b[0m\u001b[0m\n\u001b[1;32m--> 548\u001b[1;33m         \u001b[0mself\u001b[0m\u001b[1;33m.\u001b[0m\u001b[0m_affected_rows\u001b[0m \u001b[1;33m=\u001b[0m \u001b[0mself\u001b[0m\u001b[1;33m.\u001b[0m\u001b[0m_read_query_result\u001b[0m\u001b[1;33m(\u001b[0m\u001b[0munbuffered\u001b[0m\u001b[1;33m=\u001b[0m\u001b[0munbuffered\u001b[0m\u001b[1;33m)\u001b[0m\u001b[1;33m\u001b[0m\u001b[1;33m\u001b[0m\u001b[0m\n\u001b[0m\u001b[0;32m    549\u001b[0m         \u001b[1;32mreturn\u001b[0m \u001b[0mself\u001b[0m\u001b[1;33m.\u001b[0m\u001b[0m_affected_rows\u001b[0m\u001b[1;33m\u001b[0m\u001b[1;33m\u001b[0m\u001b[0m\n\u001b[0;32m    550\u001b[0m \u001b[1;33m\u001b[0m\u001b[0m\n",
      "\u001b[1;32m~\\anaconda3\\lib\\site-packages\\pymysql\\connections.py\u001b[0m in \u001b[0;36m_read_query_result\u001b[1;34m(self, unbuffered)\u001b[0m\n\u001b[0;32m    773\u001b[0m         \u001b[1;32melse\u001b[0m\u001b[1;33m:\u001b[0m\u001b[1;33m\u001b[0m\u001b[1;33m\u001b[0m\u001b[0m\n\u001b[0;32m    774\u001b[0m             \u001b[0mresult\u001b[0m \u001b[1;33m=\u001b[0m \u001b[0mMySQLResult\u001b[0m\u001b[1;33m(\u001b[0m\u001b[0mself\u001b[0m\u001b[1;33m)\u001b[0m\u001b[1;33m\u001b[0m\u001b[1;33m\u001b[0m\u001b[0m\n\u001b[1;32m--> 775\u001b[1;33m             \u001b[0mresult\u001b[0m\u001b[1;33m.\u001b[0m\u001b[0mread\u001b[0m\u001b[1;33m(\u001b[0m\u001b[1;33m)\u001b[0m\u001b[1;33m\u001b[0m\u001b[1;33m\u001b[0m\u001b[0m\n\u001b[0m\u001b[0;32m    776\u001b[0m         \u001b[0mself\u001b[0m\u001b[1;33m.\u001b[0m\u001b[0m_result\u001b[0m \u001b[1;33m=\u001b[0m \u001b[0mresult\u001b[0m\u001b[1;33m\u001b[0m\u001b[1;33m\u001b[0m\u001b[0m\n\u001b[0;32m    777\u001b[0m         \u001b[1;32mif\u001b[0m \u001b[0mresult\u001b[0m\u001b[1;33m.\u001b[0m\u001b[0mserver_status\u001b[0m \u001b[1;32mis\u001b[0m \u001b[1;32mnot\u001b[0m \u001b[1;32mNone\u001b[0m\u001b[1;33m:\u001b[0m\u001b[1;33m\u001b[0m\u001b[1;33m\u001b[0m\u001b[0m\n",
      "\u001b[1;32m~\\anaconda3\\lib\\site-packages\\pymysql\\connections.py\u001b[0m in \u001b[0;36mread\u001b[1;34m(self)\u001b[0m\n\u001b[0;32m   1154\u001b[0m     \u001b[1;32mdef\u001b[0m \u001b[0mread\u001b[0m\u001b[1;33m(\u001b[0m\u001b[0mself\u001b[0m\u001b[1;33m)\u001b[0m\u001b[1;33m:\u001b[0m\u001b[1;33m\u001b[0m\u001b[1;33m\u001b[0m\u001b[0m\n\u001b[0;32m   1155\u001b[0m         \u001b[1;32mtry\u001b[0m\u001b[1;33m:\u001b[0m\u001b[1;33m\u001b[0m\u001b[1;33m\u001b[0m\u001b[0m\n\u001b[1;32m-> 1156\u001b[1;33m             \u001b[0mfirst_packet\u001b[0m \u001b[1;33m=\u001b[0m \u001b[0mself\u001b[0m\u001b[1;33m.\u001b[0m\u001b[0mconnection\u001b[0m\u001b[1;33m.\u001b[0m\u001b[0m_read_packet\u001b[0m\u001b[1;33m(\u001b[0m\u001b[1;33m)\u001b[0m\u001b[1;33m\u001b[0m\u001b[1;33m\u001b[0m\u001b[0m\n\u001b[0m\u001b[0;32m   1157\u001b[0m \u001b[1;33m\u001b[0m\u001b[0m\n\u001b[0;32m   1158\u001b[0m             \u001b[1;32mif\u001b[0m \u001b[0mfirst_packet\u001b[0m\u001b[1;33m.\u001b[0m\u001b[0mis_ok_packet\u001b[0m\u001b[1;33m(\u001b[0m\u001b[1;33m)\u001b[0m\u001b[1;33m:\u001b[0m\u001b[1;33m\u001b[0m\u001b[1;33m\u001b[0m\u001b[0m\n",
      "\u001b[1;32m~\\anaconda3\\lib\\site-packages\\pymysql\\connections.py\u001b[0m in \u001b[0;36m_read_packet\u001b[1;34m(self, packet_type)\u001b[0m\n\u001b[0;32m    723\u001b[0m             \u001b[1;32mif\u001b[0m \u001b[0mself\u001b[0m\u001b[1;33m.\u001b[0m\u001b[0m_result\u001b[0m \u001b[1;32mis\u001b[0m \u001b[1;32mnot\u001b[0m \u001b[1;32mNone\u001b[0m \u001b[1;32mand\u001b[0m \u001b[0mself\u001b[0m\u001b[1;33m.\u001b[0m\u001b[0m_result\u001b[0m\u001b[1;33m.\u001b[0m\u001b[0munbuffered_active\u001b[0m \u001b[1;32mis\u001b[0m \u001b[1;32mTrue\u001b[0m\u001b[1;33m:\u001b[0m\u001b[1;33m\u001b[0m\u001b[1;33m\u001b[0m\u001b[0m\n\u001b[0;32m    724\u001b[0m                 \u001b[0mself\u001b[0m\u001b[1;33m.\u001b[0m\u001b[0m_result\u001b[0m\u001b[1;33m.\u001b[0m\u001b[0munbuffered_active\u001b[0m \u001b[1;33m=\u001b[0m \u001b[1;32mFalse\u001b[0m\u001b[1;33m\u001b[0m\u001b[1;33m\u001b[0m\u001b[0m\n\u001b[1;32m--> 725\u001b[1;33m             \u001b[0mpacket\u001b[0m\u001b[1;33m.\u001b[0m\u001b[0mraise_for_error\u001b[0m\u001b[1;33m(\u001b[0m\u001b[1;33m)\u001b[0m\u001b[1;33m\u001b[0m\u001b[1;33m\u001b[0m\u001b[0m\n\u001b[0m\u001b[0;32m    726\u001b[0m         \u001b[1;32mreturn\u001b[0m \u001b[0mpacket\u001b[0m\u001b[1;33m\u001b[0m\u001b[1;33m\u001b[0m\u001b[0m\n\u001b[0;32m    727\u001b[0m \u001b[1;33m\u001b[0m\u001b[0m\n",
      "\u001b[1;32m~\\anaconda3\\lib\\site-packages\\pymysql\\protocol.py\u001b[0m in \u001b[0;36mraise_for_error\u001b[1;34m(self)\u001b[0m\n\u001b[0;32m    219\u001b[0m         \u001b[1;32mif\u001b[0m \u001b[0mDEBUG\u001b[0m\u001b[1;33m:\u001b[0m\u001b[1;33m\u001b[0m\u001b[1;33m\u001b[0m\u001b[0m\n\u001b[0;32m    220\u001b[0m             \u001b[0mprint\u001b[0m\u001b[1;33m(\u001b[0m\u001b[1;34m\"errno =\"\u001b[0m\u001b[1;33m,\u001b[0m \u001b[0merrno\u001b[0m\u001b[1;33m)\u001b[0m\u001b[1;33m\u001b[0m\u001b[1;33m\u001b[0m\u001b[0m\n\u001b[1;32m--> 221\u001b[1;33m         \u001b[0merr\u001b[0m\u001b[1;33m.\u001b[0m\u001b[0mraise_mysql_exception\u001b[0m\u001b[1;33m(\u001b[0m\u001b[0mself\u001b[0m\u001b[1;33m.\u001b[0m\u001b[0m_data\u001b[0m\u001b[1;33m)\u001b[0m\u001b[1;33m\u001b[0m\u001b[1;33m\u001b[0m\u001b[0m\n\u001b[0m\u001b[0;32m    222\u001b[0m \u001b[1;33m\u001b[0m\u001b[0m\n\u001b[0;32m    223\u001b[0m     \u001b[1;32mdef\u001b[0m \u001b[0mdump\u001b[0m\u001b[1;33m(\u001b[0m\u001b[0mself\u001b[0m\u001b[1;33m)\u001b[0m\u001b[1;33m:\u001b[0m\u001b[1;33m\u001b[0m\u001b[1;33m\u001b[0m\u001b[0m\n",
      "\u001b[1;32m~\\anaconda3\\lib\\site-packages\\pymysql\\err.py\u001b[0m in \u001b[0;36mraise_mysql_exception\u001b[1;34m(data)\u001b[0m\n\u001b[0;32m    141\u001b[0m     \u001b[1;32mif\u001b[0m \u001b[0merrorclass\u001b[0m \u001b[1;32mis\u001b[0m \u001b[1;32mNone\u001b[0m\u001b[1;33m:\u001b[0m\u001b[1;33m\u001b[0m\u001b[1;33m\u001b[0m\u001b[0m\n\u001b[0;32m    142\u001b[0m         \u001b[0merrorclass\u001b[0m \u001b[1;33m=\u001b[0m \u001b[0mInternalError\u001b[0m \u001b[1;32mif\u001b[0m \u001b[0merrno\u001b[0m \u001b[1;33m<\u001b[0m \u001b[1;36m1000\u001b[0m \u001b[1;32melse\u001b[0m \u001b[0mOperationalError\u001b[0m\u001b[1;33m\u001b[0m\u001b[1;33m\u001b[0m\u001b[0m\n\u001b[1;32m--> 143\u001b[1;33m     \u001b[1;32mraise\u001b[0m \u001b[0merrorclass\u001b[0m\u001b[1;33m(\u001b[0m\u001b[0merrno\u001b[0m\u001b[1;33m,\u001b[0m \u001b[0merrval\u001b[0m\u001b[1;33m)\u001b[0m\u001b[1;33m\u001b[0m\u001b[1;33m\u001b[0m\u001b[0m\n\u001b[0m",
      "\u001b[1;31mOperationalError\u001b[0m: (1051, \"Unknown table 'ecommerce.product'\")"
     ]
    }
   ],
   "source": [
    "db = pymysql.connect(host = 'localhost', port =3306, user = 'root', passwd = '0000', db='ecommerce', charset = 'utf8')\n",
    "\n",
    "cursor  = db.cursor()\n",
    "\n",
    "drop = 'drop table product;'\n",
    "\n",
    "cursor.execute(drop)"
   ]
  },
  {
   "cell_type": "code",
   "execution_count": 42,
   "metadata": {},
   "outputs": [],
   "source": [
    "\n",
    "create = '''\n",
    "    create table product(\n",
    "        id int unsigned not null auto_increment,\n",
    "        name varchar(50) not null,\n",
    "        model_num varchar(50),\n",
    "        model_type varchar(50),\n",
    "        primary key (id));\n",
    "'''\n",
    "\n",
    "cursor.execute(create)\n",
    "\n",
    "db.commit()"
   ]
  },
  {
   "cell_type": "code",
   "execution_count": 44,
   "metadata": {},
   "outputs": [],
   "source": [
    "insert = (\"insert into product (name, model_num, model_type) values('i5','10400','코멧레이크s');\",\n",
    "          \"insert into product (name, model_num, model_type) values('i5','10400f','코멧레이크s');\",\n",
    "          \"insert into product (name, model_num, model_type) values('i7','10700','코멧레이크s');\")\n",
    "          \n",
    "for i in range(3):\n",
    "    cursor.execute(insert[i])\n",
    "\n",
    "db.commit()\n"
   ]
  },
  {
   "cell_type": "code",
   "execution_count": 45,
   "metadata": {},
   "outputs": [],
   "source": [
    "db.close()"
   ]
  }
 ],
 "metadata": {
  "kernelspec": {
   "display_name": "Python 3",
   "language": "python",
   "name": "python3"
  },
  "language_info": {
   "codemirror_mode": {
    "name": "ipython",
    "version": 3
   },
   "file_extension": ".py",
   "mimetype": "text/x-python",
   "name": "python",
   "nbconvert_exporter": "python",
   "pygments_lexer": "ipython3",
   "version": "3.8.5"
  },
  "nbTranslate": {
   "displayLangs": [
    "*"
   ],
   "hotkey": "alt-t",
   "langInMainMenu": true,
   "sourceLang": "en",
   "targetLang": "fr",
   "useGoogleTranslate": true
  },
  "toc": {
   "base_numbering": 1,
   "nav_menu": {},
   "number_sections": true,
   "sideBar": true,
   "skip_h1_title": false,
   "title_cell": "Table of Contents",
   "title_sidebar": "Contents",
   "toc_cell": false,
   "toc_position": {
    "height": "calc(100% - 180px)",
    "left": "10px",
    "top": "150px",
    "width": "298px"
   },
   "toc_section_display": true,
   "toc_window_display": true
  },
  "varInspector": {
   "cols": {
    "lenName": 16,
    "lenType": 16,
    "lenVar": 40
   },
   "kernels_config": {
    "python": {
     "delete_cmd_postfix": "",
     "delete_cmd_prefix": "del ",
     "library": "var_list.py",
     "varRefreshCmd": "print(var_dic_list())"
    },
    "r": {
     "delete_cmd_postfix": ") ",
     "delete_cmd_prefix": "rm(",
     "library": "var_list.r",
     "varRefreshCmd": "cat(var_dic_list()) "
    }
   },
   "types_to_exclude": [
    "module",
    "function",
    "builtin_function_or_method",
    "instance",
    "_Feature"
   ],
   "window_display": false
  }
 },
 "nbformat": 4,
 "nbformat_minor": 2
}
