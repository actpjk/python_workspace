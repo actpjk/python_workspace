{
 "cells": [
  {
   "cell_type": "markdown",
   "metadata": {},
   "source": [
    "## MySQL과 데이터 분석의 시작"
   ]
  },
  {
   "cell_type": "markdown",
   "metadata": {},
   "source": [
    "## 1. GROUP BY, COUNT, SUM, AVG, MAX, MIN, DISTINCT, AS"
   ]
  },
  {
   "cell_type": "markdown",
   "metadata": {},
   "source": [
    "#### COUNT 함수\n",
    "- COUNT: 검색 결과의 row 수를 가져올 수 있는 SQL 문법\n",
    "- SQL 예제: SELECT COUNT(*) FROM items\n",
    "\n",
    "```python\n",
    "sql = \"\"\"SELECT COUNT(*) FROM items WHERE item_code = '\"\"\" + item_info['item_code'] + \"\"\"';\"\"\"\n",
    "cursor.execute(sql)\n",
    "result = cursor.fetchone()\n",
    "print (result[0])\n",
    "```\n",
    "\n",
    "- COUNT SQL 예제1: \n",
    "  ```mysql\n",
    "  SELECT COUNT(*) FROM people (전체 row 수)\n",
    "  ```\n",
    "  \n",
    "- COUNT SQL 예제2: \n",
    "  ```mysql\n",
    "  SELECT COUNT(age) FROM people (ori_price field 값이 있는 row 수)\n",
    "  ```\n",
    "  \n",
    "| num | name  | age |\n",
    "|-----|-------|-----|\n",
    "| 1   | Dave  | 12  |\n",
    "| 2   | David | 43  |\n",
    "| 3   | Jade  |     |"
   ]
  },
  {
   "cell_type": "markdown",
   "metadata": {},
   "source": [
    "#### SUM, AVG, MAX, MIN 함수\n",
    "* SUM(): 컬럼값의 합계\n",
    "* AVG(): 컬럼값의 평균\n",
    "* MAX(): 최대 컬럼값\n",
    "* MIN(): 최소 컬럼값\n",
    "* SQL 예제: \n",
    "  ```mysql\n",
    "  SELECT AVG(age) FROM people\n",
    "  ```\n",
    "  \n",
    "| num | name  | age | gender |\n",
    "|-----|-------|-----|--------|\n",
    "| 1   | Dave  | 12  | man    |\n",
    "| 2   | Candy | 43  | woman  |\n",
    "| 3   | Jade  | 20  | man    |\n"
   ]
  },
  {
   "cell_type": "markdown",
   "metadata": {},
   "source": [
    "#### GROUP BY\n",
    "- GROUP BY: 그룹을 지어서, 데이터를 분석하고자 할 때 사용\n",
    "- COUNT, SUM, AVG, MAX, MIN 함수와 함께 사용하면 각 그룹별 row 수, 합계, 평균, 최대, 최소값등을 알 수 있음\n",
    "- SQL 예제: \n",
    "  ```mysql\n",
    "  SELECT AVG(age) FROM people WHERE 조건 GROUP BY gender -> 각각의 젠더별 평균을 냄\n",
    "  ```\n",
    "  \n",
    "| num | name  | age | gender |\n",
    "|-----|-------|-----|--------|\n",
    "| 1   | Dave  | 12  | man    |\n",
    "| 2   | Candy | 43  | woman  |\n",
    "| 3   | Jade  | 20  | man    |"
   ]
  },
  {
   "cell_type": "markdown",
   "metadata": {},
   "source": [
    "#### DISTINCT \n",
    "- 특정 컬럼값 출력시 중복된 값을 출력하지 않음\n",
    "- SQL 예제: \n",
    "  ```mysql\n",
    "  SELECT DISTINCT gender FROM people\n",
    "  ```\n",
    "  \n",
    "| num | name  | age | gender |\n",
    "|-----|-------|-----|--------|\n",
    "| 1   | Dave  | 12  | man    |\n",
    "| 2   | Candy | 43  | woman  |\n",
    "| 3   | Jade  | 20  | man    |"
   ]
  },
  {
   "cell_type": "markdown",
   "metadata": {},
   "source": [
    "#### AS \n",
    "- 특정 결과값의 이름을 변경하는 방법\n",
    "- 예: COUNT(*) 를 total_count로 이름을 변경하기\n",
    "  ```mysql\n",
    "  SELECT COUNT(*) AS total_count FROM people;\n",
    "  ```"
   ]
  },
  {
   "cell_type": "markdown",
   "metadata": {},
   "source": [
    "#### 복합검색\n",
    "- WHERE, GROUP BY, ORDER BY등 다양한 SQL 문법을 복합적으로 사용하는 방법\n",
    "- WHERE절, GROUP BY절, ORDER BY절 순으로 작성\n",
    "- 예: \n",
    "  ```mysql\n",
    "  SELECT provider, COUNT(dis_price) FROM items GROUP BY provider ORDER BY COUNT(dis_price) DESC;\n",
    "  ```"
   ]
  },
  {
   "cell_type": "markdown",
   "metadata": {},
   "source": [
    "## 2. GROUP BY와 HAVING"
   ]
  },
  {
   "cell_type": "markdown",
   "metadata": {},
   "source": [
    "- HAVING 절은 집계함수를 가지고 조건비교를 할 때 사용한다.\n",
    "- HAVING절은 GROUP BY절과 함께 사용\n",
    "- 예\n",
    "\n",
    "```sql\n",
    "SELECT provider FROM items GROUP BY provider HAVING COUNT(*) >= 100;\n",
    "```"
   ]
  },
  {
   "cell_type": "markdown",
   "metadata": {},
   "source": [
    "#### HAVING절을 포함한 복합 검색"
   ]
  },
  {
   "cell_type": "markdown",
   "metadata": {},
   "source": [
    "```mysql\n",
    "SELECT provider, COUNT(*) \n",
    "  FROM items  \n",
    " WHERE provider != '스마일배송'    -- 스마일배송은 제외\n",
    " GROUP BY provider              -- 판매처별로 그룹\n",
    "HAVING COUNT(*) > 100           -- 베스트상품이 100개 이상 등록된 경우만 검색\n",
    " ORDER BY COUNT(*) DESC;        -- 베스트상품 등록갯수 순으로 검색\n",
    "```"
   ]
  },
  {
   "cell_type": "markdown",
   "metadata": {},
   "source": [
    "## 3. JOIN 구문 익히기"
   ]
  },
  {
   "cell_type": "markdown",
   "metadata": {},
   "source": [
    "* JOIN은 두 개 이상의 테이블로부터 필요한 데이터를 연결해 하나의 포괄적인 구조로 결합시키는 연산"
   ]
  },
  {
   "cell_type": "markdown",
   "metadata": {},
   "source": [
    "* JOIN은 다음과 같이 세분화될 수 있지만, 보통은 **INNER JOIN**을 많이 사용함\n",
    "  - INNER JOIN (일반적인 JOIN): 두 테이블에 해당 필드값이 매칭되는 (두 테이블의 모든 필드로 구성된) 레코드만 가져옴\n",
    "  - OUTER JOIN (참고)\n",
    "    - LEFT OUTER JOIN: 왼쪽 테이블에서 모든 레코드와 함께, 오른쪽 테이블에 왼쪽 테이블 레코드와 매칭되는 레코드를 붙여서 가져옴\n",
    "    - RIGHT OUTER JOIN: 오른쪽 테이블에서 모든 레코드와 함께, 왼쪽 테이블에 왼쪽 테이블 레코드와 매칭되는 레코드를 붙여서 가져옴"
   ]
  },
  {
   "cell_type": "markdown",
   "metadata": {},
   "source": [
    "### 3.1 JOIN (INNER JOIN)\n",
    "* INNER JOIN은 조인하는 테이블의 ON 절의 조건이 일치하는 결과만 출력\n",
    "* 사용법: FROM 테이블1 **INNER JOIN** 테이블2 **ON** 테이블1과 테이블2의 매칭조건\n",
    "\n",
    "```mysql\n",
    "SELECT * FROM items INNER JOIN ranking ON ranking.item_code = items.item_code WHERE ranking.main_category = \"ALL\" \n",
    "```\n",
    "* 테이블 이름 다음에 한칸 띄고 새로운 이름을 쓰면, SQL구문 안에서 해당 이름으로 해당 테이블을 가리킬 수 있음 (AS 용법과 동일함)\n",
    "  - 일반적으로 이와 같이 많이 사용됨\n",
    "\n",
    "```mysql\n",
    "SELECT * FROM items a INNER JOIN ranking b ON a.item_code = b.item_code WHERE b.main_category = \"ALL\" \n",
    "```"
   ]
  },
  {
   "cell_type": "markdown",
   "metadata": {},
   "source": [
    "<div class=\"alert alert-block alert-warning\">\n",
    "<font color=\"blue\" size=\"4em\">연습문제</font><br>\n",
    "전체 베스트상품(ALL 메인 카테고리)에서 판매자별 베스트상품 갯수 출력해보기\n",
    "</div>"
   ]
  },
  {
   "cell_type": "code",
   "execution_count": null,
   "metadata": {},
   "outputs": [],
   "source": [
    "* select provider count(provider) from items where main_category = 'ALL'\n",
    "\n",
    "* select ranking.provider count(*) from ranking inner join items on items.item_code = ranking.item_code \n",
    "where ranking.main_category = 'ALL' group by ranking.provider order by count(*) desc;"
   ]
  },
  {
   "cell_type": "markdown",
   "metadata": {},
   "source": [
    "<div class=\"alert alert-block alert-warning\">\n",
    "<font color=\"blue\" size=\"4em\">연습문제</font><br>\n",
    "메인 카테고리가 패션의류인 서브 카테고리 포함, 패션의류 전체 베스트상품에서 판매자별 베스트상품 갯수가 5이상인 판매자와 베스트상품 갯수 출력해보기\n",
    "</div>"
   ]
  },
  {
   "cell_type": "code",
   "execution_count": null,
   "metadata": {},
   "outputs": [],
   "source": [
    "* select count(provider) from items where (main_category = '패션의류' or sub_category = '패션의류' ) and count(provider) >= 5\n",
    "\n",
    "* select items.provider, count(*) from ranking inner join items on items.item_code = ranking.item_code \n",
    "where ranking.main_category = '패션의류' group by items.provider having count(*) > 5;"
   ]
  },
  {
   "cell_type": "markdown",
   "metadata": {},
   "source": [
    "<div class=\"alert alert-block alert-warning\">\n",
    "<font color=\"blue\" size=\"4em\">연습문제</font><br>\n",
    "메인 카테고리가 신발/잡화인 서브 카테고리 포함, 전체 베스트상품에서 판매자별 베스트상품 갯수가 10이상인 판매자와 베스트상품 갯수를 베스트상품 갯수 순으로 출력해보기\n",
    "</div>"
   ]
  },
  {
   "cell_type": "code",
   "execution_count": null,
   "metadata": {},
   "outputs": [],
   "source": [
    "* select i.provider, count(*) from ranking r inner join items i on i.item_code = r.item_code where r.main_category = '신발/잡화' group by i.provider having count(*) > = 10 order by count(*) desc;\n",
    "\n",
    "* select i.provider, count(*) from ranking r inner join items  i on i.item_code = r.item_code where r.main_category like '신발%' group by i.provider having count(*) >= 10 order by count(*) desc;"
   ]
  },
  {
   "cell_type": "markdown",
   "metadata": {},
   "source": [
    "<div class=\"alert alert-block alert-warning\">\n",
    "<font color=\"blue\" size=\"4em\">연습문제</font><br>\n",
    "메인 카테고리가 화장품/헤어인 서브 카테고리 포함, 전체 베스트상품의 평균, 최대, 최소 가격 출력해보기\n",
    "</div>\n",
    "\n"
   ]
  },
  {
   "cell_type": "code",
   "execution_count": null,
   "metadata": {},
   "outputs": [],
   "source": [
    "select max(i.dis_price), min(i.dis_price), avg(i.dis_price) from ranking r inner join items i on i.item_code = r.item_code where r.main_category like '화장품%' group by i.dis_price"
   ]
  },
  {
   "cell_type": "markdown",
   "metadata": {},
   "source": [
    "### 3.2 OUTER JOIN (참고)\n",
    "* OUTER JOIN은 조인하는 테이블의 ON 절의 조건 중 한쪽의 데이터를 모두 가져옴\n",
    "* OUTER JOIN은 LEFT OUTER JOIN, RIGHT OUTER JOIN 이 있음"
   ]
  },
  {
   "cell_type": "markdown",
   "metadata": {},
   "source": [
    "#### 3.2.1 LEFT OUTER JOIN\n",
    "- 예: \n",
    "  ```mysql\n",
    "  SELECT * FROM customer_table C LEFT OUTER JOIN order_table O ON C.customer_id = O.customer_id\n",
    "  ```"
   ]
  },
  {
   "cell_type": "markdown",
   "metadata": {},
   "source": [
    " <img src=\"https://www.fun-coding.org/00_Images/mysql_outer_join.png\" />"
   ]
  },
  {
   "cell_type": "markdown",
   "metadata": {},
   "source": [
    " <img src=\"https://www.fun-coding.org/00_Images/mysql_outer_join_reverse.png\" />"
   ]
  },
  {
   "cell_type": "markdown",
   "metadata": {},
   "source": [
    "#### 3.2.2 RIGHT OUTER JOIN\n",
    "- 예: \n",
    "  ```mysql\n",
    "  SELECT * FROM customer_table C RIGHT OUTER JOIN order_table O ON C.customer_id = O.customer_id\n",
    "  ```"
   ]
  },
  {
   "cell_type": "markdown",
   "metadata": {},
   "source": [
    " <img src=\"https://www.fun-coding.org/00_Images/mysql_right_outer_join.png\" />"
   ]
  },
  {
   "cell_type": "markdown",
   "metadata": {},
   "source": [
    "## 4. 서브 쿼리 (MySQL SubQuery)\n",
    "* SQL문 안에 포함되어 있는 SQL문\n",
    "  - SQL문 안에서 괄호() 를 사용해서, 서브쿼리문을 추가할 수 있음\n",
    "* 테이블과 테이블간의 검색시, 검색 범위(테이블 중 필요한 부분만 먼저 가져오도록)를 좁히는 기능에 주로 사용"
   ]
  },
  {
   "cell_type": "markdown",
   "metadata": {},
   "source": [
    "### 4.1. 서브쿼리(Sub Query) 사용법\n",
    "* JOIN은 출력 결과에 여러 테이블의 열이 필요한 경우 유용\n",
    "* 대부분의 서브쿼리(Sub Query) 는 JOIN 문으로 처리가 가능"
   ]
  },
  {
   "cell_type": "markdown",
   "metadata": {},
   "source": [
    "#### 예1: 서브카테코리가 '여성신발'인 상품 타이틀만 가져오기\n",
    "- JOIN SQL을 사용해서 작성하는 방법\n",
    "```mysql\n",
    "    SELECT title\n",
    "    FROM items\n",
    "    INNER JOIN ranking ON items.item_code = ranking.item_code\n",
    "    WHERE ranking.sub_category = '여성신발'\n",
    "```\n",
    "- **서브쿼리를 사용해서 작성하는 방법**\n",
    "  - 컬럼값 IN 서브쿼리 출력값 -> 컬럼값과 서브쿼리값이 같을 때 \n",
    "```mysql\n",
    "    SELECT title \n",
    "    FROM items\n",
    "    WHERE item_code IN\n",
    "        (SELECT item_code FROM ranking WHERE sub_category = '여성신발')\n",
    "```"
   ]
  },
  {
   "cell_type": "markdown",
   "metadata": {},
   "source": [
    "#### 예2: 서브카테코리가 '여성신발'인 상품중 할인가격이 가장 높은 상품의 할인가격 가져오기\n",
    "- JOIN SQL을 사용해서 작성하는 방법\n",
    "```mysql\n",
    "    SELECT MAX(items.dis_price)\n",
    "    FROM items\n",
    "    INNER JOIN ranking ON items.item_code = ranking.item_code\n",
    "    WHERE ranking.sub_category = '여성신발'\n",
    "```\n",
    "- **서브쿼리를 사용해서 작성하는 방법**\n",
    "```mysql\n",
    "    SELECT MAX(dis_price) \n",
    "    FROM items \n",
    "    WHERE item_code IN \n",
    "    (SELECT item_code FROM ranking WHERE sub_category = '여성신발')\n",
    "```"
   ]
  },
  {
   "cell_type": "markdown",
   "metadata": {},
   "source": [
    "##### 참고: 다양한 서브 쿼리 삽입 위치\n",
    "- 비교\n",
    "```mysql\n",
    "    SELECT category_id, COUNT(*) AS film_count FROM film_category\n",
    "    WHERE film_category.category_id >\n",
    "        (SELECT category.category_id FROM category WHERE category.name = 'Comedy')\n",
    "    GROUP BY film_category.category_id\n",
    "```\n",
    "\n",
    "- FROM 절\n",
    "```mysql\n",
    "    SELECT\n",
    "    a, b, c\n",
    "    FROM\n",
    "    (SELECT * FROM  atoz_table)\n",
    "```"
   ]
  },
  {
   "cell_type": "markdown",
   "metadata": {},
   "source": [
    "<div class=\"alert alert-block alert-warning\">\n",
    "<font color=\"blue\" size=\"4em\">연습문제</font><br>\n",
    "메인 카테고리별로 할인 가격이 10만원 이상인 상품이 몇개 있는지를 출력해보기\n",
    "</div>"
   ]
  },
  {
   "cell_type": "markdown",
   "metadata": {},
   "source": [
    "<div class=\"alert alert-block alert-warning\">\n",
    "<font color=\"blue\" size=\"4em\">다양한 복합쿼리 연습문제</font><br>\n",
    "메인 카테고리, 서브 카테고리에 대해, 평균할인가격과 평균할인율을 출력해보기 (다양한 SQL 문법 활용)\n",
    "</div>"
   ]
  },
  {
   "cell_type": "markdown",
   "metadata": {},
   "source": [
    "<div class=\"alert alert-block alert-warning\">\n",
    "<font color=\"blue\" size=\"4em\">다양한 복합쿼리 연습문제</font><br>\n",
    "판매자별, 베스트상품 갯수, 평균할인가격, 평균할인율을 베스트상품 갯수가 높은 순으로 출력해보기 (다양한 SQL 문법 활용)\n",
    "</div>"
   ]
  },
  {
   "cell_type": "markdown",
   "metadata": {},
   "source": [
    "<div class=\"alert alert-block alert-warning\">\n",
    "<font color=\"blue\" size=\"4em\">다양한 복합쿼리 연습문제</font><br>\n",
    "각 메인 카테고리에서 베스트 상품 갯수가 20개 이상인 판매자의 판매자별 평균할인가격, 평균할인율, 베스트 상품 갯수 출력해보기 (다양한 SQL 문법 활용)\n",
    "</div>"
   ]
  },
  {
   "cell_type": "code",
   "execution_count": null,
   "metadata": {},
   "outputs": [],
   "source": [
    "select main_category, count(*) from ranking where item_code in (select item_code from items where dis_price > 100000 group by main_category)"
   ]
  },
  {
   "cell_type": "code",
   "execution_count": null,
   "metadata": {},
   "outputs": [],
   "source": [
    "select ranking.main_category, ranking.sub_category avg(items.main_category), avg(items.discount_percent) from items inner join ranking on items.item_code = ranking.item_code group by ranking.main_category, ranking.sub_category;"
   ]
  },
  {
   "cell_type": "code",
   "execution_count": null,
   "metadata": {},
   "outputs": [],
   "source": [
    "select items.provider, count(*), avg(items.dis_price), avg(items.discount_change) from items inner join ranking on items.item_code = ranking.item_code group by items.provider order by count(*) desc"
   ]
  },
  {
   "cell_type": "code",
   "execution_count": null,
   "metadata": {},
   "outputs": [],
   "source": [
    "select main_category, items.provider, avg(items.dis_price), avg(discount_change), count(*) from items inner join ranking on items.item_code = ranking.item_code group by items.provider, ranking.main_category having count(*) > 20 "
   ]
  },
  {
   "cell_type": "code",
   "execution_count": null,
   "metadata": {},
   "outputs": [],
   "source": []
  }
 ],
 "metadata": {
  "kernelspec": {
   "display_name": "Python 3",
   "language": "python",
   "name": "python3"
  },
  "language_info": {
   "codemirror_mode": {
    "name": "ipython",
    "version": 3
   },
   "file_extension": ".py",
   "mimetype": "text/x-python",
   "name": "python",
   "nbconvert_exporter": "python",
   "pygments_lexer": "ipython3",
   "version": "3.8.5"
  },
  "toc": {
   "base_numbering": 1,
   "nav_menu": {},
   "number_sections": true,
   "sideBar": true,
   "skip_h1_title": false,
   "title_cell": "Table of Contents",
   "title_sidebar": "Contents",
   "toc_cell": false,
   "toc_position": {
    "height": "calc(100% - 180px)",
    "left": "10px",
    "top": "150px",
    "width": "249px"
   },
   "toc_section_display": true,
   "toc_window_display": true
  },
  "varInspector": {
   "cols": {
    "lenName": 16,
    "lenType": 16,
    "lenVar": 40
   },
   "kernels_config": {
    "python": {
     "delete_cmd_postfix": "",
     "delete_cmd_prefix": "del ",
     "library": "var_list.py",
     "varRefreshCmd": "print(var_dic_list())"
    },
    "r": {
     "delete_cmd_postfix": ") ",
     "delete_cmd_prefix": "rm(",
     "library": "var_list.r",
     "varRefreshCmd": "cat(var_dic_list()) "
    }
   },
   "types_to_exclude": [
    "module",
    "function",
    "builtin_function_or_method",
    "instance",
    "_Feature"
   ],
   "window_display": false
  }
 },
 "nbformat": 4,
 "nbformat_minor": 2
}
