{
 "cells": [
  {
   "cell_type": "markdown",
   "metadata": {},
   "source": [
    "## 실제 활용해보며 익히는 MySQL 기본 + (중급) 문법\n",
    "- 다양한 문법을 나열하기보다는, 실제 예제를 통해, 필요할 때, 그때 그때 문법을 익혀야 이해가 빠릅니다."
   ]
  },
  {
   "cell_type": "markdown",
   "metadata": {},
   "source": [
    "### 1. Schema 정의\n",
    "- TABLE 분리, FOREIGN KEY, PRIMARY KEY 사용"
   ]
  },
  {
   "cell_type": "code",
   "execution_count": null,
   "metadata": {},
   "outputs": [],
   "source": [
    "CREATE TABLE items (\n",
    "    item_code VARCHAR(20) NOT NULL PRIMARY KEY,\n",
    "    title VARCHAR(200) NOT NULL,\n",
    "    ori_price INT NOT NULL,\n",
    "    dis_price INT NOT NULL,\n",
    "    discount_percent INT NOT NULL,\n",
    "    provider VARCHAR(100)\n",
    ");"
   ]
  },
  {
   "cell_type": "code",
   "execution_count": null,
   "metadata": {},
   "outputs": [],
   "source": [
    "CREATE TABLE ranking (\n",
    "    num INT AUTO_INCREMENT NOT NULL PRIMARY KEY,\n",
    "    main_category VARCHAR(50) NOT NULL,\n",
    "    sub_category VARCHAR(50) NOT NULL,\n",
    "    item_ranking TINYINT UNSIGNED NOT NULL,\n",
    "    item_code VARCHAR(20) NOT NULL,\n",
    "    FOREIGN KEY (item_code) REFERENCES items(item_code)\n",
    ");"
   ]
  },
  {
   "cell_type": "markdown",
   "metadata": {},
   "source": [
    "##### 참고: 한글 처리에 문제가 있을 경우, DB, TABLE 에 DEFAULT CHARSET=utf8 COLLATE=utf8_bin 옵션을 모두 추가해서 실행\n",
    "```sql\n",
    "CREATE DATABASE bestproducts DEFAULT CHARSET=utf8 COLLATE=utf8_bin; \n",
    "CREATE TABLE tablename(field definitions) DEFAULT CHARSET=utf8 COLLATE=utf8_bin;\n",
    "```"
   ]
  },
  {
   "cell_type": "code",
   "execution_count": 7,
   "metadata": {
    "scrolled": true
   },
   "outputs": [
    {
     "ename": "OperationalError",
     "evalue": "(1045, \"Access denied for user 'root'@'localhost' (using password: YES)\")",
     "output_type": "error",
     "traceback": [
      "\u001b[1;31m---------------------------------------------------------------------------\u001b[0m",
      "\u001b[1;31mOperationalError\u001b[0m                          Traceback (most recent call last)",
      "\u001b[1;32m<ipython-input-7-ca4d54b80490>\u001b[0m in \u001b[0;36m<module>\u001b[1;34m\u001b[0m\n\u001b[0;32m      1\u001b[0m \u001b[1;32mimport\u001b[0m \u001b[0mpymysql\u001b[0m\u001b[1;33m\u001b[0m\u001b[1;33m\u001b[0m\u001b[0m\n\u001b[1;32m----> 2\u001b[1;33m \u001b[0mdb\u001b[0m \u001b[1;33m=\u001b[0m \u001b[0mpymysql\u001b[0m\u001b[1;33m.\u001b[0m\u001b[0mconnect\u001b[0m\u001b[1;33m(\u001b[0m\u001b[0mhost\u001b[0m\u001b[1;33m=\u001b[0m\u001b[1;34m'localhost'\u001b[0m\u001b[1;33m,\u001b[0m \u001b[0mport\u001b[0m\u001b[1;33m=\u001b[0m\u001b[1;36m3306\u001b[0m\u001b[1;33m,\u001b[0m \u001b[0muser\u001b[0m\u001b[1;33m=\u001b[0m\u001b[1;34m'root'\u001b[0m\u001b[1;33m,\u001b[0m \u001b[0mpasswd\u001b[0m\u001b[1;33m=\u001b[0m\u001b[1;34m'funcoding'\u001b[0m\u001b[1;33m,\u001b[0m \u001b[0mdb\u001b[0m\u001b[1;33m=\u001b[0m\u001b[1;34m'bestproducts'\u001b[0m\u001b[1;33m,\u001b[0m \u001b[0mcharset\u001b[0m\u001b[1;33m=\u001b[0m\u001b[1;34m'utf8'\u001b[0m\u001b[1;33m)\u001b[0m\u001b[1;33m\u001b[0m\u001b[1;33m\u001b[0m\u001b[0m\n\u001b[0m\u001b[0;32m      3\u001b[0m \u001b[0mcursor\u001b[0m \u001b[1;33m=\u001b[0m \u001b[0mdb\u001b[0m\u001b[1;33m.\u001b[0m\u001b[0mcursor\u001b[0m\u001b[1;33m(\u001b[0m\u001b[1;33m)\u001b[0m\u001b[1;33m\u001b[0m\u001b[1;33m\u001b[0m\u001b[0m\n\u001b[0;32m      4\u001b[0m \u001b[1;33m\u001b[0m\u001b[0m\n\u001b[0;32m      5\u001b[0m sql = '''\n",
      "\u001b[1;32m~\\anaconda3\\lib\\site-packages\\pymysql\\connections.py\u001b[0m in \u001b[0;36m__init__\u001b[1;34m(self, user, password, host, database, unix_socket, port, charset, sql_mode, read_default_file, conv, use_unicode, client_flag, cursorclass, init_command, connect_timeout, read_default_group, autocommit, local_infile, max_allowed_packet, defer_connect, auth_plugin_map, read_timeout, write_timeout, bind_address, binary_prefix, program_name, server_public_key, ssl, ssl_ca, ssl_cert, ssl_disabled, ssl_key, ssl_verify_cert, ssl_verify_identity, compress, named_pipe, passwd, db)\u001b[0m\n\u001b[0;32m    351\u001b[0m             \u001b[0mself\u001b[0m\u001b[1;33m.\u001b[0m\u001b[0m_sock\u001b[0m \u001b[1;33m=\u001b[0m \u001b[1;32mNone\u001b[0m\u001b[1;33m\u001b[0m\u001b[1;33m\u001b[0m\u001b[0m\n\u001b[0;32m    352\u001b[0m         \u001b[1;32melse\u001b[0m\u001b[1;33m:\u001b[0m\u001b[1;33m\u001b[0m\u001b[1;33m\u001b[0m\u001b[0m\n\u001b[1;32m--> 353\u001b[1;33m             \u001b[0mself\u001b[0m\u001b[1;33m.\u001b[0m\u001b[0mconnect\u001b[0m\u001b[1;33m(\u001b[0m\u001b[1;33m)\u001b[0m\u001b[1;33m\u001b[0m\u001b[1;33m\u001b[0m\u001b[0m\n\u001b[0m\u001b[0;32m    354\u001b[0m \u001b[1;33m\u001b[0m\u001b[0m\n\u001b[0;32m    355\u001b[0m     \u001b[1;32mdef\u001b[0m \u001b[0m__enter__\u001b[0m\u001b[1;33m(\u001b[0m\u001b[0mself\u001b[0m\u001b[1;33m)\u001b[0m\u001b[1;33m:\u001b[0m\u001b[1;33m\u001b[0m\u001b[1;33m\u001b[0m\u001b[0m\n",
      "\u001b[1;32m~\\anaconda3\\lib\\site-packages\\pymysql\\connections.py\u001b[0m in \u001b[0;36mconnect\u001b[1;34m(self, sock)\u001b[0m\n\u001b[0;32m    631\u001b[0m \u001b[1;33m\u001b[0m\u001b[0m\n\u001b[0;32m    632\u001b[0m             \u001b[0mself\u001b[0m\u001b[1;33m.\u001b[0m\u001b[0m_get_server_information\u001b[0m\u001b[1;33m(\u001b[0m\u001b[1;33m)\u001b[0m\u001b[1;33m\u001b[0m\u001b[1;33m\u001b[0m\u001b[0m\n\u001b[1;32m--> 633\u001b[1;33m             \u001b[0mself\u001b[0m\u001b[1;33m.\u001b[0m\u001b[0m_request_authentication\u001b[0m\u001b[1;33m(\u001b[0m\u001b[1;33m)\u001b[0m\u001b[1;33m\u001b[0m\u001b[1;33m\u001b[0m\u001b[0m\n\u001b[0m\u001b[0;32m    634\u001b[0m \u001b[1;33m\u001b[0m\u001b[0m\n\u001b[0;32m    635\u001b[0m             \u001b[1;32mif\u001b[0m \u001b[0mself\u001b[0m\u001b[1;33m.\u001b[0m\u001b[0msql_mode\u001b[0m \u001b[1;32mis\u001b[0m \u001b[1;32mnot\u001b[0m \u001b[1;32mNone\u001b[0m\u001b[1;33m:\u001b[0m\u001b[1;33m\u001b[0m\u001b[1;33m\u001b[0m\u001b[0m\n",
      "\u001b[1;32m~\\anaconda3\\lib\\site-packages\\pymysql\\connections.py\u001b[0m in \u001b[0;36m_request_authentication\u001b[1;34m(self)\u001b[0m\n\u001b[0;32m    930\u001b[0m             \u001b[1;31m# https://dev.mysql.com/doc/internals/en/successful-authentication.html\u001b[0m\u001b[1;33m\u001b[0m\u001b[1;33m\u001b[0m\u001b[1;33m\u001b[0m\u001b[0m\n\u001b[0;32m    931\u001b[0m             \u001b[1;32mif\u001b[0m \u001b[0mself\u001b[0m\u001b[1;33m.\u001b[0m\u001b[0m_auth_plugin_name\u001b[0m \u001b[1;33m==\u001b[0m \u001b[1;34m\"caching_sha2_password\"\u001b[0m\u001b[1;33m:\u001b[0m\u001b[1;33m\u001b[0m\u001b[1;33m\u001b[0m\u001b[0m\n\u001b[1;32m--> 932\u001b[1;33m                 \u001b[0mauth_packet\u001b[0m \u001b[1;33m=\u001b[0m \u001b[0m_auth\u001b[0m\u001b[1;33m.\u001b[0m\u001b[0mcaching_sha2_password_auth\u001b[0m\u001b[1;33m(\u001b[0m\u001b[0mself\u001b[0m\u001b[1;33m,\u001b[0m \u001b[0mauth_packet\u001b[0m\u001b[1;33m)\u001b[0m\u001b[1;33m\u001b[0m\u001b[1;33m\u001b[0m\u001b[0m\n\u001b[0m\u001b[0;32m    933\u001b[0m             \u001b[1;32melif\u001b[0m \u001b[0mself\u001b[0m\u001b[1;33m.\u001b[0m\u001b[0m_auth_plugin_name\u001b[0m \u001b[1;33m==\u001b[0m \u001b[1;34m\"sha256_password\"\u001b[0m\u001b[1;33m:\u001b[0m\u001b[1;33m\u001b[0m\u001b[1;33m\u001b[0m\u001b[0m\n\u001b[0;32m    934\u001b[0m                 \u001b[0mauth_packet\u001b[0m \u001b[1;33m=\u001b[0m \u001b[0m_auth\u001b[0m\u001b[1;33m.\u001b[0m\u001b[0msha256_password_auth\u001b[0m\u001b[1;33m(\u001b[0m\u001b[0mself\u001b[0m\u001b[1;33m,\u001b[0m \u001b[0mauth_packet\u001b[0m\u001b[1;33m)\u001b[0m\u001b[1;33m\u001b[0m\u001b[1;33m\u001b[0m\u001b[0m\n",
      "\u001b[1;32m~\\anaconda3\\lib\\site-packages\\pymysql\\_auth.py\u001b[0m in \u001b[0;36mcaching_sha2_password_auth\u001b[1;34m(conn, pkt)\u001b[0m\n\u001b[0;32m    264\u001b[0m \u001b[1;33m\u001b[0m\u001b[0m\n\u001b[0;32m    265\u001b[0m     \u001b[0mdata\u001b[0m \u001b[1;33m=\u001b[0m \u001b[0msha2_rsa_encrypt\u001b[0m\u001b[1;33m(\u001b[0m\u001b[0mconn\u001b[0m\u001b[1;33m.\u001b[0m\u001b[0mpassword\u001b[0m\u001b[1;33m,\u001b[0m \u001b[0mconn\u001b[0m\u001b[1;33m.\u001b[0m\u001b[0msalt\u001b[0m\u001b[1;33m,\u001b[0m \u001b[0mconn\u001b[0m\u001b[1;33m.\u001b[0m\u001b[0mserver_public_key\u001b[0m\u001b[1;33m)\u001b[0m\u001b[1;33m\u001b[0m\u001b[1;33m\u001b[0m\u001b[0m\n\u001b[1;32m--> 266\u001b[1;33m     \u001b[0mpkt\u001b[0m \u001b[1;33m=\u001b[0m \u001b[0m_roundtrip\u001b[0m\u001b[1;33m(\u001b[0m\u001b[0mconn\u001b[0m\u001b[1;33m,\u001b[0m \u001b[0mdata\u001b[0m\u001b[1;33m)\u001b[0m\u001b[1;33m\u001b[0m\u001b[1;33m\u001b[0m\u001b[0m\n\u001b[0m",
      "\u001b[1;32m~\\anaconda3\\lib\\site-packages\\pymysql\\_auth.py\u001b[0m in \u001b[0;36m_roundtrip\u001b[1;34m(conn, send_data)\u001b[0m\n\u001b[0;32m    118\u001b[0m \u001b[1;32mdef\u001b[0m \u001b[0m_roundtrip\u001b[0m\u001b[1;33m(\u001b[0m\u001b[0mconn\u001b[0m\u001b[1;33m,\u001b[0m \u001b[0msend_data\u001b[0m\u001b[1;33m)\u001b[0m\u001b[1;33m:\u001b[0m\u001b[1;33m\u001b[0m\u001b[1;33m\u001b[0m\u001b[0m\n\u001b[0;32m    119\u001b[0m     \u001b[0mconn\u001b[0m\u001b[1;33m.\u001b[0m\u001b[0mwrite_packet\u001b[0m\u001b[1;33m(\u001b[0m\u001b[0msend_data\u001b[0m\u001b[1;33m)\u001b[0m\u001b[1;33m\u001b[0m\u001b[1;33m\u001b[0m\u001b[0m\n\u001b[1;32m--> 120\u001b[1;33m     \u001b[0mpkt\u001b[0m \u001b[1;33m=\u001b[0m \u001b[0mconn\u001b[0m\u001b[1;33m.\u001b[0m\u001b[0m_read_packet\u001b[0m\u001b[1;33m(\u001b[0m\u001b[1;33m)\u001b[0m\u001b[1;33m\u001b[0m\u001b[1;33m\u001b[0m\u001b[0m\n\u001b[0m\u001b[0;32m    121\u001b[0m     \u001b[0mpkt\u001b[0m\u001b[1;33m.\u001b[0m\u001b[0mcheck_error\u001b[0m\u001b[1;33m(\u001b[0m\u001b[1;33m)\u001b[0m\u001b[1;33m\u001b[0m\u001b[1;33m\u001b[0m\u001b[0m\n\u001b[0;32m    122\u001b[0m     \u001b[1;32mreturn\u001b[0m \u001b[0mpkt\u001b[0m\u001b[1;33m\u001b[0m\u001b[1;33m\u001b[0m\u001b[0m\n",
      "\u001b[1;32m~\\anaconda3\\lib\\site-packages\\pymysql\\connections.py\u001b[0m in \u001b[0;36m_read_packet\u001b[1;34m(self, packet_type)\u001b[0m\n\u001b[0;32m    723\u001b[0m             \u001b[1;32mif\u001b[0m \u001b[0mself\u001b[0m\u001b[1;33m.\u001b[0m\u001b[0m_result\u001b[0m \u001b[1;32mis\u001b[0m \u001b[1;32mnot\u001b[0m \u001b[1;32mNone\u001b[0m \u001b[1;32mand\u001b[0m \u001b[0mself\u001b[0m\u001b[1;33m.\u001b[0m\u001b[0m_result\u001b[0m\u001b[1;33m.\u001b[0m\u001b[0munbuffered_active\u001b[0m \u001b[1;32mis\u001b[0m \u001b[1;32mTrue\u001b[0m\u001b[1;33m:\u001b[0m\u001b[1;33m\u001b[0m\u001b[1;33m\u001b[0m\u001b[0m\n\u001b[0;32m    724\u001b[0m                 \u001b[0mself\u001b[0m\u001b[1;33m.\u001b[0m\u001b[0m_result\u001b[0m\u001b[1;33m.\u001b[0m\u001b[0munbuffered_active\u001b[0m \u001b[1;33m=\u001b[0m \u001b[1;32mFalse\u001b[0m\u001b[1;33m\u001b[0m\u001b[1;33m\u001b[0m\u001b[0m\n\u001b[1;32m--> 725\u001b[1;33m             \u001b[0mpacket\u001b[0m\u001b[1;33m.\u001b[0m\u001b[0mraise_for_error\u001b[0m\u001b[1;33m(\u001b[0m\u001b[1;33m)\u001b[0m\u001b[1;33m\u001b[0m\u001b[1;33m\u001b[0m\u001b[0m\n\u001b[0m\u001b[0;32m    726\u001b[0m         \u001b[1;32mreturn\u001b[0m \u001b[0mpacket\u001b[0m\u001b[1;33m\u001b[0m\u001b[1;33m\u001b[0m\u001b[0m\n\u001b[0;32m    727\u001b[0m \u001b[1;33m\u001b[0m\u001b[0m\n",
      "\u001b[1;32m~\\anaconda3\\lib\\site-packages\\pymysql\\protocol.py\u001b[0m in \u001b[0;36mraise_for_error\u001b[1;34m(self)\u001b[0m\n\u001b[0;32m    219\u001b[0m         \u001b[1;32mif\u001b[0m \u001b[0mDEBUG\u001b[0m\u001b[1;33m:\u001b[0m\u001b[1;33m\u001b[0m\u001b[1;33m\u001b[0m\u001b[0m\n\u001b[0;32m    220\u001b[0m             \u001b[0mprint\u001b[0m\u001b[1;33m(\u001b[0m\u001b[1;34m\"errno =\"\u001b[0m\u001b[1;33m,\u001b[0m \u001b[0merrno\u001b[0m\u001b[1;33m)\u001b[0m\u001b[1;33m\u001b[0m\u001b[1;33m\u001b[0m\u001b[0m\n\u001b[1;32m--> 221\u001b[1;33m         \u001b[0merr\u001b[0m\u001b[1;33m.\u001b[0m\u001b[0mraise_mysql_exception\u001b[0m\u001b[1;33m(\u001b[0m\u001b[0mself\u001b[0m\u001b[1;33m.\u001b[0m\u001b[0m_data\u001b[0m\u001b[1;33m)\u001b[0m\u001b[1;33m\u001b[0m\u001b[1;33m\u001b[0m\u001b[0m\n\u001b[0m\u001b[0;32m    222\u001b[0m \u001b[1;33m\u001b[0m\u001b[0m\n\u001b[0;32m    223\u001b[0m     \u001b[1;32mdef\u001b[0m \u001b[0mdump\u001b[0m\u001b[1;33m(\u001b[0m\u001b[0mself\u001b[0m\u001b[1;33m)\u001b[0m\u001b[1;33m:\u001b[0m\u001b[1;33m\u001b[0m\u001b[1;33m\u001b[0m\u001b[0m\n",
      "\u001b[1;32m~\\anaconda3\\lib\\site-packages\\pymysql\\err.py\u001b[0m in \u001b[0;36mraise_mysql_exception\u001b[1;34m(data)\u001b[0m\n\u001b[0;32m    141\u001b[0m     \u001b[1;32mif\u001b[0m \u001b[0merrorclass\u001b[0m \u001b[1;32mis\u001b[0m \u001b[1;32mNone\u001b[0m\u001b[1;33m:\u001b[0m\u001b[1;33m\u001b[0m\u001b[1;33m\u001b[0m\u001b[0m\n\u001b[0;32m    142\u001b[0m         \u001b[0merrorclass\u001b[0m \u001b[1;33m=\u001b[0m \u001b[0mInternalError\u001b[0m \u001b[1;32mif\u001b[0m \u001b[0merrno\u001b[0m \u001b[1;33m<\u001b[0m \u001b[1;36m1000\u001b[0m \u001b[1;32melse\u001b[0m \u001b[0mOperationalError\u001b[0m\u001b[1;33m\u001b[0m\u001b[1;33m\u001b[0m\u001b[0m\n\u001b[1;32m--> 143\u001b[1;33m     \u001b[1;32mraise\u001b[0m \u001b[0merrorclass\u001b[0m\u001b[1;33m(\u001b[0m\u001b[0merrno\u001b[0m\u001b[1;33m,\u001b[0m \u001b[0merrval\u001b[0m\u001b[1;33m)\u001b[0m\u001b[1;33m\u001b[0m\u001b[1;33m\u001b[0m\u001b[0m\n\u001b[0m",
      "\u001b[1;31mOperationalError\u001b[0m: (1045, \"Access denied for user 'root'@'localhost' (using password: YES)\")"
     ]
    }
   ],
   "source": [
    "import pymysql\n",
    "db = pymysql.connect(host='localhost', port=3306, user='root', passwd='funcoding', db='bestproducts', charset='utf8')\n",
    "cursor = db.cursor()\n",
    "\n",
    "sql = '''\n",
    "CREATE TABLE items (\n",
    "    item_code VARCHAR(20) NOT NULL PRIMARY KEY,\n",
    "    title VARCHAR(200) NOT NULL,\n",
    "    ori_price INT NOT NULL,\n",
    "    dis_price INT NOT NULL,\n",
    "    discount_percent INT NOT NULL,\n",
    "    provider VARCHAR(100)\n",
    ");\n",
    "'''\n",
    "cursor.execute(sql)\n",
    "\n",
    "sql = '''\n",
    "CREATE TABLE ranking (\n",
    "    num INT AUTO_INCREMENT NOT NULL PRIMARY KEY,\n",
    "    main_category VARCHAR(50) NOT NULL,\n",
    "    sub_category VARCHAR(50) NOT NULL,\n",
    "    item_ranking TINYINT UNSIGNED NOT NULL,\n",
    "    item_code VARCHAR(10) NOT NULL,\n",
    "    FOREIGN KEY (item_code) REFERENCES items(item_code)\n",
    ");\n",
    "'''\n",
    "cursor.execute(sql)\n",
    "\n",
    "db.commit()\n",
    "db.close()"
   ]
  },
  {
   "cell_type": "markdown",
   "metadata": {},
   "source": [
    "### 2. 크롤링"
   ]
  },
  {
   "cell_type": "markdown",
   "metadata": {},
   "source": [
    "#### main category 정보 가져오기"
   ]
  },
  {
   "cell_type": "code",
   "execution_count": 8,
   "metadata": {},
   "outputs": [
    {
     "name": "stdout",
     "output_type": "stream",
     "text": [
      "http://corners.gmarket.co.kr//Bestsellers ALL\n",
      "http://corners.gmarket.co.kr//Bestsellers?viewType=G&groupCode=G01 패션의류\n",
      "http://corners.gmarket.co.kr//Bestsellers?viewType=G&groupCode=G02 신발/잡화\n",
      "http://corners.gmarket.co.kr//Bestsellers?viewType=G&groupCode=G03 화장품/헤어\n",
      "http://corners.gmarket.co.kr//Bestsellers?viewType=G&groupCode=G04 유아동/출산\n",
      "http://corners.gmarket.co.kr//Bestsellers?viewType=G&groupCode=G07 식품\n",
      "http://corners.gmarket.co.kr//Bestsellers?viewType=G&groupCode=G08 생활/주방/건강\n",
      "http://corners.gmarket.co.kr//Bestsellers?viewType=G&groupCode=G09 가구/침구\n",
      "http://corners.gmarket.co.kr//Bestsellers?viewType=G&groupCode=G05 스포츠/자동차\n",
      "http://corners.gmarket.co.kr//Bestsellers?viewType=G&groupCode=G06 컴퓨터/전자\n",
      "http://corners.gmarket.co.kr//Bestsellers?viewType=G&groupCode=G10 도서/음반\n",
      "http://corners.gmarket.co.kr//Bestsellers?viewType=G&groupCode=G11 여행\n",
      "http://corners.gmarket.co.kr//Bestsellers?viewType=G&groupCode=G12 e쿠폰/티켓\n"
     ]
    }
   ],
   "source": [
    "import requests\n",
    "from bs4 import BeautifulSoup\n",
    "\n",
    "res = requests.get('http://corners.gmarket.co.kr/Bestsellers')\n",
    "soup = BeautifulSoup(res.content, 'html.parser')\n",
    "\n",
    "categories = soup.select('div.gbest-cate ul.by-group li a')\n",
    "for category in categories:\n",
    "    print ('http://corners.gmarket.co.kr/' + category['href'], category.get_text())"
   ]
  },
  {
   "cell_type": "markdown",
   "metadata": {},
   "source": [
    "#### main/sub category 정보 가져오기"
   ]
  },
  {
   "cell_type": "code",
   "execution_count": 9,
   "metadata": {
    "scrolled": true
   },
   "outputs": [
    {
     "name": "stdout",
     "output_type": "stream",
     "text": [
      "http://corners.gmarket.co.kr//Bestsellers ALL\n",
      "{'category_name': 'ALL', 'sub_category_name': 'ALL', 'ranking': 1, 'title': '[에그머니](카드가능)(에그머니) 온라인 게임상품권 5만원', 'ori_price': '50000', 'dis_price': '45000', 'discount_percent': '10', 'item_code': '1791565626&ver', 'provider': ''}\n"
     ]
    },
    {
     "ename": "NameError",
     "evalue": "name 'cursor' is not defined",
     "output_type": "error",
     "traceback": [
      "\u001b[1;31m---------------------------------------------------------------------------\u001b[0m",
      "\u001b[1;31mNameError\u001b[0m                                 Traceback (most recent call last)",
      "\u001b[1;32m<ipython-input-9-fb2b47ceeba4>\u001b[0m in \u001b[0;36m<module>\u001b[1;34m\u001b[0m\n\u001b[0;32m      7\u001b[0m \u001b[0mcategories\u001b[0m \u001b[1;33m=\u001b[0m \u001b[0msoup\u001b[0m\u001b[1;33m.\u001b[0m\u001b[0mselect\u001b[0m\u001b[1;33m(\u001b[0m\u001b[1;34m'div.gbest-cate ul.by-group li a'\u001b[0m\u001b[1;33m)\u001b[0m\u001b[1;33m\u001b[0m\u001b[1;33m\u001b[0m\u001b[0m\n\u001b[0;32m      8\u001b[0m \u001b[1;32mfor\u001b[0m \u001b[0mcategory\u001b[0m \u001b[1;32min\u001b[0m \u001b[0mcategories\u001b[0m\u001b[1;33m:\u001b[0m\u001b[1;33m\u001b[0m\u001b[1;33m\u001b[0m\u001b[0m\n\u001b[1;32m----> 9\u001b[1;33m     \u001b[0mget_category\u001b[0m\u001b[1;33m(\u001b[0m\u001b[1;34m'http://corners.gmarket.co.kr/'\u001b[0m \u001b[1;33m+\u001b[0m \u001b[0mcategory\u001b[0m\u001b[1;33m[\u001b[0m\u001b[1;34m'href'\u001b[0m\u001b[1;33m]\u001b[0m\u001b[1;33m,\u001b[0m \u001b[0mcategory\u001b[0m\u001b[1;33m.\u001b[0m\u001b[0mget_text\u001b[0m\u001b[1;33m(\u001b[0m\u001b[1;33m)\u001b[0m\u001b[1;33m)\u001b[0m\u001b[1;33m\u001b[0m\u001b[1;33m\u001b[0m\u001b[0m\n\u001b[0m",
      "\u001b[1;32m<ipython-input-2-c028659c2a16>\u001b[0m in \u001b[0;36mget_category\u001b[1;34m(category_link, category_name)\u001b[0m\n\u001b[0;32m      4\u001b[0m     \u001b[0msoup\u001b[0m \u001b[1;33m=\u001b[0m \u001b[0mBeautifulSoup\u001b[0m\u001b[1;33m(\u001b[0m\u001b[0mres\u001b[0m\u001b[1;33m.\u001b[0m\u001b[0mcontent\u001b[0m\u001b[1;33m,\u001b[0m \u001b[1;34m'html.parser'\u001b[0m\u001b[1;33m)\u001b[0m\u001b[1;33m\u001b[0m\u001b[1;33m\u001b[0m\u001b[0m\n\u001b[0;32m      5\u001b[0m \u001b[1;33m\u001b[0m\u001b[0m\n\u001b[1;32m----> 6\u001b[1;33m     \u001b[0mget_items\u001b[0m\u001b[1;33m(\u001b[0m\u001b[0msoup\u001b[0m\u001b[1;33m,\u001b[0m \u001b[0mcategory_name\u001b[0m\u001b[1;33m,\u001b[0m \u001b[1;34m\"ALL\"\u001b[0m\u001b[1;33m)\u001b[0m\u001b[1;33m\u001b[0m\u001b[1;33m\u001b[0m\u001b[0m\n\u001b[0m\u001b[0;32m      7\u001b[0m \u001b[1;33m\u001b[0m\u001b[0m\n\u001b[0;32m      8\u001b[0m     \u001b[0msub_categories\u001b[0m \u001b[1;33m=\u001b[0m \u001b[0msoup\u001b[0m\u001b[1;33m.\u001b[0m\u001b[0mselect\u001b[0m\u001b[1;33m(\u001b[0m\u001b[1;34m'div.navi.group ul li > a'\u001b[0m\u001b[1;33m)\u001b[0m\u001b[1;33m\u001b[0m\u001b[1;33m\u001b[0m\u001b[0m\n",
      "\u001b[1;32m<ipython-input-3-5b23358bcf48>\u001b[0m in \u001b[0;36mget_items\u001b[1;34m(html, category_name, sub_category_name)\u001b[0m\n\u001b[0;32m     48\u001b[0m             \u001b[0mdata_dict\u001b[0m\u001b[1;33m[\u001b[0m\u001b[1;34m'provider'\u001b[0m\u001b[1;33m]\u001b[0m \u001b[1;33m=\u001b[0m \u001b[0mprovider\u001b[0m\u001b[1;33m\u001b[0m\u001b[1;33m\u001b[0m\u001b[0m\n\u001b[0;32m     49\u001b[0m \u001b[1;33m\u001b[0m\u001b[0m\n\u001b[1;32m---> 50\u001b[1;33m             \u001b[0msave_data\u001b[0m\u001b[1;33m(\u001b[0m\u001b[0mdata_dict\u001b[0m\u001b[1;33m)\u001b[0m\u001b[1;33m\u001b[0m\u001b[1;33m\u001b[0m\u001b[0m\n\u001b[0m",
      "\u001b[1;32m<ipython-input-4-d9bbd81526b0>\u001b[0m in \u001b[0;36msave_data\u001b[1;34m(item_info)\u001b[0m\n\u001b[0;32m      2\u001b[0m     \u001b[0mprint\u001b[0m \u001b[1;33m(\u001b[0m\u001b[0mitem_info\u001b[0m\u001b[1;33m)\u001b[0m\u001b[1;33m\u001b[0m\u001b[1;33m\u001b[0m\u001b[0m\n\u001b[0;32m      3\u001b[0m     \u001b[0msql\u001b[0m \u001b[1;33m=\u001b[0m \u001b[1;34m\"\"\"SELECT COUNT(*) FROM items WHERE item_code = '\"\"\"\u001b[0m \u001b[1;33m+\u001b[0m \u001b[0mitem_info\u001b[0m\u001b[1;33m[\u001b[0m\u001b[1;34m'item_code'\u001b[0m\u001b[1;33m]\u001b[0m \u001b[1;33m+\u001b[0m \u001b[1;34m\"\"\"';\"\"\"\u001b[0m\u001b[1;33m\u001b[0m\u001b[1;33m\u001b[0m\u001b[0m\n\u001b[1;32m----> 4\u001b[1;33m     \u001b[0mcursor\u001b[0m\u001b[1;33m.\u001b[0m\u001b[0mexecute\u001b[0m\u001b[1;33m(\u001b[0m\u001b[0msql\u001b[0m\u001b[1;33m)\u001b[0m\u001b[1;33m\u001b[0m\u001b[1;33m\u001b[0m\u001b[0m\n\u001b[0m\u001b[0;32m      5\u001b[0m     \u001b[0mresult\u001b[0m \u001b[1;33m=\u001b[0m \u001b[0mcursor\u001b[0m\u001b[1;33m.\u001b[0m\u001b[0mfetchone\u001b[0m\u001b[1;33m(\u001b[0m\u001b[1;33m)\u001b[0m\u001b[1;33m\u001b[0m\u001b[1;33m\u001b[0m\u001b[0m\n\u001b[0;32m      6\u001b[0m     \u001b[0mprint\u001b[0m \u001b[1;33m(\u001b[0m\u001b[0mresult\u001b[0m\u001b[1;33m[\u001b[0m\u001b[1;36m0\u001b[0m\u001b[1;33m]\u001b[0m\u001b[1;33m)\u001b[0m\u001b[1;33m\u001b[0m\u001b[1;33m\u001b[0m\u001b[0m\n",
      "\u001b[1;31mNameError\u001b[0m: name 'cursor' is not defined"
     ]
    }
   ],
   "source": [
    "import requests\n",
    "from bs4 import BeautifulSoup\n",
    "\n",
    "res = requests.get('http://corners.gmarket.co.kr/Bestsellers')\n",
    "soup = BeautifulSoup(res.content, 'html.parser')\n",
    "\n",
    "categories = soup.select('div.gbest-cate ul.by-group li a')\n",
    "for category in categories:\n",
    "    get_category('http://corners.gmarket.co.kr/' + category['href'], category.get_text())"
   ]
  },
  {
   "cell_type": "code",
   "execution_count": null,
   "metadata": {},
   "outputs": [],
   "source": [
    "def get_category(category_link, category_name):\n",
    "    print (category_link, category_name)\n",
    "    res = requests.get(category_link)\n",
    "    soup = BeautifulSoup(res.content, 'html.parser')\n",
    "    \n",
    "    sub_categories = soup.select('div.navi.group ul li a')\n",
    "    for sub_category in sub_categories:\n",
    "        print (category_link, category_name, sub_category.get_text(), 'http://corners.gmarket.co.kr/' + sub_category['href'])\n",
    "    "
   ]
  },
  {
   "cell_type": "markdown",
   "metadata": {},
   "source": [
    "### main/sub category + 상품 정보 + 상품 코드 + 판매자(제공자) 크롤링"
   ]
  },
  {
   "cell_type": "code",
   "execution_count": null,
   "metadata": {},
   "outputs": [],
   "source": [
    "import requests\n",
    "from bs4 import BeautifulSoup\n",
    "import pymysql\n",
    "\n",
    "db = pymysql.connect(host='localhost', port=3306, user='root', passwd='funcoding', db='bestproducts', charset='utf8')\n",
    "cursor = db.cursor()\n",
    "\n",
    "res = requests.get('http://corners.gmarket.co.kr/Bestsellers')\n",
    "soup = BeautifulSoup(res.content, 'html.parser')\n",
    "\n",
    "categories = soup.select('div.gbest-cate ul.by-group li a')\n",
    "for category in categories:\n",
    "    get_category('http://corners.gmarket.co.kr/' + category['href'], category.get_text())"
   ]
  },
  {
   "cell_type": "code",
   "execution_count": null,
   "metadata": {},
   "outputs": [],
   "source": [
    "def get_category(category_link, category_name):\n",
    "    print (category_link, category_name)\n",
    "    res = requests.get(category_link)\n",
    "    soup = BeautifulSoup(res.content, 'html.parser')\n",
    "\n",
    "    get_items(soup, category_name, \"ALL\")\n",
    "    \n",
    "    sub_categories = soup.select('div.navi.group ul li > a')  # li 바로 밑 a 를 추출해라라는 뜻\n",
    "    for sub_category in sub_categories:\n",
    "        res = requests.get('http://corners.gmarket.co.kr/' + sub_category['href'])\n",
    "        soup = BeautifulSoup(res.content, 'html.parser')\n",
    "        get_items(soup, category_name, sub_category.get_text())            "
   ]
  },
  {
   "cell_type": "code",
   "execution_count": null,
   "metadata": {},
   "outputs": [],
   "source": [
    "def get_items(html, category_name, sub_category_name):\n",
    "    items_result_list = list()\n",
    "    best_item = html.select('div.best-list')\n",
    "    for index, item in enumerate(best_item[1].select('li')):\n",
    "        data_dict = dict()\n",
    "        \n",
    "        ranking = index + 1\n",
    "        title = item.select_one('a.itemname')\n",
    "        ori_price = item.select_one('div.o-price')\n",
    "        dis_price = item.select_one('div.s-price strong span')\n",
    "        discount_percent = item.select_one('div.s-price em')\n",
    "\n",
    "        if ori_price == None or ori_price.get_text() == '':\n",
    "            ori_price = dis_price\n",
    "        \n",
    "        if dis_price == None:\n",
    "            ori_price, dis_price = 0, 0\n",
    "        else:\n",
    "            ori_price = ori_price.get_text().replace(',', '').replace('원', '')\n",
    "            dis_price = dis_price.get_text().replace(',', '').replace('원', '')\n",
    "\n",
    "        if discount_percent == None or discount_percent.get_text() == '':\n",
    "            discount_percent = 0\n",
    "        else:\n",
    "            discount_percent = discount_percent.get_text().replace('%', '')\n",
    "        \n",
    "        product_link = item.select_one('div.thumb > a')\n",
    "        item_code = product_link.attrs['href'].split('=')[1]\n",
    "        \n",
    "        res = requests.get(product_link.attrs['href'])\n",
    "        soup = BeautifulSoup(res.content, 'html.parser')\n",
    "        provider = soup.select_one('div.item-topinfo_headline > p > a > strong')\n",
    "        if provider == None:\n",
    "            provider = ''\n",
    "        else:\n",
    "            provider = provider.get_text()\n",
    "            \n",
    "        data_dict['category_name'] = category_name\n",
    "        data_dict['sub_category_name'] = sub_category_name\n",
    "        data_dict['ranking'] = ranking\n",
    "        data_dict['title'] = title.get_text()\n",
    "        data_dict['ori_price'] = ori_price\n",
    "        data_dict['dis_price'] = dis_price\n",
    "        data_dict['discount_percent'] = discount_percent\n",
    "        data_dict['item_code'] = item_code\n",
    "        data_dict['provider'] = provider        \n",
    "        \n",
    "        save_data(data_dict)\n",
    "        # print (category_name, sub_category_name, ranking, item_code, provider, title.get_text(), ori_price, dis_price, discount_percent)"
   ]
  },
  {
   "cell_type": "markdown",
   "metadata": {},
   "source": [
    "### INSERT SQL 만들기"
   ]
  },
  {
   "cell_type": "markdown",
   "metadata": {},
   "source": [
    "##### Table 구조\n",
    "```sql\n",
    "CREATE TABLE ranking (\n",
    "    num INT AUTO_INCREMENT NOT NULL PRIMARY KEY,\n",
    "    main_category VARCHAR(20) NOT NULL,\n",
    "    sub_category VARCHAR(20) NOT NULL,\n",
    "    item_ranking TINYINT NOT NULL,\n",
    "    item_code VARCHAR(10) NOT NULL,\n",
    "    FOREIGN KEY (item_code) REFERENCES items(item_code)\n",
    ");\n",
    "```"
   ]
  },
  {
   "cell_type": "code",
   "execution_count": null,
   "metadata": {},
   "outputs": [],
   "source": [
    "item_info = {'category_name': 'ALL', 'sub_category_name': 'ALL', 'ranking': 1, 'title': '[오설록]프리미엄 티 컬렉션 40입 추석선물세트/쇼핑백지급', 'ori_price': '25000', 'dis_price': '18900', 'discount_percent': '24', 'item_code': '1164687842', 'provider': '오설록본사직영몰'}"
   ]
  },
  {
   "cell_type": "code",
   "execution_count": null,
   "metadata": {},
   "outputs": [],
   "source": [
    "sql = \"\"\"INSERT INTO ranking (main_category, sub_category, item_ranking, item_code) VALUES('\n",
    "\"\"\" + item_info['category_name'] + \"\"\"',\n",
    "'\"\"\" + item_info['sub_category_name'] + \"\"\"', \n",
    "'\"\"\" + str(item_info['ranking']) + \"\"\"', \n",
    "'\"\"\" + item_info['item_code'] + \"\"\"')\"\"\"       "
   ]
  },
  {
   "cell_type": "code",
   "execution_count": 10,
   "metadata": {},
   "outputs": [
    {
     "ename": "NameError",
     "evalue": "name 'sql' is not defined",
     "output_type": "error",
     "traceback": [
      "\u001b[1;31m---------------------------------------------------------------------------\u001b[0m",
      "\u001b[1;31mNameError\u001b[0m                                 Traceback (most recent call last)",
      "\u001b[1;32m<ipython-input-10-8104f9fab51f>\u001b[0m in \u001b[0;36m<module>\u001b[1;34m\u001b[0m\n\u001b[1;32m----> 1\u001b[1;33m \u001b[0msql\u001b[0m\u001b[1;33m.\u001b[0m\u001b[0mreplace\u001b[0m\u001b[1;33m(\u001b[0m\u001b[1;34m'\\n'\u001b[0m\u001b[1;33m,\u001b[0m \u001b[1;34m''\u001b[0m\u001b[1;33m)\u001b[0m\u001b[1;33m\u001b[0m\u001b[1;33m\u001b[0m\u001b[0m\n\u001b[0m",
      "\u001b[1;31mNameError\u001b[0m: name 'sql' is not defined"
     ]
    }
   ],
   "source": [
    "sql.replace('\\n', '')"
   ]
  },
  {
   "cell_type": "markdown",
   "metadata": {},
   "source": [
    "### 목적\n",
    "- 실제로 데이터베이스를 사용하는 방법을 현업스타일로 설명을 드리는 것\n",
    "- 현실 세계의 데이터를 어떻게 테이블로 정의할 것인가\n",
    "- 어떻게 데이터를 넣을 것인가? (프로그래밍으로 넣는 것이 일반적)\n",
    "- 저장된 데이터를 분석한다. (SQL만 쓰는 경우 + 프로그래밍에서 데이터를 분석해서, 풀스택으로 서비스화함)\n",
    "\n",
    "##### 기존 SQL 강의: 단순히 세세한 SQL 문법을 다 소개받고, 끝"
   ]
  },
  {
   "cell_type": "markdown",
   "metadata": {},
   "source": [
    "#### Table 구조\n",
    "```sql\n",
    "CREATE TABLE items (\n",
    "    item_code VARCHAR(10) NOT NULL PRIMARY KEY,\n",
    "    title VARCHAR(200) NOT NULL,\n",
    "    ori_price INT NOT NULL,\n",
    "    dis_price INT NOT NULL,\n",
    "    discount_percent INT NOT NULL,\n",
    "    provider VARCHAR(100)\n",
    ");\n",
    "```"
   ]
  },
  {
   "cell_type": "code",
   "execution_count": 11,
   "metadata": {},
   "outputs": [
    {
     "ename": "NameError",
     "evalue": "name 'item_info' is not defined",
     "output_type": "error",
     "traceback": [
      "\u001b[1;31m---------------------------------------------------------------------------\u001b[0m",
      "\u001b[1;31mNameError\u001b[0m                                 Traceback (most recent call last)",
      "\u001b[1;32m<ipython-input-11-14855a2fa93d>\u001b[0m in \u001b[0;36m<module>\u001b[1;34m\u001b[0m\n\u001b[0;32m      1\u001b[0m sql = \"\"\"INSERT INTO items VALUES('\n\u001b[1;32m----> 2\u001b[1;33m \u001b[1;34m\"\"\" + item_info['item_code'] + \"\"\"\u001b[0m\u001b[0;31m'\u001b[0m\u001b[1;33m,\u001b[0m\u001b[1;33m\u001b[0m\u001b[1;33m\u001b[0m\u001b[0m\n\u001b[0m\u001b[0;32m      3\u001b[0m \u001b[1;34m'\"\"\" + item_info['\u001b[0m\u001b[0mtitle\u001b[0m\u001b[1;34m'] + \"\"\"'\u001b[0m\u001b[1;33m,\u001b[0m\u001b[1;33m\u001b[0m\u001b[1;33m\u001b[0m\u001b[0m\n\u001b[0;32m      4\u001b[0m \u001b[1;34m\"\"\" + item_info['ori_price'] + \"\"\"\u001b[0m\u001b[1;33m,\u001b[0m\u001b[1;33m\u001b[0m\u001b[1;33m\u001b[0m\u001b[0m\n\u001b[0;32m      5\u001b[0m \u001b[1;34m\"\"\" + item_info['dis_price'] + \"\"\"\u001b[0m\u001b[1;33m,\u001b[0m\u001b[1;33m\u001b[0m\u001b[1;33m\u001b[0m\u001b[0m\n",
      "\u001b[1;31mNameError\u001b[0m: name 'item_info' is not defined"
     ]
    }
   ],
   "source": [
    "sql = \"\"\"INSERT INTO items VALUES('\n",
    "\"\"\" + item_info['item_code'] + \"\"\"',\n",
    "'\"\"\" + item_info['title'] + \"\"\"', \n",
    "\"\"\" + item_info['ori_price'] + \"\"\", \n",
    "\"\"\" + item_info['dis_price'] + \"\"\", \n",
    "\"\"\" + item_info['discount_percent'] + \"\"\", \n",
    "'\"\"\" + item_info['provider'] + \"\"\"')\"\"\"    "
   ]
  },
  {
   "cell_type": "code",
   "execution_count": 12,
   "metadata": {},
   "outputs": [
    {
     "ename": "NameError",
     "evalue": "name 'sql' is not defined",
     "output_type": "error",
     "traceback": [
      "\u001b[1;31m---------------------------------------------------------------------------\u001b[0m",
      "\u001b[1;31mNameError\u001b[0m                                 Traceback (most recent call last)",
      "\u001b[1;32m<ipython-input-12-8104f9fab51f>\u001b[0m in \u001b[0;36m<module>\u001b[1;34m\u001b[0m\n\u001b[1;32m----> 1\u001b[1;33m \u001b[0msql\u001b[0m\u001b[1;33m.\u001b[0m\u001b[0mreplace\u001b[0m\u001b[1;33m(\u001b[0m\u001b[1;34m'\\n'\u001b[0m\u001b[1;33m,\u001b[0m \u001b[1;34m''\u001b[0m\u001b[1;33m)\u001b[0m\u001b[1;33m\u001b[0m\u001b[1;33m\u001b[0m\u001b[0m\n\u001b[0m",
      "\u001b[1;31mNameError\u001b[0m: name 'sql' is not defined"
     ]
    }
   ],
   "source": [
    "sql.replace('\\n', '')"
   ]
  },
  {
   "cell_type": "markdown",
   "metadata": {},
   "source": [
    "#### DELETE TABLE DATA"
   ]
  },
  {
   "cell_type": "code",
   "execution_count": 13,
   "metadata": {},
   "outputs": [
    {
     "ename": "OperationalError",
     "evalue": "(1045, \"Access denied for user 'root'@'localhost' (using password: YES)\")",
     "output_type": "error",
     "traceback": [
      "\u001b[1;31m---------------------------------------------------------------------------\u001b[0m",
      "\u001b[1;31mOperationalError\u001b[0m                          Traceback (most recent call last)",
      "\u001b[1;32m<ipython-input-13-0f9f5044c17e>\u001b[0m in \u001b[0;36m<module>\u001b[1;34m\u001b[0m\n\u001b[0;32m      1\u001b[0m \u001b[1;32mimport\u001b[0m \u001b[0mpymysql\u001b[0m\u001b[1;33m\u001b[0m\u001b[1;33m\u001b[0m\u001b[0m\n\u001b[1;32m----> 2\u001b[1;33m \u001b[0mdb\u001b[0m \u001b[1;33m=\u001b[0m \u001b[0mpymysql\u001b[0m\u001b[1;33m.\u001b[0m\u001b[0mconnect\u001b[0m\u001b[1;33m(\u001b[0m\u001b[0mhost\u001b[0m\u001b[1;33m=\u001b[0m\u001b[1;34m'localhost'\u001b[0m\u001b[1;33m,\u001b[0m \u001b[0mport\u001b[0m\u001b[1;33m=\u001b[0m\u001b[1;36m3306\u001b[0m\u001b[1;33m,\u001b[0m \u001b[0muser\u001b[0m\u001b[1;33m=\u001b[0m\u001b[1;34m'root'\u001b[0m\u001b[1;33m,\u001b[0m \u001b[0mpasswd\u001b[0m\u001b[1;33m=\u001b[0m\u001b[1;34m'funcoding'\u001b[0m\u001b[1;33m,\u001b[0m \u001b[0mdb\u001b[0m\u001b[1;33m=\u001b[0m\u001b[1;34m'bestproducts'\u001b[0m\u001b[1;33m,\u001b[0m \u001b[0mcharset\u001b[0m\u001b[1;33m=\u001b[0m\u001b[1;34m'utf8'\u001b[0m\u001b[1;33m)\u001b[0m\u001b[1;33m\u001b[0m\u001b[1;33m\u001b[0m\u001b[0m\n\u001b[0m\u001b[0;32m      3\u001b[0m \u001b[0mcursor\u001b[0m \u001b[1;33m=\u001b[0m \u001b[0mdb\u001b[0m\u001b[1;33m.\u001b[0m\u001b[0mcursor\u001b[0m\u001b[1;33m(\u001b[0m\u001b[1;33m)\u001b[0m\u001b[1;33m\u001b[0m\u001b[1;33m\u001b[0m\u001b[0m\n\u001b[0;32m      4\u001b[0m \u001b[1;33m\u001b[0m\u001b[0m\n\u001b[0;32m      5\u001b[0m \u001b[0msql\u001b[0m \u001b[1;33m=\u001b[0m \u001b[1;34m\"DELETE FROM ranking\"\u001b[0m\u001b[1;33m\u001b[0m\u001b[1;33m\u001b[0m\u001b[0m\n",
      "\u001b[1;32m~\\anaconda3\\lib\\site-packages\\pymysql\\connections.py\u001b[0m in \u001b[0;36m__init__\u001b[1;34m(self, user, password, host, database, unix_socket, port, charset, sql_mode, read_default_file, conv, use_unicode, client_flag, cursorclass, init_command, connect_timeout, read_default_group, autocommit, local_infile, max_allowed_packet, defer_connect, auth_plugin_map, read_timeout, write_timeout, bind_address, binary_prefix, program_name, server_public_key, ssl, ssl_ca, ssl_cert, ssl_disabled, ssl_key, ssl_verify_cert, ssl_verify_identity, compress, named_pipe, passwd, db)\u001b[0m\n\u001b[0;32m    351\u001b[0m             \u001b[0mself\u001b[0m\u001b[1;33m.\u001b[0m\u001b[0m_sock\u001b[0m \u001b[1;33m=\u001b[0m \u001b[1;32mNone\u001b[0m\u001b[1;33m\u001b[0m\u001b[1;33m\u001b[0m\u001b[0m\n\u001b[0;32m    352\u001b[0m         \u001b[1;32melse\u001b[0m\u001b[1;33m:\u001b[0m\u001b[1;33m\u001b[0m\u001b[1;33m\u001b[0m\u001b[0m\n\u001b[1;32m--> 353\u001b[1;33m             \u001b[0mself\u001b[0m\u001b[1;33m.\u001b[0m\u001b[0mconnect\u001b[0m\u001b[1;33m(\u001b[0m\u001b[1;33m)\u001b[0m\u001b[1;33m\u001b[0m\u001b[1;33m\u001b[0m\u001b[0m\n\u001b[0m\u001b[0;32m    354\u001b[0m \u001b[1;33m\u001b[0m\u001b[0m\n\u001b[0;32m    355\u001b[0m     \u001b[1;32mdef\u001b[0m \u001b[0m__enter__\u001b[0m\u001b[1;33m(\u001b[0m\u001b[0mself\u001b[0m\u001b[1;33m)\u001b[0m\u001b[1;33m:\u001b[0m\u001b[1;33m\u001b[0m\u001b[1;33m\u001b[0m\u001b[0m\n",
      "\u001b[1;32m~\\anaconda3\\lib\\site-packages\\pymysql\\connections.py\u001b[0m in \u001b[0;36mconnect\u001b[1;34m(self, sock)\u001b[0m\n\u001b[0;32m    631\u001b[0m \u001b[1;33m\u001b[0m\u001b[0m\n\u001b[0;32m    632\u001b[0m             \u001b[0mself\u001b[0m\u001b[1;33m.\u001b[0m\u001b[0m_get_server_information\u001b[0m\u001b[1;33m(\u001b[0m\u001b[1;33m)\u001b[0m\u001b[1;33m\u001b[0m\u001b[1;33m\u001b[0m\u001b[0m\n\u001b[1;32m--> 633\u001b[1;33m             \u001b[0mself\u001b[0m\u001b[1;33m.\u001b[0m\u001b[0m_request_authentication\u001b[0m\u001b[1;33m(\u001b[0m\u001b[1;33m)\u001b[0m\u001b[1;33m\u001b[0m\u001b[1;33m\u001b[0m\u001b[0m\n\u001b[0m\u001b[0;32m    634\u001b[0m \u001b[1;33m\u001b[0m\u001b[0m\n\u001b[0;32m    635\u001b[0m             \u001b[1;32mif\u001b[0m \u001b[0mself\u001b[0m\u001b[1;33m.\u001b[0m\u001b[0msql_mode\u001b[0m \u001b[1;32mis\u001b[0m \u001b[1;32mnot\u001b[0m \u001b[1;32mNone\u001b[0m\u001b[1;33m:\u001b[0m\u001b[1;33m\u001b[0m\u001b[1;33m\u001b[0m\u001b[0m\n",
      "\u001b[1;32m~\\anaconda3\\lib\\site-packages\\pymysql\\connections.py\u001b[0m in \u001b[0;36m_request_authentication\u001b[1;34m(self)\u001b[0m\n\u001b[0;32m    930\u001b[0m             \u001b[1;31m# https://dev.mysql.com/doc/internals/en/successful-authentication.html\u001b[0m\u001b[1;33m\u001b[0m\u001b[1;33m\u001b[0m\u001b[1;33m\u001b[0m\u001b[0m\n\u001b[0;32m    931\u001b[0m             \u001b[1;32mif\u001b[0m \u001b[0mself\u001b[0m\u001b[1;33m.\u001b[0m\u001b[0m_auth_plugin_name\u001b[0m \u001b[1;33m==\u001b[0m \u001b[1;34m\"caching_sha2_password\"\u001b[0m\u001b[1;33m:\u001b[0m\u001b[1;33m\u001b[0m\u001b[1;33m\u001b[0m\u001b[0m\n\u001b[1;32m--> 932\u001b[1;33m                 \u001b[0mauth_packet\u001b[0m \u001b[1;33m=\u001b[0m \u001b[0m_auth\u001b[0m\u001b[1;33m.\u001b[0m\u001b[0mcaching_sha2_password_auth\u001b[0m\u001b[1;33m(\u001b[0m\u001b[0mself\u001b[0m\u001b[1;33m,\u001b[0m \u001b[0mauth_packet\u001b[0m\u001b[1;33m)\u001b[0m\u001b[1;33m\u001b[0m\u001b[1;33m\u001b[0m\u001b[0m\n\u001b[0m\u001b[0;32m    933\u001b[0m             \u001b[1;32melif\u001b[0m \u001b[0mself\u001b[0m\u001b[1;33m.\u001b[0m\u001b[0m_auth_plugin_name\u001b[0m \u001b[1;33m==\u001b[0m \u001b[1;34m\"sha256_password\"\u001b[0m\u001b[1;33m:\u001b[0m\u001b[1;33m\u001b[0m\u001b[1;33m\u001b[0m\u001b[0m\n\u001b[0;32m    934\u001b[0m                 \u001b[0mauth_packet\u001b[0m \u001b[1;33m=\u001b[0m \u001b[0m_auth\u001b[0m\u001b[1;33m.\u001b[0m\u001b[0msha256_password_auth\u001b[0m\u001b[1;33m(\u001b[0m\u001b[0mself\u001b[0m\u001b[1;33m,\u001b[0m \u001b[0mauth_packet\u001b[0m\u001b[1;33m)\u001b[0m\u001b[1;33m\u001b[0m\u001b[1;33m\u001b[0m\u001b[0m\n",
      "\u001b[1;32m~\\anaconda3\\lib\\site-packages\\pymysql\\_auth.py\u001b[0m in \u001b[0;36mcaching_sha2_password_auth\u001b[1;34m(conn, pkt)\u001b[0m\n\u001b[0;32m    264\u001b[0m \u001b[1;33m\u001b[0m\u001b[0m\n\u001b[0;32m    265\u001b[0m     \u001b[0mdata\u001b[0m \u001b[1;33m=\u001b[0m \u001b[0msha2_rsa_encrypt\u001b[0m\u001b[1;33m(\u001b[0m\u001b[0mconn\u001b[0m\u001b[1;33m.\u001b[0m\u001b[0mpassword\u001b[0m\u001b[1;33m,\u001b[0m \u001b[0mconn\u001b[0m\u001b[1;33m.\u001b[0m\u001b[0msalt\u001b[0m\u001b[1;33m,\u001b[0m \u001b[0mconn\u001b[0m\u001b[1;33m.\u001b[0m\u001b[0mserver_public_key\u001b[0m\u001b[1;33m)\u001b[0m\u001b[1;33m\u001b[0m\u001b[1;33m\u001b[0m\u001b[0m\n\u001b[1;32m--> 266\u001b[1;33m     \u001b[0mpkt\u001b[0m \u001b[1;33m=\u001b[0m \u001b[0m_roundtrip\u001b[0m\u001b[1;33m(\u001b[0m\u001b[0mconn\u001b[0m\u001b[1;33m,\u001b[0m \u001b[0mdata\u001b[0m\u001b[1;33m)\u001b[0m\u001b[1;33m\u001b[0m\u001b[1;33m\u001b[0m\u001b[0m\n\u001b[0m",
      "\u001b[1;32m~\\anaconda3\\lib\\site-packages\\pymysql\\_auth.py\u001b[0m in \u001b[0;36m_roundtrip\u001b[1;34m(conn, send_data)\u001b[0m\n\u001b[0;32m    118\u001b[0m \u001b[1;32mdef\u001b[0m \u001b[0m_roundtrip\u001b[0m\u001b[1;33m(\u001b[0m\u001b[0mconn\u001b[0m\u001b[1;33m,\u001b[0m \u001b[0msend_data\u001b[0m\u001b[1;33m)\u001b[0m\u001b[1;33m:\u001b[0m\u001b[1;33m\u001b[0m\u001b[1;33m\u001b[0m\u001b[0m\n\u001b[0;32m    119\u001b[0m     \u001b[0mconn\u001b[0m\u001b[1;33m.\u001b[0m\u001b[0mwrite_packet\u001b[0m\u001b[1;33m(\u001b[0m\u001b[0msend_data\u001b[0m\u001b[1;33m)\u001b[0m\u001b[1;33m\u001b[0m\u001b[1;33m\u001b[0m\u001b[0m\n\u001b[1;32m--> 120\u001b[1;33m     \u001b[0mpkt\u001b[0m \u001b[1;33m=\u001b[0m \u001b[0mconn\u001b[0m\u001b[1;33m.\u001b[0m\u001b[0m_read_packet\u001b[0m\u001b[1;33m(\u001b[0m\u001b[1;33m)\u001b[0m\u001b[1;33m\u001b[0m\u001b[1;33m\u001b[0m\u001b[0m\n\u001b[0m\u001b[0;32m    121\u001b[0m     \u001b[0mpkt\u001b[0m\u001b[1;33m.\u001b[0m\u001b[0mcheck_error\u001b[0m\u001b[1;33m(\u001b[0m\u001b[1;33m)\u001b[0m\u001b[1;33m\u001b[0m\u001b[1;33m\u001b[0m\u001b[0m\n\u001b[0;32m    122\u001b[0m     \u001b[1;32mreturn\u001b[0m \u001b[0mpkt\u001b[0m\u001b[1;33m\u001b[0m\u001b[1;33m\u001b[0m\u001b[0m\n",
      "\u001b[1;32m~\\anaconda3\\lib\\site-packages\\pymysql\\connections.py\u001b[0m in \u001b[0;36m_read_packet\u001b[1;34m(self, packet_type)\u001b[0m\n\u001b[0;32m    723\u001b[0m             \u001b[1;32mif\u001b[0m \u001b[0mself\u001b[0m\u001b[1;33m.\u001b[0m\u001b[0m_result\u001b[0m \u001b[1;32mis\u001b[0m \u001b[1;32mnot\u001b[0m \u001b[1;32mNone\u001b[0m \u001b[1;32mand\u001b[0m \u001b[0mself\u001b[0m\u001b[1;33m.\u001b[0m\u001b[0m_result\u001b[0m\u001b[1;33m.\u001b[0m\u001b[0munbuffered_active\u001b[0m \u001b[1;32mis\u001b[0m \u001b[1;32mTrue\u001b[0m\u001b[1;33m:\u001b[0m\u001b[1;33m\u001b[0m\u001b[1;33m\u001b[0m\u001b[0m\n\u001b[0;32m    724\u001b[0m                 \u001b[0mself\u001b[0m\u001b[1;33m.\u001b[0m\u001b[0m_result\u001b[0m\u001b[1;33m.\u001b[0m\u001b[0munbuffered_active\u001b[0m \u001b[1;33m=\u001b[0m \u001b[1;32mFalse\u001b[0m\u001b[1;33m\u001b[0m\u001b[1;33m\u001b[0m\u001b[0m\n\u001b[1;32m--> 725\u001b[1;33m             \u001b[0mpacket\u001b[0m\u001b[1;33m.\u001b[0m\u001b[0mraise_for_error\u001b[0m\u001b[1;33m(\u001b[0m\u001b[1;33m)\u001b[0m\u001b[1;33m\u001b[0m\u001b[1;33m\u001b[0m\u001b[0m\n\u001b[0m\u001b[0;32m    726\u001b[0m         \u001b[1;32mreturn\u001b[0m \u001b[0mpacket\u001b[0m\u001b[1;33m\u001b[0m\u001b[1;33m\u001b[0m\u001b[0m\n\u001b[0;32m    727\u001b[0m \u001b[1;33m\u001b[0m\u001b[0m\n",
      "\u001b[1;32m~\\anaconda3\\lib\\site-packages\\pymysql\\protocol.py\u001b[0m in \u001b[0;36mraise_for_error\u001b[1;34m(self)\u001b[0m\n\u001b[0;32m    219\u001b[0m         \u001b[1;32mif\u001b[0m \u001b[0mDEBUG\u001b[0m\u001b[1;33m:\u001b[0m\u001b[1;33m\u001b[0m\u001b[1;33m\u001b[0m\u001b[0m\n\u001b[0;32m    220\u001b[0m             \u001b[0mprint\u001b[0m\u001b[1;33m(\u001b[0m\u001b[1;34m\"errno =\"\u001b[0m\u001b[1;33m,\u001b[0m \u001b[0merrno\u001b[0m\u001b[1;33m)\u001b[0m\u001b[1;33m\u001b[0m\u001b[1;33m\u001b[0m\u001b[0m\n\u001b[1;32m--> 221\u001b[1;33m         \u001b[0merr\u001b[0m\u001b[1;33m.\u001b[0m\u001b[0mraise_mysql_exception\u001b[0m\u001b[1;33m(\u001b[0m\u001b[0mself\u001b[0m\u001b[1;33m.\u001b[0m\u001b[0m_data\u001b[0m\u001b[1;33m)\u001b[0m\u001b[1;33m\u001b[0m\u001b[1;33m\u001b[0m\u001b[0m\n\u001b[0m\u001b[0;32m    222\u001b[0m \u001b[1;33m\u001b[0m\u001b[0m\n\u001b[0;32m    223\u001b[0m     \u001b[1;32mdef\u001b[0m \u001b[0mdump\u001b[0m\u001b[1;33m(\u001b[0m\u001b[0mself\u001b[0m\u001b[1;33m)\u001b[0m\u001b[1;33m:\u001b[0m\u001b[1;33m\u001b[0m\u001b[1;33m\u001b[0m\u001b[0m\n",
      "\u001b[1;32m~\\anaconda3\\lib\\site-packages\\pymysql\\err.py\u001b[0m in \u001b[0;36mraise_mysql_exception\u001b[1;34m(data)\u001b[0m\n\u001b[0;32m    141\u001b[0m     \u001b[1;32mif\u001b[0m \u001b[0merrorclass\u001b[0m \u001b[1;32mis\u001b[0m \u001b[1;32mNone\u001b[0m\u001b[1;33m:\u001b[0m\u001b[1;33m\u001b[0m\u001b[1;33m\u001b[0m\u001b[0m\n\u001b[0;32m    142\u001b[0m         \u001b[0merrorclass\u001b[0m \u001b[1;33m=\u001b[0m \u001b[0mInternalError\u001b[0m \u001b[1;32mif\u001b[0m \u001b[0merrno\u001b[0m \u001b[1;33m<\u001b[0m \u001b[1;36m1000\u001b[0m \u001b[1;32melse\u001b[0m \u001b[0mOperationalError\u001b[0m\u001b[1;33m\u001b[0m\u001b[1;33m\u001b[0m\u001b[0m\n\u001b[1;32m--> 143\u001b[1;33m     \u001b[1;32mraise\u001b[0m \u001b[0merrorclass\u001b[0m\u001b[1;33m(\u001b[0m\u001b[0merrno\u001b[0m\u001b[1;33m,\u001b[0m \u001b[0merrval\u001b[0m\u001b[1;33m)\u001b[0m\u001b[1;33m\u001b[0m\u001b[1;33m\u001b[0m\u001b[0m\n\u001b[0m",
      "\u001b[1;31mOperationalError\u001b[0m: (1045, \"Access denied for user 'root'@'localhost' (using password: YES)\")"
     ]
    }
   ],
   "source": [
    "import pymysql\n",
    "db = pymysql.connect(host='localhost', port=3306, user='root', passwd='funcoding', db='bestproducts', charset='utf8')\n",
    "cursor = db.cursor()\n",
    "\n",
    "sql = \"DELETE FROM ranking\"\n",
    "cursor.execute(sql)\n",
    "\n",
    "sql = \"DELETE FROM items\"\n",
    "cursor.execute(sql)\n",
    "\n",
    "db.commit()\n",
    "db.close()"
   ]
  },
  {
   "cell_type": "markdown",
   "metadata": {},
   "source": [
    "#### COUNT SQL \n",
    "- COUNT: 검색 결과의 row 수를 가져올 수 있는 SQL 문법\n",
    "- SQL 예제: SELECT COUNT(*) FROM items\n",
    "\n",
    "```sql\n",
    "sql = \"\"\"SELECT COUNT(*) FROM items WHERE item_code = '\"\"\" + item_info['item_code'] + \"\"\"';\"\"\"\n",
    "cursor.execute(sql)\n",
    "result = cursor.fetchone()\n",
    "print (result[0])\n",
    "```\n",
    "\n",
    "- COUNT SQL 예제1: SELECT COUNT(*) FROM items (전체 row 수)\n",
    "- COUNT SQL 예제2: SELECT COUNT(ori_price) FROM items (ori_price field 값이 있는 row 수)"
   ]
  },
  {
   "cell_type": "markdown",
   "metadata": {},
   "source": [
    "### 최종 코드 (pymysql + crawling)"
   ]
  },
  {
   "cell_type": "code",
   "execution_count": 14,
   "metadata": {
    "collapsed": true
   },
   "outputs": [
    {
     "name": "stdout",
     "output_type": "stream",
     "text": [
      "http://corners.gmarket.co.kr//Bestsellers ALL\n",
      "{'category_name': 'ALL', 'sub_category_name': 'ALL', 'ranking': 1, 'title': '[에그머니](카드가능)(에그머니) 온라인 게임상품권 5만원', 'ori_price': '50000', 'dis_price': '45000', 'discount_percent': '10', 'item_code': '1791565626&ver', 'provider': ''}\n",
      "0\n",
      "INSERT INTO items VALUES('1791565626&ver',\n",
      "        '[에그머니](카드가능)(에그머니) 온라인 게임상품권 5만원', \n",
      "        50000, \n",
      "        45000, \n",
      "        10, \n",
      "        '')\n",
      "INSERT INTO ranking (main_category, sub_category, item_ranking, item_code) VALUES('ALL',\n",
      "    'ALL', \n",
      "    '1', \n",
      "    '1791565626&ver')\n",
      "{'category_name': 'ALL', 'sub_category_name': 'ALL', 'ranking': 2, 'title': '[디스커버리](공용) 비글 V2 DXSHE1031DXSHE2031', 'ori_price': '54500', 'dis_price': '40330', 'discount_percent': '26', 'item_code': '2021114418&ver', 'provider': ''}\n",
      "0\n",
      "INSERT INTO items VALUES('2021114418&ver',\n",
      "        '[디스커버리](공용) 비글 V2 DXSHE1031DXSHE2031', \n",
      "        54500, \n",
      "        40330, \n",
      "        26, \n",
      "        '')\n",
      "INSERT INTO ranking (main_category, sub_category, item_ranking, item_code) VALUES('ALL',\n",
      "    'ALL', \n",
      "    '2', \n",
      "    '2021114418&ver')\n",
      "{'category_name': 'ALL', 'sub_category_name': 'ALL', 'ranking': 3, 'title': '[배스킨라빈스](배스킨라빈스) 이달의맛 포함 패밀리 아이스크림', 'ori_price': '22000', 'dis_price': '17600', 'discount_percent': '20', 'item_code': '2024242723&ver', 'provider': ''}\n",
      "0\n",
      "INSERT INTO items VALUES('2024242723&ver',\n",
      "        '[배스킨라빈스](배스킨라빈스) 이달의맛 포함 패밀리 아이스크림', \n",
      "        22000, \n",
      "        17600, \n",
      "        20, \n",
      "        '')\n",
      "INSERT INTO ranking (main_category, sub_category, item_ranking, item_code) VALUES('ALL',\n",
      "    'ALL', \n",
      "    '3', \n",
      "    '2024242723&ver')\n",
      "{'category_name': 'ALL', 'sub_category_name': 'ALL', 'ranking': 4, 'title': '첫수확 아삭한 참외 2kg내외 (가정용/랜덤)', 'ori_price': '21800', 'dis_price': '10900', 'discount_percent': '50', 'item_code': '2013367836&ver', 'provider': ''}\n",
      "0\n",
      "INSERT INTO items VALUES('2013367836&ver',\n",
      "        '첫수확 아삭한 참외 2kg내외 (가정용/랜덤)', \n",
      "        21800, \n",
      "        10900, \n",
      "        50, \n",
      "        '')\n",
      "INSERT INTO ranking (main_category, sub_category, item_ranking, item_code) VALUES('ALL',\n",
      "    'ALL', \n",
      "    '4', \n",
      "    '2013367836&ver')\n",
      "{'category_name': 'ALL', 'sub_category_name': 'ALL', 'ranking': 5, 'title': '[리벤스]분리수거함 비닐봉투(40L) 200매', 'ori_price': '21000', 'dis_price': '10000', 'discount_percent': '52', 'item_code': '1493283968&ver', 'provider': ''}\n",
      "0\n",
      "INSERT INTO items VALUES('1493283968&ver',\n",
      "        '[리벤스]분리수거함 비닐봉투(40L) 200매', \n",
      "        21000, \n",
      "        10000, \n",
      "        52, \n",
      "        '')\n",
      "INSERT INTO ranking (main_category, sub_category, item_ranking, item_code) VALUES('ALL',\n",
      "    'ALL', \n",
      "    '5', \n",
      "    '1493283968&ver')\n",
      "{'category_name': 'ALL', 'sub_category_name': 'ALL', 'ranking': 6, 'title': '[바다원]바다원 쥐포 50마리+50마리 마른안주 간편안주', 'ori_price': '26800', 'dis_price': '17900', 'discount_percent': '33', 'item_code': '1808586819&ver', 'provider': ''}\n",
      "0\n",
      "INSERT INTO items VALUES('1808586819&ver',\n",
      "        '[바다원]바다원 쥐포 50마리+50마리 마른안주 간편안주', \n",
      "        26800, \n",
      "        17900, \n",
      "        33, \n",
      "        '')\n",
      "INSERT INTO ranking (main_category, sub_category, item_ranking, item_code) VALUES('ALL',\n",
      "    'ALL', \n",
      "    '6', \n",
      "    '1808586819&ver')\n",
      "{'category_name': 'ALL', 'sub_category_name': 'ALL', 'ranking': 7, 'title': '[이노하우스]집콕특가 액자형 DIY 보석십자수세트 그림 명화그리기', 'ori_price': '49000', 'dis_price': '14900', 'discount_percent': '69', 'item_code': '1806416283&ver', 'provider': ''}\n",
      "0\n",
      "INSERT INTO items VALUES('1806416283&ver',\n",
      "        '[이노하우스]집콕특가 액자형 DIY 보석십자수세트 그림 명화그리기', \n",
      "        49000, \n",
      "        14900, \n",
      "        69, \n",
      "        '')\n",
      "INSERT INTO ranking (main_category, sub_category, item_ranking, item_code) VALUES('ALL',\n",
      "    'ALL', \n",
      "    '7', \n",
      "    '1806416283&ver')\n",
      "{'category_name': 'ALL', 'sub_category_name': 'ALL', 'ranking': 8, 'title': '[던킨도너츠](던킨도너츠) 먼치킨 10개팩 3ea', 'ori_price': '12000', 'dis_price': '9000', 'discount_percent': '25', 'item_code': '2023390369&ver', 'provider': ''}\n",
      "0\n",
      "INSERT INTO items VALUES('2023390369&ver',\n",
      "        '[던킨도너츠](던킨도너츠) 먼치킨 10개팩 3ea', \n",
      "        12000, \n",
      "        9000, \n",
      "        25, \n",
      "        '')\n",
      "INSERT INTO ranking (main_category, sub_category, item_ranking, item_code) VALUES('ALL',\n",
      "    'ALL', \n",
      "    '8', \n",
      "    '2023390369&ver')\n",
      "{'category_name': 'ALL', 'sub_category_name': 'ALL', 'ranking': 9, 'title': '[양말폭탄]봄 아동양말 특가/인기상품 재입고/어린이 겨울양말', 'ori_price': '19600', 'dis_price': '5900', 'discount_percent': '69', 'item_code': '1536590878&ver', 'provider': ''}\n",
      "0\n",
      "INSERT INTO items VALUES('1536590878&ver',\n",
      "        '[양말폭탄]봄 아동양말 특가/인기상품 재입고/어린이 겨울양말', \n",
      "        19600, \n",
      "        5900, \n",
      "        69, \n",
      "        '')\n",
      "INSERT INTO ranking (main_category, sub_category, item_ranking, item_code) VALUES('ALL',\n",
      "    'ALL', \n",
      "    '9', \n",
      "    '1536590878&ver')\n",
      "{'category_name': 'ALL', 'sub_category_name': 'ALL', 'ranking': 10, 'title': '[에그머니](카드가능)(에그머니) 온라인 게임상품권 3만원', 'ori_price': '30000', 'dis_price': '27000', 'discount_percent': '10', 'item_code': '1741993279&ver', 'provider': ''}\n",
      "0\n",
      "INSERT INTO items VALUES('1741993279&ver',\n",
      "        '[에그머니](카드가능)(에그머니) 온라인 게임상품권 3만원', \n",
      "        30000, \n",
      "        27000, \n",
      "        10, \n",
      "        '')\n",
      "INSERT INTO ranking (main_category, sub_category, item_ranking, item_code) VALUES('ALL',\n",
      "    'ALL', \n",
      "    '10', \n",
      "    '1741993279&ver')\n",
      "{'category_name': 'ALL', 'sub_category_name': 'ALL', 'ranking': 11, 'title': '용선생의 시끌벅적 과학교실 전20권', 'ori_price': '430000', 'dis_price': '236000', 'discount_percent': '45', 'item_code': '1892540407&ver', 'provider': ''}\n",
      "0\n",
      "INSERT INTO items VALUES('1892540407&ver',\n",
      "        '용선생의 시끌벅적 과학교실 전20권', \n",
      "        430000, \n",
      "        236000, \n",
      "        45, \n",
      "        '')\n",
      "INSERT INTO ranking (main_category, sub_category, item_ranking, item_code) VALUES('ALL',\n",
      "    'ALL', \n",
      "    '11', \n",
      "    '1892540407&ver')\n",
      "{'category_name': 'ALL', 'sub_category_name': 'ALL', 'ranking': 12, 'title': '지학사 초 중 고 독서평설 1년 정기구독', 'ori_price': '144000', 'dis_price': '99000', 'discount_percent': '31', 'item_code': '1555118544&ver', 'provider': ''}\n",
      "0\n",
      "INSERT INTO items VALUES('1555118544&ver',\n",
      "        '지학사 초 중 고 독서평설 1년 정기구독', \n",
      "        144000, \n",
      "        99000, \n",
      "        31, \n",
      "        '')\n",
      "INSERT INTO ranking (main_category, sub_category, item_ranking, item_code) VALUES('ALL',\n",
      "    'ALL', \n",
      "    '12', \n",
      "    '1555118544&ver')\n",
      "{'category_name': 'ALL', 'sub_category_name': 'ALL', 'ranking': 13, 'title': '원핸드 폴딩 바스켓 /이동식팬트리 1+1', 'ori_price': '20000', 'dis_price': '10000', 'discount_percent': '50', 'item_code': '2014008138&ver', 'provider': ''}\n",
      "0\n",
      "INSERT INTO items VALUES('2014008138&ver',\n",
      "        '원핸드 폴딩 바스켓 /이동식팬트리 1+1', \n",
      "        20000, \n",
      "        10000, \n",
      "        50, \n",
      "        '')\n",
      "INSERT INTO ranking (main_category, sub_category, item_ranking, item_code) VALUES('ALL',\n",
      "    'ALL', \n",
      "    '13', \n",
      "    '2014008138&ver')\n",
      "{'category_name': 'ALL', 'sub_category_name': 'ALL', 'ranking': 14, 'title': '[구글플레이](카드가능) 기프트코드 10만원 / 구글 기프트카드', 'ori_price': '100000', 'dis_price': '95000', 'discount_percent': '5', 'item_code': '1655242371&ver', 'provider': ''}\n",
      "0\n",
      "INSERT INTO items VALUES('1655242371&ver',\n",
      "        '[구글플레이](카드가능) 기프트코드 10만원 / 구글 기프트카드', \n",
      "        100000, \n",
      "        95000, \n",
      "        5, \n",
      "        '')\n",
      "INSERT INTO ranking (main_category, sub_category, item_ranking, item_code) VALUES('ALL',\n",
      "    'ALL', \n",
      "    '14', \n",
      "    '1655242371&ver')\n",
      "{'category_name': 'ALL', 'sub_category_name': 'ALL', 'ranking': 15, 'title': '[페리오]어린이칫솔 4단계(8-13세) 주니어 10+10입+사은품2종', 'ori_price': '35800', 'dis_price': '17900', 'discount_percent': '50', 'item_code': '1703888547&ver', 'provider': ''}\n",
      "0\n",
      "INSERT INTO items VALUES('1703888547&ver',\n",
      "        '[페리오]어린이칫솔 4단계(8-13세) 주니어 10+10입+사은품2종', \n",
      "        35800, \n",
      "        17900, \n",
      "        50, \n",
      "        '')\n",
      "INSERT INTO ranking (main_category, sub_category, item_ranking, item_code) VALUES('ALL',\n",
      "    'ALL', \n",
      "    '15', \n",
      "    '1703888547&ver')\n",
      "{'category_name': 'ALL', 'sub_category_name': 'ALL', 'ranking': 16, 'title': '우리아이 영어 리딩의 첫걸음/뉴마크/라이징리더스/Newmark Learning/Early Rising Readers Set/총72종', 'ori_price': '120000', 'dis_price': '71400', 'discount_percent': '40', 'item_code': '2029368885&ver', 'provider': ''}\n",
      "0\n",
      "INSERT INTO items VALUES('2029368885&ver',\n",
      "        '우리아이 영어 리딩의 첫걸음/뉴마크/라이징리더스/Newmark Learning/Early Rising Readers Set/총72종', \n",
      "        120000, \n",
      "        71400, \n",
      "        40, \n",
      "        '')\n",
      "INSERT INTO ranking (main_category, sub_category, item_ranking, item_code) VALUES('ALL',\n",
      "    'ALL', \n",
      "    '16', \n",
      "    '2029368885&ver')\n"
     ]
    },
    {
     "name": "stdout",
     "output_type": "stream",
     "text": [
      "{'category_name': 'ALL', 'sub_category_name': 'ALL', 'ranking': 17, 'title': '[아웃백스테이크하우스](아웃백/빕스) Pays 외식/카페 결합 금액권 5만원권', 'ori_price': '50000', 'dis_price': '44500', 'discount_percent': '11', 'item_code': '2012122098&ver', 'provider': ''}\n",
      "0\n",
      "INSERT INTO items VALUES('2012122098&ver',\n",
      "        '[아웃백스테이크하우스](아웃백/빕스) Pays 외식/카페 결합 금액권 5만원권', \n",
      "        50000, \n",
      "        44500, \n",
      "        11, \n",
      "        '')\n",
      "INSERT INTO ranking (main_category, sub_category, item_ranking, item_code) VALUES('ALL',\n",
      "    'ALL', \n",
      "    '17', \n",
      "    '2012122098&ver')\n",
      "{'category_name': 'ALL', 'sub_category_name': 'ALL', 'ranking': 18, 'title': '이니스프리 폼 발렌타인 기획전 UP TO 50', 'ori_price': '40000', 'dis_price': '28000', 'discount_percent': '30', 'item_code': '1636980511&ver', 'provider': ''}\n",
      "0\n",
      "INSERT INTO items VALUES('1636980511&ver',\n",
      "        '이니스프리 폼 발렌타인 기획전 UP TO 50', \n",
      "        40000, \n",
      "        28000, \n",
      "        30, \n",
      "        '')\n",
      "INSERT INTO ranking (main_category, sub_category, item_ranking, item_code) VALUES('ALL',\n",
      "    'ALL', \n",
      "    '18', \n",
      "    '1636980511&ver')\n",
      "{'category_name': 'ALL', 'sub_category_name': 'ALL', 'ranking': 19, 'title': '[참도깨비]어묵 어묵탕 꼬치10개x2봉+장국4봉 / 2세트시 떡볶이', 'ori_price': '19800', 'dis_price': '8900', 'discount_percent': '55', 'item_code': '1723688692&ver', 'provider': ''}\n",
      "0\n",
      "INSERT INTO items VALUES('1723688692&ver',\n",
      "        '[참도깨비]어묵 어묵탕 꼬치10개x2봉+장국4봉 / 2세트시 떡볶이', \n",
      "        19800, \n",
      "        8900, \n",
      "        55, \n",
      "        '')\n",
      "INSERT INTO ranking (main_category, sub_category, item_ranking, item_code) VALUES('ALL',\n",
      "    'ALL', \n",
      "    '19', \n",
      "    '1723688692&ver')\n",
      "{'category_name': 'ALL', 'sub_category_name': 'ALL', 'ranking': 20, 'title': '[구글플레이](카드가능) 기프트코드 3만원 / 구글 기프트카드', 'ori_price': '30000', 'dis_price': '28500', 'discount_percent': '5', 'item_code': '1655241628&ver', 'provider': ''}\n",
      "0\n",
      "INSERT INTO items VALUES('1655241628&ver',\n",
      "        '[구글플레이](카드가능) 기프트코드 3만원 / 구글 기프트카드', \n",
      "        30000, \n",
      "        28500, \n",
      "        5, \n",
      "        '')\n",
      "INSERT INTO ranking (main_category, sub_category, item_ranking, item_code) VALUES('ALL',\n",
      "    'ALL', \n",
      "    '20', \n",
      "    '1655241628&ver')\n",
      "{'category_name': 'ALL', 'sub_category_name': 'ALL', 'ranking': 21, 'title': '[폴햄][폴햄] 남여공용 플러피 플리스 집업(PHA4TC3040)', 'ori_price': '13000', 'dis_price': '9620', 'discount_percent': '26', 'item_code': '1987321082&ver', 'provider': ''}\n",
      "0\n",
      "INSERT INTO items VALUES('1987321082&ver',\n",
      "        '[폴햄][폴햄] 남여공용 플러피 플리스 집업(PHA4TC3040)', \n",
      "        13000, \n",
      "        9620, \n",
      "        26, \n",
      "        '')\n",
      "INSERT INTO ranking (main_category, sub_category, item_ranking, item_code) VALUES('ALL',\n",
      "    'ALL', \n",
      "    '21', \n",
      "    '1987321082&ver')\n",
      "{'category_name': 'ALL', 'sub_category_name': 'ALL', 'ranking': 22, 'title': '[매일유업]데르뜨 떠먹는젤리 복숭아 90g 24개/젤리', 'ori_price': '14500', 'dis_price': '12900', 'discount_percent': '11', 'item_code': '1837316797&ver', 'provider': ''}\n",
      "0\n",
      "INSERT INTO items VALUES('1837316797&ver',\n",
      "        '[매일유업]데르뜨 떠먹는젤리 복숭아 90g 24개/젤리', \n",
      "        14500, \n",
      "        12900, \n",
      "        11, \n",
      "        '')\n",
      "INSERT INTO ranking (main_category, sub_category, item_ranking, item_code) VALUES('ALL',\n",
      "    'ALL', \n",
      "    '22', \n",
      "    '1837316797&ver')\n",
      "{'category_name': 'ALL', 'sub_category_name': 'ALL', 'ranking': 23, 'title': 'JYBOOKS 노부영 스테디 베스트 15+2/베스트 30+2 선택', 'ori_price': '284300', 'dis_price': '172900', 'discount_percent': '39', 'item_code': '1892960255&ver', 'provider': ''}\n",
      "0\n",
      "INSERT INTO items VALUES('1892960255&ver',\n",
      "        'JYBOOKS 노부영 스테디 베스트 15+2/베스트 30+2 선택', \n",
      "        284300, \n",
      "        172900, \n",
      "        39, \n",
      "        '')\n",
      "INSERT INTO ranking (main_category, sub_category, item_ranking, item_code) VALUES('ALL',\n",
      "    'ALL', \n",
      "    '23', \n",
      "    '1892960255&ver')\n",
      "{'category_name': 'ALL', 'sub_category_name': 'ALL', 'ranking': 24, 'title': '1+1+1 아이몽땅버블 폼폼휘핑클렌저250ml 6종', 'ori_price': '34900', 'dis_price': '16900', 'discount_percent': '51', 'item_code': '1926996726&ver', 'provider': ''}\n",
      "0\n",
      "INSERT INTO items VALUES('1926996726&ver',\n",
      "        '1+1+1 아이몽땅버블 폼폼휘핑클렌저250ml 6종', \n",
      "        34900, \n",
      "        16900, \n",
      "        51, \n",
      "        '')\n",
      "INSERT INTO ranking (main_category, sub_category, item_ranking, item_code) VALUES('ALL',\n",
      "    'ALL', \n",
      "    '24', \n",
      "    '1926996726&ver')\n",
      "{'category_name': 'ALL', 'sub_category_name': 'ALL', 'ranking': 25, 'title': '[구글플레이](카드가능) 기프트코드 5만원 / 구글 기프트카드', 'ori_price': '50000', 'dis_price': '47500', 'discount_percent': '5', 'item_code': '1655242060&ver', 'provider': ''}\n",
      "0\n",
      "INSERT INTO items VALUES('1655242060&ver',\n",
      "        '[구글플레이](카드가능) 기프트코드 5만원 / 구글 기프트카드', \n",
      "        50000, \n",
      "        47500, \n",
      "        5, \n",
      "        '')\n",
      "INSERT INTO ranking (main_category, sub_category, item_ranking, item_code) VALUES('ALL',\n",
      "    'ALL', \n",
      "    '25', \n",
      "    '1655242060&ver')\n",
      "{'category_name': 'ALL', 'sub_category_name': 'ALL', 'ranking': 26, 'title': '[밀레]데인 구스 거위 경량 다운 MVPWD402', 'ori_price': '69000', 'dis_price': '51060', 'discount_percent': '26', 'item_code': '1864615395&ver', 'provider': ''}\n",
      "0\n",
      "INSERT INTO items VALUES('1864615395&ver',\n",
      "        '[밀레]데인 구스 거위 경량 다운 MVPWD402', \n",
      "        69000, \n",
      "        51060, \n",
      "        26, \n",
      "        '')\n",
      "INSERT INTO ranking (main_category, sub_category, item_ranking, item_code) VALUES('ALL',\n",
      "    'ALL', \n",
      "    '26', \n",
      "    '1864615395&ver')\n"
     ]
    },
    {
     "ename": "KeyboardInterrupt",
     "evalue": "",
     "output_type": "error",
     "traceback": [
      "\u001b[1;31m---------------------------------------------------------------------------\u001b[0m",
      "\u001b[1;31mKeyboardInterrupt\u001b[0m                         Traceback (most recent call last)",
      "\u001b[1;32m<ipython-input-14-9d6ce1923e68>\u001b[0m in \u001b[0;36m<module>\u001b[1;34m\u001b[0m\n\u001b[0;32m     11\u001b[0m \u001b[0mcategories\u001b[0m \u001b[1;33m=\u001b[0m \u001b[0msoup\u001b[0m\u001b[1;33m.\u001b[0m\u001b[0mselect\u001b[0m\u001b[1;33m(\u001b[0m\u001b[1;34m'div.gbest-cate ul.by-group li a'\u001b[0m\u001b[1;33m)\u001b[0m\u001b[1;33m\u001b[0m\u001b[1;33m\u001b[0m\u001b[0m\n\u001b[0;32m     12\u001b[0m \u001b[1;32mfor\u001b[0m \u001b[0mcategory\u001b[0m \u001b[1;32min\u001b[0m \u001b[0mcategories\u001b[0m\u001b[1;33m:\u001b[0m\u001b[1;33m\u001b[0m\u001b[1;33m\u001b[0m\u001b[0m\n\u001b[1;32m---> 13\u001b[1;33m     \u001b[0mget_category\u001b[0m\u001b[1;33m(\u001b[0m\u001b[1;34m'http://corners.gmarket.co.kr/'\u001b[0m \u001b[1;33m+\u001b[0m \u001b[0mcategory\u001b[0m\u001b[1;33m[\u001b[0m\u001b[1;34m'href'\u001b[0m\u001b[1;33m]\u001b[0m\u001b[1;33m,\u001b[0m \u001b[0mcategory\u001b[0m\u001b[1;33m.\u001b[0m\u001b[0mget_text\u001b[0m\u001b[1;33m(\u001b[0m\u001b[1;33m)\u001b[0m\u001b[1;33m)\u001b[0m\u001b[1;33m\u001b[0m\u001b[1;33m\u001b[0m\u001b[0m\n\u001b[0m\u001b[0;32m     14\u001b[0m \u001b[1;33m\u001b[0m\u001b[0m\n\u001b[0;32m     15\u001b[0m \u001b[0mdb\u001b[0m\u001b[1;33m.\u001b[0m\u001b[0mcommit\u001b[0m\u001b[1;33m(\u001b[0m\u001b[1;33m)\u001b[0m\u001b[1;33m\u001b[0m\u001b[1;33m\u001b[0m\u001b[0m\n",
      "\u001b[1;32m<ipython-input-2-c028659c2a16>\u001b[0m in \u001b[0;36mget_category\u001b[1;34m(category_link, category_name)\u001b[0m\n\u001b[0;32m      4\u001b[0m     \u001b[0msoup\u001b[0m \u001b[1;33m=\u001b[0m \u001b[0mBeautifulSoup\u001b[0m\u001b[1;33m(\u001b[0m\u001b[0mres\u001b[0m\u001b[1;33m.\u001b[0m\u001b[0mcontent\u001b[0m\u001b[1;33m,\u001b[0m \u001b[1;34m'html.parser'\u001b[0m\u001b[1;33m)\u001b[0m\u001b[1;33m\u001b[0m\u001b[1;33m\u001b[0m\u001b[0m\n\u001b[0;32m      5\u001b[0m \u001b[1;33m\u001b[0m\u001b[0m\n\u001b[1;32m----> 6\u001b[1;33m     \u001b[0mget_items\u001b[0m\u001b[1;33m(\u001b[0m\u001b[0msoup\u001b[0m\u001b[1;33m,\u001b[0m \u001b[0mcategory_name\u001b[0m\u001b[1;33m,\u001b[0m \u001b[1;34m\"ALL\"\u001b[0m\u001b[1;33m)\u001b[0m\u001b[1;33m\u001b[0m\u001b[1;33m\u001b[0m\u001b[0m\n\u001b[0m\u001b[0;32m      7\u001b[0m \u001b[1;33m\u001b[0m\u001b[0m\n\u001b[0;32m      8\u001b[0m     \u001b[0msub_categories\u001b[0m \u001b[1;33m=\u001b[0m \u001b[0msoup\u001b[0m\u001b[1;33m.\u001b[0m\u001b[0mselect\u001b[0m\u001b[1;33m(\u001b[0m\u001b[1;34m'div.navi.group ul li > a'\u001b[0m\u001b[1;33m)\u001b[0m\u001b[1;33m\u001b[0m\u001b[1;33m\u001b[0m\u001b[0m\n",
      "\u001b[1;32m<ipython-input-3-5b23358bcf48>\u001b[0m in \u001b[0;36mget_items\u001b[1;34m(html, category_name, sub_category_name)\u001b[0m\n\u001b[0;32m     30\u001b[0m             \u001b[0mitem_code\u001b[0m \u001b[1;33m=\u001b[0m \u001b[0mproduct_link\u001b[0m\u001b[1;33m.\u001b[0m\u001b[0mattrs\u001b[0m\u001b[1;33m[\u001b[0m\u001b[1;34m'href'\u001b[0m\u001b[1;33m]\u001b[0m\u001b[1;33m.\u001b[0m\u001b[0msplit\u001b[0m\u001b[1;33m(\u001b[0m\u001b[1;34m'='\u001b[0m\u001b[1;33m)\u001b[0m\u001b[1;33m[\u001b[0m\u001b[1;36m1\u001b[0m\u001b[1;33m]\u001b[0m\u001b[1;33m\u001b[0m\u001b[1;33m\u001b[0m\u001b[0m\n\u001b[0;32m     31\u001b[0m \u001b[1;33m\u001b[0m\u001b[0m\n\u001b[1;32m---> 32\u001b[1;33m             \u001b[0mres\u001b[0m \u001b[1;33m=\u001b[0m \u001b[0mrequests\u001b[0m\u001b[1;33m.\u001b[0m\u001b[0mget\u001b[0m\u001b[1;33m(\u001b[0m\u001b[0mproduct_link\u001b[0m\u001b[1;33m.\u001b[0m\u001b[0mattrs\u001b[0m\u001b[1;33m[\u001b[0m\u001b[1;34m'href'\u001b[0m\u001b[1;33m]\u001b[0m\u001b[1;33m)\u001b[0m\u001b[1;33m\u001b[0m\u001b[1;33m\u001b[0m\u001b[0m\n\u001b[0m\u001b[0;32m     33\u001b[0m             \u001b[0msoup\u001b[0m \u001b[1;33m=\u001b[0m \u001b[0mBeautifulSoup\u001b[0m\u001b[1;33m(\u001b[0m\u001b[0mres\u001b[0m\u001b[1;33m.\u001b[0m\u001b[0mcontent\u001b[0m\u001b[1;33m,\u001b[0m \u001b[1;34m'html.parser'\u001b[0m\u001b[1;33m)\u001b[0m\u001b[1;33m\u001b[0m\u001b[1;33m\u001b[0m\u001b[0m\n\u001b[0;32m     34\u001b[0m             \u001b[0mprovider\u001b[0m \u001b[1;33m=\u001b[0m \u001b[0msoup\u001b[0m\u001b[1;33m.\u001b[0m\u001b[0mselect_one\u001b[0m\u001b[1;33m(\u001b[0m\u001b[1;34m'div.item-topinfo_headline > p > a > strong'\u001b[0m\u001b[1;33m)\u001b[0m\u001b[1;33m\u001b[0m\u001b[1;33m\u001b[0m\u001b[0m\n",
      "\u001b[1;32m~\\anaconda3\\lib\\site-packages\\requests\\api.py\u001b[0m in \u001b[0;36mget\u001b[1;34m(url, params, **kwargs)\u001b[0m\n\u001b[0;32m     74\u001b[0m \u001b[1;33m\u001b[0m\u001b[0m\n\u001b[0;32m     75\u001b[0m     \u001b[0mkwargs\u001b[0m\u001b[1;33m.\u001b[0m\u001b[0msetdefault\u001b[0m\u001b[1;33m(\u001b[0m\u001b[1;34m'allow_redirects'\u001b[0m\u001b[1;33m,\u001b[0m \u001b[1;32mTrue\u001b[0m\u001b[1;33m)\u001b[0m\u001b[1;33m\u001b[0m\u001b[1;33m\u001b[0m\u001b[0m\n\u001b[1;32m---> 76\u001b[1;33m     \u001b[1;32mreturn\u001b[0m \u001b[0mrequest\u001b[0m\u001b[1;33m(\u001b[0m\u001b[1;34m'get'\u001b[0m\u001b[1;33m,\u001b[0m \u001b[0murl\u001b[0m\u001b[1;33m,\u001b[0m \u001b[0mparams\u001b[0m\u001b[1;33m=\u001b[0m\u001b[0mparams\u001b[0m\u001b[1;33m,\u001b[0m \u001b[1;33m**\u001b[0m\u001b[0mkwargs\u001b[0m\u001b[1;33m)\u001b[0m\u001b[1;33m\u001b[0m\u001b[1;33m\u001b[0m\u001b[0m\n\u001b[0m\u001b[0;32m     77\u001b[0m \u001b[1;33m\u001b[0m\u001b[0m\n\u001b[0;32m     78\u001b[0m \u001b[1;33m\u001b[0m\u001b[0m\n",
      "\u001b[1;32m~\\anaconda3\\lib\\site-packages\\requests\\api.py\u001b[0m in \u001b[0;36mrequest\u001b[1;34m(method, url, **kwargs)\u001b[0m\n\u001b[0;32m     59\u001b[0m     \u001b[1;31m# cases, and look like a memory leak in others.\u001b[0m\u001b[1;33m\u001b[0m\u001b[1;33m\u001b[0m\u001b[1;33m\u001b[0m\u001b[0m\n\u001b[0;32m     60\u001b[0m     \u001b[1;32mwith\u001b[0m \u001b[0msessions\u001b[0m\u001b[1;33m.\u001b[0m\u001b[0mSession\u001b[0m\u001b[1;33m(\u001b[0m\u001b[1;33m)\u001b[0m \u001b[1;32mas\u001b[0m \u001b[0msession\u001b[0m\u001b[1;33m:\u001b[0m\u001b[1;33m\u001b[0m\u001b[1;33m\u001b[0m\u001b[0m\n\u001b[1;32m---> 61\u001b[1;33m         \u001b[1;32mreturn\u001b[0m \u001b[0msession\u001b[0m\u001b[1;33m.\u001b[0m\u001b[0mrequest\u001b[0m\u001b[1;33m(\u001b[0m\u001b[0mmethod\u001b[0m\u001b[1;33m=\u001b[0m\u001b[0mmethod\u001b[0m\u001b[1;33m,\u001b[0m \u001b[0murl\u001b[0m\u001b[1;33m=\u001b[0m\u001b[0murl\u001b[0m\u001b[1;33m,\u001b[0m \u001b[1;33m**\u001b[0m\u001b[0mkwargs\u001b[0m\u001b[1;33m)\u001b[0m\u001b[1;33m\u001b[0m\u001b[1;33m\u001b[0m\u001b[0m\n\u001b[0m\u001b[0;32m     62\u001b[0m \u001b[1;33m\u001b[0m\u001b[0m\n\u001b[0;32m     63\u001b[0m \u001b[1;33m\u001b[0m\u001b[0m\n",
      "\u001b[1;32m~\\anaconda3\\lib\\site-packages\\requests\\sessions.py\u001b[0m in \u001b[0;36mrequest\u001b[1;34m(self, method, url, params, data, headers, cookies, files, auth, timeout, allow_redirects, proxies, hooks, stream, verify, cert, json)\u001b[0m\n\u001b[0;32m    528\u001b[0m         }\n\u001b[0;32m    529\u001b[0m         \u001b[0msend_kwargs\u001b[0m\u001b[1;33m.\u001b[0m\u001b[0mupdate\u001b[0m\u001b[1;33m(\u001b[0m\u001b[0msettings\u001b[0m\u001b[1;33m)\u001b[0m\u001b[1;33m\u001b[0m\u001b[1;33m\u001b[0m\u001b[0m\n\u001b[1;32m--> 530\u001b[1;33m         \u001b[0mresp\u001b[0m \u001b[1;33m=\u001b[0m \u001b[0mself\u001b[0m\u001b[1;33m.\u001b[0m\u001b[0msend\u001b[0m\u001b[1;33m(\u001b[0m\u001b[0mprep\u001b[0m\u001b[1;33m,\u001b[0m \u001b[1;33m**\u001b[0m\u001b[0msend_kwargs\u001b[0m\u001b[1;33m)\u001b[0m\u001b[1;33m\u001b[0m\u001b[1;33m\u001b[0m\u001b[0m\n\u001b[0m\u001b[0;32m    531\u001b[0m \u001b[1;33m\u001b[0m\u001b[0m\n\u001b[0;32m    532\u001b[0m         \u001b[1;32mreturn\u001b[0m \u001b[0mresp\u001b[0m\u001b[1;33m\u001b[0m\u001b[1;33m\u001b[0m\u001b[0m\n",
      "\u001b[1;32m~\\anaconda3\\lib\\site-packages\\requests\\sessions.py\u001b[0m in \u001b[0;36msend\u001b[1;34m(self, request, **kwargs)\u001b[0m\n\u001b[0;32m    641\u001b[0m \u001b[1;33m\u001b[0m\u001b[0m\n\u001b[0;32m    642\u001b[0m         \u001b[1;31m# Send the request\u001b[0m\u001b[1;33m\u001b[0m\u001b[1;33m\u001b[0m\u001b[1;33m\u001b[0m\u001b[0m\n\u001b[1;32m--> 643\u001b[1;33m         \u001b[0mr\u001b[0m \u001b[1;33m=\u001b[0m \u001b[0madapter\u001b[0m\u001b[1;33m.\u001b[0m\u001b[0msend\u001b[0m\u001b[1;33m(\u001b[0m\u001b[0mrequest\u001b[0m\u001b[1;33m,\u001b[0m \u001b[1;33m**\u001b[0m\u001b[0mkwargs\u001b[0m\u001b[1;33m)\u001b[0m\u001b[1;33m\u001b[0m\u001b[1;33m\u001b[0m\u001b[0m\n\u001b[0m\u001b[0;32m    644\u001b[0m \u001b[1;33m\u001b[0m\u001b[0m\n\u001b[0;32m    645\u001b[0m         \u001b[1;31m# Total elapsed time of the request (approximately)\u001b[0m\u001b[1;33m\u001b[0m\u001b[1;33m\u001b[0m\u001b[1;33m\u001b[0m\u001b[0m\n",
      "\u001b[1;32m~\\anaconda3\\lib\\site-packages\\requests\\adapters.py\u001b[0m in \u001b[0;36msend\u001b[1;34m(self, request, stream, timeout, verify, cert, proxies)\u001b[0m\n\u001b[0;32m    437\u001b[0m         \u001b[1;32mtry\u001b[0m\u001b[1;33m:\u001b[0m\u001b[1;33m\u001b[0m\u001b[1;33m\u001b[0m\u001b[0m\n\u001b[0;32m    438\u001b[0m             \u001b[1;32mif\u001b[0m \u001b[1;32mnot\u001b[0m \u001b[0mchunked\u001b[0m\u001b[1;33m:\u001b[0m\u001b[1;33m\u001b[0m\u001b[1;33m\u001b[0m\u001b[0m\n\u001b[1;32m--> 439\u001b[1;33m                 resp = conn.urlopen(\n\u001b[0m\u001b[0;32m    440\u001b[0m                     \u001b[0mmethod\u001b[0m\u001b[1;33m=\u001b[0m\u001b[0mrequest\u001b[0m\u001b[1;33m.\u001b[0m\u001b[0mmethod\u001b[0m\u001b[1;33m,\u001b[0m\u001b[1;33m\u001b[0m\u001b[1;33m\u001b[0m\u001b[0m\n\u001b[0;32m    441\u001b[0m                     \u001b[0murl\u001b[0m\u001b[1;33m=\u001b[0m\u001b[0murl\u001b[0m\u001b[1;33m,\u001b[0m\u001b[1;33m\u001b[0m\u001b[1;33m\u001b[0m\u001b[0m\n",
      "\u001b[1;32m~\\anaconda3\\lib\\site-packages\\urllib3\\connectionpool.py\u001b[0m in \u001b[0;36murlopen\u001b[1;34m(self, method, url, body, headers, retries, redirect, assert_same_host, timeout, pool_timeout, release_conn, chunked, body_pos, **response_kw)\u001b[0m\n\u001b[0;32m    668\u001b[0m \u001b[1;33m\u001b[0m\u001b[0m\n\u001b[0;32m    669\u001b[0m             \u001b[1;31m# Make the request on the httplib connection object.\u001b[0m\u001b[1;33m\u001b[0m\u001b[1;33m\u001b[0m\u001b[1;33m\u001b[0m\u001b[0m\n\u001b[1;32m--> 670\u001b[1;33m             httplib_response = self._make_request(\n\u001b[0m\u001b[0;32m    671\u001b[0m                 \u001b[0mconn\u001b[0m\u001b[1;33m,\u001b[0m\u001b[1;33m\u001b[0m\u001b[1;33m\u001b[0m\u001b[0m\n\u001b[0;32m    672\u001b[0m                 \u001b[0mmethod\u001b[0m\u001b[1;33m,\u001b[0m\u001b[1;33m\u001b[0m\u001b[1;33m\u001b[0m\u001b[0m\n",
      "\u001b[1;32m~\\anaconda3\\lib\\site-packages\\urllib3\\connectionpool.py\u001b[0m in \u001b[0;36m_make_request\u001b[1;34m(self, conn, method, url, timeout, chunked, **httplib_request_kw)\u001b[0m\n\u001b[0;32m    424\u001b[0m                     \u001b[1;31m# Python 3 (including for exceptions like SystemExit).\u001b[0m\u001b[1;33m\u001b[0m\u001b[1;33m\u001b[0m\u001b[1;33m\u001b[0m\u001b[0m\n\u001b[0;32m    425\u001b[0m                     \u001b[1;31m# Otherwise it looks like a bug in the code.\u001b[0m\u001b[1;33m\u001b[0m\u001b[1;33m\u001b[0m\u001b[1;33m\u001b[0m\u001b[0m\n\u001b[1;32m--> 426\u001b[1;33m                     \u001b[0msix\u001b[0m\u001b[1;33m.\u001b[0m\u001b[0mraise_from\u001b[0m\u001b[1;33m(\u001b[0m\u001b[0me\u001b[0m\u001b[1;33m,\u001b[0m \u001b[1;32mNone\u001b[0m\u001b[1;33m)\u001b[0m\u001b[1;33m\u001b[0m\u001b[1;33m\u001b[0m\u001b[0m\n\u001b[0m\u001b[0;32m    427\u001b[0m         \u001b[1;32mexcept\u001b[0m \u001b[1;33m(\u001b[0m\u001b[0mSocketTimeout\u001b[0m\u001b[1;33m,\u001b[0m \u001b[0mBaseSSLError\u001b[0m\u001b[1;33m,\u001b[0m \u001b[0mSocketError\u001b[0m\u001b[1;33m)\u001b[0m \u001b[1;32mas\u001b[0m \u001b[0me\u001b[0m\u001b[1;33m:\u001b[0m\u001b[1;33m\u001b[0m\u001b[1;33m\u001b[0m\u001b[0m\n\u001b[0;32m    428\u001b[0m             \u001b[0mself\u001b[0m\u001b[1;33m.\u001b[0m\u001b[0m_raise_timeout\u001b[0m\u001b[1;33m(\u001b[0m\u001b[0merr\u001b[0m\u001b[1;33m=\u001b[0m\u001b[0me\u001b[0m\u001b[1;33m,\u001b[0m \u001b[0murl\u001b[0m\u001b[1;33m=\u001b[0m\u001b[0murl\u001b[0m\u001b[1;33m,\u001b[0m \u001b[0mtimeout_value\u001b[0m\u001b[1;33m=\u001b[0m\u001b[0mread_timeout\u001b[0m\u001b[1;33m)\u001b[0m\u001b[1;33m\u001b[0m\u001b[1;33m\u001b[0m\u001b[0m\n",
      "\u001b[1;32m~\\anaconda3\\lib\\site-packages\\urllib3\\packages\\six.py\u001b[0m in \u001b[0;36mraise_from\u001b[1;34m(value, from_value)\u001b[0m\n",
      "\u001b[1;32m~\\anaconda3\\lib\\site-packages\\urllib3\\connectionpool.py\u001b[0m in \u001b[0;36m_make_request\u001b[1;34m(self, conn, method, url, timeout, chunked, **httplib_request_kw)\u001b[0m\n\u001b[0;32m    419\u001b[0m                 \u001b[1;31m# Python 3\u001b[0m\u001b[1;33m\u001b[0m\u001b[1;33m\u001b[0m\u001b[1;33m\u001b[0m\u001b[0m\n\u001b[0;32m    420\u001b[0m                 \u001b[1;32mtry\u001b[0m\u001b[1;33m:\u001b[0m\u001b[1;33m\u001b[0m\u001b[1;33m\u001b[0m\u001b[0m\n\u001b[1;32m--> 421\u001b[1;33m                     \u001b[0mhttplib_response\u001b[0m \u001b[1;33m=\u001b[0m \u001b[0mconn\u001b[0m\u001b[1;33m.\u001b[0m\u001b[0mgetresponse\u001b[0m\u001b[1;33m(\u001b[0m\u001b[1;33m)\u001b[0m\u001b[1;33m\u001b[0m\u001b[1;33m\u001b[0m\u001b[0m\n\u001b[0m\u001b[0;32m    422\u001b[0m                 \u001b[1;32mexcept\u001b[0m \u001b[0mBaseException\u001b[0m \u001b[1;32mas\u001b[0m \u001b[0me\u001b[0m\u001b[1;33m:\u001b[0m\u001b[1;33m\u001b[0m\u001b[1;33m\u001b[0m\u001b[0m\n\u001b[0;32m    423\u001b[0m                     \u001b[1;31m# Remove the TypeError from the exception chain in\u001b[0m\u001b[1;33m\u001b[0m\u001b[1;33m\u001b[0m\u001b[1;33m\u001b[0m\u001b[0m\n",
      "\u001b[1;32m~\\anaconda3\\lib\\http\\client.py\u001b[0m in \u001b[0;36mgetresponse\u001b[1;34m(self)\u001b[0m\n\u001b[0;32m   1345\u001b[0m         \u001b[1;32mtry\u001b[0m\u001b[1;33m:\u001b[0m\u001b[1;33m\u001b[0m\u001b[1;33m\u001b[0m\u001b[0m\n\u001b[0;32m   1346\u001b[0m             \u001b[1;32mtry\u001b[0m\u001b[1;33m:\u001b[0m\u001b[1;33m\u001b[0m\u001b[1;33m\u001b[0m\u001b[0m\n\u001b[1;32m-> 1347\u001b[1;33m                 \u001b[0mresponse\u001b[0m\u001b[1;33m.\u001b[0m\u001b[0mbegin\u001b[0m\u001b[1;33m(\u001b[0m\u001b[1;33m)\u001b[0m\u001b[1;33m\u001b[0m\u001b[1;33m\u001b[0m\u001b[0m\n\u001b[0m\u001b[0;32m   1348\u001b[0m             \u001b[1;32mexcept\u001b[0m \u001b[0mConnectionError\u001b[0m\u001b[1;33m:\u001b[0m\u001b[1;33m\u001b[0m\u001b[1;33m\u001b[0m\u001b[0m\n\u001b[0;32m   1349\u001b[0m                 \u001b[0mself\u001b[0m\u001b[1;33m.\u001b[0m\u001b[0mclose\u001b[0m\u001b[1;33m(\u001b[0m\u001b[1;33m)\u001b[0m\u001b[1;33m\u001b[0m\u001b[1;33m\u001b[0m\u001b[0m\n",
      "\u001b[1;32m~\\anaconda3\\lib\\http\\client.py\u001b[0m in \u001b[0;36mbegin\u001b[1;34m(self)\u001b[0m\n\u001b[0;32m    305\u001b[0m         \u001b[1;31m# read until we get a non-100 response\u001b[0m\u001b[1;33m\u001b[0m\u001b[1;33m\u001b[0m\u001b[1;33m\u001b[0m\u001b[0m\n\u001b[0;32m    306\u001b[0m         \u001b[1;32mwhile\u001b[0m \u001b[1;32mTrue\u001b[0m\u001b[1;33m:\u001b[0m\u001b[1;33m\u001b[0m\u001b[1;33m\u001b[0m\u001b[0m\n\u001b[1;32m--> 307\u001b[1;33m             \u001b[0mversion\u001b[0m\u001b[1;33m,\u001b[0m \u001b[0mstatus\u001b[0m\u001b[1;33m,\u001b[0m \u001b[0mreason\u001b[0m \u001b[1;33m=\u001b[0m \u001b[0mself\u001b[0m\u001b[1;33m.\u001b[0m\u001b[0m_read_status\u001b[0m\u001b[1;33m(\u001b[0m\u001b[1;33m)\u001b[0m\u001b[1;33m\u001b[0m\u001b[1;33m\u001b[0m\u001b[0m\n\u001b[0m\u001b[0;32m    308\u001b[0m             \u001b[1;32mif\u001b[0m \u001b[0mstatus\u001b[0m \u001b[1;33m!=\u001b[0m \u001b[0mCONTINUE\u001b[0m\u001b[1;33m:\u001b[0m\u001b[1;33m\u001b[0m\u001b[1;33m\u001b[0m\u001b[0m\n\u001b[0;32m    309\u001b[0m                 \u001b[1;32mbreak\u001b[0m\u001b[1;33m\u001b[0m\u001b[1;33m\u001b[0m\u001b[0m\n",
      "\u001b[1;32m~\\anaconda3\\lib\\http\\client.py\u001b[0m in \u001b[0;36m_read_status\u001b[1;34m(self)\u001b[0m\n\u001b[0;32m    266\u001b[0m \u001b[1;33m\u001b[0m\u001b[0m\n\u001b[0;32m    267\u001b[0m     \u001b[1;32mdef\u001b[0m \u001b[0m_read_status\u001b[0m\u001b[1;33m(\u001b[0m\u001b[0mself\u001b[0m\u001b[1;33m)\u001b[0m\u001b[1;33m:\u001b[0m\u001b[1;33m\u001b[0m\u001b[1;33m\u001b[0m\u001b[0m\n\u001b[1;32m--> 268\u001b[1;33m         \u001b[0mline\u001b[0m \u001b[1;33m=\u001b[0m \u001b[0mstr\u001b[0m\u001b[1;33m(\u001b[0m\u001b[0mself\u001b[0m\u001b[1;33m.\u001b[0m\u001b[0mfp\u001b[0m\u001b[1;33m.\u001b[0m\u001b[0mreadline\u001b[0m\u001b[1;33m(\u001b[0m\u001b[0m_MAXLINE\u001b[0m \u001b[1;33m+\u001b[0m \u001b[1;36m1\u001b[0m\u001b[1;33m)\u001b[0m\u001b[1;33m,\u001b[0m \u001b[1;34m\"iso-8859-1\"\u001b[0m\u001b[1;33m)\u001b[0m\u001b[1;33m\u001b[0m\u001b[1;33m\u001b[0m\u001b[0m\n\u001b[0m\u001b[0;32m    269\u001b[0m         \u001b[1;32mif\u001b[0m \u001b[0mlen\u001b[0m\u001b[1;33m(\u001b[0m\u001b[0mline\u001b[0m\u001b[1;33m)\u001b[0m \u001b[1;33m>\u001b[0m \u001b[0m_MAXLINE\u001b[0m\u001b[1;33m:\u001b[0m\u001b[1;33m\u001b[0m\u001b[1;33m\u001b[0m\u001b[0m\n\u001b[0;32m    270\u001b[0m             \u001b[1;32mraise\u001b[0m \u001b[0mLineTooLong\u001b[0m\u001b[1;33m(\u001b[0m\u001b[1;34m\"status line\"\u001b[0m\u001b[1;33m)\u001b[0m\u001b[1;33m\u001b[0m\u001b[1;33m\u001b[0m\u001b[0m\n",
      "\u001b[1;32m~\\anaconda3\\lib\\socket.py\u001b[0m in \u001b[0;36mreadinto\u001b[1;34m(self, b)\u001b[0m\n\u001b[0;32m    667\u001b[0m         \u001b[1;32mwhile\u001b[0m \u001b[1;32mTrue\u001b[0m\u001b[1;33m:\u001b[0m\u001b[1;33m\u001b[0m\u001b[1;33m\u001b[0m\u001b[0m\n\u001b[0;32m    668\u001b[0m             \u001b[1;32mtry\u001b[0m\u001b[1;33m:\u001b[0m\u001b[1;33m\u001b[0m\u001b[1;33m\u001b[0m\u001b[0m\n\u001b[1;32m--> 669\u001b[1;33m                 \u001b[1;32mreturn\u001b[0m \u001b[0mself\u001b[0m\u001b[1;33m.\u001b[0m\u001b[0m_sock\u001b[0m\u001b[1;33m.\u001b[0m\u001b[0mrecv_into\u001b[0m\u001b[1;33m(\u001b[0m\u001b[0mb\u001b[0m\u001b[1;33m)\u001b[0m\u001b[1;33m\u001b[0m\u001b[1;33m\u001b[0m\u001b[0m\n\u001b[0m\u001b[0;32m    670\u001b[0m             \u001b[1;32mexcept\u001b[0m \u001b[0mtimeout\u001b[0m\u001b[1;33m:\u001b[0m\u001b[1;33m\u001b[0m\u001b[1;33m\u001b[0m\u001b[0m\n\u001b[0;32m    671\u001b[0m                 \u001b[0mself\u001b[0m\u001b[1;33m.\u001b[0m\u001b[0m_timeout_occurred\u001b[0m \u001b[1;33m=\u001b[0m \u001b[1;32mTrue\u001b[0m\u001b[1;33m\u001b[0m\u001b[1;33m\u001b[0m\u001b[0m\n",
      "\u001b[1;31mKeyboardInterrupt\u001b[0m: "
     ]
    }
   ],
   "source": [
    "import requests\n",
    "from bs4 import BeautifulSoup\n",
    "import pymysql\n",
    "\n",
    "db = pymysql.connect(host='localhost', port=3306, user='root', passwd='011936', db='bestproducts', charset='utf8')\n",
    "cursor = db.cursor()\n",
    "\n",
    "res = requests.get('http://corners.gmarket.co.kr/Bestsellers')\n",
    "soup = BeautifulSoup(res.content, 'html.parser')\n",
    "\n",
    "categories = soup.select('div.gbest-cate ul.by-group li a')\n",
    "for category in categories:\n",
    "    get_category('http://corners.gmarket.co.kr/' + category['href'], category.get_text())\n",
    "\n",
    "db.commit()\n",
    "db.close()"
   ]
  },
  {
   "cell_type": "code",
   "execution_count": null,
   "metadata": {},
   "outputs": [],
   "source": [
    "def get_category(category_link, category_name):\n",
    "    print(category_link, category_name)\n",
    "    res = requests.get(category_link)\n",
    "    soup = BeautifulSoup(res.content, 'html.parser')\n",
    "\n",
    "    get_items(soup, category_name, \"ALL\")\n",
    "\n",
    "    sub_categories = soup.select('div.navi.group ul li > a')\n",
    "    for sub_category in sub_categories:\n",
    "        res = requests.get('http://corners.gmarket.co.kr/' + sub_category['href'])\n",
    "        soup = BeautifulSoup(res.content, 'html.parser')\n",
    "        print(category_name, sub_category.get_text())\n",
    "        get_items(soup, category_name, sub_category.get_text())"
   ]
  },
  {
   "cell_type": "code",
   "execution_count": null,
   "metadata": {},
   "outputs": [],
   "source": [
    "def get_items(html, category_name, sub_category_name):\n",
    "    # 일부 서브 카테고리의 경우, 이벤트 페이지와 같이 표시될 수 있으므로, 해당 케이스들은 skip 함 (2020.09.30)\n",
    "    best_item = html.select('div.best-list')\n",
    "    \n",
    "    if len(best_item[1].select('li')) > 0:\n",
    "        for index, item in enumerate(best_item[1].select('li')):\n",
    "            data_dict = dict()\n",
    "\n",
    "            ranking = index + 1\n",
    "            title = item.select_one('a.itemname')\n",
    "            ori_price = item.select_one('div.o-price')\n",
    "            dis_price = item.select_one('div.s-price strong span')\n",
    "            discount_percent = item.select_one('div.s-price em')\n",
    "\n",
    "            if ori_price == None or ori_price.get_text() == '':\n",
    "                ori_price = dis_price\n",
    "\n",
    "            if dis_price == None:\n",
    "                ori_price, dis_price = 0, 0\n",
    "            else:\n",
    "                ori_price = ori_price.get_text().replace(',', '').replace('원', '')\n",
    "                dis_price = dis_price.get_text().replace(',', '').replace('원', '')\n",
    "\n",
    "            if discount_percent == None or discount_percent.get_text() == '':\n",
    "                discount_percent = 0\n",
    "            else:\n",
    "                discount_percent = discount_percent.get_text().replace('%', '')\n",
    "\n",
    "            product_link = item.select_one('div.thumb > a')\n",
    "            item_code = product_link.attrs['href'].split('=')[1]\n",
    "\n",
    "            res = requests.get(product_link.attrs['href'])\n",
    "            soup = BeautifulSoup(res.content, 'html.parser')\n",
    "            provider = soup.select_one('div.item-topinfo_headline > p > a > strong')\n",
    "            if provider == None:\n",
    "                provider = ''\n",
    "            else:\n",
    "                provider = provider.get_text()\n",
    "\n",
    "            data_dict['category_name'] = category_name\n",
    "            data_dict['sub_category_name'] = sub_category_name\n",
    "            data_dict['ranking'] = ranking\n",
    "            data_dict['title'] = title.get_text()\n",
    "            data_dict['ori_price'] = ori_price\n",
    "            data_dict['dis_price'] = dis_price\n",
    "            data_dict['discount_percent'] = discount_percent\n",
    "            data_dict['item_code'] = item_code\n",
    "            data_dict['provider'] = provider\n",
    "\n",
    "            save_data(data_dict)"
   ]
  },
  {
   "cell_type": "code",
   "execution_count": null,
   "metadata": {},
   "outputs": [],
   "source": [
    "def save_data(item_info):\n",
    "    print (item_info)\n",
    "    sql = \"\"\"SELECT COUNT(*) FROM items WHERE item_code = '\"\"\" + item_info['item_code'] + \"\"\"';\"\"\"\n",
    "    cursor.execute(sql)\n",
    "    result = cursor.fetchone()\n",
    "    print (result[0])\n",
    "    if result[0] == 0: # 상품이 없을 때\n",
    "        sql = \"\"\"INSERT INTO items VALUES('\"\"\" + item_info['item_code'] + \"\"\"',\n",
    "        '\"\"\" + item_info['title'] + \"\"\"', \n",
    "        \"\"\" + str(item_info['ori_price']) + \"\"\", \n",
    "        \"\"\" + str(item_info['dis_price']) + \"\"\", \n",
    "        \"\"\" + str(item_info['discount_percent']) + \"\"\", \n",
    "        '\"\"\" + item_info['provider'] + \"\"\"')\"\"\"\n",
    "        cursor.execute(sql)\n",
    "    \n",
    "    sql = \"\"\"INSERT INTO ranking (main_category, sub_category, item_ranking, item_code) VALUES('\"\"\" + item_info['category_name'] + \"\"\"',\n",
    "    '\"\"\" + item_info['sub_category_name'] + \"\"\"', \n",
    "    '\"\"\" + str(item_info['ranking']) + \"\"\"', \n",
    "    '\"\"\" + item_info['item_code'] + \"\"\"')\"\"\"      \n",
    "    cursor.execute(sql)"
   ]
  }
 ],
 "metadata": {
  "kernelspec": {
   "display_name": "Python 3",
   "language": "python",
   "name": "python3"
  },
  "language_info": {
   "codemirror_mode": {
    "name": "ipython",
    "version": 3
   },
   "file_extension": ".py",
   "mimetype": "text/x-python",
   "name": "python",
   "nbconvert_exporter": "python",
   "pygments_lexer": "ipython3",
   "version": "3.8.5"
  },
  "toc": {
   "base_numbering": 1,
   "nav_menu": {},
   "number_sections": true,
   "sideBar": true,
   "skip_h1_title": false,
   "title_cell": "Table of Contents",
   "title_sidebar": "Contents",
   "toc_cell": false,
   "toc_position": {},
   "toc_section_display": true,
   "toc_window_display": true
  },
  "varInspector": {
   "cols": {
    "lenName": 16,
    "lenType": 16,
    "lenVar": 40
   },
   "kernels_config": {
    "python": {
     "delete_cmd_postfix": "",
     "delete_cmd_prefix": "del ",
     "library": "var_list.py",
     "varRefreshCmd": "print(var_dic_list())"
    },
    "r": {
     "delete_cmd_postfix": ") ",
     "delete_cmd_prefix": "rm(",
     "library": "var_list.r",
     "varRefreshCmd": "cat(var_dic_list()) "
    }
   },
   "types_to_exclude": [
    "module",
    "function",
    "builtin_function_or_method",
    "instance",
    "_Feature"
   ],
   "window_display": false
  }
 },
 "nbformat": 4,
 "nbformat_minor": 2
}
