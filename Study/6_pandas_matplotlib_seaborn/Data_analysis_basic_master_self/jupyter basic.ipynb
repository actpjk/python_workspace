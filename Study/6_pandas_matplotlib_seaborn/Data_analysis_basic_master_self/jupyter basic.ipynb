{
 "cells": [
  {
   "cell_type": "markdown",
   "metadata": {},
   "source": [
    "# 주피터 노트북 사용법\n",
    "* Shift + Enter 키를 누르면 셀이 실행되고 커서가 다음셀로 이동.\n",
    "* Enter 키를 누르면 다시 편집상태로 돌아옴\n",
    "* ESC 키를 누르고\n",
    "    * a 키를 누르면 위에 셀 추가\n",
    "    * b 키를 ㄴ르면 아래 셀 추가\n",
    "    * dd키를 ㄴ르면 셀 삭제\n",
    "    * m 키를 누르면 문서 셀로 변경\n",
    "    * y 키를 누르면 코드 셀로\n",
    "    \n",
    " ## 마크다운이란?\n",
    " * 코드와 함께 문서화를 할 수 있음\n",
    " * 문서화 할 수 있는 '문법' 임.\n",
    " \n",
    "'''\n",
    " 여러 줄의 설명을\n",
    " 줄바꿈으로 쓰고자 할 때\n",
    "'''"
   ]
  },
  {
   "cell_type": "code",
   "execution_count": null,
   "metadata": {},
   "outputs": [],
   "source": [
    "print('hello world')"
   ]
  },
  {
   "cell_type": "code",
   "execution_count": null,
   "metadata": {},
   "outputs": [],
   "source": [
    "a=1\n",
    "b=1\n",
    "a+b"
   ]
  },
  {
   "cell_type": "code",
   "execution_count": null,
   "metadata": {},
   "outputs": [],
   "source": [
    "for i in range(100000000000):\n",
    "    print(i)"
   ]
  }
 ],
 "metadata": {
  "kernelspec": {
   "display_name": "Python 3",
   "language": "python",
   "name": "python3"
  },
  "language_info": {
   "codemirror_mode": {
    "name": "ipython",
    "version": 3
   },
   "file_extension": ".py",
   "mimetype": "text/x-python",
   "name": "python",
   "nbconvert_exporter": "python",
   "pygments_lexer": "ipython3",
   "version": "3.8.5"
  }
 },
 "nbformat": 4,
 "nbformat_minor": 4
}
