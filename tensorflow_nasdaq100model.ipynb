{
  "nbformat": 4,
  "nbformat_minor": 0,
  "metadata": {
    "colab": {
      "name": "학습이 잘 되는 모델",
      "provenance": [],
      "authorship_tag": "ABX9TyM3+jBeqS/1Bh6OtRqL0Gby",
      "include_colab_link": true
    },
    "kernelspec": {
      "name": "python3",
      "display_name": "Python 3"
    },
    "accelerator": "GPU"
  },
  "cells": [
    {
      "cell_type": "markdown",
      "metadata": {
        "id": "view-in-github",
        "colab_type": "text"
      },
      "source": [
        "<a href=\"https://colab.research.google.com/github/actpjk/python_workspace/blob/master/tensorflow_nasdaq100model.ipynb\" target=\"_parent\"><img src=\"https://colab.research.google.com/assets/colab-badge.svg\" alt=\"Open In Colab\"/></a>"
      ]
    },
    {
      "cell_type": "code",
      "metadata": {
        "id": "8tkfzrWJKm4L"
      },
      "source": [
        "import tensorflow as tf\n",
        "import pandas as pd\n",
        "import matplotlib as mlt\n",
        "import matplotlib.pyplot as plt\n",
        "import numpy as np\n",
        "\n",
        "%matplotlib inline\n"
      ],
      "execution_count": 101,
      "outputs": []
    },
    {
      "cell_type": "code",
      "metadata": {
        "id": "QkR7f6Z8K7P-",
        "colab": {
          "base_uri": "https://localhost:8080/",
          "height": 204
        },
        "outputId": "589cffa6-f94a-4951-d748-a7cea3076ab8"
      },
      "source": [
        "nq = pd.read_csv('/content/normalnqtrain.csv')\n",
        "nq.head()"
      ],
      "execution_count": 74,
      "outputs": [
        {
          "output_type": "execute_result",
          "data": {
            "text/html": [
              "<div>\n",
              "<style scoped>\n",
              "    .dataframe tbody tr th:only-of-type {\n",
              "        vertical-align: middle;\n",
              "    }\n",
              "\n",
              "    .dataframe tbody tr th {\n",
              "        vertical-align: top;\n",
              "    }\n",
              "\n",
              "    .dataframe thead th {\n",
              "        text-align: right;\n",
              "    }\n",
              "</style>\n",
              "<table border=\"1\" class=\"dataframe\">\n",
              "  <thead>\n",
              "    <tr style=\"text-align: right;\">\n",
              "      <th></th>\n",
              "      <th>expinf</th>\n",
              "      <th>highyield</th>\n",
              "      <th>m2</th>\n",
              "      <th>rgdp</th>\n",
              "      <th>house</th>\n",
              "      <th>10tminust2</th>\n",
              "      <th>unemp</th>\n",
              "      <th>nq100</th>\n",
              "    </tr>\n",
              "  </thead>\n",
              "  <tbody>\n",
              "    <tr>\n",
              "      <th>0</th>\n",
              "      <td>1.053159</td>\n",
              "      <td>-0.713687</td>\n",
              "      <td>-1.398564</td>\n",
              "      <td>-1.163399</td>\n",
              "      <td>0.096543</td>\n",
              "      <td>-1.423320</td>\n",
              "      <td>-0.727017</td>\n",
              "      <td>-0.886059</td>\n",
              "    </tr>\n",
              "    <tr>\n",
              "      <th>1</th>\n",
              "      <td>1.322769</td>\n",
              "      <td>-0.786861</td>\n",
              "      <td>-1.389905</td>\n",
              "      <td>-1.163399</td>\n",
              "      <td>0.096543</td>\n",
              "      <td>-1.559525</td>\n",
              "      <td>-0.681875</td>\n",
              "      <td>-0.901035</td>\n",
              "    </tr>\n",
              "    <tr>\n",
              "      <th>2</th>\n",
              "      <td>1.338750</td>\n",
              "      <td>-0.815774</td>\n",
              "      <td>-1.385125</td>\n",
              "      <td>-1.163399</td>\n",
              "      <td>0.096543</td>\n",
              "      <td>-1.457947</td>\n",
              "      <td>-0.727017</td>\n",
              "      <td>-0.888702</td>\n",
              "    </tr>\n",
              "    <tr>\n",
              "      <th>3</th>\n",
              "      <td>1.473701</td>\n",
              "      <td>-0.882187</td>\n",
              "      <td>-1.374931</td>\n",
              "      <td>-1.163399</td>\n",
              "      <td>0.096543</td>\n",
              "      <td>-1.331267</td>\n",
              "      <td>-0.727017</td>\n",
              "      <td>-0.889801</td>\n",
              "    </tr>\n",
              "    <tr>\n",
              "      <th>4</th>\n",
              "      <td>1.675933</td>\n",
              "      <td>-0.896703</td>\n",
              "      <td>-1.370922</td>\n",
              "      <td>-1.163399</td>\n",
              "      <td>0.096543</td>\n",
              "      <td>-1.285581</td>\n",
              "      <td>-0.772159</td>\n",
              "      <td>-0.934947</td>\n",
              "    </tr>\n",
              "  </tbody>\n",
              "</table>\n",
              "</div>"
            ],
            "text/plain": [
              "     expinf  highyield        m2  ...  10tminust2     unemp     nq100\n",
              "0  1.053159  -0.713687 -1.398564  ...   -1.423320 -0.727017 -0.886059\n",
              "1  1.322769  -0.786861 -1.389905  ...   -1.559525 -0.681875 -0.901035\n",
              "2  1.338750  -0.815774 -1.385125  ...   -1.457947 -0.727017 -0.888702\n",
              "3  1.473701  -0.882187 -1.374931  ...   -1.331267 -0.727017 -0.889801\n",
              "4  1.675933  -0.896703 -1.370922  ...   -1.285581 -0.772159 -0.934947\n",
              "\n",
              "[5 rows x 8 columns]"
            ]
          },
          "metadata": {
            "tags": []
          },
          "execution_count": 74
        }
      ]
    },
    {
      "cell_type": "code",
      "metadata": {
        "id": "bCWcNhP3LDfr"
      },
      "source": [
        "독립 = nq[['expinf','highyield','m2','rgdp','house','10tminust2','unemp']]\n",
        "종속 = nq[['nq100']]"
      ],
      "execution_count": 75,
      "outputs": []
    },
    {
      "cell_type": "code",
      "metadata": {
        "id": "VMyg3a-CLH5E"
      },
      "source": [
        "X = tf.keras.layers.Input(shape=[7])\n",
        "\n",
        "H = tf.keras.layers.Dense(5)(X)\n",
        "H = tf.keras.layers.BatchNormalization()(H)\n",
        "H = tf.keras.layers.Activation('swish')(H)\n",
        "\n",
        "H = tf.keras.layers.Dense(5)(H)\n",
        "H = tf.keras.layers.BatchNormalization()(H)\n",
        "H = tf.keras.layers.Activation('swish')(H)\n",
        "\n",
        "H = tf.keras.layers.Dense(5)(H)\n",
        "H = tf.keras.layers.BatchNormalization()(H)\n",
        "H = tf.keras.layers.Activation('swish')(H)\n",
        "\n",
        "H = tf.keras.layers.Dense(5)(H)\n",
        "H = tf.keras.layers.BatchNormalization()(H)\n",
        "H = tf.keras.layers.Activation('swish')(H)\n",
        "\n",
        "Y = tf.keras.layers.Dense(1)(H)\n",
        "model = tf.keras.models.Model(X, Y)\n",
        "model.compile(loss='mse', metrics='accuracy')"
      ],
      "execution_count": 78,
      "outputs": []
    },
    {
      "cell_type": "code",
      "metadata": {
        "id": "ucrtAzhEL41H"
      },
      "source": [
        "model.fit(독립, 종속, epochs=1000)"
      ],
      "execution_count": null,
      "outputs": []
    },
    {
      "cell_type": "code",
      "metadata": {
        "id": "_DkL9HnYL9Ur"
      },
      "source": [
        "pred = model.predict(독립)\n",
        "predr = pred.reshape(181,1)"
      ],
      "execution_count": 117,
      "outputs": []
    },
    {
      "cell_type": "code",
      "metadata": {
        "id": "JHl2-WqOMaIq",
        "colab": {
          "base_uri": "https://localhost:8080/"
        },
        "outputId": "6a273911-7977-4736-ca15-dd9d2feb9458"
      },
      "source": [
        "\r\n",
        "종속.shape\r\n",
        "print(종속[-5:-1])"
      ],
      "execution_count": 132,
      "outputs": [
        {
          "output_type": "stream",
          "text": [
            "        nq100\n",
            "176  2.731860\n",
            "177  2.595783\n",
            "178  3.048752\n",
            "179  3.279812\n"
          ],
          "name": "stdout"
        }
      ]
    },
    {
      "cell_type": "code",
      "metadata": {
        "colab": {
          "base_uri": "https://localhost:8080/",
          "height": 282
        },
        "id": "GTEmZS29Txvi",
        "outputId": "95175aab-dac2-4291-8f85-82b99cdabdc1"
      },
      "source": [
        "with plt.style.context('ggplot'):\r\n",
        "  plt.plot(x, predr, 'b-', linewidth=1, label='predict_data') # - solid\r\n",
        "  plt.plot(x, 종속, 'r--', linewidth=1, label='real_data') # -- 점선\r\n",
        "\r\n",
        "  plt.xlim(0, 10) # 최대 최소값\r\n",
        "  plt.ylim(-4, 4);\r\n",
        "  plt.title('nasdaq100_predict_model')\r\n",
        "  plt.ylabel('nasdaq100_normalized_size')\r\n",
        "  plt.legend(); # 범례 지정"
      ],
      "execution_count": 146,
      "outputs": [
        {
          "output_type": "display_data",
          "data": {
            "image/png": "[encoded data removed]",
            "text/plain": [
              "<Figure size 432x288 with 1 Axes>"
            ]
          },
          "metadata": {
            "tags": []
          }
        }
      ]
    }
  ]
}