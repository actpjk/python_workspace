{
 "cells": [
  {
   "cell_type": "code",
   "execution_count": 38,
   "metadata": {},
   "outputs": [],
   "source": [
    "import pandas as pd\n",
    "import os"
   ]
  },
  {
   "cell_type": "code",
   "execution_count": 43,
   "metadata": {},
   "outputs": [
    {
     "data": {
      "text/plain": [
       "7"
      ]
     },
     "execution_count": 43,
     "metadata": {},
     "output_type": "execute_result"
    }
   ],
   "source": [
    "len('GDP.csv')"
   ]
  },
  {
   "cell_type": "code",
   "execution_count": 58,
   "metadata": {},
   "outputs": [],
   "source": [
    "file_list, csv_file = os.listdir(), list()\n",
    "\n",
    "for file in file_list:\n",
    "    if len(file) == 6:\n",
    "        csv_file.append(file)"
   ]
  },
  {
   "cell_type": "code",
   "execution_count": 94,
   "metadata": {},
   "outputs": [],
   "source": [
    "for i,file in enumerate(csv_file):\n",
    "    firm = file.split('.')[0]\n",
    "    df = pd.read_csv(file, header = 7)\n",
    "    df = df.iloc[:,1:].set_index('감사의견')\n",
    "    df = df.loc['매출총이익(손실)']\n",
    "    df = df.reset_index().drop('index', axis = 1)\n",
    "    df.columns = [f'{firm}매출총이익(손실)']\n",
    "    df[f'{firm}매출총이익(손실)'] = df[f'{firm}매출총이익(손실)'].str.replace(',','').str.replace('.','')\n",
    "    df.astype(float)\n",
    "    if i == 0:\n",
    "        df_merge = df\n",
    "    elif i < len(csv_file):\n",
    "        df_merge = df.merge(df_merge, left_index = True, right_index=True, how='outer')\n",
    "    else:\n",
    "        pass"
   ]
  },
  {
   "cell_type": "code",
   "execution_count": 95,
   "metadata": {},
   "outputs": [
    {
     "data": {
      "text/html": [
       "<div>\n",
       "<style scoped>\n",
       "    .dataframe tbody tr th:only-of-type {\n",
       "        vertical-align: middle;\n",
       "    }\n",
       "\n",
       "    .dataframe tbody tr th {\n",
       "        vertical-align: top;\n",
       "    }\n",
       "\n",
       "    .dataframe thead th {\n",
       "        text-align: right;\n",
       "    }\n",
       "</style>\n",
       "<table border=\"1\" class=\"dataframe\">\n",
       "  <thead>\n",
       "    <tr style=\"text-align: right;\">\n",
       "      <th></th>\n",
       "      <th>안진매출총이익(손실)</th>\n",
       "      <th>삼정매출총이익(손실)</th>\n",
       "      <th>삼일매출총이익(손실)</th>\n",
       "    </tr>\n",
       "  </thead>\n",
       "  <tbody>\n",
       "    <tr>\n",
       "      <th>0</th>\n",
       "      <td>281221099000</td>\n",
       "      <td>266957162000</td>\n",
       "      <td>477405839000</td>\n",
       "    </tr>\n",
       "    <tr>\n",
       "      <th>1</th>\n",
       "      <td>292105126000</td>\n",
       "      <td>275919787000</td>\n",
       "      <td>459899541000</td>\n",
       "    </tr>\n",
       "    <tr>\n",
       "      <th>2</th>\n",
       "      <td>300610837000</td>\n",
       "      <td>300447458000</td>\n",
       "      <td>475729067000</td>\n",
       "    </tr>\n",
       "    <tr>\n",
       "      <th>3</th>\n",
       "      <td>308999227000</td>\n",
       "      <td>319074385000</td>\n",
       "      <td>504000780000</td>\n",
       "    </tr>\n",
       "    <tr>\n",
       "      <th>4</th>\n",
       "      <td>291912065000</td>\n",
       "      <td>382786512000</td>\n",
       "      <td>559679070000</td>\n",
       "    </tr>\n",
       "    <tr>\n",
       "      <th>5</th>\n",
       "      <td>69767330000</td>\n",
       "      <td>474342079000</td>\n",
       "      <td>109649904000</td>\n",
       "    </tr>\n",
       "    <tr>\n",
       "      <th>6</th>\n",
       "      <td>324661397000</td>\n",
       "      <td>561502981000</td>\n",
       "      <td>613116585000</td>\n",
       "    </tr>\n",
       "    <tr>\n",
       "      <th>7</th>\n",
       "      <td>345342194000</td>\n",
       "      <td>NaN</td>\n",
       "      <td>684750463000</td>\n",
       "    </tr>\n",
       "  </tbody>\n",
       "</table>\n",
       "</div>"
      ],
      "text/plain": [
       "    안진매출총이익(손실)   삼정매출총이익(손실)   삼일매출총이익(손실)\n",
       "0  281221099000  266957162000  477405839000\n",
       "1  292105126000  275919787000  459899541000\n",
       "2  300610837000  300447458000  475729067000\n",
       "3  308999227000  319074385000  504000780000\n",
       "4  291912065000  382786512000  559679070000\n",
       "5   69767330000  474342079000  109649904000\n",
       "6  324661397000  561502981000  613116585000\n",
       "7  345342194000           NaN  684750463000"
      ]
     },
     "execution_count": 95,
     "metadata": {},
     "output_type": "execute_result"
    }
   ],
   "source": [
    "df_merge"
   ]
  },
  {
   "cell_type": "code",
   "execution_count": 96,
   "metadata": {},
   "outputs": [],
   "source": [
    "df_merge.to_csv('타회사매출총이익.csv')"
   ]
  }
 ],
 "metadata": {
  "kernelspec": {
   "display_name": "Python 3",
   "language": "python",
   "name": "python3"
  },
  "language_info": {
   "codemirror_mode": {
    "name": "ipython",
    "version": 3
   },
   "file_extension": ".py",
   "mimetype": "text/x-python",
   "name": "python",
   "nbconvert_exporter": "python",
   "pygments_lexer": "ipython3",
   "version": "3.8.5"
  },
  "toc": {
   "base_numbering": 1,
   "nav_menu": {},
   "number_sections": true,
   "sideBar": true,
   "skip_h1_title": false,
   "title_cell": "Table of Contents",
   "title_sidebar": "Contents",
   "toc_cell": false,
   "toc_position": {},
   "toc_section_display": true,
   "toc_window_display": false
  },
  "varInspector": {
   "cols": {
    "lenName": 16,
    "lenType": 16,
    "lenVar": 40
   },
   "kernels_config": {
    "python": {
     "delete_cmd_postfix": "",
     "delete_cmd_prefix": "del ",
     "library": "var_list.py",
     "varRefreshCmd": "print(var_dic_list())"
    },
    "r": {
     "delete_cmd_postfix": ") ",
     "delete_cmd_prefix": "rm(",
     "library": "var_list.r",
     "varRefreshCmd": "cat(var_dic_list()) "
    }
   },
   "types_to_exclude": [
    "module",
    "function",
    "builtin_function_or_method",
    "instance",
    "_Feature"
   ],
   "window_display": false
  }
 },
 "nbformat": 4,
 "nbformat_minor": 4
}
