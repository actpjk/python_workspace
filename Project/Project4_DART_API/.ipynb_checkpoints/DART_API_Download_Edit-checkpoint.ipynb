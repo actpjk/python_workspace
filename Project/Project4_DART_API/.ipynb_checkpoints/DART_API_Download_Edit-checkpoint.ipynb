{
 "cells": [
  {
   "cell_type": "markdown",
   "metadata": {},
   "source": [
    "# DART 보험사 재무제표 자동 다운로드 및 데이터 통합 프로그램 개발"
   ]
  },
  {
   "cell_type": "code",
   "execution_count": 1,
   "metadata": {},
   "outputs": [],
   "source": [
    "from bs4 import BeautifulSoup\n",
    "from selenium import webdriver\n",
    "import requests\n",
    "import re\n",
    "import pandas as pd\n",
    "import time\n",
    "import matplotlib.pyplot as plt\n",
    "from IPython.display import set_matplotlib_formats\n",
    "import OpenDartReader\n",
    "import os\n",
    "import seaborn as sns\n",
    "import sys"
   ]
  },
  {
   "cell_type": "code",
   "execution_count": 2,
   "metadata": {},
   "outputs": [],
   "source": [
    "api_key = 'your api key' # 본인의 api key 입력\n",
    "dart = OpenDartReader(api_key)\n",
    "\n",
    "sys.maxsize\n",
    "set_matplotlib_formats('retina')\n",
    "pd.options.display.max_rows = 50\n",
    "plt.rc('font', family='Malgun Gothic')\n",
    "plt.rc('axes', unicode_minus = False)\n",
    "\n",
    "pd.options.display.float_format = '{:.2f}'.format\n",
    "pd.options.display.max_columns = 60\n",
    "pd.options.display.max_rows = 100\n",
    "\n",
    "headers = {'user-agent':'Mozilla/5.0 (Windows NT 10.0; Win64; x64) AppleWebKit/537.36 (KHTML, like Gecko) Chrome/88.0.4324.104 Safari/537.36'}\n",
    "options = webdriver.ChromeOptions()\n",
    "options.headless = True\n",
    "options.add_argument('window-size=1920x1080')\n",
    "options.add_argument('user-agent=Mozilla/5.0 (Windows NT 10.0; Win64; x64) AppleWebKit/537.36 (KHTML, like Gecko) Chrome/87.0.4280.88 Safari/537.36')"
   ]
  },
  {
   "cell_type": "markdown",
   "metadata": {},
   "source": [
    "#  opendart 이용, 보고서 이름과 rcept_no, 회사 이름 리스트 형식 변환"
   ]
  },
  {
   "cell_type": "code",
   "execution_count": 3,
   "metadata": {},
   "outputs": [],
   "source": [
    "corp_code = {'삼성생명':'032830',\n",
    "            '한화생명':'088350',\n",
    "            '미래에셋생명':'085620'}\n",
    "\n",
    "# 분석하고자 하는 회사 명\n",
    "\n",
    "dart_list = dart.list(corp_code['삼성생명'], start='1999-01-01', kind='A') \n",
    "\n",
    "\n",
    "# 몇 기간의 데이터를 가져올 건지\n",
    "\n",
    "data_size = 5\n",
    "\n",
    "\n",
    "\n",
    "# 보고서 기간 타입 결정\n",
    "\n",
    "report_type_dict = {\n",
    "    '사업보고서':'A001',\n",
    "    '반기보고서':'A002',\n",
    "    '분기보고서':'A003',\n",
    "}\n",
    "\n",
    "report_type_selected = list(report_type_dict.keys())[1]\n",
    "\n",
    "dart_list = dart_list[['corp_name','report_nm','rcept_no']]\n",
    "dart_list_selected = dart_list[dart_list['report_nm'].str.contains(report_type_selected)].copy()"
   ]
  },
  {
   "cell_type": "code",
   "execution_count": 4,
   "metadata": {},
   "outputs": [],
   "source": [
    "corp_nms = list(dart_list_selected['corp_name'])\n",
    "corp_nm = corp_nms[0] # 회사 이름 ex) 삼성생명\n",
    "\n",
    "report_nms = list(dart_list_selected['report_nm'])\n",
    "report_nm = report_nms[0] # 리포트 이름 ex) 반기보고서 (2020.09)\n",
    "\n",
    "# 분석하려는 보고서 유형 선택\n",
    "\n",
    "search_df_nms = ['연결 포괄손익계산서','연결 재무상태표','현금흐름표','자본변동표']\n",
    "search_df_nm = f'{corp_nm} {search_df_nms[0]}'\n",
    "\n",
    "rcept_nos = list(dart_list_selected['rcept_no'])"
   ]
  },
  {
   "cell_type": "code",
   "execution_count": 5,
   "metadata": {},
   "outputs": [],
   "source": [
    "date_list = list(dart_list_selected['report_nm'].str.split(' ').str[-1])\n",
    "\n",
    "date_list_mod=[]\n",
    "\n",
    "for i, val in enumerate(date_list):\n",
    "    date = date_list[i].replace('(','').replace(')','')\n",
    "    date_list_mod.append(date)"
   ]
  },
  {
   "cell_type": "code",
   "execution_count": 6,
   "metadata": {},
   "outputs": [],
   "source": [
    "df_date = pd.Series(date_list_mod)"
   ]
  },
  {
   "cell_type": "markdown",
   "metadata": {},
   "source": [
    "# url 딕셔너리 설정"
   ]
  },
  {
   "cell_type": "code",
   "execution_count": 7,
   "metadata": {},
   "outputs": [],
   "source": [
    "urls = []\n",
    "\n",
    "for rcpNo in rcept_nos:\n",
    "    url = 'http://dart.fss.or.kr/dsaf001/main.do?rcpNo={}'.format(rcpNo)\n",
    "\n",
    "    params = {\n",
    "        'crtfc_key' : '31718c7bf232574ee78e6f3f81c922043baad322',\n",
    "        'corp_code' : '032830',\n",
    "        'bgn_de' : '19990101',\n",
    "        'pblntf_detail_ty': '{}'.format(report_type_dict[report_type_selected]),\n",
    "        'page_count': '100',\n",
    "    }\n",
    "\n",
    "    res = requests.get(url,params=params, headers = headers)\n",
    "    res.raise_for_status()\n",
    "    \n",
    "    urls.append(res.url)"
   ]
  },
  {
   "cell_type": "markdown",
   "metadata": {},
   "source": [
    "# 제무제표 데이터 추출"
   ]
  },
  {
   "cell_type": "markdown",
   "metadata": {},
   "source": [
    "## 재무제표 파일 다운로드하는 data_to_csv 함수 만들기"
   ]
  },
  {
   "cell_type": "markdown",
   "metadata": {},
   "source": [
    "### selenium 활용 파일 다운로드 함수"
   ]
  },
  {
   "cell_type": "code",
   "execution_count": 8,
   "metadata": {
    "scrolled": true
   },
   "outputs": [],
   "source": [
    "def rawdata_to_csv(urls):\n",
    "    for i, url in enumerate(urls):\n",
    "        browser = webdriver.Chrome(options = options)\n",
    "        browser.maximize_window()\n",
    "        browser.get(url)\n",
    "\n",
    "        browser.find_element_by_xpath('//*[@id=\"ext-gen10\"]/div/li[5]/ul/li[2]/div/a/span').click()\n",
    "        iframes = browser.find_elements_by_tag_name('iframe')\n",
    "        browser.switch_to.frame(iframes[0])\n",
    "        html = browser.page_source\n",
    "\n",
    "        report_nm = report_nms[i]\n",
    "        tables = pd.read_html(html)\n",
    "\n",
    "        df_list= list()\n",
    "\n",
    "        for idx, v in enumerate(tables):\n",
    "            if idx in [0,2,4,6]:\n",
    "                pass\n",
    "            else:\n",
    "                df = tables[idx]\n",
    "                df_list.append(df)\n",
    "\n",
    "            for index, value in enumerate(df_list):\n",
    "                if index == 0:\n",
    "                    df_nm = '연결 재무상태표'\n",
    "                elif index == 1:\n",
    "                    df_nm = '연결 포괄손익계산서'\n",
    "                elif index == 2:\n",
    "                    df_nm = '자본변동표'\n",
    "                else:\n",
    "                    df_nm = '현금흐름표'\n",
    "\n",
    "                df_list[index].to_csv(f'{corp_nm} {df_nm} {report_nm}.csv', encoding='utf-8-sig')\n",
    "    browser.quit()"
   ]
  },
  {
   "cell_type": "markdown",
   "metadata": {},
   "source": [
    "### url 사이즈 선택"
   ]
  },
  {
   "cell_type": "code",
   "execution_count": 9,
   "metadata": {},
   "outputs": [],
   "source": [
    "urls = urls[:data_size]\n",
    "rawdata_to_csv(urls)"
   ]
  },
  {
   "cell_type": "markdown",
   "metadata": {},
   "source": [
    "# 재무제표 데이터 수정, 병합, 통합 파일 전처리 및 저장"
   ]
  },
  {
   "cell_type": "markdown",
   "metadata": {},
   "source": [
    "## merge 위해 데이터 수정"
   ]
  },
  {
   "cell_type": "code",
   "execution_count": 10,
   "metadata": {},
   "outputs": [
    {
     "data": {
      "text/plain": [
       "['삼성생명 연결 포괄손익계산서 반기보고서 (2016.06).csv',\n",
       " '삼성생명 연결 포괄손익계산서 반기보고서 (2017.06).csv',\n",
       " '삼성생명 연결 포괄손익계산서 반기보고서 (2018.06).csv',\n",
       " '삼성생명 연결 포괄손익계산서 반기보고서 (2019.06).csv',\n",
       " '삼성생명 연결 포괄손익계산서 반기보고서 (2020.06).csv']"
      ]
     },
     "execution_count": 10,
     "metadata": {},
     "output_type": "execute_result"
    }
   ],
   "source": [
    "data_list = os.listdir()\n",
    "\n",
    "match_list = list()\n",
    "\n",
    "for df_nm in data_list:\n",
    "    if search_df_nm in df_nm:\n",
    "        match_list.append(df_nm)\n",
    "        \n",
    "match_list      "
   ]
  },
  {
   "cell_type": "markdown",
   "metadata": {},
   "source": [
    "## 데이터 전처리 후 통합 및 파일 저장"
   ]
  },
  {
   "cell_type": "markdown",
   "metadata": {},
   "source": [
    "### 다운로드 받은 raw data read후 전처리"
   ]
  },
  {
   "cell_type": "code",
   "execution_count": 11,
   "metadata": {},
   "outputs": [],
   "source": [
    "# 한화생명 단위 : 원\n",
    "# 삼성생명 단위 : 백만 원 , 단위 모두 백만 원으로 처리하자.\n",
    "# 윗 줄 기존 코드 open 에 백업함\n",
    "\n",
    "df_list = list()\n",
    "\n",
    "for i, df_nm in enumerate(match_list):\n",
    "    df = pd.read_csv('./{}'.format(df_nm), encoding='utf-8-sig')\n",
    "    if corp_nm == '삼성생명':\n",
    "        df = df.iloc[:,1:3]\n",
    "        df = df[df['과 목'].notnull()]\n",
    "    else:\n",
    "        df = df.drop(0) # 타보험사 수정\n",
    "        df = df.iloc[:,1:5].drop('주 석', axis=1)\n",
    "        df = df.iloc[:,::2]\n",
    "\n",
    "    df['과 목'] = df['과 목'].str.split('.').str[-1]\n",
    "    df['과 목'] = df['과 목'].str.split('(').str[0]\n",
    "    df['과 목'] = df['과 목'].str.strip().copy()\n",
    "    df.rename(columns = {'과 목' : '과목'}, inplace = True)\n",
    "    df_list.append(df)"
   ]
  },
  {
   "cell_type": "markdown",
   "metadata": {},
   "source": [
    "### colunm to index"
   ]
  },
  {
   "cell_type": "code",
   "execution_count": 12,
   "metadata": {},
   "outputs": [],
   "source": [
    "df_list_index = list()\n",
    "\n",
    "for i, val in enumerate(df_list):\n",
    "    df_index = df_list[i].set_index('과목').copy()\n",
    "    df_list_index.append(df_index)"
   ]
  },
  {
   "cell_type": "markdown",
   "metadata": {},
   "source": [
    "### join 으로 data 통합 ( 각 보고 시점에만 존재하는 계정들은 제외, merge 에서 left, right_index = True & how = 'inner'와 같음)"
   ]
  },
  {
   "cell_type": "code",
   "execution_count": 13,
   "metadata": {},
   "outputs": [],
   "source": [
    "for i, val in enumerate(df_list_index):\n",
    "    if i == 0:\n",
    "        df_join = df_list_index[i]\n",
    "    elif i <= len(df_list_index):\n",
    "        df_join = df_join.join(df_list_index[i])\n",
    "    else:\n",
    "        continue"
   ]
  },
  {
   "cell_type": "markdown",
   "metadata": {},
   "source": [
    "## 통합 파일 전처리"
   ]
  },
  {
   "cell_type": "markdown",
   "metadata": {},
   "source": [
    "### 중복행 제거 및 칼럼 날짜 데이터로 변경"
   ]
  },
  {
   "cell_type": "code",
   "execution_count": 14,
   "metadata": {},
   "outputs": [],
   "source": [
    "df_date_cols = df_date.loc[:len(match_list)-1].sort_index(ascending=False)"
   ]
  },
  {
   "cell_type": "code",
   "execution_count": 15,
   "metadata": {},
   "outputs": [],
   "source": [
    "date_cols = pd.to_datetime(df_date_cols)\n",
    "df_join = df_join.reset_index().copy()\n",
    "df_join_dup = df_join.drop_duplicates('과목', keep=\"first\").copy()\n",
    "df_join_dup = df_join_dup.set_index(['과목']).copy()\n",
    "df_join_dup.columns = df_date_cols"
   ]
  },
  {
   "cell_type": "markdown",
   "metadata": {},
   "source": [
    "### 데이터프레임 transpose 및 내부 데이터 int 형으로 변경"
   ]
  },
  {
   "cell_type": "code",
   "execution_count": 16,
   "metadata": {},
   "outputs": [],
   "source": [
    "def str_to_int(x):\n",
    "    if isinstance(x, str):\n",
    "        x = x.replace('-','0')\n",
    "        x = x.replace('(','-')\n",
    "        x = x.replace(')','')\n",
    "        x = x.replace(',','')\n",
    "        x = int(x)\n",
    "    return x"
   ]
  },
  {
   "cell_type": "code",
   "execution_count": 17,
   "metadata": {},
   "outputs": [],
   "source": [
    "df_join_t = df_join_dup.T.fillna(0)\n",
    "for i in range(len(df_join_t.index)):\n",
    "    df_join_t.iloc[i] = df_join_t.iloc[i].apply(str_to_int)"
   ]
  },
  {
   "cell_type": "markdown",
   "metadata": {},
   "source": [
    "### 데이터 단위 백만 원으로 변경"
   ]
  },
  {
   "cell_type": "code",
   "execution_count": 18,
   "metadata": {
    "scrolled": true
   },
   "outputs": [],
   "source": [
    "if corp_nm == '한화생명':\n",
    "    df_join_t = df_join_t / 1000000"
   ]
  },
  {
   "cell_type": "code",
   "execution_count": 19,
   "metadata": {
    "scrolled": true
   },
   "outputs": [],
   "source": [
    "df_join_t = df_join_t.astype(int).copy()"
   ]
  },
  {
   "cell_type": "code",
   "execution_count": 20,
   "metadata": {
    "scrolled": true
   },
   "outputs": [],
   "source": [
    "df_join_t = df_join_t.reset_index()"
   ]
  },
  {
   "cell_type": "code",
   "execution_count": 21,
   "metadata": {},
   "outputs": [],
   "source": [
    "df_join_t.insert(0, '회사명', corp_nm)"
   ]
  },
  {
   "cell_type": "code",
   "execution_count": 22,
   "metadata": {},
   "outputs": [
    {
     "data": {
      "text/html": [
       "<div>\n",
       "<style scoped>\n",
       "    .dataframe tbody tr th:only-of-type {\n",
       "        vertical-align: middle;\n",
       "    }\n",
       "\n",
       "    .dataframe tbody tr th {\n",
       "        vertical-align: top;\n",
       "    }\n",
       "\n",
       "    .dataframe thead th {\n",
       "        text-align: right;\n",
       "    }\n",
       "</style>\n",
       "<table border=\"1\" class=\"dataframe\">\n",
       "  <thead>\n",
       "    <tr style=\"text-align: right;\">\n",
       "      <th>과목</th>\n",
       "      <th>회사명</th>\n",
       "      <th>index</th>\n",
       "      <th>관계기업의 기타포괄손익지분</th>\n",
       "      <th>기본주당이익</th>\n",
       "      <th>기타영업비용</th>\n",
       "      <th>기타영업수익</th>\n",
       "      <th>당기손익으로 재분류되지 않는 포괄손익</th>\n",
       "      <th>당기손익인식금융자산관련손실</th>\n",
       "      <th>당기손익인식금융자산관련이익</th>\n",
       "      <th>당기연결순이익</th>\n",
       "      <th>당기연결순이익의 귀속</th>\n",
       "      <th>당기연결총포괄손익</th>\n",
       "      <th>당기연결총포괄손익의 귀속</th>\n",
       "      <th>대출채권및기타수취채권관련손실</th>\n",
       "      <th>대출채권및기타수취채권관련이익</th>\n",
       "      <th>리스수익</th>\n",
       "      <th>만기보유금융자산평가손익</th>\n",
       "      <th>매도가능금융자산관련손실</th>\n",
       "      <th>매도가능금융자산관련이익</th>\n",
       "      <th>매도가능금융자산평가손익</th>\n",
       "      <th>배당금수익</th>\n",
       "      <th>법인세비용</th>\n",
       "      <th>법인세비용차감전연결순이익</th>\n",
       "      <th>법인세비용차감후기타포괄손익</th>\n",
       "      <th>보험료수익</th>\n",
       "      <th>비지배지분</th>\n",
       "      <th>사업비</th>\n",
       "      <th>수수료수익</th>\n",
       "      <th>순확정급여부채 재측정요소</th>\n",
       "      <th>신계약비상각비</th>\n",
       "      <th>영업비용</th>\n",
       "      <th>영업수익</th>\n",
       "      <th>영업외비용</th>\n",
       "      <th>영업외수익</th>\n",
       "      <th>영업이익</th>\n",
       "      <th>외환거래손실</th>\n",
       "      <th>외환거래이익</th>\n",
       "      <th>위험회피목적파생상품관련손실</th>\n",
       "      <th>위험회피목적파생상품관련이익</th>\n",
       "      <th>위험회피목적파생상품평가손익</th>\n",
       "      <th>이자비용</th>\n",
       "      <th>이자수익</th>\n",
       "      <th>임대료수익</th>\n",
       "      <th>재보험비용</th>\n",
       "      <th>재보험수익</th>\n",
       "      <th>재산관리비</th>\n",
       "      <th>지급보험금</th>\n",
       "      <th>지배기업의소유지분</th>\n",
       "      <th>지배기업주주지분에대한 주당이익</th>\n",
       "      <th>책임준비금전입액</th>\n",
       "      <th>특별계정기타포괄손익</th>\n",
       "      <th>특별계정비용</th>\n",
       "      <th>특별계정수익</th>\n",
       "      <th>특별계정수입수수료</th>\n",
       "      <th>해외사업환산손익</th>\n",
       "      <th>후속적으로 당기손익으로 재분류될 수 있는 포괄손익</th>\n",
       "      <th>희석주당이익</th>\n",
       "    </tr>\n",
       "  </thead>\n",
       "  <tbody>\n",
       "    <tr>\n",
       "      <th>0</th>\n",
       "      <td>삼성생명</td>\n",
       "      <td>2016.06</td>\n",
       "      <td>9126</td>\n",
       "      <td>8690</td>\n",
       "      <td>855893</td>\n",
       "      <td>94245</td>\n",
       "      <td>-13802</td>\n",
       "      <td>179581</td>\n",
       "      <td>216731</td>\n",
       "      <td>1620892</td>\n",
       "      <td>1620892</td>\n",
       "      <td>4794702</td>\n",
       "      <td>4794702</td>\n",
       "      <td>149564</td>\n",
       "      <td>0</td>\n",
       "      <td>137481</td>\n",
       "      <td>-152</td>\n",
       "      <td>21039</td>\n",
       "      <td>57931</td>\n",
       "      <td>3229880</td>\n",
       "      <td>362919</td>\n",
       "      <td>337451</td>\n",
       "      <td>1958343</td>\n",
       "      <td>3173810</td>\n",
       "      <td>8377590</td>\n",
       "      <td>51341</td>\n",
       "      <td>732578</td>\n",
       "      <td>1001789</td>\n",
       "      <td>-13802</td>\n",
       "      <td>1054421</td>\n",
       "      <td>14148406</td>\n",
       "      <td>15145310</td>\n",
       "      <td>942678</td>\n",
       "      <td>1904117</td>\n",
       "      <td>996904</td>\n",
       "      <td>193243</td>\n",
       "      <td>165434</td>\n",
       "      <td>119078</td>\n",
       "      <td>149615</td>\n",
       "      <td>-24662</td>\n",
       "      <td>176106</td>\n",
       "      <td>3315433</td>\n",
       "      <td>227742</td>\n",
       "      <td>150886</td>\n",
       "      <td>125460</td>\n",
       "      <td>657863</td>\n",
       "      <td>5262859</td>\n",
       "      <td>1569551</td>\n",
       "      <td>0</td>\n",
       "      <td>4386344</td>\n",
       "      <td>16985</td>\n",
       "      <td>208951</td>\n",
       "      <td>208951</td>\n",
       "      <td>703989</td>\n",
       "      <td>-43565</td>\n",
       "      <td>3187612</td>\n",
       "      <td>8690</td>\n",
       "    </tr>\n",
       "    <tr>\n",
       "      <th>1</th>\n",
       "      <td>삼성생명</td>\n",
       "      <td>2017.06</td>\n",
       "      <td>3168</td>\n",
       "      <td>5272</td>\n",
       "      <td>1448467</td>\n",
       "      <td>147687</td>\n",
       "      <td>213</td>\n",
       "      <td>179718</td>\n",
       "      <td>272991</td>\n",
       "      <td>0</td>\n",
       "      <td>0</td>\n",
       "      <td>0</td>\n",
       "      <td>0</td>\n",
       "      <td>129889</td>\n",
       "      <td>0</td>\n",
       "      <td>134734</td>\n",
       "      <td>102</td>\n",
       "      <td>2055</td>\n",
       "      <td>66642</td>\n",
       "      <td>2767311</td>\n",
       "      <td>539890</td>\n",
       "      <td>323192</td>\n",
       "      <td>1324037</td>\n",
       "      <td>2804258</td>\n",
       "      <td>8510477</td>\n",
       "      <td>54118</td>\n",
       "      <td>761215</td>\n",
       "      <td>1092732</td>\n",
       "      <td>213</td>\n",
       "      <td>1030751</td>\n",
       "      <td>14931385</td>\n",
       "      <td>16273490</td>\n",
       "      <td>98984</td>\n",
       "      <td>80916</td>\n",
       "      <td>1342105</td>\n",
       "      <td>632269</td>\n",
       "      <td>275762</td>\n",
       "      <td>237884</td>\n",
       "      <td>549897</td>\n",
       "      <td>8229</td>\n",
       "      <td>209902</td>\n",
       "      <td>3344053</td>\n",
       "      <td>207473</td>\n",
       "      <td>165789</td>\n",
       "      <td>135256</td>\n",
       "      <td>165181</td>\n",
       "      <td>5705602</td>\n",
       "      <td>946727</td>\n",
       "      <td>0</td>\n",
       "      <td>0</td>\n",
       "      <td>1074</td>\n",
       "      <td>228538</td>\n",
       "      <td>228538</td>\n",
       "      <td>767358</td>\n",
       "      <td>41249</td>\n",
       "      <td>2804471</td>\n",
       "      <td>5272</td>\n",
       "    </tr>\n",
       "    <tr>\n",
       "      <th>2</th>\n",
       "      <td>삼성생명</td>\n",
       "      <td>2018.06</td>\n",
       "      <td>9170</td>\n",
       "      <td>8052</td>\n",
       "      <td>1622828</td>\n",
       "      <td>116167</td>\n",
       "      <td>-2397</td>\n",
       "      <td>240423</td>\n",
       "      <td>186422</td>\n",
       "      <td>0</td>\n",
       "      <td>0</td>\n",
       "      <td>0</td>\n",
       "      <td>0</td>\n",
       "      <td>181988</td>\n",
       "      <td>0</td>\n",
       "      <td>171498</td>\n",
       "      <td>-16</td>\n",
       "      <td>5794</td>\n",
       "      <td>1220216</td>\n",
       "      <td>-2416129</td>\n",
       "      <td>646013</td>\n",
       "      <td>530678</td>\n",
       "      <td>2020422</td>\n",
       "      <td>-2245505</td>\n",
       "      <td>8050874</td>\n",
       "      <td>43805</td>\n",
       "      <td>1106063</td>\n",
       "      <td>1159502</td>\n",
       "      <td>-2397</td>\n",
       "      <td>775511</td>\n",
       "      <td>15249677</td>\n",
       "      <td>17242041</td>\n",
       "      <td>77543</td>\n",
       "      <td>105601</td>\n",
       "      <td>1992364</td>\n",
       "      <td>195415</td>\n",
       "      <td>630627</td>\n",
       "      <td>503985</td>\n",
       "      <td>158156</td>\n",
       "      <td>102555</td>\n",
       "      <td>227511</td>\n",
       "      <td>3470276</td>\n",
       "      <td>205924</td>\n",
       "      <td>186463</td>\n",
       "      <td>145802</td>\n",
       "      <td>161555</td>\n",
       "      <td>6572643</td>\n",
       "      <td>1445939</td>\n",
       "      <td>0</td>\n",
       "      <td>0</td>\n",
       "      <td>10189</td>\n",
       "      <td>258427</td>\n",
       "      <td>258427</td>\n",
       "      <td>822137</td>\n",
       "      <td>51123</td>\n",
       "      <td>-2243108</td>\n",
       "      <td>8052</td>\n",
       "    </tr>\n",
       "    <tr>\n",
       "      <th>3</th>\n",
       "      <td>삼성생명</td>\n",
       "      <td>2019.06</td>\n",
       "      <td>8988</td>\n",
       "      <td>4213</td>\n",
       "      <td>1323165</td>\n",
       "      <td>313344</td>\n",
       "      <td>0</td>\n",
       "      <td>302728</td>\n",
       "      <td>475889</td>\n",
       "      <td>0</td>\n",
       "      <td>0</td>\n",
       "      <td>0</td>\n",
       "      <td>0</td>\n",
       "      <td>214226</td>\n",
       "      <td>0</td>\n",
       "      <td>178864</td>\n",
       "      <td>0</td>\n",
       "      <td>31459</td>\n",
       "      <td>121911</td>\n",
       "      <td>4733241</td>\n",
       "      <td>604232</td>\n",
       "      <td>258400</td>\n",
       "      <td>1052433</td>\n",
       "      <td>4876889</td>\n",
       "      <td>8057682</td>\n",
       "      <td>37427</td>\n",
       "      <td>1121236</td>\n",
       "      <td>852283</td>\n",
       "      <td>-863</td>\n",
       "      <td>735140</td>\n",
       "      <td>15517571</td>\n",
       "      <td>16487162</td>\n",
       "      <td>10449</td>\n",
       "      <td>93291</td>\n",
       "      <td>969591</td>\n",
       "      <td>123120</td>\n",
       "      <td>725992</td>\n",
       "      <td>567226</td>\n",
       "      <td>89590</td>\n",
       "      <td>-23181</td>\n",
       "      <td>354381</td>\n",
       "      <td>3574014</td>\n",
       "      <td>232088</td>\n",
       "      <td>215089</td>\n",
       "      <td>164906</td>\n",
       "      <td>150196</td>\n",
       "      <td>7272903</td>\n",
       "      <td>756606</td>\n",
       "      <td>0</td>\n",
       "      <td>0</td>\n",
       "      <td>102136</td>\n",
       "      <td>271521</td>\n",
       "      <td>271521</td>\n",
       "      <td>824846</td>\n",
       "      <td>56568</td>\n",
       "      <td>0</td>\n",
       "      <td>4213</td>\n",
       "    </tr>\n",
       "    <tr>\n",
       "      <th>4</th>\n",
       "      <td>삼성생명</td>\n",
       "      <td>2020.06</td>\n",
       "      <td>6588</td>\n",
       "      <td>3779</td>\n",
       "      <td>1276346</td>\n",
       "      <td>264171</td>\n",
       "      <td>0</td>\n",
       "      <td>723402</td>\n",
       "      <td>1062924</td>\n",
       "      <td>0</td>\n",
       "      <td>0</td>\n",
       "      <td>0</td>\n",
       "      <td>0</td>\n",
       "      <td>213223</td>\n",
       "      <td>0</td>\n",
       "      <td>147463</td>\n",
       "      <td>0</td>\n",
       "      <td>139906</td>\n",
       "      <td>398839</td>\n",
       "      <td>-150419</td>\n",
       "      <td>544292</td>\n",
       "      <td>214231</td>\n",
       "      <td>940650</td>\n",
       "      <td>-87162</td>\n",
       "      <td>8555192</td>\n",
       "      <td>47892</td>\n",
       "      <td>1011685</td>\n",
       "      <td>830274</td>\n",
       "      <td>-1835</td>\n",
       "      <td>642157</td>\n",
       "      <td>17085437</td>\n",
       "      <td>18010079</td>\n",
       "      <td>39576</td>\n",
       "      <td>55584</td>\n",
       "      <td>924642</td>\n",
       "      <td>296144</td>\n",
       "      <td>878048</td>\n",
       "      <td>643646</td>\n",
       "      <td>197747</td>\n",
       "      <td>-50846</td>\n",
       "      <td>258323</td>\n",
       "      <td>3558984</td>\n",
       "      <td>190537</td>\n",
       "      <td>245650</td>\n",
       "      <td>180755</td>\n",
       "      <td>138020</td>\n",
       "      <td>7060382</td>\n",
       "      <td>678527</td>\n",
       "      <td>0</td>\n",
       "      <td>0</td>\n",
       "      <td>58803</td>\n",
       "      <td>403214</td>\n",
       "      <td>403214</td>\n",
       "      <td>797639</td>\n",
       "      <td>50547</td>\n",
       "      <td>0</td>\n",
       "      <td>3779</td>\n",
       "    </tr>\n",
       "  </tbody>\n",
       "</table>\n",
       "</div>"
      ],
      "text/plain": [
       "과목   회사명    index  관계기업의 기타포괄손익지분  기본주당이익   기타영업비용  기타영업수익  \\\n",
       "0   삼성생명  2016.06            9126    8690   855893   94245   \n",
       "1   삼성생명  2017.06            3168    5272  1448467  147687   \n",
       "2   삼성생명  2018.06            9170    8052  1622828  116167   \n",
       "3   삼성생명  2019.06            8988    4213  1323165  313344   \n",
       "4   삼성생명  2020.06            6588    3779  1276346  264171   \n",
       "\n",
       "과목  당기손익으로 재분류되지 않는 포괄손익  당기손익인식금융자산관련손실  당기손익인식금융자산관련이익  당기연결순이익  \\\n",
       "0                 -13802          179581          216731  1620892   \n",
       "1                    213          179718          272991        0   \n",
       "2                  -2397          240423          186422        0   \n",
       "3                      0          302728          475889        0   \n",
       "4                      0          723402         1062924        0   \n",
       "\n",
       "과목  당기연결순이익의 귀속  당기연결총포괄손익  당기연결총포괄손익의 귀속  대출채권및기타수취채권관련손실  대출채권및기타수취채권관련이익  \\\n",
       "0       1620892    4794702        4794702           149564                0   \n",
       "1             0          0              0           129889                0   \n",
       "2             0          0              0           181988                0   \n",
       "3             0          0              0           214226                0   \n",
       "4             0          0              0           213223                0   \n",
       "\n",
       "과목    리스수익  만기보유금융자산평가손익  매도가능금융자산관련손실  매도가능금융자산관련이익  매도가능금융자산평가손익   배당금수익  \\\n",
       "0   137481          -152         21039         57931       3229880  362919   \n",
       "1   134734           102          2055         66642       2767311  539890   \n",
       "2   171498           -16          5794       1220216      -2416129  646013   \n",
       "3   178864             0         31459        121911       4733241  604232   \n",
       "4   147463             0        139906        398839       -150419  544292   \n",
       "\n",
       "과목   법인세비용  법인세비용차감전연결순이익  법인세비용차감후기타포괄손익    보험료수익  비지배지분      사업비    수수료수익  \\\n",
       "0   337451        1958343         3173810  8377590  51341   732578  1001789   \n",
       "1   323192        1324037         2804258  8510477  54118   761215  1092732   \n",
       "2   530678        2020422        -2245505  8050874  43805  1106063  1159502   \n",
       "3   258400        1052433         4876889  8057682  37427  1121236   852283   \n",
       "4   214231         940650          -87162  8555192  47892  1011685   830274   \n",
       "\n",
       "과목  순확정급여부채 재측정요소  신계약비상각비      영업비용      영업수익   영업외비용    영업외수익     영업이익  \\\n",
       "0          -13802  1054421  14148406  15145310  942678  1904117   996904   \n",
       "1             213  1030751  14931385  16273490   98984    80916  1342105   \n",
       "2           -2397   775511  15249677  17242041   77543   105601  1992364   \n",
       "3            -863   735140  15517571  16487162   10449    93291   969591   \n",
       "4           -1835   642157  17085437  18010079   39576    55584   924642   \n",
       "\n",
       "과목  외환거래손실  외환거래이익  위험회피목적파생상품관련손실  위험회피목적파생상품관련이익  위험회피목적파생상품평가손익    이자비용  \\\n",
       "0   193243  165434          119078          149615          -24662  176106   \n",
       "1   632269  275762          237884          549897            8229  209902   \n",
       "2   195415  630627          503985          158156          102555  227511   \n",
       "3   123120  725992          567226           89590          -23181  354381   \n",
       "4   296144  878048          643646          197747          -50846  258323   \n",
       "\n",
       "과목     이자수익   임대료수익   재보험비용   재보험수익   재산관리비    지급보험금  지배기업의소유지분  \\\n",
       "0   3315433  227742  150886  125460  657863  5262859    1569551   \n",
       "1   3344053  207473  165789  135256  165181  5705602     946727   \n",
       "2   3470276  205924  186463  145802  161555  6572643    1445939   \n",
       "3   3574014  232088  215089  164906  150196  7272903     756606   \n",
       "4   3558984  190537  245650  180755  138020  7060382     678527   \n",
       "\n",
       "과목  지배기업주주지분에대한 주당이익  책임준비금전입액  특별계정기타포괄손익  특별계정비용  특별계정수익  특별계정수입수수료  \\\n",
       "0                  0   4386344       16985  208951  208951     703989   \n",
       "1                  0         0        1074  228538  228538     767358   \n",
       "2                  0         0       10189  258427  258427     822137   \n",
       "3                  0         0      102136  271521  271521     824846   \n",
       "4                  0         0       58803  403214  403214     797639   \n",
       "\n",
       "과목  해외사업환산손익  후속적으로 당기손익으로 재분류될 수 있는 포괄손익  희석주당이익  \n",
       "0     -43565                      3187612    8690  \n",
       "1      41249                      2804471    5272  \n",
       "2      51123                     -2243108    8052  \n",
       "3      56568                            0    4213  \n",
       "4      50547                            0    3779  "
      ]
     },
     "execution_count": 22,
     "metadata": {},
     "output_type": "execute_result"
    }
   ],
   "source": [
    "df_join_t"
   ]
  },
  {
   "cell_type": "markdown",
   "metadata": {},
   "source": [
    "### 통합 파일 저장"
   ]
  },
  {
   "cell_type": "code",
   "execution_count": 23,
   "metadata": {},
   "outputs": [],
   "source": [
    "df_join_t.to_csv(f'{corp_nm}_{report_type_selected}_테스트.csv', encoding='utf-8-sig')"
   ]
  },
  {
   "cell_type": "markdown",
   "metadata": {},
   "source": [
    "### 수정 마무리 및 저장"
   ]
  },
  {
   "cell_type": "code",
   "execution_count": 24,
   "metadata": {},
   "outputs": [],
   "source": [
    "df = pd.read_csv(f'{corp_nm}_{report_type_selected}_테스트.csv')"
   ]
  },
  {
   "cell_type": "code",
   "execution_count": 25,
   "metadata": {},
   "outputs": [],
   "source": [
    "df = df.rename(columns={'Unnamed: 0':'{}'.format('보고기간')}).copy()"
   ]
  },
  {
   "cell_type": "code",
   "execution_count": 26,
   "metadata": {},
   "outputs": [],
   "source": [
    "# df['보고시점'] = df.iloc[:,0].str.replace('-01','')"
   ]
  },
  {
   "cell_type": "code",
   "execution_count": 27,
   "metadata": {},
   "outputs": [],
   "source": [
    "df.to_csv(f'{corp_nm}_{report_type_selected}_선택기간{data_size}_통합파일.csv', encoding='utf-8-sig')"
   ]
  }
 ],
 "metadata": {
  "kernelspec": {
   "display_name": "Python 3",
   "language": "python",
   "name": "python3"
  },
  "language_info": {
   "codemirror_mode": {
    "name": "ipython",
    "version": 3
   },
   "file_extension": ".py",
   "mimetype": "text/x-python",
   "name": "python",
   "nbconvert_exporter": "python",
   "pygments_lexer": "ipython3",
   "version": "3.8.5"
  },
  "toc": {
   "base_numbering": 1,
   "nav_menu": {},
   "number_sections": true,
   "sideBar": true,
   "skip_h1_title": false,
   "title_cell": "Table of Contents",
   "title_sidebar": "Contents",
   "toc_cell": false,
   "toc_position": {
    "height": "calc(100% - 180px)",
    "left": "10px",
    "top": "150px",
    "width": "262.969px"
   },
   "toc_section_display": true,
   "toc_window_display": true
  },
  "varInspector": {
   "cols": {
    "lenName": 16,
    "lenType": 16,
    "lenVar": 40
   },
   "kernels_config": {
    "python": {
     "delete_cmd_postfix": "",
     "delete_cmd_prefix": "del ",
     "library": "var_list.py",
     "varRefreshCmd": "print(var_dic_list())"
    },
    "r": {
     "delete_cmd_postfix": ") ",
     "delete_cmd_prefix": "rm(",
     "library": "var_list.r",
     "varRefreshCmd": "cat(var_dic_list()) "
    }
   },
   "types_to_exclude": [
    "module",
    "function",
    "builtin_function_or_method",
    "instance",
    "_Feature"
   ],
   "window_display": false
  }
 },
 "nbformat": 4,
 "nbformat_minor": 4
}
