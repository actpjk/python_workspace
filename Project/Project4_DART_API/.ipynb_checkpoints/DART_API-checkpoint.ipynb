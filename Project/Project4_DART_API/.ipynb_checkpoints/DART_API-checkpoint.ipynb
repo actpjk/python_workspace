{
 "cells": [
  {
   "cell_type": "markdown",
   "metadata": {},
   "source": [
    "# 라이브러리 임포트"
   ]
  },
  {
   "cell_type": "code",
   "execution_count": 4,
   "metadata": {},
   "outputs": [],
   "source": [
    "from bs4 import BeautifulSoup\n",
    "from selenium import webdriver\n",
    "import requests\n",
    "import re\n",
    "import pandas as pd\n",
    "import time\n",
    "import matplotlib.pyplot as plt\n",
    "from IPython.display import set_matplotlib_formats\n",
    "import OpenDartReader\n",
    "import os"
   ]
  },
  {
   "cell_type": "code",
   "execution_count": 33,
   "metadata": {},
   "outputs": [],
   "source": [
    "api_key = '31718c7bf232574ee78e6f3f81c922043baad322'\n",
    "dart = OpenDartReader(api_key)\n",
    "\n",
    "set_matplotlib_formats('retina')\n",
    "pd.options.display.max_rows = 50\n",
    "plt.rc('font', family='Malgun Gothic')\n",
    "plt.rc('axes', unicode_minus = False)\n",
    "\n",
    "pd.options.display.max_rows = 200\n",
    "\n",
    "headers = {'user-agent':'Mozilla/5.0 (Windows NT 10.0; Win64; x64) AppleWebKit/537.36 (KHTML, like Gecko) Chrome/88.0.4324.104 Safari/537.36'}\n",
    "options = webdriver.ChromeOptions()\n",
    "options.headless = True\n",
    "options.add_argument('window-size=1920x1080')\n",
    "options.add_argument('user-agent=Mozilla/5.0 (Windows NT 10.0; Win64; x64) AppleWebKit/537.36 (KHTML, like Gecko) Chrome/87.0.4280.88 Safari/537.36')"
   ]
  },
  {
   "cell_type": "markdown",
   "metadata": {},
   "source": [
    "#  opendart 이용, 보고서 이름과 rcept_no, 회사 이름 리스트 형식 변환"
   ]
  },
  {
   "cell_type": "code",
   "execution_count": 35,
   "metadata": {},
   "outputs": [
    {
     "name": "stdout",
     "output_type": "stream",
     "text": [
      "  corp_code corp_name stock_code corp_cls        report_nm        rcept_no  \\\n",
      "0  00126256      삼성생명     032830        Y  분기보고서 (2020.09)  20201116001777   \n",
      "\n",
      "  flr_nm  rcept_dt rm  \n",
      "0   삼성생명  20201116     \n"
     ]
    },
    {
     "data": {
      "text/plain": [
       "'반기보고서'"
      ]
     },
     "execution_count": 35,
     "metadata": {},
     "output_type": "execute_result"
    }
   ],
   "source": [
    "dart_list = dart.list('032830', start='1999-01-01', kind='A')\n",
    "print(dart_list.head(1))\n",
    "\n",
    "report_type_dict = {\n",
    "    '사업보고서':'A001',\n",
    "    '반기보고서':'A002',\n",
    "    '분기보고서':'A003',\n",
    "}\n",
    "\n",
    "data_size = 5 # 몇 기간의 데이터를 가져올 건지 결정\n",
    "report_type_selected = list(report_type_dict.keys())[1] # 1 : 반기보고서\n",
    "report_type_selected"
   ]
  },
  {
   "cell_type": "code",
   "execution_count": 36,
   "metadata": {
    "scrolled": true
   },
   "outputs": [
    {
     "data": {
      "text/html": [
       "<div>\n",
       "<style scoped>\n",
       "    .dataframe tbody tr th:only-of-type {\n",
       "        vertical-align: middle;\n",
       "    }\n",
       "\n",
       "    .dataframe tbody tr th {\n",
       "        vertical-align: top;\n",
       "    }\n",
       "\n",
       "    .dataframe thead th {\n",
       "        text-align: right;\n",
       "    }\n",
       "</style>\n",
       "<table border=\"1\" class=\"dataframe\">\n",
       "  <thead>\n",
       "    <tr style=\"text-align: right;\">\n",
       "      <th></th>\n",
       "      <th>corp_name</th>\n",
       "      <th>report_nm</th>\n",
       "      <th>rcept_no</th>\n",
       "    </tr>\n",
       "  </thead>\n",
       "  <tbody>\n",
       "    <tr>\n",
       "      <th>1</th>\n",
       "      <td>삼성생명</td>\n",
       "      <td>반기보고서 (2020.06)</td>\n",
       "      <td>20200814002158</td>\n",
       "    </tr>\n",
       "  </tbody>\n",
       "</table>\n",
       "</div>"
      ],
      "text/plain": [
       "  corp_name        report_nm        rcept_no\n",
       "1      삼성생명  반기보고서 (2020.06)  20200814002158"
      ]
     },
     "execution_count": 36,
     "metadata": {},
     "output_type": "execute_result"
    }
   ],
   "source": [
    "dart_list = dart_list[['corp_name','report_nm','rcept_no']]\n",
    "dart_list_selected = dart_list[dart_list['report_nm'].str.contains(report_type_selected)].copy()\n",
    "dart_list_selected.head(1)"
   ]
  },
  {
   "cell_type": "code",
   "execution_count": 37,
   "metadata": {},
   "outputs": [],
   "source": [
    "corp_nms = list(dart_list_selected['corp_name'])\n",
    "corp_nm = corp_nms[0] # 회사 이름 : 삼성생명\n",
    "\n",
    "report_nms = list(dart_list_selected['report_nm'])\n",
    "report_nm = report_nms[0] # 리포트 이름 : 반기보고서 (2020.09)\n",
    "\n",
    "rcept_nos = list(dart_list_selected['rcept_no'])"
   ]
  },
  {
   "cell_type": "code",
   "execution_count": 38,
   "metadata": {},
   "outputs": [],
   "source": [
    "date_list = list(dart_list_selected['report_nm'].str.split(' ').str[-1])\n",
    "\n",
    "date_list_mod=[]\n",
    "\n",
    "for i, val in enumerate(date_list):\n",
    "    date = date_list[i].replace('(','').replace(')','')\n",
    "    date_list_mod.append(date)"
   ]
  },
  {
   "cell_type": "code",
   "execution_count": 39,
   "metadata": {},
   "outputs": [],
   "source": [
    "df_date = pd.Series(date_list_mod)"
   ]
  },
  {
   "cell_type": "markdown",
   "metadata": {},
   "source": [
    "# url 딕셔너리 설정"
   ]
  },
  {
   "cell_type": "code",
   "execution_count": 114,
   "metadata": {},
   "outputs": [],
   "source": [
    "urls = []\n",
    "\n",
    "for rcpNo in rcept_nos:\n",
    "    url = 'http://dart.fss.or.kr/dsaf001/main.do?rcpNo={}'.format(rcpNo)\n",
    "\n",
    "    params = {\n",
    "        'crtfc_key' : '31718c7bf232574ee78e6f3f81c922043baad322',\n",
    "        'corp_code' : '032830',\n",
    "        'bgn_de' : '19990101',\n",
    "        'pblntf_detail_ty': '{}'.format(report_type_dict[report_type_selected]),\n",
    "        'page_count': '100',\n",
    "    }\n",
    "\n",
    "    res = requests.get(url,params=params, headers = headers)\n",
    "    res.raise_for_status()\n",
    "    \n",
    "    urls.append(res.url)"
   ]
  },
  {
   "cell_type": "markdown",
   "metadata": {},
   "source": [
    "# 제무제표 데이터 추출"
   ]
  },
  {
   "cell_type": "markdown",
   "metadata": {},
   "source": [
    "## 재무제표 파일 다운로드하는 data_to_csv 함수 만들기"
   ]
  },
  {
   "cell_type": "markdown",
   "metadata": {},
   "source": [
    "### selenium 활용"
   ]
  },
  {
   "cell_type": "code",
   "execution_count": 115,
   "metadata": {
    "scrolled": true
   },
   "outputs": [],
   "source": [
    "def data_to_csv(urls):\n",
    "    for i, url in enumerate(urls):\n",
    "        browser = webdriver.Chrome(options = options)\n",
    "        browser.maximize_window()\n",
    "        browser.get(url)\n",
    "\n",
    "        browser.find_element_by_xpath('//*[@id=\"ext-gen10\"]/div/li[5]/ul/li[2]/div/a/span').click()\n",
    "        iframes = browser.find_elements_by_tag_name('iframe')\n",
    "        browser.switch_to.frame(iframes[0])\n",
    "        html = browser.page_source\n",
    "\n",
    "        report_nm = report_nms[i]\n",
    "        tables = pd.read_html(html)\n",
    "\n",
    "        df_list= list()\n",
    "\n",
    "        for idx, v in enumerate(tables):\n",
    "            if idx in [0,2,4,6]:\n",
    "                pass\n",
    "            else:\n",
    "                df = tables[idx]\n",
    "                df_list.append(df)\n",
    "\n",
    "            for index, value in enumerate(df_list):\n",
    "                if index == 0:\n",
    "                    df_nm = '연결 재무상태표'\n",
    "                elif index == 1:\n",
    "                    df_nm = '연결 포괄손익계산서'\n",
    "                elif index == 2:\n",
    "                    df_nm = '자본변동표'\n",
    "                else:\n",
    "                    df_nm = '현금흐름표'\n",
    "\n",
    "                df_list[index].to_csv(f'{df_nm} {corp_nm} {report_nm}.csv', encoding='utf-8-sig')\n",
    "    browser.quit()"
   ]
  },
  {
   "cell_type": "markdown",
   "metadata": {},
   "source": [
    "### url 사이즈 선택"
   ]
  },
  {
   "cell_type": "code",
   "execution_count": 116,
   "metadata": {},
   "outputs": [],
   "source": [
    "urls = urls[:data_size]\n",
    "data_to_csv(urls)"
   ]
  },
  {
   "cell_type": "markdown",
   "metadata": {},
   "source": [
    "# 재무제표 데이터 수정, 병합, 통합 파일 저장"
   ]
  },
  {
   "cell_type": "markdown",
   "metadata": {},
   "source": [
    "## merge 위해 데이터 수정"
   ]
  },
  {
   "cell_type": "code",
   "execution_count": 117,
   "metadata": {},
   "outputs": [
    {
     "data": {
      "text/plain": [
       "['연결 포괄손익계산서 삼성생명 반기보고서 (2016.06).csv',\n",
       " '연결 포괄손익계산서 삼성생명 반기보고서 (2017.06).csv',\n",
       " '연결 포괄손익계산서 삼성생명 반기보고서 (2018.06).csv',\n",
       " '연결 포괄손익계산서 삼성생명 반기보고서 (2019.06).csv',\n",
       " '연결 포괄손익계산서 삼성생명 반기보고서 (2020.06).csv']"
      ]
     },
     "execution_count": 117,
     "metadata": {},
     "output_type": "execute_result"
    }
   ],
   "source": [
    "search_df_nm = '포괄손익계산서'\n",
    "\n",
    "data_list = os.listdir()\n",
    "\n",
    "match_list = list()\n",
    "\n",
    "for df_nm in data_list:\n",
    "    if search_df_nm in df_nm:\n",
    "        match_list.append(df_nm)\n",
    "        \n",
    "match_list      "
   ]
  },
  {
   "cell_type": "markdown",
   "metadata": {},
   "source": [
    "## 데이터 merge 및 merge 파일 저장"
   ]
  },
  {
   "cell_type": "code",
   "execution_count": 118,
   "metadata": {},
   "outputs": [],
   "source": [
    "df_list = list()\n",
    "\n",
    "for i, df_nm in enumerate(match_list):\n",
    "    df = pd.read_csv('./{}'.format(df_nm), encoding='utf-8-sig')\n",
    "    df = df.iloc[:,1:3]\n",
    "    df = df[df['과 목'].notnull()]\n",
    "    df['과 목'] = df['과 목'].str.strip()\n",
    "    df['과 목'] = df['과 목'].str.split('.').str[-1]\n",
    "    df['과 목'] = df['과 목'].str.split('(').str[0].copy()\n",
    "    df.rename(columns = {'과 목' : '계정과목'}, inplace = True)\n",
    "    df_list.append(df)"
   ]
  },
  {
   "cell_type": "markdown",
   "metadata": {},
   "source": [
    "### colunm to index"
   ]
  },
  {
   "cell_type": "code",
   "execution_count": 119,
   "metadata": {},
   "outputs": [],
   "source": [
    "df_list_index = list()\n",
    "\n",
    "for i, val in enumerate(df_list):\n",
    "    df_index = df_list[i].set_index('계정과목').copy()\n",
    "    df_list_index.append(df_index)"
   ]
  },
  {
   "cell_type": "markdown",
   "metadata": {},
   "source": [
    "### merge 적용"
   ]
  },
  {
   "cell_type": "code",
   "execution_count": 120,
   "metadata": {},
   "outputs": [],
   "source": [
    "for i, val in enumerate(df_list_index):\n",
    "    if i == 0:\n",
    "        df_merge = pd.merge(df_list_index[i], df_list_index[i], how='outer', left_index=True, right_index=True)\n",
    "    elif i <= len(df_list):\n",
    "        df_merge = pd.merge(df_merge, df_list_index[i], how='outer', left_index=True, right_index=True)\n",
    "    else:\n",
    "        continue"
   ]
  },
  {
   "cell_type": "markdown",
   "metadata": {},
   "source": [
    "## 중복행 제거 및 첫 번째 열 제거 "
   ]
  },
  {
   "cell_type": "markdown",
   "metadata": {},
   "source": [
    "### 중복행 제거"
   ]
  },
  {
   "cell_type": "code",
   "execution_count": 121,
   "metadata": {},
   "outputs": [],
   "source": [
    "df_merge = df_merge.reset_index().copy()"
   ]
  },
  {
   "cell_type": "code",
   "execution_count": 122,
   "metadata": {},
   "outputs": [],
   "source": [
    "df_merge_dup = df_merge.drop_duplicates('계정과목', keep=\"first\").copy()"
   ]
  },
  {
   "cell_type": "markdown",
   "metadata": {},
   "source": [
    "### 첫 열 제거"
   ]
  },
  {
   "cell_type": "code",
   "execution_count": 124,
   "metadata": {},
   "outputs": [],
   "source": [
    "df_merge_dup.drop(df_merge_dup.columns[1], axis = 1, inplace = True)"
   ]
  },
  {
   "cell_type": "code",
   "execution_count": 126,
   "metadata": {
    "scrolled": true
   },
   "outputs": [],
   "source": [
    "df_merge_dup = df_merge_dup.set_index(['계정과목']).copy()"
   ]
  },
  {
   "cell_type": "markdown",
   "metadata": {},
   "source": [
    "### 기간 컬럼 및 transepose"
   ]
  },
  {
   "cell_type": "code",
   "execution_count": 129,
   "metadata": {
    "scrolled": true
   },
   "outputs": [],
   "source": [
    "df_date_cols = df_date.loc[:len(match_list)-1]\n",
    "df_merge_t = df_merge_dup.T"
   ]
  },
  {
   "cell_type": "code",
   "execution_count": 131,
   "metadata": {},
   "outputs": [],
   "source": [
    "df_merge_t.index = df_date_cols"
   ]
  },
  {
   "cell_type": "code",
   "execution_count": 148,
   "metadata": {},
   "outputs": [
    {
     "data": {
      "text/plain": [
       "2020.06     996904\n",
       "2019.06    1342105\n",
       "2018.06    1992364\n",
       "2017.06     969591\n",
       "2016.06     924642\n",
       "Name: 영업이익, dtype: object"
      ]
     },
     "execution_count": 148,
     "metadata": {},
     "output_type": "execute_result"
    }
   ],
   "source": [
    "df_merge_t['영업이익']"
   ]
  },
  {
   "cell_type": "markdown",
   "metadata": {},
   "source": [
    "### 통합 파일 저장"
   ]
  },
  {
   "cell_type": "code",
   "execution_count": 134,
   "metadata": {},
   "outputs": [],
   "source": [
    "df_merge_t.to_csv('{}.csv'.format('병합 파일'), encoding='utf-8-sig')"
   ]
  },
  {
   "cell_type": "markdown",
   "metadata": {},
   "source": [
    "# merged data 분석 및 시각화"
   ]
  },
  {
   "cell_type": "markdown",
   "metadata": {},
   "source": [
    "## 데이터 전처리"
   ]
  },
  {
   "cell_type": "code",
   "execution_count": 5,
   "metadata": {},
   "outputs": [],
   "source": [
    "df = pd.read_csv('./병합 파일.csv')"
   ]
  },
  {
   "cell_type": "code",
   "execution_count": 6,
   "metadata": {},
   "outputs": [],
   "source": [
    "df = df.rename(columns={'Unnamed: 0':'기간'}).copy()"
   ]
  },
  {
   "cell_type": "code",
   "execution_count": 17,
   "metadata": {},
   "outputs": [
    {
     "data": {
      "text/html": [
       "<div>\n",
       "<style scoped>\n",
       "    .dataframe tbody tr th:only-of-type {\n",
       "        vertical-align: middle;\n",
       "    }\n",
       "\n",
       "    .dataframe tbody tr th {\n",
       "        vertical-align: top;\n",
       "    }\n",
       "\n",
       "    .dataframe thead th {\n",
       "        text-align: right;\n",
       "    }\n",
       "</style>\n",
       "<table border=\"1\" class=\"dataframe\">\n",
       "  <thead>\n",
       "    <tr style=\"text-align: right;\">\n",
       "      <th></th>\n",
       "      <th>기간</th>\n",
       "      <th>반기연결총포괄이익</th>\n",
       "      <th>분기연결총포괄이익</th>\n",
       "      <th>관계기업의 기타포괄손익지분</th>\n",
       "      <th>기본주당이익</th>\n",
       "      <th>기타영업비용</th>\n",
       "      <th>기타영업수익</th>\n",
       "      <th>당기손익으로 재분류되지 않는 포괄손익</th>\n",
       "      <th>당기손익인식금융자산관련손실</th>\n",
       "      <th>당기손익인식금융자산관련이익</th>\n",
       "      <th>...</th>\n",
       "      <th>지배기업의소유지분</th>\n",
       "      <th>지배기업주주지분에대한 주당이익</th>\n",
       "      <th>책임준비금전입액</th>\n",
       "      <th>특별계정기타포괄손익</th>\n",
       "      <th>특별계정비용</th>\n",
       "      <th>특별계정수익</th>\n",
       "      <th>특별계정수입수수료</th>\n",
       "      <th>해외사업환산손익</th>\n",
       "      <th>후속적으로 당기손익으로 재분류될 수 있는 포괄손익</th>\n",
       "      <th>희석주당이익</th>\n",
       "    </tr>\n",
       "  </thead>\n",
       "  <tbody>\n",
       "    <tr>\n",
       "      <th>0</th>\n",
       "      <td>2020.06</td>\n",
       "      <td>NaN</td>\n",
       "      <td>NaN</td>\n",
       "      <td>9126</td>\n",
       "      <td>8690</td>\n",
       "      <td>855893</td>\n",
       "      <td>94245</td>\n",
       "      <td>(13,802)</td>\n",
       "      <td>179581</td>\n",
       "      <td>216731</td>\n",
       "      <td>...</td>\n",
       "      <td>1569551</td>\n",
       "      <td>NaN</td>\n",
       "      <td>4386344.0</td>\n",
       "      <td>16985</td>\n",
       "      <td>208951</td>\n",
       "      <td>208951</td>\n",
       "      <td>703989</td>\n",
       "      <td>(43,565)</td>\n",
       "      <td>3187612</td>\n",
       "      <td>8690</td>\n",
       "    </tr>\n",
       "    <tr>\n",
       "      <th>1</th>\n",
       "      <td>2019.06</td>\n",
       "      <td>NaN</td>\n",
       "      <td>3805103</td>\n",
       "      <td>3168</td>\n",
       "      <td>5272</td>\n",
       "      <td>1448467</td>\n",
       "      <td>147687</td>\n",
       "      <td>-213</td>\n",
       "      <td>179718</td>\n",
       "      <td>272991</td>\n",
       "      <td>...</td>\n",
       "      <td>946727</td>\n",
       "      <td>NaN</td>\n",
       "      <td>NaN</td>\n",
       "      <td>1074</td>\n",
       "      <td>228538</td>\n",
       "      <td>228538</td>\n",
       "      <td>767358</td>\n",
       "      <td>41249</td>\n",
       "      <td>2804471</td>\n",
       "      <td>5272</td>\n",
       "    </tr>\n",
       "    <tr>\n",
       "      <th>2</th>\n",
       "      <td>2018.06</td>\n",
       "      <td>NaN</td>\n",
       "      <td>(755,761)</td>\n",
       "      <td>9170</td>\n",
       "      <td>8052</td>\n",
       "      <td>1622828</td>\n",
       "      <td>116167</td>\n",
       "      <td>(2,397)</td>\n",
       "      <td>240423</td>\n",
       "      <td>186422</td>\n",
       "      <td>...</td>\n",
       "      <td>1445939</td>\n",
       "      <td>NaN</td>\n",
       "      <td>NaN</td>\n",
       "      <td>10189</td>\n",
       "      <td>258427</td>\n",
       "      <td>258427</td>\n",
       "      <td>822137</td>\n",
       "      <td>51123</td>\n",
       "      <td>(2,243,108)</td>\n",
       "      <td>8052</td>\n",
       "    </tr>\n",
       "    <tr>\n",
       "      <th>3</th>\n",
       "      <td>2017.06</td>\n",
       "      <td>5670922.0</td>\n",
       "      <td>NaN</td>\n",
       "      <td>8988</td>\n",
       "      <td>4213</td>\n",
       "      <td>1323165</td>\n",
       "      <td>313344</td>\n",
       "      <td>NaN</td>\n",
       "      <td>302728</td>\n",
       "      <td>475889</td>\n",
       "      <td>...</td>\n",
       "      <td>756606</td>\n",
       "      <td>NaN</td>\n",
       "      <td>NaN</td>\n",
       "      <td>102136</td>\n",
       "      <td>271521</td>\n",
       "      <td>271521</td>\n",
       "      <td>824846</td>\n",
       "      <td>56568</td>\n",
       "      <td>NaN</td>\n",
       "      <td>4213</td>\n",
       "    </tr>\n",
       "    <tr>\n",
       "      <th>4</th>\n",
       "      <td>2016.06</td>\n",
       "      <td>639257.0</td>\n",
       "      <td>NaN</td>\n",
       "      <td>6588</td>\n",
       "      <td>3779</td>\n",
       "      <td>1276346</td>\n",
       "      <td>264171</td>\n",
       "      <td>NaN</td>\n",
       "      <td>723402</td>\n",
       "      <td>1062924</td>\n",
       "      <td>...</td>\n",
       "      <td>678527</td>\n",
       "      <td>NaN</td>\n",
       "      <td>NaN</td>\n",
       "      <td>58803</td>\n",
       "      <td>403214</td>\n",
       "      <td>403214</td>\n",
       "      <td>797639</td>\n",
       "      <td>50547</td>\n",
       "      <td>NaN</td>\n",
       "      <td>3779</td>\n",
       "    </tr>\n",
       "  </tbody>\n",
       "</table>\n",
       "<p>5 rows × 65 columns</p>\n",
       "</div>"
      ],
      "text/plain": [
       "        기간   반기연결총포괄이익  분기연결총포괄이익  관계기업의 기타포괄손익지분  기본주당이익   기타영업비용  기타영업수익  \\\n",
       "0  2020.06         NaN        NaN            9126    8690   855893   94245   \n",
       "1  2019.06         NaN    3805103            3168    5272  1448467  147687   \n",
       "2  2018.06         NaN  (755,761)            9170    8052  1622828  116167   \n",
       "3  2017.06   5670922.0        NaN            8988    4213  1323165  313344   \n",
       "4  2016.06    639257.0        NaN            6588    3779  1276346  264171   \n",
       "\n",
       "  당기손익으로 재분류되지 않는 포괄손익  당기손익인식금융자산관련손실  당기손익인식금융자산관련이익  ...  지배기업의소유지분  \\\n",
       "0             (13,802)          179581          216731  ...    1569551   \n",
       "1                 -213          179718          272991  ...     946727   \n",
       "2              (2,397)          240423          186422  ...    1445939   \n",
       "3                  NaN          302728          475889  ...     756606   \n",
       "4                  NaN          723402         1062924  ...     678527   \n",
       "\n",
       "   지배기업주주지분에대한 주당이익   책임준비금전입액  특별계정기타포괄손익  특별계정비용  특별계정수익  특별계정수입수수료  \\\n",
       "0               NaN  4386344.0       16985  208951  208951     703989   \n",
       "1               NaN        NaN        1074  228538  228538     767358   \n",
       "2               NaN        NaN       10189  258427  258427     822137   \n",
       "3               NaN        NaN      102136  271521  271521     824846   \n",
       "4               NaN        NaN       58803  403214  403214     797639   \n",
       "\n",
       "   해외사업환산손익  후속적으로 당기손익으로 재분류될 수 있는 포괄손익 희석주당이익  \n",
       "0  (43,565)                      3187612   8690  \n",
       "1     41249                      2804471   5272  \n",
       "2     51123                  (2,243,108)   8052  \n",
       "3     56568                          NaN   4213  \n",
       "4     50547                          NaN   3779  \n",
       "\n",
       "[5 rows x 65 columns]"
      ]
     },
     "execution_count": 17,
     "metadata": {},
     "output_type": "execute_result"
    }
   ],
   "source": [
    "df.head()"
   ]
  },
  {
   "cell_type": "code",
   "execution_count": 28,
   "metadata": {
    "scrolled": true
   },
   "outputs": [
    {
     "data": {
      "text/plain": [
       "0     996904\n",
       "1    1342105\n",
       "2    1992364\n",
       "3     969591\n",
       "4     924642\n",
       "Name: 영업이익, dtype: int64"
      ]
     },
     "execution_count": 28,
     "metadata": {},
     "output_type": "execute_result"
    }
   ],
   "source": [
    "df.loc[:,'영업이익']"
   ]
  },
  {
   "cell_type": "code",
   "execution_count": 150,
   "metadata": {},
   "outputs": [],
   "source": [
    "search_list = df.columns[1:]"
   ]
  },
  {
   "cell_type": "code",
   "execution_count": 31,
   "metadata": {},
   "outputs": [],
   "source": [
    "df_selected = df.groupby('기간')[['보험료수익','영업이익']].mean()"
   ]
  },
  {
   "cell_type": "code",
   "execution_count": 40,
   "metadata": {},
   "outputs": [
    {
     "data": {
      "text/plain": [
       "Text(0.5, 1.0, '삼성생명 반기보고서')"
      ]
     },
     "execution_count": 40,
     "metadata": {},
     "output_type": "execute_result"
    },
    {
     "data": {
      "image/png": "[encoded data removed]",
      "text/plain": [
       "<Figure size 432x288 with 1 Axes>"
      ]
     },
     "metadata": {
      "image/png": {
       "height": 295,
       "width": 361
      },
      "needs_background": "light"
     },
     "output_type": "display_data"
    }
   ],
   "source": [
    "df_selected.plot.bar(rot = 30).set_title('{} {}'.format(corp_nm, report_type_selected))"
   ]
  },
  {
   "cell_type": "markdown",
   "metadata": {},
   "source": [
    "### 컬럼 내 수치 데이터 수정 및 numeric으로 변경"
   ]
  },
  {
   "cell_type": "code",
   "execution_count": null,
   "metadata": {},
   "outputs": [],
   "source": [
    "# 전체 컬럼에 아래 라인 적용한 후 모든 1: 이후 컬럼 뉴메릭으로 변경한 뒤 데이터 분석 가능."
   ]
  },
  {
   "cell_type": "code",
   "execution_count": null,
   "metadata": {},
   "outputs": [],
   "source": []
  }
 ],
 "metadata": {
  "kernelspec": {
   "display_name": "Python 3",
   "language": "python",
   "name": "python3"
  },
  "language_info": {
   "codemirror_mode": {
    "name": "ipython",
    "version": 3
   },
   "file_extension": ".py",
   "mimetype": "text/x-python",
   "name": "python",
   "nbconvert_exporter": "python",
   "pygments_lexer": "ipython3",
   "version": "3.8.5"
  },
  "toc": {
   "base_numbering": 1,
   "nav_menu": {},
   "number_sections": true,
   "sideBar": true,
   "skip_h1_title": false,
   "title_cell": "Table of Contents",
   "title_sidebar": "Contents",
   "toc_cell": false,
   "toc_position": {
    "height": "calc(100% - 180px)",
    "left": "10px",
    "top": "150px",
    "width": "220px"
   },
   "toc_section_display": true,
   "toc_window_display": true
  },
  "varInspector": {
   "cols": {
    "lenName": 16,
    "lenType": 16,
    "lenVar": 40
   },
   "kernels_config": {
    "python": {
     "delete_cmd_postfix": "",
     "delete_cmd_prefix": "del ",
     "library": "var_list.py",
     "varRefreshCmd": "print(var_dic_list())"
    },
    "r": {
     "delete_cmd_postfix": ") ",
     "delete_cmd_prefix": "rm(",
     "library": "var_list.r",
     "varRefreshCmd": "cat(var_dic_list()) "
    }
   },
   "types_to_exclude": [
    "module",
    "function",
    "builtin_function_or_method",
    "instance",
    "_Feature"
   ],
   "window_display": false
  }
 },
 "nbformat": 4,
 "nbformat_minor": 4
}
