{
 "cells": [
  {
   "cell_type": "markdown",
   "metadata": {},
   "source": [
    "# DART 보험사 재무제표 자동 다운로드 및 데이터 통합 프로그램 개발"
   ]
  },
  {
   "cell_type": "code",
   "execution_count": 1,
   "metadata": {},
   "outputs": [],
   "source": [
    "from bs4 import BeautifulSoup\n",
    "from selenium import webdriver\n",
    "import requests\n",
    "import re\n",
    "import pandas as pd\n",
    "import time\n",
    "import matplotlib.pyplot as plt\n",
    "from IPython.display import set_matplotlib_formats\n",
    "import OpenDartReader\n",
    "import os\n",
    "import seaborn as sns\n",
    "import sys"
   ]
  },
  {
   "cell_type": "code",
   "execution_count": 2,
   "metadata": {},
   "outputs": [],
   "source": [
    "api_key = '\t31718c7bf232574ee78e6f3f81c922043baad322' # 본인의 api key 입력\n",
    "dart = OpenDartReader(api_key)\n",
    "\n",
    "sys.maxsize\n",
    "set_matplotlib_formats('retina')\n",
    "pd.options.display.max_rows = 50\n",
    "plt.rc('font', family='Malgun Gothic')\n",
    "plt.rc('axes', unicode_minus = False)\n",
    "\n",
    "pd.options.display.float_format = '{:.2f}'.format\n",
    "pd.options.display.max_columns = 60\n",
    "pd.options.display.max_rows = 100\n",
    "\n",
    "headers = {'user-agent':'Mozilla/5.0 (Windows NT 10.0; Win64; x64) AppleWebKit/537.36 (KHTML, like Gecko) Chrome/88.0.4324.104 Safari/537.36'}\n",
    "options = webdriver.ChromeOptions()\n",
    "options.headless = True\n",
    "options.add_argument('window-size=1920x1080')\n",
    "options.add_argument('user-agent=Mozilla/5.0 (Windows NT 10.0; Win64; x64) AppleWebKit/537.36 (KHTML, like Gecko) Chrome/87.0.4280.88 Safari/537.36')"
   ]
  },
  {
   "cell_type": "markdown",
   "metadata": {},
   "source": [
    "#  opendart 이용, 보고서 이름과 rcept_no, 회사 이름 리스트 형식 변환"
   ]
  },
  {
   "cell_type": "code",
   "execution_count": 3,
   "metadata": {},
   "outputs": [],
   "source": [
    "corp_code = {'삼성생명':'032830',\n",
    "            '한화생명':'088350',\n",
    "            '미래에셋생명':'085620'}\n",
    "\n",
    "# 분석하고자 하는 회사 명\n",
    "\n",
    "dart_list = dart.list(corp_code['한화생명'], start='1999-01-01', kind='A') \n",
    "\n",
    "\n",
    "# 몇 기간의 데이터를 가져올 건지\n",
    "\n",
    "data_size = 6\n",
    "\n",
    "\n",
    "\n",
    "# 보고서 기간 타입 결정\n",
    "\n",
    "report_type_dict = {\n",
    "    '사업보고서':'A001',\n",
    "    '반기보고서':'A002',\n",
    "    '분기보고서':'A003',\n",
    "}\n",
    "\n",
    "report_type_selected = list(report_type_dict.keys())[1]\n",
    "\n",
    "dart_list = dart_list[['corp_name','report_nm','rcept_no']]\n",
    "dart_list_selected = dart_list[dart_list['report_nm'].str.contains(report_type_selected)].copy()"
   ]
  },
  {
   "cell_type": "code",
   "execution_count": 4,
   "metadata": {},
   "outputs": [],
   "source": [
    "corp_nms = list(dart_list_selected['corp_name'])\n",
    "corp_nm = corp_nms[0] # 회사 이름 ex) 삼성생명\n",
    "\n",
    "report_nms = list(dart_list_selected['report_nm'])\n",
    "report_nm = report_nms[0] # 리포트 이름 ex) 반기보고서 (2020.09)\n",
    "\n",
    "# 분석하려는 보고서 유형 선택\n",
    "\n",
    "search_df_nms = ['연결 포괄손익계산서','연결 재무상태표','현금흐름표','자본변동표']\n",
    "search_df_nm = f'{corp_nm} {search_df_nms[0]}'\n",
    "\n",
    "rcept_nos = list(dart_list_selected['rcept_no'])"
   ]
  },
  {
   "cell_type": "code",
   "execution_count": 5,
   "metadata": {},
   "outputs": [],
   "source": [
    "date_list = list(dart_list_selected['report_nm'].str.split(' ').str[-1])\n",
    "\n",
    "date_list_mod=[]\n",
    "\n",
    "for i, val in enumerate(date_list):\n",
    "    date = date_list[i].replace('(','').replace(')','')\n",
    "    date_list_mod.append(date)"
   ]
  },
  {
   "cell_type": "code",
   "execution_count": 6,
   "metadata": {},
   "outputs": [],
   "source": [
    "df_date = pd.Series(date_list_mod)"
   ]
  },
  {
   "cell_type": "markdown",
   "metadata": {},
   "source": [
    "# url 딕셔너리 설정"
   ]
  },
  {
   "cell_type": "code",
   "execution_count": 7,
   "metadata": {},
   "outputs": [],
   "source": [
    "urls = []\n",
    "\n",
    "for rcpNo in rcept_nos:\n",
    "    url = 'http://dart.fss.or.kr/dsaf001/main.do?rcpNo={}'.format(rcpNo)\n",
    "\n",
    "    params = {\n",
    "        'crtfc_key' : '31718c7bf232574ee78e6f3f81c922043baad322',\n",
    "        'corp_code' : '032830',\n",
    "        'bgn_de' : '19990101',\n",
    "        'pblntf_detail_ty': '{}'.format(report_type_dict[report_type_selected]),\n",
    "        'page_count': '100',\n",
    "    }\n",
    "\n",
    "    res = requests.get(url,params=params, headers = headers)\n",
    "    res.raise_for_status()\n",
    "    \n",
    "    urls.append(res.url)"
   ]
  },
  {
   "cell_type": "markdown",
   "metadata": {},
   "source": [
    "# 제무제표 데이터 추출"
   ]
  },
  {
   "cell_type": "markdown",
   "metadata": {},
   "source": [
    "## 재무제표 파일 다운로드하는 data_to_csv 함수 만들기"
   ]
  },
  {
   "cell_type": "markdown",
   "metadata": {},
   "source": [
    "### selenium 활용 파일 다운로드 함수"
   ]
  },
  {
   "cell_type": "code",
   "execution_count": 8,
   "metadata": {
    "scrolled": true
   },
   "outputs": [],
   "source": [
    "def rawdata_to_csv(urls):\n",
    "    for i, url in enumerate(urls):\n",
    "        browser = webdriver.Chrome(options = options)\n",
    "        browser.maximize_window()\n",
    "        browser.get(url)\n",
    "        browser.find_element_by_xpath('//*[@id=\"ext-gen10\"]/div/li[5]/ul/li[2]/div/a/span').click()\n",
    "        iframes = browser.find_elements_by_tag_name('iframe')\n",
    "        browser.switch_to.frame(iframes[0])\n",
    "        html = browser.page_source\n",
    "\n",
    "        report_nm = report_nms[i]\n",
    "        tables = pd.read_html(html)\n",
    "\n",
    "        df_list= list()\n",
    "\n",
    "        for idx, v in enumerate(tables):\n",
    "            if idx in [0,2,4,6]:\n",
    "                pass\n",
    "            else:\n",
    "                df = tables[idx]\n",
    "                df_list.append(df)\n",
    "\n",
    "            for index, value in enumerate(df_list):\n",
    "                if index == 0:\n",
    "                    df_nm = '연결 재무상태표'\n",
    "                elif index == 1:\n",
    "                    df_nm = '연결 포괄손익계산서'\n",
    "                elif index == 2:\n",
    "                    df_nm = '자본변동표'\n",
    "                else:\n",
    "                    df_nm = '현금흐름표'\n",
    "\n",
    "                df_list[index].to_csv(f'{corp_nm} {df_nm} {report_nm}.csv', encoding='utf-8-sig')\n",
    "    browser.quit()"
   ]
  },
  {
   "cell_type": "markdown",
   "metadata": {},
   "source": [
    "### url 사이즈 선택"
   ]
  },
  {
   "cell_type": "code",
   "execution_count": 9,
   "metadata": {},
   "outputs": [],
   "source": [
    "urls = urls[:data_size]\n",
    "rawdata_to_csv(urls)"
   ]
  },
  {
   "cell_type": "markdown",
   "metadata": {},
   "source": [
    "# 재무제표 데이터 수정, 병합, 통합 파일 전처리 및 저장"
   ]
  },
  {
   "cell_type": "markdown",
   "metadata": {},
   "source": [
    "## merge 위해 데이터 수정"
   ]
  },
  {
   "cell_type": "code",
   "execution_count": 10,
   "metadata": {},
   "outputs": [
    {
     "data": {
      "text/plain": [
       "['한화생명 연결 포괄손익계산서 반기보고서 (2015.06).csv',\n",
       " '한화생명 연결 포괄손익계산서 반기보고서 (2016.06).csv',\n",
       " '한화생명 연결 포괄손익계산서 반기보고서 (2017.06).csv',\n",
       " '한화생명 연결 포괄손익계산서 반기보고서 (2018.06).csv',\n",
       " '한화생명 연결 포괄손익계산서 반기보고서 (2019.06).csv',\n",
       " '한화생명 연결 포괄손익계산서 반기보고서 (2020.06).csv']"
      ]
     },
     "execution_count": 10,
     "metadata": {},
     "output_type": "execute_result"
    }
   ],
   "source": [
    "data_list = os.listdir()\n",
    "\n",
    "match_list = list()\n",
    "\n",
    "for df_nm in data_list:\n",
    "    if search_df_nm in df_nm:\n",
    "        match_list.append(df_nm)\n",
    "        \n",
    "match_list      "
   ]
  },
  {
   "cell_type": "markdown",
   "metadata": {},
   "source": [
    "## 데이터 전처리 후 통합 및 파일 저장"
   ]
  },
  {
   "cell_type": "markdown",
   "metadata": {},
   "source": [
    "### 다운로드 받은 raw data read후 전처리"
   ]
  },
  {
   "cell_type": "code",
   "execution_count": 11,
   "metadata": {},
   "outputs": [],
   "source": [
    "# 한화생명 단위 : 원\n",
    "# 삼성생명 단위 : 백만 원 , 단위 모두 백만 원으로 처리하자.\n",
    "# 윗 줄 기존 코드 open 에 백업함\n",
    "\n",
    "df_list = list()\n",
    "\n",
    "for i, df_nm in enumerate(match_list):\n",
    "    df = pd.read_csv('./{}'.format(df_nm), encoding='utf-8-sig')\n",
    "    if corp_nm == '삼성생명':\n",
    "        df = df.iloc[:,1:3]\n",
    "        df = df[df['과 목'].notnull()]\n",
    "    else:\n",
    "        df = df.drop(0) # 타보험사 수정\n",
    "        df = df.iloc[:,1:5].drop('주 석', axis=1)\n",
    "        df = df.iloc[:,::2]\n",
    "\n",
    "    df['과 목'] = df['과 목'].str.split('.').str[-1]\n",
    "    df['과 목'] = df['과 목'].str.split('(').str[0]\n",
    "    df['과 목'] = df['과 목'].str.strip().copy()\n",
    "    df.rename(columns = {'과 목' : '과목'}, inplace = True)\n",
    "    df_list.append(df)"
   ]
  },
  {
   "cell_type": "markdown",
   "metadata": {},
   "source": [
    "### colunm to index"
   ]
  },
  {
   "cell_type": "code",
   "execution_count": 12,
   "metadata": {},
   "outputs": [],
   "source": [
    "df_list_index = list()\n",
    "\n",
    "for i, val in enumerate(df_list):\n",
    "    df_index = df_list[i].set_index('과목').copy()\n",
    "    df_list_index.append(df_index)"
   ]
  },
  {
   "cell_type": "markdown",
   "metadata": {},
   "source": [
    "### join 으로 data 통합 ( 각 보고 시점에만 존재하는 계정들은 제외, merge 에서 left, right_index = True & how = 'inner'와 같음)"
   ]
  },
  {
   "cell_type": "code",
   "execution_count": 13,
   "metadata": {},
   "outputs": [],
   "source": [
    "for i, val in enumerate(df_list_index):\n",
    "    if i == 0:\n",
    "        df_join = df_list_index[i]\n",
    "    elif i <= len(df_list_index):\n",
    "        df_join = df_join.join(df_list_index[i])\n",
    "    else:\n",
    "        continue"
   ]
  },
  {
   "cell_type": "markdown",
   "metadata": {},
   "source": [
    "## 통합 파일 전처리"
   ]
  },
  {
   "cell_type": "markdown",
   "metadata": {},
   "source": [
    "### 중복행 제거 및 칼럼 날짜 데이터로 변경"
   ]
  },
  {
   "cell_type": "code",
   "execution_count": 14,
   "metadata": {},
   "outputs": [],
   "source": [
    "df_date_cols = df_date.loc[:len(match_list)-1].sort_index(ascending=False)"
   ]
  },
  {
   "cell_type": "code",
   "execution_count": 15,
   "metadata": {},
   "outputs": [],
   "source": [
    "date_cols = pd.to_datetime(df_date_cols)\n",
    "df_join = df_join.reset_index().copy()\n",
    "df_join_dup = df_join.drop_duplicates('과목', keep=\"first\").copy()\n",
    "df_join_dup = df_join_dup.set_index(['과목']).copy()\n",
    "df_join_dup.columns = df_date_cols"
   ]
  },
  {
   "cell_type": "markdown",
   "metadata": {},
   "source": [
    "### 데이터프레임 transpose 및 내부 데이터 int 형으로 변경"
   ]
  },
  {
   "cell_type": "code",
   "execution_count": 16,
   "metadata": {},
   "outputs": [],
   "source": [
    "def str_to_int(x):\n",
    "    if isinstance(x, str):\n",
    "        x = x.replace('-','0')\n",
    "        x = x.replace('(','-')\n",
    "        x = x.replace(')','')\n",
    "        x = x.replace(',','')\n",
    "        x = int(x)\n",
    "    return x"
   ]
  },
  {
   "cell_type": "code",
   "execution_count": 17,
   "metadata": {},
   "outputs": [],
   "source": [
    "df_join_t = df_join_dup.T.fillna(0)\n",
    "for i in range(len(df_join_t.index)):\n",
    "    df_join_t.iloc[i] = df_join_t.iloc[i].apply(str_to_int)"
   ]
  },
  {
   "cell_type": "markdown",
   "metadata": {},
   "source": [
    "### 데이터 단위 백만 원으로 변경"
   ]
  },
  {
   "cell_type": "code",
   "execution_count": 18,
   "metadata": {
    "scrolled": true
   },
   "outputs": [],
   "source": [
    "if corp_nm == '한화생명':\n",
    "    df_join_t = df_join_t / 1000000"
   ]
  },
  {
   "cell_type": "code",
   "execution_count": 19,
   "metadata": {
    "scrolled": true
   },
   "outputs": [],
   "source": [
    "df_join_t = df_join_t.astype(int).copy()"
   ]
  },
  {
   "cell_type": "code",
   "execution_count": 20,
   "metadata": {
    "scrolled": true
   },
   "outputs": [],
   "source": [
    "df_join_t = df_join_t.reset_index()"
   ]
  },
  {
   "cell_type": "code",
   "execution_count": 21,
   "metadata": {},
   "outputs": [],
   "source": [
    "df_join_t.insert(0, '회사명', corp_nm)"
   ]
  },
  {
   "cell_type": "code",
   "execution_count": 22,
   "metadata": {},
   "outputs": [
    {
     "data": {
      "text/html": [
       "<div>\n",
       "<style scoped>\n",
       "    .dataframe tbody tr th:only-of-type {\n",
       "        vertical-align: middle;\n",
       "    }\n",
       "\n",
       "    .dataframe tbody tr th {\n",
       "        vertical-align: top;\n",
       "    }\n",
       "\n",
       "    .dataframe thead th {\n",
       "        text-align: right;\n",
       "    }\n",
       "</style>\n",
       "<table border=\"1\" class=\"dataframe\">\n",
       "  <thead>\n",
       "    <tr style=\"text-align: right;\">\n",
       "      <th>과목</th>\n",
       "      <th>회사명</th>\n",
       "      <th>index</th>\n",
       "      <th>&lt;후속적으로 당기손익으로 재분류되지 않는 항목&gt;</th>\n",
       "      <th>&lt;후속적으로 당기손익으로 재분류될 수 있는 항목&gt;</th>\n",
       "      <th>기타비용</th>\n",
       "      <th>기타수익</th>\n",
       "      <th>기타포괄손익</th>\n",
       "      <th>대손상각비</th>\n",
       "      <th>매도가능금융자산평가손익</th>\n",
       "      <th>반기순이익</th>\n",
       "      <th>반기순이익의 귀속</th>\n",
       "      <th>반기총포괄손익</th>\n",
       "      <th>반기총포괄손익의 귀속</th>\n",
       "      <th>법인세비용</th>\n",
       "      <th>법인세비용차감전순이익</th>\n",
       "      <th>보통주 기본 및 희석주당순이익</th>\n",
       "      <th>보험계약부채전입액</th>\n",
       "      <th>보험료수익</th>\n",
       "      <th>비지배지분</th>\n",
       "      <th>사업비</th>\n",
       "      <th>신계약비상각비</th>\n",
       "      <th>영업비용</th>\n",
       "      <th>영업수익</th>\n",
       "      <th>영업외비용</th>\n",
       "      <th>영업외수익</th>\n",
       "      <th>영업이익</th>\n",
       "      <th>외환거래 및 환산손실</th>\n",
       "      <th>외환거래 및 환산이익</th>\n",
       "      <th>유가증권평가 및 처분손실</th>\n",
       "      <th>유가증권평가 및 처분이익</th>\n",
       "      <th>유형자산재평가이익</th>\n",
       "      <th>이자수익</th>\n",
       "      <th>재보험비용</th>\n",
       "      <th>재보험수익</th>\n",
       "      <th>재산관리비</th>\n",
       "      <th>주당이익</th>\n",
       "      <th>지급보험금</th>\n",
       "      <th>지배기업의 소유주</th>\n",
       "      <th>지분법자본변동</th>\n",
       "      <th>특별계정기타포괄손익</th>\n",
       "      <th>특별계정비용</th>\n",
       "      <th>특별계정수익</th>\n",
       "      <th>특별계정수입수수료</th>\n",
       "      <th>특별계정지급수수료</th>\n",
       "      <th>파생상품평가 및 거래손실</th>\n",
       "      <th>파생상품평가 및 거래이익</th>\n",
       "      <th>해외사업장환산외환차이</th>\n",
       "      <th>현금흐름위험회피 파생상품평가손익</th>\n",
       "      <th>NaN</th>\n",
       "    </tr>\n",
       "  </thead>\n",
       "  <tbody>\n",
       "    <tr>\n",
       "      <th>0</th>\n",
       "      <td>한화생명</td>\n",
       "      <td>2015.06</td>\n",
       "      <td>0</td>\n",
       "      <td>0</td>\n",
       "      <td>169545</td>\n",
       "      <td>285426</td>\n",
       "      <td>-1883</td>\n",
       "      <td>13894</td>\n",
       "      <td>-45506</td>\n",
       "      <td>421220</td>\n",
       "      <td>421220</td>\n",
       "      <td>419336</td>\n",
       "      <td>419336</td>\n",
       "      <td>123247</td>\n",
       "      <td>544468</td>\n",
       "      <td>0</td>\n",
       "      <td>2521364</td>\n",
       "      <td>4780235</td>\n",
       "      <td>-52</td>\n",
       "      <td>421277</td>\n",
       "      <td>604445</td>\n",
       "      <td>7490439</td>\n",
       "      <td>8013635</td>\n",
       "      <td>23913</td>\n",
       "      <td>45186</td>\n",
       "      <td>523195</td>\n",
       "      <td>212938</td>\n",
       "      <td>430245</td>\n",
       "      <td>147287</td>\n",
       "      <td>433180</td>\n",
       "      <td>7199</td>\n",
       "      <td>1355906</td>\n",
       "      <td>80150</td>\n",
       "      <td>69414</td>\n",
       "      <td>46064</td>\n",
       "      <td>0</td>\n",
       "      <td>2857427</td>\n",
       "      <td>421272</td>\n",
       "      <td>26900</td>\n",
       "      <td>6521</td>\n",
       "      <td>59914</td>\n",
       "      <td>59914</td>\n",
       "      <td>448465</td>\n",
       "      <td>11247</td>\n",
       "      <td>344880</td>\n",
       "      <td>150847</td>\n",
       "      <td>1683</td>\n",
       "      <td>1318</td>\n",
       "      <td>0</td>\n",
       "    </tr>\n",
       "    <tr>\n",
       "      <th>1</th>\n",
       "      <td>한화생명</td>\n",
       "      <td>2016.06</td>\n",
       "      <td>0</td>\n",
       "      <td>0</td>\n",
       "      <td>164247</td>\n",
       "      <td>314839</td>\n",
       "      <td>1030291</td>\n",
       "      <td>13024</td>\n",
       "      <td>0</td>\n",
       "      <td>695173</td>\n",
       "      <td>695173</td>\n",
       "      <td>1725465</td>\n",
       "      <td>1725465</td>\n",
       "      <td>140828</td>\n",
       "      <td>836001</td>\n",
       "      <td>0</td>\n",
       "      <td>3140451</td>\n",
       "      <td>5620176</td>\n",
       "      <td>-112</td>\n",
       "      <td>453536</td>\n",
       "      <td>632683</td>\n",
       "      <td>8468172</td>\n",
       "      <td>8830905</td>\n",
       "      <td>23699</td>\n",
       "      <td>496968</td>\n",
       "      <td>362732</td>\n",
       "      <td>0</td>\n",
       "      <td>0</td>\n",
       "      <td>0</td>\n",
       "      <td>0</td>\n",
       "      <td>0</td>\n",
       "      <td>1339980</td>\n",
       "      <td>81859</td>\n",
       "      <td>73863</td>\n",
       "      <td>54477</td>\n",
       "      <td>0</td>\n",
       "      <td>3037447</td>\n",
       "      <td>695285</td>\n",
       "      <td>0</td>\n",
       "      <td>0</td>\n",
       "      <td>71330</td>\n",
       "      <td>71330</td>\n",
       "      <td>459268</td>\n",
       "      <td>11085</td>\n",
       "      <td>239461</td>\n",
       "      <td>336037</td>\n",
       "      <td>0</td>\n",
       "      <td>0</td>\n",
       "      <td>0</td>\n",
       "    </tr>\n",
       "    <tr>\n",
       "      <th>2</th>\n",
       "      <td>한화생명</td>\n",
       "      <td>2017.06</td>\n",
       "      <td>0</td>\n",
       "      <td>0</td>\n",
       "      <td>203666</td>\n",
       "      <td>367103</td>\n",
       "      <td>238784</td>\n",
       "      <td>0</td>\n",
       "      <td>0</td>\n",
       "      <td>554750</td>\n",
       "      <td>554750</td>\n",
       "      <td>793535</td>\n",
       "      <td>793535</td>\n",
       "      <td>170826</td>\n",
       "      <td>725576</td>\n",
       "      <td>0</td>\n",
       "      <td>2717609</td>\n",
       "      <td>7580972</td>\n",
       "      <td>67766</td>\n",
       "      <td>727536</td>\n",
       "      <td>770901</td>\n",
       "      <td>12281683</td>\n",
       "      <td>12967162</td>\n",
       "      <td>40932</td>\n",
       "      <td>81029</td>\n",
       "      <td>685479</td>\n",
       "      <td>0</td>\n",
       "      <td>0</td>\n",
       "      <td>0</td>\n",
       "      <td>0</td>\n",
       "      <td>0</td>\n",
       "      <td>1487751</td>\n",
       "      <td>635983</td>\n",
       "      <td>514765</td>\n",
       "      <td>93769</td>\n",
       "      <td>0</td>\n",
       "      <td>4775857</td>\n",
       "      <td>486984</td>\n",
       "      <td>0</td>\n",
       "      <td>0</td>\n",
       "      <td>149901</td>\n",
       "      <td>151256</td>\n",
       "      <td>504779</td>\n",
       "      <td>9760</td>\n",
       "      <td>299437</td>\n",
       "      <td>1344803</td>\n",
       "      <td>0</td>\n",
       "      <td>0</td>\n",
       "      <td>0</td>\n",
       "    </tr>\n",
       "    <tr>\n",
       "      <th>3</th>\n",
       "      <td>한화생명</td>\n",
       "      <td>2018.06</td>\n",
       "      <td>0</td>\n",
       "      <td>0</td>\n",
       "      <td>235606</td>\n",
       "      <td>422129</td>\n",
       "      <td>-209391</td>\n",
       "      <td>0</td>\n",
       "      <td>-235807</td>\n",
       "      <td>303000</td>\n",
       "      <td>303000</td>\n",
       "      <td>93609</td>\n",
       "      <td>93609</td>\n",
       "      <td>139954</td>\n",
       "      <td>442955</td>\n",
       "      <td>0</td>\n",
       "      <td>2169576</td>\n",
       "      <td>7445382</td>\n",
       "      <td>55206</td>\n",
       "      <td>893027</td>\n",
       "      <td>671186</td>\n",
       "      <td>11767729</td>\n",
       "      <td>12206324</td>\n",
       "      <td>22245</td>\n",
       "      <td>26606</td>\n",
       "      <td>438594</td>\n",
       "      <td>97439</td>\n",
       "      <td>1115017</td>\n",
       "      <td>0</td>\n",
       "      <td>0</td>\n",
       "      <td>4167</td>\n",
       "      <td>1523883</td>\n",
       "      <td>714689</td>\n",
       "      <td>688006</td>\n",
       "      <td>57459</td>\n",
       "      <td>0</td>\n",
       "      <td>5587905</td>\n",
       "      <td>247794</td>\n",
       "      <td>0</td>\n",
       "      <td>-8747</td>\n",
       "      <td>106907</td>\n",
       "      <td>108055</td>\n",
       "      <td>601826</td>\n",
       "      <td>11879</td>\n",
       "      <td>0</td>\n",
       "      <td>76252</td>\n",
       "      <td>8563</td>\n",
       "      <td>0</td>\n",
       "      <td>0</td>\n",
       "    </tr>\n",
       "    <tr>\n",
       "      <th>4</th>\n",
       "      <td>한화생명</td>\n",
       "      <td>2019.06</td>\n",
       "      <td>0</td>\n",
       "      <td>0</td>\n",
       "      <td>231919</td>\n",
       "      <td>442462</td>\n",
       "      <td>0</td>\n",
       "      <td>0</td>\n",
       "      <td>0</td>\n",
       "      <td>88721</td>\n",
       "      <td>0</td>\n",
       "      <td>921323</td>\n",
       "      <td>921323</td>\n",
       "      <td>12194</td>\n",
       "      <td>100916</td>\n",
       "      <td>0</td>\n",
       "      <td>2156184</td>\n",
       "      <td>7737445</td>\n",
       "      <td>-1400</td>\n",
       "      <td>988012</td>\n",
       "      <td>645680</td>\n",
       "      <td>12537229</td>\n",
       "      <td>12631283</td>\n",
       "      <td>31776</td>\n",
       "      <td>38639</td>\n",
       "      <td>94054</td>\n",
       "      <td>0</td>\n",
       "      <td>0</td>\n",
       "      <td>0</td>\n",
       "      <td>0</td>\n",
       "      <td>0</td>\n",
       "      <td>1482700</td>\n",
       "      <td>764286</td>\n",
       "      <td>683487</td>\n",
       "      <td>73188</td>\n",
       "      <td>0</td>\n",
       "      <td>5764440</td>\n",
       "      <td>90122</td>\n",
       "      <td>0</td>\n",
       "      <td>0</td>\n",
       "      <td>121731</td>\n",
       "      <td>123253</td>\n",
       "      <td>475807</td>\n",
       "      <td>11100</td>\n",
       "      <td>1234440</td>\n",
       "      <td>220884</td>\n",
       "      <td>0</td>\n",
       "      <td>0</td>\n",
       "      <td>0</td>\n",
       "    </tr>\n",
       "    <tr>\n",
       "      <th>5</th>\n",
       "      <td>한화생명</td>\n",
       "      <td>2020.06</td>\n",
       "      <td>0</td>\n",
       "      <td>0</td>\n",
       "      <td>215766</td>\n",
       "      <td>377465</td>\n",
       "      <td>0</td>\n",
       "      <td>0</td>\n",
       "      <td>0</td>\n",
       "      <td>162726</td>\n",
       "      <td>0</td>\n",
       "      <td>1062193</td>\n",
       "      <td>1062193</td>\n",
       "      <td>55431</td>\n",
       "      <td>218157</td>\n",
       "      <td>0</td>\n",
       "      <td>2285804</td>\n",
       "      <td>8102274</td>\n",
       "      <td>4225</td>\n",
       "      <td>1015146</td>\n",
       "      <td>621055</td>\n",
       "      <td>13457529</td>\n",
       "      <td>13680290</td>\n",
       "      <td>17739</td>\n",
       "      <td>13137</td>\n",
       "      <td>222760</td>\n",
       "      <td>0</td>\n",
       "      <td>0</td>\n",
       "      <td>0</td>\n",
       "      <td>0</td>\n",
       "      <td>0</td>\n",
       "      <td>1491854</td>\n",
       "      <td>747414</td>\n",
       "      <td>714597</td>\n",
       "      <td>71600</td>\n",
       "      <td>0</td>\n",
       "      <td>6229515</td>\n",
       "      <td>158500</td>\n",
       "      <td>0</td>\n",
       "      <td>0</td>\n",
       "      <td>98064</td>\n",
       "      <td>98064</td>\n",
       "      <td>507108</td>\n",
       "      <td>29212</td>\n",
       "      <td>1521660</td>\n",
       "      <td>296218</td>\n",
       "      <td>0</td>\n",
       "      <td>0</td>\n",
       "      <td>0</td>\n",
       "    </tr>\n",
       "  </tbody>\n",
       "</table>\n",
       "</div>"
      ],
      "text/plain": [
       "과목   회사명    index  <후속적으로 당기손익으로 재분류되지 않는 항목>  <후속적으로 당기손익으로 재분류될 수 있는 항목>  \\\n",
       "0   한화생명  2015.06                           0                            0   \n",
       "1   한화생명  2016.06                           0                            0   \n",
       "2   한화생명  2017.06                           0                            0   \n",
       "3   한화생명  2018.06                           0                            0   \n",
       "4   한화생명  2019.06                           0                            0   \n",
       "5   한화생명  2020.06                           0                            0   \n",
       "\n",
       "과목    기타비용    기타수익   기타포괄손익  대손상각비  매도가능금융자산평가손익   반기순이익  반기순이익의 귀속  반기총포괄손익  \\\n",
       "0   169545  285426    -1883  13894        -45506  421220     421220   419336   \n",
       "1   164247  314839  1030291  13024             0  695173     695173  1725465   \n",
       "2   203666  367103   238784      0             0  554750     554750   793535   \n",
       "3   235606  422129  -209391      0       -235807  303000     303000    93609   \n",
       "4   231919  442462        0      0             0   88721          0   921323   \n",
       "5   215766  377465        0      0             0  162726          0  1062193   \n",
       "\n",
       "과목  반기총포괄손익의 귀속   법인세비용  법인세비용차감전순이익  보통주 기본 및 희석주당순이익  보험계약부채전입액    보험료수익  \\\n",
       "0        419336  123247       544468                 0    2521364  4780235   \n",
       "1       1725465  140828       836001                 0    3140451  5620176   \n",
       "2        793535  170826       725576                 0    2717609  7580972   \n",
       "3         93609  139954       442955                 0    2169576  7445382   \n",
       "4        921323   12194       100916                 0    2156184  7737445   \n",
       "5       1062193   55431       218157                 0    2285804  8102274   \n",
       "\n",
       "과목  비지배지분      사업비  신계약비상각비      영업비용      영업수익  영업외비용   영업외수익    영업이익  \\\n",
       "0     -52   421277   604445   7490439   8013635  23913   45186  523195   \n",
       "1    -112   453536   632683   8468172   8830905  23699  496968  362732   \n",
       "2   67766   727536   770901  12281683  12967162  40932   81029  685479   \n",
       "3   55206   893027   671186  11767729  12206324  22245   26606  438594   \n",
       "4   -1400   988012   645680  12537229  12631283  31776   38639   94054   \n",
       "5    4225  1015146   621055  13457529  13680290  17739   13137  222760   \n",
       "\n",
       "과목  외환거래 및 환산손실  외환거래 및 환산이익  유가증권평가 및 처분손실  유가증권평가 및 처분이익  유형자산재평가이익  \\\n",
       "0        212938       430245         147287         433180       7199   \n",
       "1             0            0              0              0          0   \n",
       "2             0            0              0              0          0   \n",
       "3         97439      1115017              0              0       4167   \n",
       "4             0            0              0              0          0   \n",
       "5             0            0              0              0          0   \n",
       "\n",
       "과목     이자수익   재보험비용   재보험수익  재산관리비  주당이익    지급보험금  지배기업의 소유주  지분법자본변동  \\\n",
       "0   1355906   80150   69414  46064     0  2857427     421272    26900   \n",
       "1   1339980   81859   73863  54477     0  3037447     695285        0   \n",
       "2   1487751  635983  514765  93769     0  4775857     486984        0   \n",
       "3   1523883  714689  688006  57459     0  5587905     247794        0   \n",
       "4   1482700  764286  683487  73188     0  5764440      90122        0   \n",
       "5   1491854  747414  714597  71600     0  6229515     158500        0   \n",
       "\n",
       "과목  특별계정기타포괄손익  특별계정비용  특별계정수익  특별계정수입수수료  특별계정지급수수료  파생상품평가 및 거래손실  \\\n",
       "0         6521   59914   59914     448465      11247         344880   \n",
       "1            0   71330   71330     459268      11085         239461   \n",
       "2            0  149901  151256     504779       9760         299437   \n",
       "3        -8747  106907  108055     601826      11879              0   \n",
       "4            0  121731  123253     475807      11100        1234440   \n",
       "5            0   98064   98064     507108      29212        1521660   \n",
       "\n",
       "과목  파생상품평가 및 거래이익  해외사업장환산외환차이  현금흐름위험회피 파생상품평가손익  NaN  \n",
       "0          150847         1683               1318    0  \n",
       "1          336037            0                  0    0  \n",
       "2         1344803            0                  0    0  \n",
       "3           76252         8563                  0    0  \n",
       "4          220884            0                  0    0  \n",
       "5          296218            0                  0    0  "
      ]
     },
     "execution_count": 22,
     "metadata": {},
     "output_type": "execute_result"
    }
   ],
   "source": [
    "df_join_t"
   ]
  },
  {
   "cell_type": "markdown",
   "metadata": {},
   "source": [
    "### 통합 파일 저장"
   ]
  },
  {
   "cell_type": "code",
   "execution_count": 23,
   "metadata": {},
   "outputs": [],
   "source": [
    "df_join_t.to_csv(f'{corp_nm}_{report_type_selected}_테스트.csv', encoding='utf-8-sig')"
   ]
  },
  {
   "cell_type": "markdown",
   "metadata": {},
   "source": [
    "### 수정 마무리 및 저장"
   ]
  },
  {
   "cell_type": "code",
   "execution_count": 24,
   "metadata": {},
   "outputs": [],
   "source": [
    "df = pd.read_csv(f'{corp_nm}_{report_type_selected}_테스트.csv')"
   ]
  },
  {
   "cell_type": "code",
   "execution_count": 25,
   "metadata": {},
   "outputs": [],
   "source": [
    "df = df.rename(columns={'Unnamed: 0':'{}'.format('보고기간')}).copy()"
   ]
  },
  {
   "cell_type": "code",
   "execution_count": 26,
   "metadata": {},
   "outputs": [],
   "source": [
    "# df['보고시점'] = df.iloc[:,0].str.replace('-01','')"
   ]
  },
  {
   "cell_type": "code",
   "execution_count": 27,
   "metadata": {},
   "outputs": [],
   "source": [
    "df.to_csv(f'{corp_nm}_{report_type_selected}_선택기간{data_size}_통합파일.csv', encoding='utf-8-sig')"
   ]
  }
 ],
 "metadata": {
  "kernelspec": {
   "display_name": "Python 3",
   "language": "python",
   "name": "python3"
  },
  "language_info": {
   "codemirror_mode": {
    "name": "ipython",
    "version": 3
   },
   "file_extension": ".py",
   "mimetype": "text/x-python",
   "name": "python",
   "nbconvert_exporter": "python",
   "pygments_lexer": "ipython3",
   "version": "3.8.5"
  },
  "toc": {
   "base_numbering": 1,
   "nav_menu": {},
   "number_sections": true,
   "sideBar": true,
   "skip_h1_title": false,
   "title_cell": "Table of Contents",
   "title_sidebar": "Contents",
   "toc_cell": false,
   "toc_position": {
    "height": "calc(100% - 180px)",
    "left": "10px",
    "top": "150px",
    "width": "262.969px"
   },
   "toc_section_display": true,
   "toc_window_display": true
  },
  "varInspector": {
   "cols": {
    "lenName": 16,
    "lenType": 16,
    "lenVar": 40
   },
   "kernels_config": {
    "python": {
     "delete_cmd_postfix": "",
     "delete_cmd_prefix": "del ",
     "library": "var_list.py",
     "varRefreshCmd": "print(var_dic_list())"
    },
    "r": {
     "delete_cmd_postfix": ") ",
     "delete_cmd_prefix": "rm(",
     "library": "var_list.r",
     "varRefreshCmd": "cat(var_dic_list()) "
    }
   },
   "types_to_exclude": [
    "module",
    "function",
    "builtin_function_or_method",
    "instance",
    "_Feature"
   ],
   "window_display": false
  }
 },
 "nbformat": 4,
 "nbformat_minor": 4
}
